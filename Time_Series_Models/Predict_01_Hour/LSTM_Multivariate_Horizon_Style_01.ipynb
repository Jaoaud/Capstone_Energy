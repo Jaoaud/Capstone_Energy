{
 "cells": [
  {
   "cell_type": "code",
   "execution_count": 34,
   "id": "146cf471",
   "metadata": {},
   "outputs": [
    {
     "name": "stdout",
     "output_type": "stream",
     "text": [
      "1 Physical GPUs, 1 Logical GPUs\n"
     ]
    }
   ],
   "source": [
    "# Import all dependencies\n",
    "\n",
    "import pandas as pd\n",
    "import numpy as np\n",
    "import tensorflow as tf\n",
    "from sklearn import preprocessing\n",
    "#from pandas_profiling import ProfileReport\n",
    "import matplotlib.pyplot as plt\n",
    "tf.random.set_seed(123)\n",
    "np.random.seed(123)\n",
    "\n",
    "gpus = tf.config.experimental.list_physical_devices('GPU')\n",
    "if gpus:\n",
    "    try:\n",
    "        # Restrict TensorFlow to only use the fourth GPU\n",
    "        tf.config.experimental.set_visible_devices(gpus[0], 'GPU')\n",
    "\n",
    "        # Currently, memory growth needs to be the same across GPUs\n",
    "        for gpu in gpus:\n",
    "            tf.config.experimental.set_memory_growth(gpu, True)\n",
    "        logical_gpus = tf.config.experimental.list_logical_devices('GPU')\n",
    "        print(len(gpus), \"Physical GPUs,\", len(logical_gpus), \"Logical GPUs\")\n",
    "    except RuntimeError as e:\n",
    "        # Memory growth must be set before GPUs have been initialized\n",
    "        print(e)"
   ]
  },
  {
   "cell_type": "code",
   "execution_count": 35,
   "id": "9092bdfb",
   "metadata": {},
   "outputs": [],
   "source": [
    "#tf.config.threading.set_intra_op_parallelism_threads(6)"
   ]
  },
  {
   "cell_type": "code",
   "execution_count": 36,
   "id": "e8f06c3d",
   "metadata": {},
   "outputs": [
    {
     "name": "stdout",
     "output_type": "stream",
     "text": [
      "Num GPUs Available:  1\n"
     ]
    }
   ],
   "source": [
    "print(\"Num GPUs Available: \", len(tf.config.experimental.list_physical_devices('GPU')))"
   ]
  },
  {
   "cell_type": "code",
   "execution_count": 37,
   "id": "e68a6714",
   "metadata": {},
   "outputs": [],
   "source": [
    "# read csv in the dataframe\n",
    "\n",
    "df = pd.read_csv(\"../ane_energy/df_merged.csv\",parse_dates=['dt_start_utc'],index_col='dt_start_utc')"
   ]
  },
  {
   "cell_type": "code",
   "execution_count": 38,
   "id": "4465e6ec",
   "metadata": {},
   "outputs": [
    {
     "name": "stdout",
     "output_type": "stream",
     "text": [
      "False\n"
     ]
    }
   ],
   "source": [
    "# show if some nans in our dataframe\n",
    "\n",
    "print(np.any(np.isnan(df)))"
   ]
  },
  {
   "cell_type": "code",
   "execution_count": 39,
   "id": "3ff653d1",
   "metadata": {},
   "outputs": [
    {
     "data": {
      "text/html": [
       "<div>\n",
       "<style scoped>\n",
       "    .dataframe tbody tr th:only-of-type {\n",
       "        vertical-align: middle;\n",
       "    }\n",
       "\n",
       "    .dataframe tbody tr th {\n",
       "        vertical-align: top;\n",
       "    }\n",
       "\n",
       "    .dataframe thead th {\n",
       "        text-align: right;\n",
       "    }\n",
       "</style>\n",
       "<table border=\"1\" class=\"dataframe\">\n",
       "  <thead>\n",
       "    <tr style=\"text-align: right;\">\n",
       "      <th></th>\n",
       "      <th>50Hertz_power_mw_x</th>\n",
       "      <th>DE_power_mw_x</th>\n",
       "      <th>DK_power_mw_x</th>\n",
       "      <th>DK1_power_mw_x</th>\n",
       "      <th>TTG_power_mw_x</th>\n",
       "      <th>total_pred_cons</th>\n",
       "      <th>Wasserkraft</th>\n",
       "      <th>Wind Onshore[MWh]</th>\n",
       "      <th>Sonstige Erneuerbare[MWh]</th>\n",
       "      <th>Kernenergie[MWh]</th>\n",
       "      <th>...</th>\n",
       "      <th>rz_saldo_roll_diff_16_2</th>\n",
       "      <th>epex_diff</th>\n",
       "      <th>epex_roll_win8</th>\n",
       "      <th>epex_roll_win2</th>\n",
       "      <th>epex_roll_diff_16_2</th>\n",
       "      <th>fac_epex_rz_saldo</th>\n",
       "      <th>weekday</th>\n",
       "      <th>businessday</th>\n",
       "      <th>businesshours</th>\n",
       "      <th>rz_saldo_mwh_sign</th>\n",
       "    </tr>\n",
       "    <tr>\n",
       "      <th>dt_start_utc</th>\n",
       "      <th></th>\n",
       "      <th></th>\n",
       "      <th></th>\n",
       "      <th></th>\n",
       "      <th></th>\n",
       "      <th></th>\n",
       "      <th></th>\n",
       "      <th></th>\n",
       "      <th></th>\n",
       "      <th></th>\n",
       "      <th></th>\n",
       "      <th></th>\n",
       "      <th></th>\n",
       "      <th></th>\n",
       "      <th></th>\n",
       "      <th></th>\n",
       "      <th></th>\n",
       "      <th></th>\n",
       "      <th></th>\n",
       "      <th></th>\n",
       "      <th></th>\n",
       "    </tr>\n",
       "  </thead>\n",
       "  <tbody>\n",
       "    <tr>\n",
       "      <th>2021-01-01 06:15:00</th>\n",
       "      <td>915.0</td>\n",
       "      <td>2337.0</td>\n",
       "      <td>81.0</td>\n",
       "      <td>41.0</td>\n",
       "      <td>730.0</td>\n",
       "      <td>4104.0</td>\n",
       "      <td>287.0</td>\n",
       "      <td>552.0</td>\n",
       "      <td>56.0</td>\n",
       "      <td>2.036</td>\n",
       "      <td>...</td>\n",
       "      <td>21.2500</td>\n",
       "      <td>0.163778</td>\n",
       "      <td>39.865196</td>\n",
       "      <td>40.007385</td>\n",
       "      <td>0.151559</td>\n",
       "      <td>-966.090674</td>\n",
       "      <td>4</td>\n",
       "      <td>1</td>\n",
       "      <td>1</td>\n",
       "      <td>-1.0</td>\n",
       "    </tr>\n",
       "    <tr>\n",
       "      <th>2021-01-01 06:30:00</th>\n",
       "      <td>910.0</td>\n",
       "      <td>2342.0</td>\n",
       "      <td>81.0</td>\n",
       "      <td>41.0</td>\n",
       "      <td>738.0</td>\n",
       "      <td>4112.0</td>\n",
       "      <td>286.0</td>\n",
       "      <td>536.0</td>\n",
       "      <td>56.0</td>\n",
       "      <td>2.036</td>\n",
       "      <td>...</td>\n",
       "      <td>48.5000</td>\n",
       "      <td>0.163052</td>\n",
       "      <td>39.929604</td>\n",
       "      <td>40.171526</td>\n",
       "      <td>-0.083814</td>\n",
       "      <td>-3233.346434</td>\n",
       "      <td>4</td>\n",
       "      <td>1</td>\n",
       "      <td>1</td>\n",
       "      <td>-1.0</td>\n",
       "    </tr>\n",
       "    <tr>\n",
       "      <th>2021-01-01 06:45:00</th>\n",
       "      <td>906.0</td>\n",
       "      <td>2352.0</td>\n",
       "      <td>81.0</td>\n",
       "      <td>41.0</td>\n",
       "      <td>748.0</td>\n",
       "      <td>4128.0</td>\n",
       "      <td>286.0</td>\n",
       "      <td>505.0</td>\n",
       "      <td>57.0</td>\n",
       "      <td>2.039</td>\n",
       "      <td>...</td>\n",
       "      <td>20.5000</td>\n",
       "      <td>0.294637</td>\n",
       "      <td>40.054093</td>\n",
       "      <td>40.368019</td>\n",
       "      <td>-0.289428</td>\n",
       "      <td>1058.498157</td>\n",
       "      <td>4</td>\n",
       "      <td>1</td>\n",
       "      <td>1</td>\n",
       "      <td>1.0</td>\n",
       "    </tr>\n",
       "    <tr>\n",
       "      <th>2021-01-01 07:00:00</th>\n",
       "      <td>903.0</td>\n",
       "      <td>2363.0</td>\n",
       "      <td>84.0</td>\n",
       "      <td>52.0</td>\n",
       "      <td>759.0</td>\n",
       "      <td>4161.0</td>\n",
       "      <td>287.0</td>\n",
       "      <td>514.0</td>\n",
       "      <td>57.0</td>\n",
       "      <td>2.039</td>\n",
       "      <td>...</td>\n",
       "      <td>-46.1875</td>\n",
       "      <td>0.558532</td>\n",
       "      <td>40.259093</td>\n",
       "      <td>40.663019</td>\n",
       "      <td>-0.529428</td>\n",
       "      <td>2187.310000</td>\n",
       "      <td>4</td>\n",
       "      <td>1</td>\n",
       "      <td>1</td>\n",
       "      <td>1.0</td>\n",
       "    </tr>\n",
       "    <tr>\n",
       "      <th>2021-01-01 07:15:00</th>\n",
       "      <td>882.0</td>\n",
       "      <td>2361.0</td>\n",
       "      <td>84.0</td>\n",
       "      <td>52.0</td>\n",
       "      <td>777.0</td>\n",
       "      <td>4156.0</td>\n",
       "      <td>290.0</td>\n",
       "      <td>510.0</td>\n",
       "      <td>57.0</td>\n",
       "      <td>2.039</td>\n",
       "      <td>...</td>\n",
       "      <td>-69.5000</td>\n",
       "      <td>0.822428</td>\n",
       "      <td>40.565033</td>\n",
       "      <td>41.122681</td>\n",
       "      <td>-0.867957</td>\n",
       "      <td>3072.747225</td>\n",
       "      <td>4</td>\n",
       "      <td>1</td>\n",
       "      <td>1</td>\n",
       "      <td>1.0</td>\n",
       "    </tr>\n",
       "  </tbody>\n",
       "</table>\n",
       "<p>5 rows × 74 columns</p>\n",
       "</div>"
      ],
      "text/plain": [
       "                     50Hertz_power_mw_x  DE_power_mw_x  DK_power_mw_x  \\\n",
       "dt_start_utc                                                            \n",
       "2021-01-01 06:15:00               915.0         2337.0           81.0   \n",
       "2021-01-01 06:30:00               910.0         2342.0           81.0   \n",
       "2021-01-01 06:45:00               906.0         2352.0           81.0   \n",
       "2021-01-01 07:00:00               903.0         2363.0           84.0   \n",
       "2021-01-01 07:15:00               882.0         2361.0           84.0   \n",
       "\n",
       "                     DK1_power_mw_x  TTG_power_mw_x  total_pred_cons  \\\n",
       "dt_start_utc                                                           \n",
       "2021-01-01 06:15:00            41.0           730.0           4104.0   \n",
       "2021-01-01 06:30:00            41.0           738.0           4112.0   \n",
       "2021-01-01 06:45:00            41.0           748.0           4128.0   \n",
       "2021-01-01 07:00:00            52.0           759.0           4161.0   \n",
       "2021-01-01 07:15:00            52.0           777.0           4156.0   \n",
       "\n",
       "                     Wasserkraft  Wind Onshore[MWh]  \\\n",
       "dt_start_utc                                          \n",
       "2021-01-01 06:15:00        287.0              552.0   \n",
       "2021-01-01 06:30:00        286.0              536.0   \n",
       "2021-01-01 06:45:00        286.0              505.0   \n",
       "2021-01-01 07:00:00        287.0              514.0   \n",
       "2021-01-01 07:15:00        290.0              510.0   \n",
       "\n",
       "                     Sonstige Erneuerbare[MWh]  Kernenergie[MWh]  ...  \\\n",
       "dt_start_utc                                                      ...   \n",
       "2021-01-01 06:15:00                       56.0             2.036  ...   \n",
       "2021-01-01 06:30:00                       56.0             2.036  ...   \n",
       "2021-01-01 06:45:00                       57.0             2.039  ...   \n",
       "2021-01-01 07:00:00                       57.0             2.039  ...   \n",
       "2021-01-01 07:15:00                       57.0             2.039  ...   \n",
       "\n",
       "                     rz_saldo_roll_diff_16_2  epex_diff  epex_roll_win8  \\\n",
       "dt_start_utc                                                              \n",
       "2021-01-01 06:15:00                  21.2500   0.163778       39.865196   \n",
       "2021-01-01 06:30:00                  48.5000   0.163052       39.929604   \n",
       "2021-01-01 06:45:00                  20.5000   0.294637       40.054093   \n",
       "2021-01-01 07:00:00                 -46.1875   0.558532       40.259093   \n",
       "2021-01-01 07:15:00                 -69.5000   0.822428       40.565033   \n",
       "\n",
       "                     epex_roll_win2  epex_roll_diff_16_2  fac_epex_rz_saldo  \\\n",
       "dt_start_utc                                                                  \n",
       "2021-01-01 06:15:00       40.007385             0.151559        -966.090674   \n",
       "2021-01-01 06:30:00       40.171526            -0.083814       -3233.346434   \n",
       "2021-01-01 06:45:00       40.368019            -0.289428        1058.498157   \n",
       "2021-01-01 07:00:00       40.663019            -0.529428        2187.310000   \n",
       "2021-01-01 07:15:00       41.122681            -0.867957        3072.747225   \n",
       "\n",
       "                     weekday  businessday  businesshours  rz_saldo_mwh_sign  \n",
       "dt_start_utc                                                                 \n",
       "2021-01-01 06:15:00        4            1              1               -1.0  \n",
       "2021-01-01 06:30:00        4            1              1               -1.0  \n",
       "2021-01-01 06:45:00        4            1              1                1.0  \n",
       "2021-01-01 07:00:00        4            1              1                1.0  \n",
       "2021-01-01 07:15:00        4            1              1                1.0  \n",
       "\n",
       "[5 rows x 74 columns]"
      ]
     },
     "execution_count": 39,
     "metadata": {},
     "output_type": "execute_result"
    }
   ],
   "source": [
    "df.head()"
   ]
  },
  {
   "cell_type": "code",
   "execution_count": 40,
   "id": "75a73831",
   "metadata": {},
   "outputs": [
    {
     "data": {
      "text/html": [
       "<div>\n",
       "<style scoped>\n",
       "    .dataframe tbody tr th:only-of-type {\n",
       "        vertical-align: middle;\n",
       "    }\n",
       "\n",
       "    .dataframe tbody tr th {\n",
       "        vertical-align: top;\n",
       "    }\n",
       "\n",
       "    .dataframe thead th {\n",
       "        text-align: right;\n",
       "    }\n",
       "</style>\n",
       "<table border=\"1\" class=\"dataframe\">\n",
       "  <thead>\n",
       "    <tr style=\"text-align: right;\">\n",
       "      <th></th>\n",
       "      <th>50Hertz_power_mw_x</th>\n",
       "      <th>DE_power_mw_x</th>\n",
       "      <th>DK_power_mw_x</th>\n",
       "      <th>DK1_power_mw_x</th>\n",
       "      <th>TTG_power_mw_x</th>\n",
       "      <th>total_pred_cons</th>\n",
       "      <th>Wasserkraft</th>\n",
       "      <th>Wind Onshore[MWh]</th>\n",
       "      <th>Sonstige Erneuerbare[MWh]</th>\n",
       "      <th>Kernenergie[MWh]</th>\n",
       "      <th>...</th>\n",
       "      <th>rz_saldo_roll_diff_16_2</th>\n",
       "      <th>epex_diff</th>\n",
       "      <th>epex_roll_win8</th>\n",
       "      <th>epex_roll_win2</th>\n",
       "      <th>epex_roll_diff_16_2</th>\n",
       "      <th>fac_epex_rz_saldo</th>\n",
       "      <th>weekday</th>\n",
       "      <th>businessday</th>\n",
       "      <th>businesshours</th>\n",
       "      <th>rz_saldo_mwh_sign</th>\n",
       "    </tr>\n",
       "  </thead>\n",
       "  <tbody>\n",
       "    <tr>\n",
       "      <th>count</th>\n",
       "      <td>17292.000000</td>\n",
       "      <td>17292.000000</td>\n",
       "      <td>17292.000000</td>\n",
       "      <td>17292.000000</td>\n",
       "      <td>17292.000000</td>\n",
       "      <td>17292.000000</td>\n",
       "      <td>17292.000000</td>\n",
       "      <td>17292.000000</td>\n",
       "      <td>17292.000000</td>\n",
       "      <td>17292.000000</td>\n",
       "      <td>...</td>\n",
       "      <td>17292.000000</td>\n",
       "      <td>17292.000000</td>\n",
       "      <td>17292.000000</td>\n",
       "      <td>17292.000000</td>\n",
       "      <td>17292.000000</td>\n",
       "      <td>17292.000000</td>\n",
       "      <td>17292.000000</td>\n",
       "      <td>17292.000000</td>\n",
       "      <td>17292.000000</td>\n",
       "      <td>17292.000000</td>\n",
       "    </tr>\n",
       "    <tr>\n",
       "      <th>mean</th>\n",
       "      <td>3698.055922</td>\n",
       "      <td>10840.317546</td>\n",
       "      <td>1079.399318</td>\n",
       "      <td>883.551122</td>\n",
       "      <td>4517.622658</td>\n",
       "      <td>21018.946565</td>\n",
       "      <td>422.808293</td>\n",
       "      <td>139.321202</td>\n",
       "      <td>46.721663</td>\n",
       "      <td>1.850000</td>\n",
       "      <td>...</td>\n",
       "      <td>0.063487</td>\n",
       "      <td>0.002172</td>\n",
       "      <td>54.960827</td>\n",
       "      <td>54.966260</td>\n",
       "      <td>-0.018318</td>\n",
       "      <td>-741.250706</td>\n",
       "      <td>2.999075</td>\n",
       "      <td>0.711948</td>\n",
       "      <td>-0.167014</td>\n",
       "      <td>-0.062341</td>\n",
       "    </tr>\n",
       "    <tr>\n",
       "      <th>std</th>\n",
       "      <td>3276.629072</td>\n",
       "      <td>8662.920618</td>\n",
       "      <td>921.776306</td>\n",
       "      <td>768.672535</td>\n",
       "      <td>3664.402896</td>\n",
       "      <td>16497.380697</td>\n",
       "      <td>99.381445</td>\n",
       "      <td>279.490393</td>\n",
       "      <td>7.645216</td>\n",
       "      <td>0.179444</td>\n",
       "      <td>...</td>\n",
       "      <td>92.790250</td>\n",
       "      <td>2.010151</td>\n",
       "      <td>22.798248</td>\n",
       "      <td>23.085079</td>\n",
       "      <td>9.030273</td>\n",
       "      <td>6777.661726</td>\n",
       "      <td>2.007590</td>\n",
       "      <td>0.452869</td>\n",
       "      <td>0.985983</td>\n",
       "      <td>0.998084</td>\n",
       "    </tr>\n",
       "    <tr>\n",
       "      <th>min</th>\n",
       "      <td>0.000000</td>\n",
       "      <td>164.000000</td>\n",
       "      <td>38.000000</td>\n",
       "      <td>17.000000</td>\n",
       "      <td>74.000000</td>\n",
       "      <td>568.000000</td>\n",
       "      <td>245.000000</td>\n",
       "      <td>1.000000</td>\n",
       "      <td>36.000000</td>\n",
       "      <td>1.210000</td>\n",
       "      <td>...</td>\n",
       "      <td>-492.750000</td>\n",
       "      <td>-14.832536</td>\n",
       "      <td>-68.280946</td>\n",
       "      <td>-69.823217</td>\n",
       "      <td>-48.492249</td>\n",
       "      <td>-55005.470790</td>\n",
       "      <td>0.000000</td>\n",
       "      <td>0.000000</td>\n",
       "      <td>-1.000000</td>\n",
       "      <td>-1.000000</td>\n",
       "    </tr>\n",
       "    <tr>\n",
       "      <th>25%</th>\n",
       "      <td>1251.750000</td>\n",
       "      <td>4508.000000</td>\n",
       "      <td>349.000000</td>\n",
       "      <td>276.000000</td>\n",
       "      <td>1678.750000</td>\n",
       "      <td>8891.500000</td>\n",
       "      <td>349.000000</td>\n",
       "      <td>1.835750</td>\n",
       "      <td>39.000000</td>\n",
       "      <td>1.663000</td>\n",
       "      <td>...</td>\n",
       "      <td>-56.390625</td>\n",
       "      <td>-0.974278</td>\n",
       "      <td>44.322083</td>\n",
       "      <td>44.249851</td>\n",
       "      <td>-4.420974</td>\n",
       "      <td>-4154.239821</td>\n",
       "      <td>1.000000</td>\n",
       "      <td>0.000000</td>\n",
       "      <td>-1.000000</td>\n",
       "      <td>-1.000000</td>\n",
       "    </tr>\n",
       "    <tr>\n",
       "      <th>50%</th>\n",
       "      <td>2508.500000</td>\n",
       "      <td>7844.000000</td>\n",
       "      <td>771.000000</td>\n",
       "      <td>622.000000</td>\n",
       "      <td>3222.000000</td>\n",
       "      <td>15048.000000</td>\n",
       "      <td>385.000000</td>\n",
       "      <td>3.478000</td>\n",
       "      <td>45.000000</td>\n",
       "      <td>1.925000</td>\n",
       "      <td>...</td>\n",
       "      <td>-1.781250</td>\n",
       "      <td>-0.171360</td>\n",
       "      <td>55.409913</td>\n",
       "      <td>55.319164</td>\n",
       "      <td>1.362473</td>\n",
       "      <td>-316.794967</td>\n",
       "      <td>3.000000</td>\n",
       "      <td>1.000000</td>\n",
       "      <td>-1.000000</td>\n",
       "      <td>-1.000000</td>\n",
       "    </tr>\n",
       "    <tr>\n",
       "      <th>75%</th>\n",
       "      <td>5314.000000</td>\n",
       "      <td>14787.750000</td>\n",
       "      <td>1590.250000</td>\n",
       "      <td>1289.000000</td>\n",
       "      <td>6432.000000</td>\n",
       "      <td>28745.250000</td>\n",
       "      <td>512.000000</td>\n",
       "      <td>8.492250</td>\n",
       "      <td>54.000000</td>\n",
       "      <td>2.015000</td>\n",
       "      <td>...</td>\n",
       "      <td>56.062500</td>\n",
       "      <td>0.810108</td>\n",
       "      <td>67.811826</td>\n",
       "      <td>67.849164</td>\n",
       "      <td>5.154478</td>\n",
       "      <td>2889.001714</td>\n",
       "      <td>5.000000</td>\n",
       "      <td>1.000000</td>\n",
       "      <td>1.000000</td>\n",
       "      <td>1.000000</td>\n",
       "    </tr>\n",
       "    <tr>\n",
       "      <th>max</th>\n",
       "      <td>14576.000000</td>\n",
       "      <td>39567.000000</td>\n",
       "      <td>4217.000000</td>\n",
       "      <td>3459.000000</td>\n",
       "      <td>15683.000000</td>\n",
       "      <td>75105.000000</td>\n",
       "      <td>686.000000</td>\n",
       "      <td>999.000000</td>\n",
       "      <td>58.000000</td>\n",
       "      <td>2.052000</td>\n",
       "      <td>...</td>\n",
       "      <td>557.500000</td>\n",
       "      <td>15.350845</td>\n",
       "      <td>135.055446</td>\n",
       "      <td>139.949643</td>\n",
       "      <td>37.876499</td>\n",
       "      <td>42943.829639</td>\n",
       "      <td>6.000000</td>\n",
       "      <td>1.000000</td>\n",
       "      <td>1.000000</td>\n",
       "      <td>1.000000</td>\n",
       "    </tr>\n",
       "  </tbody>\n",
       "</table>\n",
       "<p>8 rows × 74 columns</p>\n",
       "</div>"
      ],
      "text/plain": [
       "       50Hertz_power_mw_x  DE_power_mw_x  DK_power_mw_x  DK1_power_mw_x  \\\n",
       "count        17292.000000   17292.000000   17292.000000    17292.000000   \n",
       "mean          3698.055922   10840.317546    1079.399318      883.551122   \n",
       "std           3276.629072    8662.920618     921.776306      768.672535   \n",
       "min              0.000000     164.000000      38.000000       17.000000   \n",
       "25%           1251.750000    4508.000000     349.000000      276.000000   \n",
       "50%           2508.500000    7844.000000     771.000000      622.000000   \n",
       "75%           5314.000000   14787.750000    1590.250000     1289.000000   \n",
       "max          14576.000000   39567.000000    4217.000000     3459.000000   \n",
       "\n",
       "       TTG_power_mw_x  total_pred_cons   Wasserkraft  Wind Onshore[MWh]  \\\n",
       "count    17292.000000     17292.000000  17292.000000       17292.000000   \n",
       "mean      4517.622658     21018.946565    422.808293         139.321202   \n",
       "std       3664.402896     16497.380697     99.381445         279.490393   \n",
       "min         74.000000       568.000000    245.000000           1.000000   \n",
       "25%       1678.750000      8891.500000    349.000000           1.835750   \n",
       "50%       3222.000000     15048.000000    385.000000           3.478000   \n",
       "75%       6432.000000     28745.250000    512.000000           8.492250   \n",
       "max      15683.000000     75105.000000    686.000000         999.000000   \n",
       "\n",
       "       Sonstige Erneuerbare[MWh]  Kernenergie[MWh]  ...  \\\n",
       "count               17292.000000      17292.000000  ...   \n",
       "mean                   46.721663          1.850000  ...   \n",
       "std                     7.645216          0.179444  ...   \n",
       "min                    36.000000          1.210000  ...   \n",
       "25%                    39.000000          1.663000  ...   \n",
       "50%                    45.000000          1.925000  ...   \n",
       "75%                    54.000000          2.015000  ...   \n",
       "max                    58.000000          2.052000  ...   \n",
       "\n",
       "       rz_saldo_roll_diff_16_2     epex_diff  epex_roll_win8  epex_roll_win2  \\\n",
       "count             17292.000000  17292.000000    17292.000000    17292.000000   \n",
       "mean                  0.063487      0.002172       54.960827       54.966260   \n",
       "std                  92.790250      2.010151       22.798248       23.085079   \n",
       "min                -492.750000    -14.832536      -68.280946      -69.823217   \n",
       "25%                 -56.390625     -0.974278       44.322083       44.249851   \n",
       "50%                  -1.781250     -0.171360       55.409913       55.319164   \n",
       "75%                  56.062500      0.810108       67.811826       67.849164   \n",
       "max                 557.500000     15.350845      135.055446      139.949643   \n",
       "\n",
       "       epex_roll_diff_16_2  fac_epex_rz_saldo       weekday   businessday  \\\n",
       "count         17292.000000       17292.000000  17292.000000  17292.000000   \n",
       "mean             -0.018318        -741.250706      2.999075      0.711948   \n",
       "std               9.030273        6777.661726      2.007590      0.452869   \n",
       "min             -48.492249      -55005.470790      0.000000      0.000000   \n",
       "25%              -4.420974       -4154.239821      1.000000      0.000000   \n",
       "50%               1.362473        -316.794967      3.000000      1.000000   \n",
       "75%               5.154478        2889.001714      5.000000      1.000000   \n",
       "max              37.876499       42943.829639      6.000000      1.000000   \n",
       "\n",
       "       businesshours  rz_saldo_mwh_sign  \n",
       "count   17292.000000       17292.000000  \n",
       "mean       -0.167014          -0.062341  \n",
       "std         0.985983           0.998084  \n",
       "min        -1.000000          -1.000000  \n",
       "25%        -1.000000          -1.000000  \n",
       "50%        -1.000000          -1.000000  \n",
       "75%         1.000000           1.000000  \n",
       "max         1.000000           1.000000  \n",
       "\n",
       "[8 rows x 74 columns]"
      ]
     },
     "execution_count": 40,
     "metadata": {},
     "output_type": "execute_result"
    }
   ],
   "source": [
    "# lets have a look about our data, how its distributed\n",
    "\n",
    "df.describe()"
   ]
  },
  {
   "cell_type": "code",
   "execution_count": 42,
   "id": "5f87fe28",
   "metadata": {},
   "outputs": [],
   "source": [
    "# helps us to find and replace inappropriate characters\n",
    "\n",
    "import re\n",
    "\n",
    "regex = re.compile(r\"\\[|\\]|<\", re.IGNORECASE)\n",
    "df.columns = [regex.sub(\"_\", col) if any(x in str(col) for x in set(('[', ']', '<'))) else col for col in df.columns.values]\n"
   ]
  },
  {
   "cell_type": "code",
   "execution_count": 43,
   "id": "6a50b550",
   "metadata": {},
   "outputs": [
    {
     "data": {
      "image/png": "[encoded data removed]",
      "text/plain": [
       "<Figure size 1152x648 with 1 Axes>"
      ]
     },
     "metadata": {
      "needs_background": "light"
     },
     "output_type": "display_data"
    }
   ],
   "source": [
    "# Feature Importances\n",
    "\n",
    "from numpy import loadtxt\n",
    "from xgboost import XGBRegressor\n",
    "from matplotlib import pyplot\n",
    "\n",
    "model = XGBRegressor()\n",
    "model.fit(df,df['rebap_eur_mwh'])\n",
    "\n",
    "(pd.Series(model.feature_importances_, index=df.columns)\n",
    "   .nlargest(7)\n",
    "   .plot(kind='barh'));"
   ]
  },
  {
   "cell_type": "code",
   "execution_count": 44,
   "id": "49105819",
   "metadata": {},
   "outputs": [],
   "source": [
    "# defined function which preprocesses the data suitable for forecasting\n",
    "\n",
    "\n",
    "\n",
    "def custom_ts_multi_data_prep(dataset, target, start, end, window, horizon):\n",
    "    X = []\n",
    "    y = []\n",
    "    start = start + window\n",
    "    if end is None:\n",
    "        end = len(dataset) - horizon\n",
    "\n",
    "    for i in range(start, end):\n",
    "        indices = range(i-window, i)\n",
    "        X.append(dataset[indices])\n",
    "\n",
    "        indicey = range(i+1, i+1+horizon)\n",
    "        y.append(target[indicey])\n",
    "    return np.array(X), np.array(y)"
   ]
  },
  {
   "cell_type": "code",
   "execution_count": 45,
   "id": "7d783020",
   "metadata": {},
   "outputs": [],
   "source": [
    "# cut the last 4 Timestamps data for forecasting\n",
    "\n",
    "validate = df.tail(4)\n",
    "df.drop(df.tail(4).index,inplace=True)"
   ]
  },
  {
   "cell_type": "code",
   "execution_count": 46,
   "id": "cce2024c",
   "metadata": {},
   "outputs": [],
   "source": [
    "# drop the columns we dont need\n",
    "\n",
    "df_1 = df.drop(\"rebap_eur_mwh\", axis= 1)"
   ]
  },
  {
   "cell_type": "code",
   "execution_count": 47,
   "id": "4d8baef7",
   "metadata": {},
   "outputs": [],
   "source": [
    "# MinMaxScaler to scale down the values. \n",
    "# The neural network converges sooner when it exposes the same scaled features and gives better accuracy\n",
    "\n",
    "x_scaler = preprocessing.MinMaxScaler()\n",
    "y_scaler = preprocessing.MinMaxScaler()\n",
    "dataX = x_scaler.fit_transform(df_1)\n",
    "dataY = y_scaler.fit_transform(df[['rebap_eur_mwh']])"
   ]
  },
  {
   "cell_type": "code",
   "execution_count": 48,
   "id": "dcedef0f",
   "metadata": {},
   "outputs": [],
   "source": [
    "# As we are doing multiple-step forecasting, \n",
    "# let’s allow the model to see past 16 hours of data and forecast the 4 hrs after data; \n",
    "# for that, we set the horizon to 4.\n",
    "\n",
    "hist_window = 16\n",
    "horizon = 4\n",
    "TRAIN_SPLIT = 10000\n",
    "x_train_multi, y_train_multi = custom_ts_multi_data_prep(\n",
    "    dataX, dataY, 0, TRAIN_SPLIT, hist_window, horizon)\n",
    "x_val_multi, y_val_multi= custom_ts_multi_data_prep(\n",
    "    dataX, dataY, TRAIN_SPLIT, None, hist_window, horizon)"
   ]
  },
  {
   "cell_type": "code",
   "execution_count": 49,
   "id": "f6efb841",
   "metadata": {},
   "outputs": [
    {
     "name": "stdout",
     "output_type": "stream",
     "text": [
      "Single window of past history\n",
      "[[0.06277442 0.05514809 0.01028954 ... 1.         1.         0.        ]\n",
      " [0.06243139 0.05527498 0.01028954 ... 1.         1.         0.        ]\n",
      " [0.06215697 0.05552877 0.01028954 ... 1.         1.         1.        ]\n",
      " ...\n",
      " [0.0417124  0.04920945 0.01483609 ... 1.         1.         1.        ]\n",
      " [0.04068332 0.04926021 0.01483609 ... 1.         1.         1.        ]\n",
      " [0.03999726 0.04956475 0.01483609 ... 1.         1.         1.        ]]\n",
      "\n",
      " Target horizon\n",
      "[[0.35064696]\n",
      " [0.34867223]\n",
      " [0.35702605]\n",
      " [0.35695713]]\n"
     ]
    }
   ],
   "source": [
    "print ('Single window of past history')\n",
    "print(x_train_multi[0])\n",
    "print ('\\n Target horizon')\n",
    "print (y_train_multi[0])"
   ]
  },
  {
   "cell_type": "code",
   "execution_count": 50,
   "id": "ffa29e6b",
   "metadata": {},
   "outputs": [
    {
     "data": {
      "text/plain": [
       "(17288, 74)"
      ]
     },
     "execution_count": 50,
     "metadata": {},
     "output_type": "execute_result"
    }
   ],
   "source": [
    "df.shape"
   ]
  },
  {
   "cell_type": "code",
   "execution_count": 51,
   "id": "4291649c",
   "metadata": {},
   "outputs": [],
   "source": [
    "# Prepare the training data and validation data using the TensorFlow data function, \n",
    "# which faster and efficient way to feed data for training.\n",
    "\n",
    "BATCH_SIZE = 16\n",
    "BUFFER_SIZE = 4\n",
    "\n",
    "train_data_multi = tf.data.Dataset.from_tensor_slices((x_train_multi, y_train_multi))\n",
    "train_data_multi = train_data_multi.cache().shuffle(BUFFER_SIZE).batch(BATCH_SIZE).repeat()\n",
    "\n",
    "val_data_multi = tf.data.Dataset.from_tensor_slices((x_val_multi, y_val_multi))\n",
    "val_data_multi = val_data_multi.batch(BATCH_SIZE).repeat()\n"
   ]
  },
  {
   "cell_type": "code",
   "execution_count": 52,
   "id": "0d4e86ce",
   "metadata": {},
   "outputs": [],
   "source": [
    "# Build and compile the model\n",
    "\n",
    "lstm_multi = tf.keras.models.Sequential()\n",
    "lstm_multi.add(tf.keras.layers.LSTM(150,input_shape=x_train_multi.shape[-2:],return_sequences=True))\n",
    "lstm_multi.add(tf.keras.layers.Dropout(0.2)),\n",
    "lstm_multi.add(tf.keras.layers.LSTM(units=100,return_sequences=False)),\n",
    "lstm_multi.add(tf.keras.layers.Dropout(0.2)),\n",
    "lstm_multi.add(tf.keras.layers.Dense(units=horizon)),\n",
    "lstm_multi.compile(optimizer='adam', loss='mse')"
   ]
  },
  {
   "cell_type": "code",
   "execution_count": 53,
   "id": "57a935c0",
   "metadata": {},
   "outputs": [],
   "source": [
    "# save model\n",
    "\n",
    "model_path = r'\\Chapter_7\\LSTM_Multivariatex.h5\""
   ]
  },
  {
   "cell_type": "code",
   "execution_count": 54,
   "id": "c232c1b3",
   "metadata": {},
   "outputs": [
    {
     "name": "stdout",
     "output_type": "stream",
     "text": [
      "Epoch 1/150\n",
      "150/150 [==============================] - 3s 10ms/step - loss: 0.0074 - val_loss: 0.0034\n",
      "Epoch 2/150\n",
      "150/150 [==============================] - 1s 7ms/step - loss: 0.0024 - val_loss: 0.0019\n",
      "Epoch 3/150\n",
      "150/150 [==============================] - 1s 7ms/step - loss: 0.0015 - val_loss: 8.6621e-04\n",
      "Epoch 4/150\n",
      "150/150 [==============================] - 1s 7ms/step - loss: 0.0019 - val_loss: 3.6624e-04\n",
      "Epoch 5/150\n",
      "150/150 [==============================] - 1s 7ms/step - loss: 0.0013 - val_loss: 7.1502e-04\n",
      "Epoch 6/150\n",
      "150/150 [==============================] - 1s 7ms/step - loss: 0.0010 - val_loss: 0.0011\n",
      "Epoch 7/150\n",
      "150/150 [==============================] - 1s 7ms/step - loss: 7.5757e-04 - val_loss: 4.8044e-04\n",
      "Epoch 8/150\n",
      "150/150 [==============================] - 1s 7ms/step - loss: 0.0014 - val_loss: 3.2445e-04\n",
      "Epoch 9/150\n",
      "150/150 [==============================] - ETA: 0s - loss: 0.0010 - 1s 7ms/step - loss: 0.0010 - val_loss: 3.9842e-04\n",
      "Epoch 10/150\n",
      "150/150 [==============================] - 1s 7ms/step - loss: 6.7439e-04 - val_loss: 2.0862e-04\n",
      "Epoch 11/150\n",
      "150/150 [==============================] - 1s 7ms/step - loss: 5.5433e-04 - val_loss: 2.7367e-04\n",
      "Epoch 12/150\n",
      "150/150 [==============================] - 1s 7ms/step - loss: 6.6866e-04 - val_loss: 3.0349e-04\n",
      "Epoch 13/150\n",
      "150/150 [==============================] - 1s 7ms/step - loss: 0.0012 - val_loss: 6.0073e-04\n",
      "Epoch 14/150\n",
      "150/150 [==============================] - 1s 7ms/step - loss: 4.8662e-04 - val_loss: 2.8033e-04\n",
      "Epoch 15/150\n",
      "150/150 [==============================] - 1s 7ms/step - loss: 4.7725e-04 - val_loss: 2.6701e-04\n",
      "Epoch 16/150\n",
      "150/150 [==============================] - 1s 7ms/step - loss: 2.9726e-04 - val_loss: 1.6014e-04\n",
      "Epoch 17/150\n",
      "150/150 [==============================] - 1s 7ms/step - loss: 0.0011 - val_loss: 2.1168e-04\n",
      "Epoch 18/150\n",
      "150/150 [==============================] - 1s 7ms/step - loss: 5.1997e-04 - val_loss: 2.3834e-04\n",
      "Epoch 19/150\n",
      "150/150 [==============================] - 1s 7ms/step - loss: 4.3806e-04 - val_loss: 1.6810e-04\n",
      "Epoch 20/150\n",
      "150/150 [==============================] - 1s 7ms/step - loss: 2.2265e-04 - val_loss: 1.7800e-04\n",
      "Epoch 21/150\n",
      "150/150 [==============================] - 1s 7ms/step - loss: 0.0010 - val_loss: 2.1395e-04\n",
      "Epoch 22/150\n",
      "150/150 [==============================] - 1s 7ms/step - loss: 4.7023e-04 - val_loss: 1.7716e-04\n",
      "Epoch 23/150\n",
      "150/150 [==============================] - 1s 7ms/step - loss: 3.3634e-04 - val_loss: 2.4623e-04\n",
      "Epoch 24/150\n",
      "150/150 [==============================] - 1s 7ms/step - loss: 1.7922e-04 - val_loss: 2.0145e-04\n",
      "Epoch 25/150\n",
      "150/150 [==============================] - 1s 7ms/step - loss: 9.5263e-04 - val_loss: 1.7227e-04\n",
      "Epoch 26/150\n",
      "150/150 [==============================] - 1s 7ms/step - loss: 4.3225e-04 - val_loss: 2.1857e-04\n",
      "Epoch 00026: early stopping\n"
     ]
    }
   ],
   "source": [
    "# train the model\n",
    "\n",
    "EVALUATION_INTERVAL = 150\n",
    "EPOCHS = 150\n",
    "history = lstm_multi.fit(train_data_multi, epochs=EPOCHS,steps_per_epoch=EVALUATION_INTERVAL,validation_data=val_data_multi, validation_steps=50,verbose =1,\n",
    "                              callbacks =[tf.keras.callbacks.EarlyStopping(monitor='val_loss', min_delta=0, patience=10, verbose=1, mode='min'),tf.keras.callbacks.ModelCheckpoint(model_path,monitor='val_loss', save_best_only=True, mode='min', verbose=0)])\n"
   ]
  },
  {
   "cell_type": "code",
   "execution_count": 55,
   "id": "7324fb09",
   "metadata": {},
   "outputs": [],
   "source": [
    "# Load the saved model\n",
    "\n",
    "Trained_model = tf.keras.models.load_model(model_path)"
   ]
  },
  {
   "cell_type": "code",
   "execution_count": 56,
   "id": "45453c3d",
   "metadata": {
    "tags": []
   },
   "outputs": [
    {
     "data": {
      "image/png": "[encoded data removed]",
      "text/plain": [
       "<Figure size 1152x648 with 1 Axes>"
      ]
     },
     "metadata": {
      "needs_background": "light"
     },
     "output_type": "display_data"
    }
   ],
   "source": [
    "# plot our train and validation loss\n",
    "\n",
    "plt.plot(history.history['loss'])\n",
    "plt.plot(history.history['val_loss'])\n",
    "plt.title('Model loss')\n",
    "plt.ylabel('loss')\n",
    "plt.xlabel('epoch')\n",
    "plt.legend(['train loss', 'validation loss'], loc='upper left')\n",
    "plt.rcParams[\"figure.figsize\"] = [16,9]\n",
    "plt.show()"
   ]
  },
  {
   "cell_type": "code",
   "execution_count": 57,
   "id": "cb45719d",
   "metadata": {},
   "outputs": [
    {
     "name": "stdout",
     "output_type": "stream",
     "text": [
      "Model: \"sequential_1\"\n",
      "_________________________________________________________________\n",
      "Layer (type)                 Output Shape              Param #   \n",
      "=================================================================\n",
      "lstm_2 (LSTM)                (None, 16, 150)           134400    \n",
      "_________________________________________________________________\n",
      "dropout_2 (Dropout)          (None, 16, 150)           0         \n",
      "_________________________________________________________________\n",
      "lstm_3 (LSTM)                (None, 100)               100400    \n",
      "_________________________________________________________________\n",
      "dropout_3 (Dropout)          (None, 100)               0         \n",
      "_________________________________________________________________\n",
      "dense_1 (Dense)              (None, 4)                 404       \n",
      "=================================================================\n",
      "Total params: 235,204\n",
      "Trainable params: 235,204\n",
      "Non-trainable params: 0\n",
      "_________________________________________________________________\n"
     ]
    }
   ],
   "source": [
    "# Show the model architecture\n",
    "Trained_model.summary()"
   ]
  },
  {
   "cell_type": "code",
   "execution_count": 58,
   "id": "7c289762",
   "metadata": {},
   "outputs": [],
   "source": [
    "# Prepare the testing data for the last 16 hrs and check the prediction against it\n",
    "# by visualizing the actual and predicted values. \n",
    "\n",
    "data_val = x_scaler.fit_transform(df_1.tail(16))"
   ]
  },
  {
   "cell_type": "code",
   "execution_count": 59,
   "id": "8cf69c1b",
   "metadata": {},
   "outputs": [],
   "source": [
    "val_rescaled = data_val.reshape(1, data_val.shape[0], data_val.shape[1])"
   ]
  },
  {
   "cell_type": "code",
   "execution_count": 60,
   "id": "2f98e06e",
   "metadata": {},
   "outputs": [],
   "source": [
    "Predicted_results = Trained_model.predict(val_rescaled)"
   ]
  },
  {
   "cell_type": "code",
   "execution_count": 61,
   "id": "cbde1eaf",
   "metadata": {},
   "outputs": [
    {
     "data": {
      "text/plain": [
       "array([[0.34860337, 0.3497802 , 0.35206395, 0.3482374 ]], dtype=float32)"
      ]
     },
     "execution_count": 61,
     "metadata": {},
     "output_type": "execute_result"
    }
   ],
   "source": [
    "Predicted_results"
   ]
  },
  {
   "cell_type": "code",
   "execution_count": 62,
   "id": "ae1eb0b2",
   "metadata": {},
   "outputs": [],
   "source": [
    "Predicted_results_Inv_trans = y_scaler.inverse_transform(Predicted_results)"
   ]
  },
  {
   "cell_type": "code",
   "execution_count": 63,
   "id": "a34a90b9",
   "metadata": {},
   "outputs": [
    {
     "data": {
      "text/plain": [
       "array([[24.320383, 31.14994 , 44.403305, 22.196522]], dtype=float32)"
      ]
     },
     "execution_count": 63,
     "metadata": {},
     "output_type": "execute_result"
    }
   ],
   "source": [
    "Predicted_results_Inv_trans"
   ]
  },
  {
   "cell_type": "code",
   "execution_count": 64,
   "id": "dfd0ba95",
   "metadata": {},
   "outputs": [],
   "source": [
    "# Finally, evaluate the result with standard performance metrics.\n",
    "\n",
    "from sklearn import metrics\n",
    "def timeseries_evaluation_metrics_func(y_true, y_pred):\n",
    "    \n",
    "    def mean_absolute_percentage_error(y_true, y_pred): \n",
    "        y_true, y_pred = np.array(y_true), np.array(y_pred)\n",
    "        return np.mean(np.abs((y_true - y_pred) / y_true)) * 100\n",
    "    print('Evaluation metric results:-')\n",
    "    print(f'MSE is : {metrics.mean_squared_error(y_true, y_pred)}')\n",
    "    print(f'MAE is : {metrics.mean_absolute_error(y_true, y_pred)}')\n",
    "    print(f'RMSE is : {np.sqrt(metrics.mean_squared_error(y_true, y_pred))}')\n",
    "    print(f'MAPE is : {mean_absolute_percentage_error(y_true, y_pred)}')\n",
    "    print(f'R2 is : {metrics.r2_score(y_true, y_pred)}',end='\\n\\n')"
   ]
  },
  {
   "cell_type": "code",
   "execution_count": 65,
   "id": "286f5310",
   "metadata": {},
   "outputs": [
    {
     "name": "stdout",
     "output_type": "stream",
     "text": [
      "Evaluation metric results:-\n",
      "MSE is : 3587.701824883991\n",
      "MAE is : 53.585914821624755\n",
      "RMSE is : 59.897427531439035\n",
      "MAPE is : 256.84934252868385\n",
      "R2 is : 0.0668584512853182\n",
      "\n"
     ]
    }
   ],
   "source": [
    "# Results of the metrics\n",
    "\n",
    "timeseries_evaluation_metrics_func(validate['rebap_eur_mwh'],Predicted_results_Inv_trans[0])"
   ]
  },
  {
   "cell_type": "code",
   "execution_count": 66,
   "id": "e5d0d15b",
   "metadata": {},
   "outputs": [
    {
     "data": {
      "image/png": "[encoded data removed]",
      "text/plain": [
       "<Figure size 1152x648 with 1 Axes>"
      ]
     },
     "metadata": {
      "needs_background": "light"
     },
     "output_type": "display_data"
    }
   ],
   "source": [
    "# Plot the actual vs predicted data\n",
    "\n",
    "plt.plot( list(validate['rebap_eur_mwh']))\n",
    "plt.plot( list(Predicted_results_Inv_trans[0]))\n",
    "plt.title(\"Actual vs Predicted\")\n",
    "plt.ylabel(\"rebap_eur_mwh\")\n",
    "plt.legend(('Actual','predicted'))\n",
    "plt.show()"
   ]
  }
 ],
 "metadata": {
  "kernelspec": {
   "display_name": "Python 3",
   "language": "python",
   "name": "python3"
  },
  "language_info": {
   "codemirror_mode": {
    "name": "ipython",
    "version": 3
   },
   "file_extension": ".py",
   "mimetype": "text/x-python",
   "name": "python",
   "nbconvert_exporter": "python",
   "pygments_lexer": "ipython3",
   "version": "3.8.5"
  }
 },
 "nbformat": 4,
 "nbformat_minor": 5
}
