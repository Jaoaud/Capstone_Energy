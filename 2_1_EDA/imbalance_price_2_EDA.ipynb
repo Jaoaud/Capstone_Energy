{
 "cells": [
  {
   "cell_type": "markdown",
   "source": [
    "# EDA"
   ],
   "metadata": {}
  },
  {
   "cell_type": "code",
   "execution_count": 5,
   "source": [
    "import datetime, time, os\n",
    "import matplotlib.pyplot as plt\n",
    "import numpy as np\n",
    "import pandas as pd\n",
    "import seaborn as sns\n",
    "import pandas as pd\n",
    "import glob\n",
    "import json\n",
    "\n",
    "from functools import reduce\n",
    "\n",
    "from sklearn.preprocessing import StandardScaler\n",
    "from sklearn.linear_model import LinearRegression\n",
    "from sklearn.metrics import mean_absolute_error, mean_squared_error\n",
    "\n",
    "# Make numpy printouts easier to read.\n",
    "np.set_printoptions(precision=3, suppress=True)\n",
    "\n",
    "from datetime import datetime, timezone, timedelta\n",
    "\n",
    "\n",
    "import warnings"
   ],
   "outputs": [],
   "metadata": {}
  },
  {
   "cell_type": "code",
   "execution_count": 6,
   "source": [
    "df_merged = pd.read_pickle('../data/pickle/df_merged_4.pickle')"
   ],
   "outputs": [],
   "metadata": {}
  },
  {
   "cell_type": "code",
   "execution_count": 7,
   "source": [
    "df_merged.shape"
   ],
   "outputs": [
    {
     "output_type": "execute_result",
     "data": {
      "text/plain": [
       "(17358, 64)"
      ]
     },
     "metadata": {},
     "execution_count": 7
    }
   ],
   "metadata": {}
  },
  {
   "cell_type": "code",
   "execution_count": 8,
   "source": [
    "df_merged.dtypes"
   ],
   "outputs": [
    {
     "output_type": "execute_result",
     "data": {
      "text/plain": [
       "50Hertz_power_mw_x    float64\n",
       "DE_power_mw_x         float64\n",
       "DK_power_mw_x         float64\n",
       "DK1_power_mw_x        float64\n",
       "TTG_power_mw_x        float64\n",
       "                       ...   \n",
       "50Hertz_power_mw_y    float64\n",
       "DE_power_mw_y         float64\n",
       "DK_power_mw_y         float64\n",
       "DK1_power_mw_y        float64\n",
       "TTG_power_mw_y        float64\n",
       "Length: 64, dtype: object"
      ]
     },
     "metadata": {},
     "execution_count": 8
    }
   ],
   "metadata": {}
  },
  {
   "cell_type": "code",
   "execution_count": 9,
   "source": [
    "count_inf = np.isinf(df_merged).values.sum()\n",
    "count_nan = df_merged.isnull().sum().sum()\n",
    "print(\"The data frame contains \" + str(count_inf) + \" infinite values and \" + str(count_nan) + \" missing values.\")"
   ],
   "outputs": [
    {
     "output_type": "stream",
     "name": "stdout",
     "text": [
      "The data frame contains 0 infinite values and 0 missing values.\n"
     ]
    }
   ],
   "metadata": {}
  },
  {
   "cell_type": "code",
   "execution_count": 12,
   "source": [
    "df_merged.shape"
   ],
   "outputs": [
    {
     "output_type": "execute_result",
     "data": {
      "text/plain": [
       "(17358, 64)"
      ]
     },
     "metadata": {},
     "execution_count": 12
    }
   ],
   "metadata": {}
  },
  {
   "cell_type": "markdown",
   "source": [
    "We remove duplicate columns from our data frame"
   ],
   "metadata": {}
  },
  {
   "cell_type": "code",
   "execution_count": 13,
   "source": [
    "df_merged = df_merged.T.drop_duplicates().T\n",
    "df_merged.shape"
   ],
   "outputs": [],
   "metadata": {}
  },
  {
   "cell_type": "code",
   "execution_count": 15,
   "source": [
    "correlations = df_merged.corr(method='pearson')\n",
    "print(correlations['rebap_eur_mwh'].sort_values(ascending=False).to_string())"
   ],
   "outputs": [
    {
     "output_type": "stream",
     "name": "stdout",
     "text": [
      "rebap_eur_mwh                               1.000000\n",
      "epex_da_de_eur_mwh                          0.243183\n",
      "generationplusimbalancepriceeurmwhmbadk1    0.147773\n",
      "generationimbalancepriceeurmwhmbadk1        0.147303\n",
      "generationplusimbalancepriceeurmwhmbadk2    0.137709\n",
      "rebap_eur_mwh_PL                            0.134192\n",
      "priceforconsumptioneurmwhmbadk1             0.130247\n",
      "rebap_eur_mwh_dk2                           0.123288\n",
      "priceforconsumptioneurmwhmbadk2             0.111158\n",
      "Wasserkraft[MWh]                            0.101527\n",
      "DE_power_mw_y                               0.080726\n",
      "Pumpspeicher[MWh]                           0.080279\n",
      "rebap_eur_mwh_BE                            0.080030\n",
      "50Hertz_power_mw_y                          0.078830\n",
      "DK1_power_mw_y                              0.072103\n",
      "TTG_power_mw_y                              0.063629\n",
      "Wind Onshore[MWh]                           0.061494\n",
      "DK_power_mw_y                               0.059533\n",
      "rebap_eur_mwh_AUS                           0.056173\n",
      "Photovoltaik[MWh]                           0.052652\n",
      "rz_saldo_mwh_AUS                            0.042284\n",
      "totalimbalancemwhmbadk1                     0.015301\n",
      "Wind Offshore[MWh]                          0.005809\n",
      "Biomasse[MWh]                               0.004264\n",
      "DK1_power_mw_x                              0.002945\n",
      "DK_power_mw_x                               0.001259\n",
      "totalimbalancemwhmbadk2                    -0.003396\n",
      "DK1_power_mw_x                             -0.003648\n",
      "DK_power_mw_x                              -0.008854\n",
      "Kernenergie[MWh]                           -0.016747\n",
      "rel_total                                  -0.023206\n",
      "50Hertz_power_mw_x                         -0.024188\n",
      "Sonstige Erneuerbare[MWh]                  -0.040255\n",
      "TTG_power_mw_x                             -0.041901\n",
      "DE_power_mw_x                              -0.042822\n",
      "rz_saldo_mwh_PL                            -0.044662\n",
      "50Hertz_power_mw_x                         -0.045096\n",
      "Sonstige Konventionelle[MWh]               -0.047379\n",
      "50Hertz_power_mw_y                         -0.048651\n",
      "DK1_power_mw_y                             -0.049020\n",
      "DK_power_mw_y                              -0.050483\n",
      "DK_power_mw_x                              -0.054161\n",
      "DE_power_mw_x                              -0.054692\n",
      "DK1_power_mw_x                             -0.054737\n",
      "TTG_power_mw_y                             -0.056500\n",
      "DE_power_mw_y                              -0.058858\n",
      "DK_power_mw_y                              -0.059840\n",
      "DK1_power_mw_y                             -0.060008\n",
      "TTG_power_mw_x                             -0.061468\n",
      "sechs_h_regelung                           -0.071639\n",
      "Steinkohle[MWh]                            -0.075562\n",
      "50Hertz_power_mw_x                         -0.076924\n",
      "TTG_power_mw_x                             -0.081661\n",
      "rz_saldo_mwh_BE                            -0.082932\n",
      "diff_prog_real                             -0.083523\n",
      "50Hertz_power_mw_y                         -0.083885\n",
      "Erdgas[MWh]                                -0.083937\n",
      "total_pred_cons                            -0.084256\n",
      "TTG_power_mw_y                             -0.085630\n",
      "DE_power_mw_x                              -0.086201\n",
      "DE_power_mw_y                              -0.090752\n",
      "Braunkohle[MWh]                            -0.102828\n",
      "rz_saldo_mwh                               -0.366963\n"
     ]
    }
   ],
   "metadata": {}
  },
  {
   "cell_type": "markdown",
   "source": [
    "In general, we can observe only a low correlation of features with our target -  rebap_eur_mwh -. Only 12 features have correlation of > |0.1|."
   ],
   "metadata": {}
  },
  {
   "cell_type": "markdown",
   "source": [
    "## Save Data to pickle "
   ],
   "metadata": {}
  },
  {
   "cell_type": "code",
   "execution_count": 18,
   "source": [
    "df_merged.to_pickle('../data/pickle/df_merged_5.pickle')"
   ],
   "outputs": [],
   "metadata": {}
  }
 ],
 "metadata": {
  "kernelspec": {
   "name": "python3",
   "display_name": "Python 3.8.5 64-bit ('.venv': venv)"
  },
  "language_info": {
   "codemirror_mode": {
    "name": "ipython",
    "version": 3
   },
   "file_extension": ".py",
   "mimetype": "text/x-python",
   "name": "python",
   "nbconvert_exporter": "python",
   "pygments_lexer": "ipython3",
   "version": "3.8.5"
  },
  "interpreter": {
   "hash": "c3b88ade08e7e5c458f75e647914a1f8383074144cd24084ca5ecc64490d7249"
  }
 },
 "nbformat": 4,
 "nbformat_minor": 5
}