{
 "cells": [
  {
   "cell_type": "markdown",
   "id": "a4af0b66",
   "metadata": {},
   "source": [
    "# Outliers"
   ]
  },
  {
   "cell_type": "code",
   "execution_count": 2,
   "id": "058d7e39",
   "metadata": {},
   "outputs": [],
   "source": [
    "import datetime, time, os\n",
    "\n",
    "import numpy as np\n",
    "\n",
    "import seaborn as sns\n",
    "import matplotlib.pyplot as plt\n",
    "import plotly.express as px\n",
    "import plotly.figure_factory as ff\n",
    "import plotly.graph_objects as go\n",
    "\n",
    "import json\n",
    "import pandas as pd\n",
    "from pandas_profiling import ProfileReport\n",
    "\n",
    "from functools import reduce\n",
    "\n",
    "from sklearn.preprocessing import StandardScaler\n",
    "from sklearn.linear_model import LinearRegression\n",
    "from sklearn.metrics import mean_absolute_error, mean_squared_error\n",
    "\n",
    "# Make numpy printouts easier to read.\n",
    "np.set_printoptions(precision=3, suppress=True)\n",
    "\n",
    "import plotly.graph_objects as go\n",
    "# Create traces\n",
    "\n",
    "import warnings\n",
    "warnings.filterwarnings('ignore')"
   ]
  },
  {
   "cell_type": "code",
   "execution_count": 3,
   "id": "d58be923",
   "metadata": {},
   "outputs": [
    {
     "ename": "FileNotFoundError",
     "evalue": "[Errno 2] No such file or directory: 'ane_energy/imbalance_de.csv'",
     "output_type": "error",
     "traceback": [
      "\u001b[0;31m---------------------------------------------------------------------------\u001b[0m",
      "\u001b[0;31mFileNotFoundError\u001b[0m                         Traceback (most recent call last)",
      "\u001b[0;32m/var/folders/x_/rjggxhdx2j5ch0bl5gfg01480000gn/T/ipykernel_5437/4253345148.py\u001b[0m in \u001b[0;36m<module>\u001b[0;34m\u001b[0m\n\u001b[0;32m----> 1\u001b[0;31m \u001b[0mdf\u001b[0m \u001b[0;34m=\u001b[0m \u001b[0mpd\u001b[0m\u001b[0;34m.\u001b[0m\u001b[0mread_csv\u001b[0m\u001b[0;34m(\u001b[0m\u001b[0;34m\"ane_energy/imbalance_de.csv\"\u001b[0m\u001b[0;34m,\u001b[0m \u001b[0mparse_dates\u001b[0m\u001b[0;34m=\u001b[0m\u001b[0;34m[\u001b[0m\u001b[0;34m'dt_start_utc'\u001b[0m\u001b[0;34m]\u001b[0m\u001b[0;34m,\u001b[0m \u001b[0mindex_col\u001b[0m\u001b[0;34m=\u001b[0m\u001b[0;34m'dt_start_utc'\u001b[0m\u001b[0;34m)\u001b[0m\u001b[0;34m\u001b[0m\u001b[0;34m\u001b[0m\u001b[0m\n\u001b[0m",
      "\u001b[0;32m~/neuefische/Capstone/ane.energie/.venv/lib/python3.8/site-packages/pandas/io/parsers.py\u001b[0m in \u001b[0;36mread_csv\u001b[0;34m(filepath_or_buffer, sep, delimiter, header, names, index_col, usecols, squeeze, prefix, mangle_dupe_cols, dtype, engine, converters, true_values, false_values, skipinitialspace, skiprows, skipfooter, nrows, na_values, keep_default_na, na_filter, verbose, skip_blank_lines, parse_dates, infer_datetime_format, keep_date_col, date_parser, dayfirst, cache_dates, iterator, chunksize, compression, thousands, decimal, lineterminator, quotechar, quoting, doublequote, escapechar, comment, encoding, dialect, error_bad_lines, warn_bad_lines, delim_whitespace, low_memory, memory_map, float_precision, storage_options)\u001b[0m\n\u001b[1;32m    603\u001b[0m     \u001b[0mkwds\u001b[0m\u001b[0;34m.\u001b[0m\u001b[0mupdate\u001b[0m\u001b[0;34m(\u001b[0m\u001b[0mkwds_defaults\u001b[0m\u001b[0;34m)\u001b[0m\u001b[0;34m\u001b[0m\u001b[0;34m\u001b[0m\u001b[0m\n\u001b[1;32m    604\u001b[0m \u001b[0;34m\u001b[0m\u001b[0m\n\u001b[0;32m--> 605\u001b[0;31m     \u001b[0;32mreturn\u001b[0m \u001b[0m_read\u001b[0m\u001b[0;34m(\u001b[0m\u001b[0mfilepath_or_buffer\u001b[0m\u001b[0;34m,\u001b[0m \u001b[0mkwds\u001b[0m\u001b[0;34m)\u001b[0m\u001b[0;34m\u001b[0m\u001b[0;34m\u001b[0m\u001b[0m\n\u001b[0m\u001b[1;32m    606\u001b[0m \u001b[0;34m\u001b[0m\u001b[0m\n\u001b[1;32m    607\u001b[0m \u001b[0;34m\u001b[0m\u001b[0m\n",
      "\u001b[0;32m~/neuefische/Capstone/ane.energie/.venv/lib/python3.8/site-packages/pandas/io/parsers.py\u001b[0m in \u001b[0;36m_read\u001b[0;34m(filepath_or_buffer, kwds)\u001b[0m\n\u001b[1;32m    455\u001b[0m \u001b[0;34m\u001b[0m\u001b[0m\n\u001b[1;32m    456\u001b[0m     \u001b[0;31m# Create the parser.\u001b[0m\u001b[0;34m\u001b[0m\u001b[0;34m\u001b[0m\u001b[0;34m\u001b[0m\u001b[0m\n\u001b[0;32m--> 457\u001b[0;31m     \u001b[0mparser\u001b[0m \u001b[0;34m=\u001b[0m \u001b[0mTextFileReader\u001b[0m\u001b[0;34m(\u001b[0m\u001b[0mfilepath_or_buffer\u001b[0m\u001b[0;34m,\u001b[0m \u001b[0;34m**\u001b[0m\u001b[0mkwds\u001b[0m\u001b[0;34m)\u001b[0m\u001b[0;34m\u001b[0m\u001b[0;34m\u001b[0m\u001b[0m\n\u001b[0m\u001b[1;32m    458\u001b[0m \u001b[0;34m\u001b[0m\u001b[0m\n\u001b[1;32m    459\u001b[0m     \u001b[0;32mif\u001b[0m \u001b[0mchunksize\u001b[0m \u001b[0;32mor\u001b[0m \u001b[0miterator\u001b[0m\u001b[0;34m:\u001b[0m\u001b[0;34m\u001b[0m\u001b[0;34m\u001b[0m\u001b[0m\n",
      "\u001b[0;32m~/neuefische/Capstone/ane.energie/.venv/lib/python3.8/site-packages/pandas/io/parsers.py\u001b[0m in \u001b[0;36m__init__\u001b[0;34m(self, f, engine, **kwds)\u001b[0m\n\u001b[1;32m    812\u001b[0m             \u001b[0mself\u001b[0m\u001b[0;34m.\u001b[0m\u001b[0moptions\u001b[0m\u001b[0;34m[\u001b[0m\u001b[0;34m\"has_index_names\"\u001b[0m\u001b[0;34m]\u001b[0m \u001b[0;34m=\u001b[0m \u001b[0mkwds\u001b[0m\u001b[0;34m[\u001b[0m\u001b[0;34m\"has_index_names\"\u001b[0m\u001b[0;34m]\u001b[0m\u001b[0;34m\u001b[0m\u001b[0;34m\u001b[0m\u001b[0m\n\u001b[1;32m    813\u001b[0m \u001b[0;34m\u001b[0m\u001b[0m\n\u001b[0;32m--> 814\u001b[0;31m         \u001b[0mself\u001b[0m\u001b[0;34m.\u001b[0m\u001b[0m_engine\u001b[0m \u001b[0;34m=\u001b[0m \u001b[0mself\u001b[0m\u001b[0;34m.\u001b[0m\u001b[0m_make_engine\u001b[0m\u001b[0;34m(\u001b[0m\u001b[0mself\u001b[0m\u001b[0;34m.\u001b[0m\u001b[0mengine\u001b[0m\u001b[0;34m)\u001b[0m\u001b[0;34m\u001b[0m\u001b[0;34m\u001b[0m\u001b[0m\n\u001b[0m\u001b[1;32m    815\u001b[0m \u001b[0;34m\u001b[0m\u001b[0m\n\u001b[1;32m    816\u001b[0m     \u001b[0;32mdef\u001b[0m \u001b[0mclose\u001b[0m\u001b[0;34m(\u001b[0m\u001b[0mself\u001b[0m\u001b[0;34m)\u001b[0m\u001b[0;34m:\u001b[0m\u001b[0;34m\u001b[0m\u001b[0;34m\u001b[0m\u001b[0m\n",
      "\u001b[0;32m~/neuefische/Capstone/ane.energie/.venv/lib/python3.8/site-packages/pandas/io/parsers.py\u001b[0m in \u001b[0;36m_make_engine\u001b[0;34m(self, engine)\u001b[0m\n\u001b[1;32m   1043\u001b[0m             )\n\u001b[1;32m   1044\u001b[0m         \u001b[0;31m# error: Too many arguments for \"ParserBase\"\u001b[0m\u001b[0;34m\u001b[0m\u001b[0;34m\u001b[0m\u001b[0;34m\u001b[0m\u001b[0m\n\u001b[0;32m-> 1045\u001b[0;31m         \u001b[0;32mreturn\u001b[0m \u001b[0mmapping\u001b[0m\u001b[0;34m[\u001b[0m\u001b[0mengine\u001b[0m\u001b[0;34m]\u001b[0m\u001b[0;34m(\u001b[0m\u001b[0mself\u001b[0m\u001b[0;34m.\u001b[0m\u001b[0mf\u001b[0m\u001b[0;34m,\u001b[0m \u001b[0;34m**\u001b[0m\u001b[0mself\u001b[0m\u001b[0;34m.\u001b[0m\u001b[0moptions\u001b[0m\u001b[0;34m)\u001b[0m  \u001b[0;31m# type: ignore[call-arg]\u001b[0m\u001b[0;34m\u001b[0m\u001b[0;34m\u001b[0m\u001b[0m\n\u001b[0m\u001b[1;32m   1046\u001b[0m \u001b[0;34m\u001b[0m\u001b[0m\n\u001b[1;32m   1047\u001b[0m     \u001b[0;32mdef\u001b[0m \u001b[0m_failover_to_python\u001b[0m\u001b[0;34m(\u001b[0m\u001b[0mself\u001b[0m\u001b[0;34m)\u001b[0m\u001b[0;34m:\u001b[0m\u001b[0;34m\u001b[0m\u001b[0;34m\u001b[0m\u001b[0m\n",
      "\u001b[0;32m~/neuefische/Capstone/ane.energie/.venv/lib/python3.8/site-packages/pandas/io/parsers.py\u001b[0m in \u001b[0;36m__init__\u001b[0;34m(self, src, **kwds)\u001b[0m\n\u001b[1;32m   1860\u001b[0m \u001b[0;34m\u001b[0m\u001b[0m\n\u001b[1;32m   1861\u001b[0m         \u001b[0;31m# open handles\u001b[0m\u001b[0;34m\u001b[0m\u001b[0;34m\u001b[0m\u001b[0;34m\u001b[0m\u001b[0m\n\u001b[0;32m-> 1862\u001b[0;31m         \u001b[0mself\u001b[0m\u001b[0;34m.\u001b[0m\u001b[0m_open_handles\u001b[0m\u001b[0;34m(\u001b[0m\u001b[0msrc\u001b[0m\u001b[0;34m,\u001b[0m \u001b[0mkwds\u001b[0m\u001b[0;34m)\u001b[0m\u001b[0;34m\u001b[0m\u001b[0;34m\u001b[0m\u001b[0m\n\u001b[0m\u001b[1;32m   1863\u001b[0m         \u001b[0;32massert\u001b[0m \u001b[0mself\u001b[0m\u001b[0;34m.\u001b[0m\u001b[0mhandles\u001b[0m \u001b[0;32mis\u001b[0m \u001b[0;32mnot\u001b[0m \u001b[0;32mNone\u001b[0m\u001b[0;34m\u001b[0m\u001b[0;34m\u001b[0m\u001b[0m\n\u001b[1;32m   1864\u001b[0m         \u001b[0;32mfor\u001b[0m \u001b[0mkey\u001b[0m \u001b[0;32min\u001b[0m \u001b[0;34m(\u001b[0m\u001b[0;34m\"storage_options\"\u001b[0m\u001b[0;34m,\u001b[0m \u001b[0;34m\"encoding\"\u001b[0m\u001b[0;34m,\u001b[0m \u001b[0;34m\"memory_map\"\u001b[0m\u001b[0;34m,\u001b[0m \u001b[0;34m\"compression\"\u001b[0m\u001b[0;34m)\u001b[0m\u001b[0;34m:\u001b[0m\u001b[0;34m\u001b[0m\u001b[0;34m\u001b[0m\u001b[0m\n",
      "\u001b[0;32m~/neuefische/Capstone/ane.energie/.venv/lib/python3.8/site-packages/pandas/io/parsers.py\u001b[0m in \u001b[0;36m_open_handles\u001b[0;34m(self, src, kwds)\u001b[0m\n\u001b[1;32m   1355\u001b[0m         \u001b[0mLet\u001b[0m \u001b[0mthe\u001b[0m \u001b[0mreaders\u001b[0m \u001b[0mopen\u001b[0m \u001b[0mIOHanldes\u001b[0m \u001b[0mafter\u001b[0m \u001b[0mthey\u001b[0m \u001b[0mare\u001b[0m \u001b[0mdone\u001b[0m \u001b[0;32mwith\u001b[0m \u001b[0mtheir\u001b[0m \u001b[0mpotential\u001b[0m \u001b[0mraises\u001b[0m\u001b[0;34m.\u001b[0m\u001b[0;34m\u001b[0m\u001b[0;34m\u001b[0m\u001b[0m\n\u001b[1;32m   1356\u001b[0m         \"\"\"\n\u001b[0;32m-> 1357\u001b[0;31m         self.handles = get_handle(\n\u001b[0m\u001b[1;32m   1358\u001b[0m             \u001b[0msrc\u001b[0m\u001b[0;34m,\u001b[0m\u001b[0;34m\u001b[0m\u001b[0;34m\u001b[0m\u001b[0m\n\u001b[1;32m   1359\u001b[0m             \u001b[0;34m\"r\"\u001b[0m\u001b[0;34m,\u001b[0m\u001b[0;34m\u001b[0m\u001b[0;34m\u001b[0m\u001b[0m\n",
      "\u001b[0;32m~/neuefische/Capstone/ane.energie/.venv/lib/python3.8/site-packages/pandas/io/common.py\u001b[0m in \u001b[0;36mget_handle\u001b[0;34m(path_or_buf, mode, encoding, compression, memory_map, is_text, errors, storage_options)\u001b[0m\n\u001b[1;32m    640\u001b[0m                 \u001b[0merrors\u001b[0m \u001b[0;34m=\u001b[0m \u001b[0;34m\"replace\"\u001b[0m\u001b[0;34m\u001b[0m\u001b[0;34m\u001b[0m\u001b[0m\n\u001b[1;32m    641\u001b[0m             \u001b[0;31m# Encoding\u001b[0m\u001b[0;34m\u001b[0m\u001b[0;34m\u001b[0m\u001b[0;34m\u001b[0m\u001b[0m\n\u001b[0;32m--> 642\u001b[0;31m             handle = open(\n\u001b[0m\u001b[1;32m    643\u001b[0m                 \u001b[0mhandle\u001b[0m\u001b[0;34m,\u001b[0m\u001b[0;34m\u001b[0m\u001b[0;34m\u001b[0m\u001b[0m\n\u001b[1;32m    644\u001b[0m                 \u001b[0mioargs\u001b[0m\u001b[0;34m.\u001b[0m\u001b[0mmode\u001b[0m\u001b[0;34m,\u001b[0m\u001b[0;34m\u001b[0m\u001b[0;34m\u001b[0m\u001b[0m\n",
      "\u001b[0;31mFileNotFoundError\u001b[0m: [Errno 2] No such file or directory: 'ane_energy/imbalance_de.csv'"
     ]
    }
   ],
   "source": [
    "df = pd.read_csv(\"ane_energy/imbalance_de.csv\", parse_dates=['dt_start_utc'], index_col='dt_start_utc')"
   ]
  },
  {
   "cell_type": "code",
   "execution_count": null,
   "id": "1a94e986",
   "metadata": {},
   "outputs": [],
   "source": [
    "df.head(20)"
   ]
  },
  {
   "cell_type": "code",
   "execution_count": null,
   "id": "08bf066e",
   "metadata": {},
   "outputs": [],
   "source": [
    "## Check for outliers in 'rebap_eur_mwh' column\n",
    "sns.boxplot(x=df['rebap_eur_mwh'])\n",
    "plt.show()"
   ]
  },
  {
   "cell_type": "code",
   "execution_count": null,
   "id": "e2683f0f",
   "metadata": {},
   "outputs": [],
   "source": [
    "# Check for outliers in 'rz_saldo_mwh' column\n",
    "sns.boxplot(x=df['rz_saldo_mwh'])\n",
    "plt.show()"
   ]
  },
  {
   "cell_type": "code",
   "execution_count": null,
   "id": "754473c9",
   "metadata": {},
   "outputs": [],
   "source": [
    "count_1 = df[\"rebap_eur_mwh\"][(df[\"rebap_eur_mwh\"]>1000)].count()"
   ]
  },
  {
   "cell_type": "code",
   "execution_count": null,
   "id": "926aec0b",
   "metadata": {},
   "outputs": [],
   "source": [
    "count_2 = df[\"rebap_eur_mwh\"][(df[\"rebap_eur_mwh\"]<-1000)].count()"
   ]
  },
  {
   "cell_type": "code",
   "execution_count": null,
   "id": "7d9af896",
   "metadata": {},
   "outputs": [],
   "source": [
    "count_3 = (count_1+count_2)/df[\"rebap_eur_mwh\"].count()"
   ]
  },
  {
   "cell_type": "code",
   "execution_count": null,
   "id": "8f52c020",
   "metadata": {},
   "outputs": [],
   "source": [
    "print(\"It contains \" + str(count_1) + \" observations larger than 1000 €/MWh and \" + str(count_2) + \n",
    "      \" observations lower than -1000 €/MWh. This represents \" + str(round(count_3,4)*100) + \"% of all observations\")"
   ]
  },
  {
   "cell_type": "code",
   "execution_count": null,
   "id": "5bb389ee",
   "metadata": {},
   "outputs": [],
   "source": []
  },
  {
   "cell_type": "code",
   "execution_count": null,
   "id": "52787e1b",
   "metadata": {},
   "outputs": [],
   "source": []
  },
  {
   "cell_type": "code",
   "execution_count": null,
   "id": "0b4ec080",
   "metadata": {},
   "outputs": [],
   "source": [
    "df_1000 = df[(df[\"rebap_eur_mwh\"]<-1000) | (df[\"rebap_eur_mwh\"]>1000)]"
   ]
  },
  {
   "cell_type": "code",
   "execution_count": null,
   "id": "7a11b308",
   "metadata": {},
   "outputs": [],
   "source": [
    "pd.set_option('display.max_rows', df_1000.shape[0]+1)"
   ]
  },
  {
   "cell_type": "code",
   "execution_count": null,
   "id": "161cb3ec",
   "metadata": {},
   "outputs": [],
   "source": [
    "df_1000"
   ]
  },
  {
   "cell_type": "markdown",
   "id": "e4812453",
   "metadata": {},
   "source": [
    "## Year"
   ]
  },
  {
   "cell_type": "code",
   "execution_count": null,
   "id": "63e6ca04",
   "metadata": {},
   "outputs": [],
   "source": [
    "#df_1000.groupby(\"head(50);\n",
    "#df_year_mean = df[\"voality\"].groupby(df.index.year).median().reset_index()          \n",
    "#df_year_mean = df[\"voality\"].groupby(df.index.year).median().reset_index()\n",
    "df_1000_year = df_1000.groupby(df_1000.index.year).count().reset_index()\n",
    "print(df_1000_year[\"rebap_eur_mwh\"].mean())\n",
    "df_1000_year"
   ]
  },
  {
   "cell_type": "code",
   "execution_count": null,
   "id": "e19979a1",
   "metadata": {},
   "outputs": [],
   "source": [
    "fig = px.bar(df_1000_year, x='dt_start_utc', y='rebap_eur_mwh', text='rebap_eur_mwh')\n",
    "fig.update_traces(texttemplate='%{text}', textposition='outside', cliponaxis = False)\n",
    "fig.update_layout(uniformtext_minsize=8, uniformtext_mode='hide')\n",
    "\n",
    "fig.update_layout(\n",
    "    title=\"Outliers Count :: Absoulte Imbalance Price > 1000 €/MWh\",\n",
    "    xaxis_title=\"\",\n",
    "    yaxis_title=\"Outliers per year\",\n",
    "   # xaxis = dict(\n",
    "    #    tickmode = 'array',\n",
    "     #   tickvals = [0, 4, 8, 12, 16, 20],\n",
    "      #  ticktext=[\"00:00\",\"04:00\", \"08:00\", \"12:00\", \"16:00\", \"20:00\"]),\n",
    "    legend_title=\"\",\n",
    "    font=dict(\n",
    "        family=\"Arial\",\n",
    "        size=12,\n",
    "        color=\"Black\"\n",
    "    )\n",
    ")\n",
    "\n",
    "fig.show()"
   ]
  },
  {
   "cell_type": "markdown",
   "id": "c27ffda0",
   "metadata": {},
   "source": [
    "## Months"
   ]
  },
  {
   "cell_type": "code",
   "execution_count": null,
   "id": "c9da8814",
   "metadata": {},
   "outputs": [],
   "source": [
    "df_1000_month = df_1000.groupby(df_1000.index.month).count().reset_index()\n",
    "print(df_1000_month[\"rebap_eur_mwh\"].mean())\n",
    "df_1000_month"
   ]
  },
  {
   "cell_type": "markdown",
   "id": "cca1e5ce",
   "metadata": {},
   "source": [
    "## Weekdays"
   ]
  },
  {
   "cell_type": "code",
   "execution_count": null,
   "id": "becc2e00",
   "metadata": {},
   "outputs": [],
   "source": [
    "df_1000_weekday = df_1000.groupby(df_1000.index.weekday).count().reset_index()\n",
    "print(df_1000_weekday[\"rebap_eur_mwh\"].mean())\n",
    "df_1000_weekday\n",
    "\n"
   ]
  },
  {
   "cell_type": "markdown",
   "id": "963d3517",
   "metadata": {},
   "source": [
    "## Hours"
   ]
  },
  {
   "cell_type": "code",
   "execution_count": null,
   "id": "2d40eba4",
   "metadata": {},
   "outputs": [],
   "source": [
    "df_1000_hour = df_1000.groupby(df_1000.index.hour).count().reset_index()\n",
    "print(df_1000_hour[\"rebap_eur_mwh\"].mean())\n",
    "df_1000_hour"
   ]
  },
  {
   "cell_type": "markdown",
   "id": "8123e57b",
   "metadata": {},
   "source": [
    "## Business Days Hours"
   ]
  },
  {
   "cell_type": "code",
   "execution_count": null,
   "id": "563b7546",
   "metadata": {},
   "outputs": [],
   "source": [
    "df_bhour_count = df_1000[df_1000.index.dayofweek < 5].groupby(df_1000[df_1000.index.dayofweek < 5].index.hour).count().reset_index()\n",
    "print(df_bhour_count[\"rebap_eur_mwh\"].mean())\n",
    "df_bhour_count"
   ]
  },
  {
   "cell_type": "code",
   "execution_count": null,
   "id": "2b6ab771",
   "metadata": {},
   "outputs": [],
   "source": [
    "fig = px.bar(df_bhour_count, x='dt_start_utc', y='rebap_eur_mwh', text='rebap_eur_mwh')\n",
    "fig.update_traces(texttemplate='%{text}', textposition='outside', cliponaxis = False)\n",
    "fig.update_layout(uniformtext_minsize=8, uniformtext_mode='hide')\n",
    "\n",
    "fig.update_layout(\n",
    "    title=\"Outliers on Business Days :: Absoulte Imbalance Price > 1000 €/MWh\",\n",
    "    xaxis_title=\"Hours\",\n",
    "    yaxis_title=\"Outliers per hours\",\n",
    "   # xaxis = dict(\n",
    "    #    tickmode = 'array',\n",
    "     #   tickvals = [0, 4, 8, 12, 16, 20],\n",
    "      #  ticktext=[\"00:00\",\"04:00\", \"08:00\", \"12:00\", \"16:00\", \"20:00\"]),\n",
    "    legend_title=\"\",\n",
    "    font=dict(\n",
    "        family=\"Arial\",\n",
    "        size=12,\n",
    "        color=\"Black\"\n",
    "    )\n",
    ")\n",
    "\n",
    "fig.show()"
   ]
  },
  {
   "cell_type": "code",
   "execution_count": null,
   "id": "21ee41f3",
   "metadata": {},
   "outputs": [],
   "source": [
    "#Rebap Dir"
   ]
  },
  {
   "cell_type": "code",
   "execution_count": null,
   "id": "6f46a08b",
   "metadata": {},
   "outputs": [],
   "source": [
    "df = pd.read_csv(\"ane_energy/imbalance_de.csv\", parse_dates=['dt_start_utc'], index_col='dt_start_utc')"
   ]
  },
  {
   "cell_type": "code",
   "execution_count": null,
   "id": "768957cc",
   "metadata": {},
   "outputs": [],
   "source": []
  },
  {
   "cell_type": "code",
   "execution_count": null,
   "id": "58e097c8",
   "metadata": {},
   "outputs": [],
   "source": []
  },
  {
   "cell_type": "code",
   "execution_count": null,
   "id": "a2f0ee86",
   "metadata": {},
   "outputs": [],
   "source": []
  },
  {
   "cell_type": "code",
   "execution_count": null,
   "id": "1e505f9d",
   "metadata": {},
   "outputs": [],
   "source": []
  },
  {
   "cell_type": "code",
   "execution_count": null,
   "id": "72c681e6",
   "metadata": {},
   "outputs": [],
   "source": []
  }
 ],
 "metadata": {
  "kernelspec": {
   "display_name": "Python 3 (ipykernel)",
   "language": "python",
   "name": "python3"
  },
  "language_info": {
   "codemirror_mode": {
    "name": "ipython",
    "version": 3
   },
   "file_extension": ".py",
   "mimetype": "text/x-python",
   "name": "python",
   "nbconvert_exporter": "python",
   "pygments_lexer": "ipython3",
   "version": "3.8.5"
  }
 },
 "nbformat": 4,
 "nbformat_minor": 5
}
