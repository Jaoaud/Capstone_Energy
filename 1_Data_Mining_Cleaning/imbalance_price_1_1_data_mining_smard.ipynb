{
 "cells": [
  {
   "cell_type": "markdown",
   "source": [
    "## Data origin :: smard"
   ],
   "metadata": {}
  },
  {
   "cell_type": "markdown",
   "source": [
    "The origin of this data is the onlien plattform \"smard\" provided and maintained by \"Bundesnetzagentur\". It's a central collection and publiaction of electricity generation, transportation and consumption data and information of the german electricty market. The url for the following data is: [smard; Data](https://www.smard.de/home/downloadcenter/download-marktdaten#!?downloadAttributes=%7B%22selectedCategory%22:false,%22selectedSubCategory%22:false,%22selectedRegion%22:false,%22from%22:1628373600000,%22to%22:1629323999999,%22selectedFileType%22:false%7D)\n"
   ],
   "metadata": {}
  },
  {
   "cell_type": "markdown",
   "source": [
    "## Feature Description"
   ],
   "metadata": {}
  },
  {
   "cell_type": "markdown",
   "source": [
    "Features are documented in the [smard manual](https://www.smard.de/home/benutzerhandbuch)."
   ],
   "metadata": {}
  },
  {
   "cell_type": "markdown",
   "source": [
    "## Import"
   ],
   "metadata": {}
  },
  {
   "cell_type": "code",
   "execution_count": 148,
   "source": [
    "import datetime, time, os\n",
    "import matplotlib.pyplot as plt\n",
    "import numpy as np\n",
    "import pandas as pd\n",
    "import seaborn as sns\n",
    "import pandas as pd\n",
    "import glob\n",
    "#from pandas_profiling import ProfileReport\n",
    "import json\n",
    "\n",
    "#from cesium import datasets\n",
    "\n",
    "from functools import reduce\n",
    "\n",
    "from sklearn.preprocessing import StandardScaler\n",
    "from sklearn.linear_model import LinearRegression\n",
    "from sklearn.metrics import mean_absolute_error, mean_squared_error\n",
    "\n",
    "# Make numpy printouts easier to read.\n",
    "#np.set_printoptions(precision=3, suppress=True)\n",
    "\n",
    "from datetime import datetime, timezone, timedelta\n",
    "import pytz\n",
    "resample_factor = 15\n",
    "\n",
    "import warnings"
   ],
   "outputs": [],
   "metadata": {}
  },
  {
   "cell_type": "markdown",
   "source": [
    "### Time Zone Adaption"
   ],
   "metadata": {}
  },
  {
   "cell_type": "markdown",
   "source": [
    "All time information on SMARD refers to the time valid at the respective time\n",
    "Central European Standard Time (CET or UTC+1) or Central European Summer Time (CEST or UTC+2).\n",
    "(CEST or UTC+2).\n",
    "- The changeover from standard time to daylight saving time takes place every last Sunday\n",
    "in March at 02:00 by skipping the hour from 02:00 to 03:00.\n",
    "- The changeover from summer time to standard time takes place every last Sunday in\n",
    "in October at 03:00 by repeating the hour from 02:00 to 03:00\n",
    "o'clock"
   ],
   "metadata": {}
  },
  {
   "cell_type": "markdown",
   "source": [
    "## Part 1: SMARD Data Mining"
   ],
   "metadata": {}
  },
  {
   "cell_type": "markdown",
   "source": [
    "## 1.1 Import \"Predicted Energy Consumption\""
   ],
   "metadata": {}
  },
  {
   "cell_type": "code",
   "execution_count": 149,
   "source": [
    "# Read csv file and assign to dataframe\n",
    "df_prog_cons = pd.read_csv(\"../data/smard/df_prog_cons.csv\")"
   ],
   "outputs": [],
   "metadata": {}
  },
  {
   "cell_type": "code",
   "execution_count": 150,
   "source": [
    "print(df_prog_cons.shape)\n",
    "df_prog_cons.head()"
   ],
   "outputs": [
    {
     "output_type": "stream",
     "name": "stdout",
     "text": [
      "(158876, 6)\n"
     ]
    },
    {
     "output_type": "execute_result",
     "data": {
      "text/plain": [
       "          dt_start_cet  50Hertz_power_mw  DE_power_mw  DK_power_mw  \\\n",
       "0  2016-12-31 23:00:00            4922.0      12966.0       2282.0   \n",
       "1  2016-12-31 23:15:00            4890.0      12916.0       2282.0   \n",
       "2  2016-12-31 23:30:00            4859.0      12873.0       2282.0   \n",
       "3  2016-12-31 23:45:00            4833.0      12830.0       2282.0   \n",
       "4  2017-01-01 00:00:00            4808.0      12315.0       2152.0   \n",
       "\n",
       "   DK1_power_mw  TTG_power_mw  \n",
       "0        1857.0        6636.0  \n",
       "1        1857.0        6614.0  \n",
       "2        1857.0        6595.0  \n",
       "3        1857.0        6572.0  \n",
       "4        1774.0        6078.0  "
      ],
      "text/html": [
       "<div>\n",
       "<style scoped>\n",
       "    .dataframe tbody tr th:only-of-type {\n",
       "        vertical-align: middle;\n",
       "    }\n",
       "\n",
       "    .dataframe tbody tr th {\n",
       "        vertical-align: top;\n",
       "    }\n",
       "\n",
       "    .dataframe thead th {\n",
       "        text-align: right;\n",
       "    }\n",
       "</style>\n",
       "<table border=\"1\" class=\"dataframe\">\n",
       "  <thead>\n",
       "    <tr style=\"text-align: right;\">\n",
       "      <th></th>\n",
       "      <th>dt_start_cet</th>\n",
       "      <th>50Hertz_power_mw</th>\n",
       "      <th>DE_power_mw</th>\n",
       "      <th>DK_power_mw</th>\n",
       "      <th>DK1_power_mw</th>\n",
       "      <th>TTG_power_mw</th>\n",
       "    </tr>\n",
       "  </thead>\n",
       "  <tbody>\n",
       "    <tr>\n",
       "      <th>0</th>\n",
       "      <td>2016-12-31 23:00:00</td>\n",
       "      <td>4922.0</td>\n",
       "      <td>12966.0</td>\n",
       "      <td>2282.0</td>\n",
       "      <td>1857.0</td>\n",
       "      <td>6636.0</td>\n",
       "    </tr>\n",
       "    <tr>\n",
       "      <th>1</th>\n",
       "      <td>2016-12-31 23:15:00</td>\n",
       "      <td>4890.0</td>\n",
       "      <td>12916.0</td>\n",
       "      <td>2282.0</td>\n",
       "      <td>1857.0</td>\n",
       "      <td>6614.0</td>\n",
       "    </tr>\n",
       "    <tr>\n",
       "      <th>2</th>\n",
       "      <td>2016-12-31 23:30:00</td>\n",
       "      <td>4859.0</td>\n",
       "      <td>12873.0</td>\n",
       "      <td>2282.0</td>\n",
       "      <td>1857.0</td>\n",
       "      <td>6595.0</td>\n",
       "    </tr>\n",
       "    <tr>\n",
       "      <th>3</th>\n",
       "      <td>2016-12-31 23:45:00</td>\n",
       "      <td>4833.0</td>\n",
       "      <td>12830.0</td>\n",
       "      <td>2282.0</td>\n",
       "      <td>1857.0</td>\n",
       "      <td>6572.0</td>\n",
       "    </tr>\n",
       "    <tr>\n",
       "      <th>4</th>\n",
       "      <td>2017-01-01 00:00:00</td>\n",
       "      <td>4808.0</td>\n",
       "      <td>12315.0</td>\n",
       "      <td>2152.0</td>\n",
       "      <td>1774.0</td>\n",
       "      <td>6078.0</td>\n",
       "    </tr>\n",
       "  </tbody>\n",
       "</table>\n",
       "</div>"
      ]
     },
     "metadata": {},
     "execution_count": 150
    }
   ],
   "metadata": {}
  },
  {
   "cell_type": "code",
   "execution_count": 151,
   "source": [
    "df_prog_cons.tail()"
   ],
   "outputs": [
    {
     "output_type": "execute_result",
     "data": {
      "text/plain": [
       "               dt_start_cet  50Hertz_power_mw  DE_power_mw  DK_power_mw  \\\n",
       "158871  2021-07-13 20:45:00            3637.0       8334.0        274.0   \n",
       "158872  2021-07-13 21:00:00            3677.0       8426.0        297.0   \n",
       "158873  2021-07-13 21:15:00            3580.0       8309.0        297.0   \n",
       "158874  2021-07-13 21:30:00            3485.0       8192.0        297.0   \n",
       "158875  2021-07-13 21:45:00            3371.0       8061.0        297.0   \n",
       "\n",
       "        DK1_power_mw  TTG_power_mw  \n",
       "158871         193.0        2620.0  \n",
       "158872         208.0        2666.0  \n",
       "158873         208.0        2678.0  \n",
       "158874         208.0        2688.0  \n",
       "158875         208.0        2699.0  "
      ],
      "text/html": [
       "<div>\n",
       "<style scoped>\n",
       "    .dataframe tbody tr th:only-of-type {\n",
       "        vertical-align: middle;\n",
       "    }\n",
       "\n",
       "    .dataframe tbody tr th {\n",
       "        vertical-align: top;\n",
       "    }\n",
       "\n",
       "    .dataframe thead th {\n",
       "        text-align: right;\n",
       "    }\n",
       "</style>\n",
       "<table border=\"1\" class=\"dataframe\">\n",
       "  <thead>\n",
       "    <tr style=\"text-align: right;\">\n",
       "      <th></th>\n",
       "      <th>dt_start_cet</th>\n",
       "      <th>50Hertz_power_mw</th>\n",
       "      <th>DE_power_mw</th>\n",
       "      <th>DK_power_mw</th>\n",
       "      <th>DK1_power_mw</th>\n",
       "      <th>TTG_power_mw</th>\n",
       "    </tr>\n",
       "  </thead>\n",
       "  <tbody>\n",
       "    <tr>\n",
       "      <th>158871</th>\n",
       "      <td>2021-07-13 20:45:00</td>\n",
       "      <td>3637.0</td>\n",
       "      <td>8334.0</td>\n",
       "      <td>274.0</td>\n",
       "      <td>193.0</td>\n",
       "      <td>2620.0</td>\n",
       "    </tr>\n",
       "    <tr>\n",
       "      <th>158872</th>\n",
       "      <td>2021-07-13 21:00:00</td>\n",
       "      <td>3677.0</td>\n",
       "      <td>8426.0</td>\n",
       "      <td>297.0</td>\n",
       "      <td>208.0</td>\n",
       "      <td>2666.0</td>\n",
       "    </tr>\n",
       "    <tr>\n",
       "      <th>158873</th>\n",
       "      <td>2021-07-13 21:15:00</td>\n",
       "      <td>3580.0</td>\n",
       "      <td>8309.0</td>\n",
       "      <td>297.0</td>\n",
       "      <td>208.0</td>\n",
       "      <td>2678.0</td>\n",
       "    </tr>\n",
       "    <tr>\n",
       "      <th>158874</th>\n",
       "      <td>2021-07-13 21:30:00</td>\n",
       "      <td>3485.0</td>\n",
       "      <td>8192.0</td>\n",
       "      <td>297.0</td>\n",
       "      <td>208.0</td>\n",
       "      <td>2688.0</td>\n",
       "    </tr>\n",
       "    <tr>\n",
       "      <th>158875</th>\n",
       "      <td>2021-07-13 21:45:00</td>\n",
       "      <td>3371.0</td>\n",
       "      <td>8061.0</td>\n",
       "      <td>297.0</td>\n",
       "      <td>208.0</td>\n",
       "      <td>2699.0</td>\n",
       "    </tr>\n",
       "  </tbody>\n",
       "</table>\n",
       "</div>"
      ]
     },
     "metadata": {},
     "execution_count": 151
    }
   ],
   "metadata": {}
  },
  {
   "cell_type": "code",
   "execution_count": 152,
   "source": [
    "# Convert time to datetime object and set it as index\n",
    "df_prog_cons[\"dt_start_cet\"] = pd.to_datetime(df_prog_cons[\"dt_start_cet\"])\n",
    "df_prog_cons.set_index('dt_start_cet', inplace=True)\n",
    "\n",
    "# Convert CET time zone to UTC time zone and rename index.\n",
    "df_prog_cons.index = df_prog_cons.index.tz_localize('Europe/Berlin', ambiguous=\"NaT\" , nonexistent=\"NaT\")\n",
    "df_prog_cons.index = df_prog_cons.index.tz_convert(pytz.utc)\n",
    "df_prog_cons.index.names = ['dt_start_utc']\n",
    "df_prog_cons.index = pd.to_datetime(df_prog_cons.index)\n",
    "df_prog_cons.index = df_prog_cons.index.tz_localize(None)"
   ],
   "outputs": [],
   "metadata": {}
  },
  {
   "cell_type": "markdown",
   "source": [
    "We will need drop all the columns that are constituted by infinite values and NaNs, as they are unusable."
   ],
   "metadata": {}
  },
  {
   "cell_type": "code",
   "execution_count": 153,
   "source": [
    "count_inf = np.isinf(df_prog_cons).values.sum()\n",
    "count_null = df_prog_cons.isnull().sum().sum()\n",
    "\n",
    "print(\"The data frame contains \" + str(count_inf) + \" infinite values and \" + str(count_null) + \" missing values.\")"
   ],
   "outputs": [
    {
     "output_type": "stream",
     "name": "stdout",
     "text": [
      "The data frame contains 0 infinite values and 0 missing values.\n"
     ]
    }
   ],
   "metadata": {}
  },
  {
   "cell_type": "markdown",
   "source": [
    "Fortunately, we can keep every column of the dataframe."
   ],
   "metadata": {}
  },
  {
   "cell_type": "code",
   "execution_count": 154,
   "source": [
    "# Print the type of each variable in the dataframe\n",
    "\n",
    "df_prog_cons.info()"
   ],
   "outputs": [
    {
     "output_type": "stream",
     "name": "stdout",
     "text": [
      "<class 'pandas.core.frame.DataFrame'>\n",
      "DatetimeIndex: 158876 entries, 2016-12-31 22:00:00 to 2021-07-13 19:45:00\n",
      "Data columns (total 5 columns):\n",
      " #   Column            Non-Null Count   Dtype  \n",
      "---  ------            --------------   -----  \n",
      " 0   50Hertz_power_mw  158876 non-null  float64\n",
      " 1   DE_power_mw       158876 non-null  float64\n",
      " 2   DK_power_mw       158876 non-null  float64\n",
      " 3   DK1_power_mw      158876 non-null  float64\n",
      " 4   TTG_power_mw      158876 non-null  float64\n",
      "dtypes: float64(5)\n",
      "memory usage: 7.3 MB\n"
     ]
    }
   ],
   "metadata": {}
  },
  {
   "cell_type": "markdown",
   "source": [
    "At this point, we like to implement a feature that sums up the total predicted energy consumption, which is the sum of all columns.\n",
    "All features are numerical, so we don't need to take action in converting the value type."
   ],
   "metadata": {}
  },
  {
   "cell_type": "code",
   "execution_count": 155,
   "source": [
    "df_prog_cons['total_pred_cons'] = df_prog_cons.sum(axis=1)"
   ],
   "outputs": [],
   "metadata": {}
  },
  {
   "cell_type": "markdown",
   "source": [
    "## 1.2 Import \"Realisierte Erzeugung\" "
   ],
   "metadata": {}
  },
  {
   "cell_type": "markdown",
   "source": [
    "This dataset contains the realized electrical energy. "
   ],
   "metadata": {}
  },
  {
   "cell_type": "code",
   "execution_count": 156,
   "source": [
    "df = pd.read_csv(\"../data/smard/Stromerzeugung/Realisierte_Erzeugung_2021.csv\", delimiter=\";\", decimal=',')\n",
    "\n",
    "df.shape"
   ],
   "outputs": [
    {
     "output_type": "execute_result",
     "data": {
      "text/plain": [
       "(17372, 14)"
      ]
     },
     "metadata": {},
     "execution_count": 156
    }
   ],
   "metadata": {}
  },
  {
   "cell_type": "code",
   "execution_count": 157,
   "source": [
    "df.head()"
   ],
   "outputs": [
    {
     "output_type": "execute_result",
     "data": {
      "text/plain": [
       "        Datum Uhrzeit Biomasse[MWh]  Wasserkraft[MWh] Wind Offshore[MWh]  \\\n",
       "0  01.01.2021   00:00         1.147               308                 84   \n",
       "1  01.01.2021   00:15         1.145               301                 88   \n",
       "2  01.01.2021   00:30         1.138               299                101   \n",
       "3  01.01.2021   00:45         1.139               298                108   \n",
       "4  01.01.2021   01:00         1.138               310                105   \n",
       "\n",
       "  Wind Onshore[MWh] Photovoltaik[MWh]  Sonstige Erneuerbare[MWh]  \\\n",
       "0             1.058                 0                         55   \n",
       "1             1.025                 0                         55   \n",
       "2               955                 0                         55   \n",
       "3               931                 0                         55   \n",
       "4               943                 0                         55   \n",
       "\n",
       "  Kernenergie[MWh] Braunkohle[MWh] Steinkohle[MWh] Erdgas[MWh]  \\\n",
       "0            2.034           2.899             937       1.402   \n",
       "1            2.036           2.905             872       1.416   \n",
       "2            2.037           2.904             829       1.419   \n",
       "3            2.038           2.901             805       1.412   \n",
       "4            2.038           2.911             785       1.363   \n",
       "\n",
       "  Pumpspeicher[MWh]  Sonstige Konventionelle[MWh]  \n",
       "0                73                           358  \n",
       "1                95                           358  \n",
       "2                82                           356  \n",
       "3                98                           354  \n",
       "4               125                           357  "
      ],
      "text/html": [
       "<div>\n",
       "<style scoped>\n",
       "    .dataframe tbody tr th:only-of-type {\n",
       "        vertical-align: middle;\n",
       "    }\n",
       "\n",
       "    .dataframe tbody tr th {\n",
       "        vertical-align: top;\n",
       "    }\n",
       "\n",
       "    .dataframe thead th {\n",
       "        text-align: right;\n",
       "    }\n",
       "</style>\n",
       "<table border=\"1\" class=\"dataframe\">\n",
       "  <thead>\n",
       "    <tr style=\"text-align: right;\">\n",
       "      <th></th>\n",
       "      <th>Datum</th>\n",
       "      <th>Uhrzeit</th>\n",
       "      <th>Biomasse[MWh]</th>\n",
       "      <th>Wasserkraft[MWh]</th>\n",
       "      <th>Wind Offshore[MWh]</th>\n",
       "      <th>Wind Onshore[MWh]</th>\n",
       "      <th>Photovoltaik[MWh]</th>\n",
       "      <th>Sonstige Erneuerbare[MWh]</th>\n",
       "      <th>Kernenergie[MWh]</th>\n",
       "      <th>Braunkohle[MWh]</th>\n",
       "      <th>Steinkohle[MWh]</th>\n",
       "      <th>Erdgas[MWh]</th>\n",
       "      <th>Pumpspeicher[MWh]</th>\n",
       "      <th>Sonstige Konventionelle[MWh]</th>\n",
       "    </tr>\n",
       "  </thead>\n",
       "  <tbody>\n",
       "    <tr>\n",
       "      <th>0</th>\n",
       "      <td>01.01.2021</td>\n",
       "      <td>00:00</td>\n",
       "      <td>1.147</td>\n",
       "      <td>308</td>\n",
       "      <td>84</td>\n",
       "      <td>1.058</td>\n",
       "      <td>0</td>\n",
       "      <td>55</td>\n",
       "      <td>2.034</td>\n",
       "      <td>2.899</td>\n",
       "      <td>937</td>\n",
       "      <td>1.402</td>\n",
       "      <td>73</td>\n",
       "      <td>358</td>\n",
       "    </tr>\n",
       "    <tr>\n",
       "      <th>1</th>\n",
       "      <td>01.01.2021</td>\n",
       "      <td>00:15</td>\n",
       "      <td>1.145</td>\n",
       "      <td>301</td>\n",
       "      <td>88</td>\n",
       "      <td>1.025</td>\n",
       "      <td>0</td>\n",
       "      <td>55</td>\n",
       "      <td>2.036</td>\n",
       "      <td>2.905</td>\n",
       "      <td>872</td>\n",
       "      <td>1.416</td>\n",
       "      <td>95</td>\n",
       "      <td>358</td>\n",
       "    </tr>\n",
       "    <tr>\n",
       "      <th>2</th>\n",
       "      <td>01.01.2021</td>\n",
       "      <td>00:30</td>\n",
       "      <td>1.138</td>\n",
       "      <td>299</td>\n",
       "      <td>101</td>\n",
       "      <td>955</td>\n",
       "      <td>0</td>\n",
       "      <td>55</td>\n",
       "      <td>2.037</td>\n",
       "      <td>2.904</td>\n",
       "      <td>829</td>\n",
       "      <td>1.419</td>\n",
       "      <td>82</td>\n",
       "      <td>356</td>\n",
       "    </tr>\n",
       "    <tr>\n",
       "      <th>3</th>\n",
       "      <td>01.01.2021</td>\n",
       "      <td>00:45</td>\n",
       "      <td>1.139</td>\n",
       "      <td>298</td>\n",
       "      <td>108</td>\n",
       "      <td>931</td>\n",
       "      <td>0</td>\n",
       "      <td>55</td>\n",
       "      <td>2.038</td>\n",
       "      <td>2.901</td>\n",
       "      <td>805</td>\n",
       "      <td>1.412</td>\n",
       "      <td>98</td>\n",
       "      <td>354</td>\n",
       "    </tr>\n",
       "    <tr>\n",
       "      <th>4</th>\n",
       "      <td>01.01.2021</td>\n",
       "      <td>01:00</td>\n",
       "      <td>1.138</td>\n",
       "      <td>310</td>\n",
       "      <td>105</td>\n",
       "      <td>943</td>\n",
       "      <td>0</td>\n",
       "      <td>55</td>\n",
       "      <td>2.038</td>\n",
       "      <td>2.911</td>\n",
       "      <td>785</td>\n",
       "      <td>1.363</td>\n",
       "      <td>125</td>\n",
       "      <td>357</td>\n",
       "    </tr>\n",
       "  </tbody>\n",
       "</table>\n",
       "</div>"
      ]
     },
     "metadata": {},
     "execution_count": 157
    }
   ],
   "metadata": {}
  },
  {
   "cell_type": "code",
   "execution_count": 158,
   "source": [
    "# Merge and convert \"Datum\" und \"Uhrzeit\" to datetime object and set it as index\n",
    "df[\"datetime\"]= df['Datum'] + ' ' + df['Uhrzeit']\n",
    "df.drop(columns=['Datum', 'Uhrzeit'], inplace=True)\n",
    "df[\"datetime\"] = pd.to_datetime(df[\"datetime\"], dayfirst=True)\n",
    "\n",
    "df[\"datetime\"] = pd.to_datetime(df[\"datetime\"])\n",
    "df.set_index('datetime', inplace=True)\n",
    "\n",
    "\n",
    "#Convert CET time zone to UTC time zone and rename index.\n",
    "df.index = df.index.tz_localize('Europe/Berlin', ambiguous=\"NaT\" , nonexistent=\"NaT\")\n",
    "df.index = df.index.tz_convert(pytz.utc)\n",
    "df.index = pd.to_datetime(df.index)\n",
    "df.index = df.index.tz_localize(None)\n",
    "df.index.names = ['dt_start_utc']"
   ],
   "outputs": [],
   "metadata": {}
  },
  {
   "cell_type": "code",
   "execution_count": 159,
   "source": [
    "df.head()"
   ],
   "outputs": [
    {
     "output_type": "execute_result",
     "data": {
      "text/plain": [
       "                    Biomasse[MWh]  Wasserkraft[MWh] Wind Offshore[MWh]  \\\n",
       "dt_start_utc                                                             \n",
       "2020-12-31 23:00:00         1.147               308                 84   \n",
       "2020-12-31 23:15:00         1.145               301                 88   \n",
       "2020-12-31 23:30:00         1.138               299                101   \n",
       "2020-12-31 23:45:00         1.139               298                108   \n",
       "2021-01-01 00:00:00         1.138               310                105   \n",
       "\n",
       "                    Wind Onshore[MWh] Photovoltaik[MWh]  \\\n",
       "dt_start_utc                                              \n",
       "2020-12-31 23:00:00             1.058                 0   \n",
       "2020-12-31 23:15:00             1.025                 0   \n",
       "2020-12-31 23:30:00               955                 0   \n",
       "2020-12-31 23:45:00               931                 0   \n",
       "2021-01-01 00:00:00               943                 0   \n",
       "\n",
       "                     Sonstige Erneuerbare[MWh] Kernenergie[MWh]  \\\n",
       "dt_start_utc                                                      \n",
       "2020-12-31 23:00:00                         55            2.034   \n",
       "2020-12-31 23:15:00                         55            2.036   \n",
       "2020-12-31 23:30:00                         55            2.037   \n",
       "2020-12-31 23:45:00                         55            2.038   \n",
       "2021-01-01 00:00:00                         55            2.038   \n",
       "\n",
       "                    Braunkohle[MWh] Steinkohle[MWh] Erdgas[MWh]  \\\n",
       "dt_start_utc                                                      \n",
       "2020-12-31 23:00:00           2.899             937       1.402   \n",
       "2020-12-31 23:15:00           2.905             872       1.416   \n",
       "2020-12-31 23:30:00           2.904             829       1.419   \n",
       "2020-12-31 23:45:00           2.901             805       1.412   \n",
       "2021-01-01 00:00:00           2.911             785       1.363   \n",
       "\n",
       "                    Pumpspeicher[MWh]  Sonstige Konventionelle[MWh]  \n",
       "dt_start_utc                                                         \n",
       "2020-12-31 23:00:00                73                           358  \n",
       "2020-12-31 23:15:00                95                           358  \n",
       "2020-12-31 23:30:00                82                           356  \n",
       "2020-12-31 23:45:00                98                           354  \n",
       "2021-01-01 00:00:00               125                           357  "
      ],
      "text/html": [
       "<div>\n",
       "<style scoped>\n",
       "    .dataframe tbody tr th:only-of-type {\n",
       "        vertical-align: middle;\n",
       "    }\n",
       "\n",
       "    .dataframe tbody tr th {\n",
       "        vertical-align: top;\n",
       "    }\n",
       "\n",
       "    .dataframe thead th {\n",
       "        text-align: right;\n",
       "    }\n",
       "</style>\n",
       "<table border=\"1\" class=\"dataframe\">\n",
       "  <thead>\n",
       "    <tr style=\"text-align: right;\">\n",
       "      <th></th>\n",
       "      <th>Biomasse[MWh]</th>\n",
       "      <th>Wasserkraft[MWh]</th>\n",
       "      <th>Wind Offshore[MWh]</th>\n",
       "      <th>Wind Onshore[MWh]</th>\n",
       "      <th>Photovoltaik[MWh]</th>\n",
       "      <th>Sonstige Erneuerbare[MWh]</th>\n",
       "      <th>Kernenergie[MWh]</th>\n",
       "      <th>Braunkohle[MWh]</th>\n",
       "      <th>Steinkohle[MWh]</th>\n",
       "      <th>Erdgas[MWh]</th>\n",
       "      <th>Pumpspeicher[MWh]</th>\n",
       "      <th>Sonstige Konventionelle[MWh]</th>\n",
       "    </tr>\n",
       "    <tr>\n",
       "      <th>dt_start_utc</th>\n",
       "      <th></th>\n",
       "      <th></th>\n",
       "      <th></th>\n",
       "      <th></th>\n",
       "      <th></th>\n",
       "      <th></th>\n",
       "      <th></th>\n",
       "      <th></th>\n",
       "      <th></th>\n",
       "      <th></th>\n",
       "      <th></th>\n",
       "      <th></th>\n",
       "    </tr>\n",
       "  </thead>\n",
       "  <tbody>\n",
       "    <tr>\n",
       "      <th>2020-12-31 23:00:00</th>\n",
       "      <td>1.147</td>\n",
       "      <td>308</td>\n",
       "      <td>84</td>\n",
       "      <td>1.058</td>\n",
       "      <td>0</td>\n",
       "      <td>55</td>\n",
       "      <td>2.034</td>\n",
       "      <td>2.899</td>\n",
       "      <td>937</td>\n",
       "      <td>1.402</td>\n",
       "      <td>73</td>\n",
       "      <td>358</td>\n",
       "    </tr>\n",
       "    <tr>\n",
       "      <th>2020-12-31 23:15:00</th>\n",
       "      <td>1.145</td>\n",
       "      <td>301</td>\n",
       "      <td>88</td>\n",
       "      <td>1.025</td>\n",
       "      <td>0</td>\n",
       "      <td>55</td>\n",
       "      <td>2.036</td>\n",
       "      <td>2.905</td>\n",
       "      <td>872</td>\n",
       "      <td>1.416</td>\n",
       "      <td>95</td>\n",
       "      <td>358</td>\n",
       "    </tr>\n",
       "    <tr>\n",
       "      <th>2020-12-31 23:30:00</th>\n",
       "      <td>1.138</td>\n",
       "      <td>299</td>\n",
       "      <td>101</td>\n",
       "      <td>955</td>\n",
       "      <td>0</td>\n",
       "      <td>55</td>\n",
       "      <td>2.037</td>\n",
       "      <td>2.904</td>\n",
       "      <td>829</td>\n",
       "      <td>1.419</td>\n",
       "      <td>82</td>\n",
       "      <td>356</td>\n",
       "    </tr>\n",
       "    <tr>\n",
       "      <th>2020-12-31 23:45:00</th>\n",
       "      <td>1.139</td>\n",
       "      <td>298</td>\n",
       "      <td>108</td>\n",
       "      <td>931</td>\n",
       "      <td>0</td>\n",
       "      <td>55</td>\n",
       "      <td>2.038</td>\n",
       "      <td>2.901</td>\n",
       "      <td>805</td>\n",
       "      <td>1.412</td>\n",
       "      <td>98</td>\n",
       "      <td>354</td>\n",
       "    </tr>\n",
       "    <tr>\n",
       "      <th>2021-01-01 00:00:00</th>\n",
       "      <td>1.138</td>\n",
       "      <td>310</td>\n",
       "      <td>105</td>\n",
       "      <td>943</td>\n",
       "      <td>0</td>\n",
       "      <td>55</td>\n",
       "      <td>2.038</td>\n",
       "      <td>2.911</td>\n",
       "      <td>785</td>\n",
       "      <td>1.363</td>\n",
       "      <td>125</td>\n",
       "      <td>357</td>\n",
       "    </tr>\n",
       "  </tbody>\n",
       "</table>\n",
       "</div>"
      ]
     },
     "metadata": {},
     "execution_count": 159
    }
   ],
   "metadata": {}
  },
  {
   "cell_type": "code",
   "execution_count": 160,
   "source": [
    "# Print the type of each variable in the dataframe\n",
    "df.info()"
   ],
   "outputs": [
    {
     "output_type": "stream",
     "name": "stdout",
     "text": [
      "<class 'pandas.core.frame.DataFrame'>\n",
      "DatetimeIndex: 17372 entries, 2020-12-31 23:00:00 to 2021-06-30 21:45:00\n",
      "Data columns (total 12 columns):\n",
      " #   Column                        Non-Null Count  Dtype \n",
      "---  ------                        --------------  ----- \n",
      " 0   Biomasse[MWh]                 17372 non-null  object\n",
      " 1   Wasserkraft[MWh]              17372 non-null  int64 \n",
      " 2   Wind Offshore[MWh]            17372 non-null  object\n",
      " 3   Wind Onshore[MWh]             17372 non-null  object\n",
      " 4   Photovoltaik[MWh]             17372 non-null  object\n",
      " 5   Sonstige Erneuerbare[MWh]     17372 non-null  int64 \n",
      " 6   Kernenergie[MWh]              17372 non-null  object\n",
      " 7   Braunkohle[MWh]               17372 non-null  object\n",
      " 8   Steinkohle[MWh]               17372 non-null  object\n",
      " 9   Erdgas[MWh]                   17372 non-null  object\n",
      " 10  Pumpspeicher[MWh]             17372 non-null  object\n",
      " 11  Sonstige Konventionelle[MWh]  17372 non-null  int64 \n",
      "dtypes: int64(3), object(9)\n",
      "memory usage: 1.7+ MB\n"
     ]
    }
   ],
   "metadata": {}
  },
  {
   "cell_type": "markdown",
   "source": [
    "Not all columns are numerical type. For futher work we need to convert them to numerical type."
   ],
   "metadata": {}
  },
  {
   "cell_type": "code",
   "execution_count": 161,
   "source": [
    "df[df['Erdgas[MWh]'].str.contains(\"-\")].shape[0]"
   ],
   "outputs": [
    {
     "output_type": "execute_result",
     "data": {
      "text/plain": [
       "288"
      ]
     },
     "metadata": {},
     "execution_count": 161
    }
   ],
   "metadata": {}
  },
  {
   "cell_type": "markdown",
   "source": [
    "The column \"Erdgas[MWh]\" has strings with the value \"-\". We replace them with the numerical value \"0\"."
   ],
   "metadata": {}
  },
  {
   "cell_type": "code",
   "execution_count": 162,
   "source": [
    "df[\"Erdgas[MWh]\"] = df[\"Erdgas[MWh]\"].replace(\"-\", int(0))"
   ],
   "outputs": [],
   "metadata": {}
  },
  {
   "cell_type": "markdown",
   "source": [
    "Now we can convert all values to a numerical tpye."
   ],
   "metadata": {}
  },
  {
   "cell_type": "code",
   "execution_count": 163,
   "source": [
    "df = df.astype(\"float32\", copy=False)\n",
    "df.dtypes"
   ],
   "outputs": [
    {
     "output_type": "execute_result",
     "data": {
      "text/plain": [
       "Biomasse[MWh]                   float32\n",
       "Wasserkraft[MWh]                float32\n",
       "Wind Offshore[MWh]              float32\n",
       "Wind Onshore[MWh]               float32\n",
       "Photovoltaik[MWh]               float32\n",
       "Sonstige Erneuerbare[MWh]       float32\n",
       "Kernenergie[MWh]                float32\n",
       "Braunkohle[MWh]                 float32\n",
       "Steinkohle[MWh]                 float32\n",
       "Erdgas[MWh]                     float32\n",
       "Pumpspeicher[MWh]               float32\n",
       "Sonstige Konventionelle[MWh]    float32\n",
       "dtype: object"
      ]
     },
     "metadata": {},
     "execution_count": 163
    }
   ],
   "metadata": {}
  },
  {
   "cell_type": "markdown",
   "source": [
    "At this point, we like to implement a feature that sums up the total supplied energy, which is the sum of all columns."
   ],
   "metadata": {}
  },
  {
   "cell_type": "code",
   "execution_count": 164,
   "source": [
    "df['rel_total'] = df.sum(axis=1)"
   ],
   "outputs": [],
   "metadata": {}
  },
  {
   "cell_type": "markdown",
   "source": [
    "The data is typically published with a delay of 2 hours. We need to shif them by 8 rows, because the time delta of two rows are 15 min."
   ],
   "metadata": {}
  },
  {
   "cell_type": "code",
   "execution_count": 165,
   "source": [
    "df = df.shift(periods=8)"
   ],
   "outputs": [],
   "metadata": {}
  },
  {
   "cell_type": "code",
   "execution_count": 166,
   "source": [
    "df_real_prov = df.copy()"
   ],
   "outputs": [],
   "metadata": {}
  },
  {
   "cell_type": "code",
   "execution_count": 167,
   "source": [
    "df_real_prov.head()"
   ],
   "outputs": [
    {
     "output_type": "execute_result",
     "data": {
      "text/plain": [
       "                     Biomasse[MWh]  Wasserkraft[MWh]  Wind Offshore[MWh]  \\\n",
       "dt_start_utc                                                               \n",
       "2020-12-31 23:00:00            NaN               NaN                 NaN   \n",
       "2020-12-31 23:15:00            NaN               NaN                 NaN   \n",
       "2020-12-31 23:30:00            NaN               NaN                 NaN   \n",
       "2020-12-31 23:45:00            NaN               NaN                 NaN   \n",
       "2021-01-01 00:00:00            NaN               NaN                 NaN   \n",
       "\n",
       "                     Wind Onshore[MWh]  Photovoltaik[MWh]  \\\n",
       "dt_start_utc                                                \n",
       "2020-12-31 23:00:00                NaN                NaN   \n",
       "2020-12-31 23:15:00                NaN                NaN   \n",
       "2020-12-31 23:30:00                NaN                NaN   \n",
       "2020-12-31 23:45:00                NaN                NaN   \n",
       "2021-01-01 00:00:00                NaN                NaN   \n",
       "\n",
       "                     Sonstige Erneuerbare[MWh]  Kernenergie[MWh]  \\\n",
       "dt_start_utc                                                       \n",
       "2020-12-31 23:00:00                        NaN               NaN   \n",
       "2020-12-31 23:15:00                        NaN               NaN   \n",
       "2020-12-31 23:30:00                        NaN               NaN   \n",
       "2020-12-31 23:45:00                        NaN               NaN   \n",
       "2021-01-01 00:00:00                        NaN               NaN   \n",
       "\n",
       "                     Braunkohle[MWh]  Steinkohle[MWh]  Erdgas[MWh]  \\\n",
       "dt_start_utc                                                         \n",
       "2020-12-31 23:00:00              NaN              NaN          NaN   \n",
       "2020-12-31 23:15:00              NaN              NaN          NaN   \n",
       "2020-12-31 23:30:00              NaN              NaN          NaN   \n",
       "2020-12-31 23:45:00              NaN              NaN          NaN   \n",
       "2021-01-01 00:00:00              NaN              NaN          NaN   \n",
       "\n",
       "                     Pumpspeicher[MWh]  Sonstige Konventionelle[MWh]  \\\n",
       "dt_start_utc                                                           \n",
       "2020-12-31 23:00:00                NaN                           NaN   \n",
       "2020-12-31 23:15:00                NaN                           NaN   \n",
       "2020-12-31 23:30:00                NaN                           NaN   \n",
       "2020-12-31 23:45:00                NaN                           NaN   \n",
       "2021-01-01 00:00:00                NaN                           NaN   \n",
       "\n",
       "                     rel_total  \n",
       "dt_start_utc                    \n",
       "2020-12-31 23:00:00        NaN  \n",
       "2020-12-31 23:15:00        NaN  \n",
       "2020-12-31 23:30:00        NaN  \n",
       "2020-12-31 23:45:00        NaN  \n",
       "2021-01-01 00:00:00        NaN  "
      ],
      "text/html": [
       "<div>\n",
       "<style scoped>\n",
       "    .dataframe tbody tr th:only-of-type {\n",
       "        vertical-align: middle;\n",
       "    }\n",
       "\n",
       "    .dataframe tbody tr th {\n",
       "        vertical-align: top;\n",
       "    }\n",
       "\n",
       "    .dataframe thead th {\n",
       "        text-align: right;\n",
       "    }\n",
       "</style>\n",
       "<table border=\"1\" class=\"dataframe\">\n",
       "  <thead>\n",
       "    <tr style=\"text-align: right;\">\n",
       "      <th></th>\n",
       "      <th>Biomasse[MWh]</th>\n",
       "      <th>Wasserkraft[MWh]</th>\n",
       "      <th>Wind Offshore[MWh]</th>\n",
       "      <th>Wind Onshore[MWh]</th>\n",
       "      <th>Photovoltaik[MWh]</th>\n",
       "      <th>Sonstige Erneuerbare[MWh]</th>\n",
       "      <th>Kernenergie[MWh]</th>\n",
       "      <th>Braunkohle[MWh]</th>\n",
       "      <th>Steinkohle[MWh]</th>\n",
       "      <th>Erdgas[MWh]</th>\n",
       "      <th>Pumpspeicher[MWh]</th>\n",
       "      <th>Sonstige Konventionelle[MWh]</th>\n",
       "      <th>rel_total</th>\n",
       "    </tr>\n",
       "    <tr>\n",
       "      <th>dt_start_utc</th>\n",
       "      <th></th>\n",
       "      <th></th>\n",
       "      <th></th>\n",
       "      <th></th>\n",
       "      <th></th>\n",
       "      <th></th>\n",
       "      <th></th>\n",
       "      <th></th>\n",
       "      <th></th>\n",
       "      <th></th>\n",
       "      <th></th>\n",
       "      <th></th>\n",
       "      <th></th>\n",
       "    </tr>\n",
       "  </thead>\n",
       "  <tbody>\n",
       "    <tr>\n",
       "      <th>2020-12-31 23:00:00</th>\n",
       "      <td>NaN</td>\n",
       "      <td>NaN</td>\n",
       "      <td>NaN</td>\n",
       "      <td>NaN</td>\n",
       "      <td>NaN</td>\n",
       "      <td>NaN</td>\n",
       "      <td>NaN</td>\n",
       "      <td>NaN</td>\n",
       "      <td>NaN</td>\n",
       "      <td>NaN</td>\n",
       "      <td>NaN</td>\n",
       "      <td>NaN</td>\n",
       "      <td>NaN</td>\n",
       "    </tr>\n",
       "    <tr>\n",
       "      <th>2020-12-31 23:15:00</th>\n",
       "      <td>NaN</td>\n",
       "      <td>NaN</td>\n",
       "      <td>NaN</td>\n",
       "      <td>NaN</td>\n",
       "      <td>NaN</td>\n",
       "      <td>NaN</td>\n",
       "      <td>NaN</td>\n",
       "      <td>NaN</td>\n",
       "      <td>NaN</td>\n",
       "      <td>NaN</td>\n",
       "      <td>NaN</td>\n",
       "      <td>NaN</td>\n",
       "      <td>NaN</td>\n",
       "    </tr>\n",
       "    <tr>\n",
       "      <th>2020-12-31 23:30:00</th>\n",
       "      <td>NaN</td>\n",
       "      <td>NaN</td>\n",
       "      <td>NaN</td>\n",
       "      <td>NaN</td>\n",
       "      <td>NaN</td>\n",
       "      <td>NaN</td>\n",
       "      <td>NaN</td>\n",
       "      <td>NaN</td>\n",
       "      <td>NaN</td>\n",
       "      <td>NaN</td>\n",
       "      <td>NaN</td>\n",
       "      <td>NaN</td>\n",
       "      <td>NaN</td>\n",
       "    </tr>\n",
       "    <tr>\n",
       "      <th>2020-12-31 23:45:00</th>\n",
       "      <td>NaN</td>\n",
       "      <td>NaN</td>\n",
       "      <td>NaN</td>\n",
       "      <td>NaN</td>\n",
       "      <td>NaN</td>\n",
       "      <td>NaN</td>\n",
       "      <td>NaN</td>\n",
       "      <td>NaN</td>\n",
       "      <td>NaN</td>\n",
       "      <td>NaN</td>\n",
       "      <td>NaN</td>\n",
       "      <td>NaN</td>\n",
       "      <td>NaN</td>\n",
       "    </tr>\n",
       "    <tr>\n",
       "      <th>2021-01-01 00:00:00</th>\n",
       "      <td>NaN</td>\n",
       "      <td>NaN</td>\n",
       "      <td>NaN</td>\n",
       "      <td>NaN</td>\n",
       "      <td>NaN</td>\n",
       "      <td>NaN</td>\n",
       "      <td>NaN</td>\n",
       "      <td>NaN</td>\n",
       "      <td>NaN</td>\n",
       "      <td>NaN</td>\n",
       "      <td>NaN</td>\n",
       "      <td>NaN</td>\n",
       "      <td>NaN</td>\n",
       "    </tr>\n",
       "  </tbody>\n",
       "</table>\n",
       "</div>"
      ]
     },
     "metadata": {},
     "execution_count": 167
    }
   ],
   "metadata": {}
  },
  {
   "cell_type": "markdown",
   "source": [
    "## Merge "
   ],
   "metadata": {}
  },
  {
   "cell_type": "markdown",
   "source": [
    "We merge booth data frames to a single dataframe"
   ],
   "metadata": {}
  },
  {
   "cell_type": "code",
   "execution_count": 168,
   "source": [
    "df_merge = df_prog_cons.merge(df_real_prov, left_index=True, right_index=True)"
   ],
   "outputs": [],
   "metadata": {}
  },
  {
   "cell_type": "code",
   "execution_count": 169,
   "source": [
    "df_merge.head()"
   ],
   "outputs": [
    {
     "output_type": "execute_result",
     "data": {
      "text/plain": [
       "                     50Hertz_power_mw  DE_power_mw  DK_power_mw  DK1_power_mw  \\\n",
       "dt_start_utc                                                                    \n",
       "2020-12-31 23:00:00            1616.0       3821.0        227.0          84.0   \n",
       "2020-12-31 23:15:00            1552.0       3708.0        227.0          84.0   \n",
       "2020-12-31 23:30:00            1495.0       3598.0        227.0          84.0   \n",
       "2020-12-31 23:45:00            1442.0       3488.0        227.0          84.0   \n",
       "2021-01-01 00:00:00            1392.0       3378.0        184.0          70.0   \n",
       "\n",
       "                     TTG_power_mw  total_pred_cons  Biomasse[MWh]  \\\n",
       "dt_start_utc                                                        \n",
       "2020-12-31 23:00:00        1437.0           7185.0            NaN   \n",
       "2020-12-31 23:15:00        1391.0           6962.0            NaN   \n",
       "2020-12-31 23:30:00        1344.0           6748.0            NaN   \n",
       "2020-12-31 23:45:00        1297.0           6538.0            NaN   \n",
       "2021-01-01 00:00:00        1248.0           6272.0            NaN   \n",
       "\n",
       "                     Wasserkraft[MWh]  Wind Offshore[MWh]  Wind Onshore[MWh]  \\\n",
       "dt_start_utc                                                                   \n",
       "2020-12-31 23:00:00               NaN                 NaN                NaN   \n",
       "2020-12-31 23:15:00               NaN                 NaN                NaN   \n",
       "2020-12-31 23:30:00               NaN                 NaN                NaN   \n",
       "2020-12-31 23:45:00               NaN                 NaN                NaN   \n",
       "2021-01-01 00:00:00               NaN                 NaN                NaN   \n",
       "\n",
       "                     Photovoltaik[MWh]  Sonstige Erneuerbare[MWh]  \\\n",
       "dt_start_utc                                                        \n",
       "2020-12-31 23:00:00                NaN                        NaN   \n",
       "2020-12-31 23:15:00                NaN                        NaN   \n",
       "2020-12-31 23:30:00                NaN                        NaN   \n",
       "2020-12-31 23:45:00                NaN                        NaN   \n",
       "2021-01-01 00:00:00                NaN                        NaN   \n",
       "\n",
       "                     Kernenergie[MWh]  Braunkohle[MWh]  Steinkohle[MWh]  \\\n",
       "dt_start_utc                                                              \n",
       "2020-12-31 23:00:00               NaN              NaN              NaN   \n",
       "2020-12-31 23:15:00               NaN              NaN              NaN   \n",
       "2020-12-31 23:30:00               NaN              NaN              NaN   \n",
       "2020-12-31 23:45:00               NaN              NaN              NaN   \n",
       "2021-01-01 00:00:00               NaN              NaN              NaN   \n",
       "\n",
       "                     Erdgas[MWh]  Pumpspeicher[MWh]  \\\n",
       "dt_start_utc                                          \n",
       "2020-12-31 23:00:00          NaN                NaN   \n",
       "2020-12-31 23:15:00          NaN                NaN   \n",
       "2020-12-31 23:30:00          NaN                NaN   \n",
       "2020-12-31 23:45:00          NaN                NaN   \n",
       "2021-01-01 00:00:00          NaN                NaN   \n",
       "\n",
       "                     Sonstige Konventionelle[MWh]  rel_total  \n",
       "dt_start_utc                                                  \n",
       "2020-12-31 23:00:00                           NaN        NaN  \n",
       "2020-12-31 23:15:00                           NaN        NaN  \n",
       "2020-12-31 23:30:00                           NaN        NaN  \n",
       "2020-12-31 23:45:00                           NaN        NaN  \n",
       "2021-01-01 00:00:00                           NaN        NaN  "
      ],
      "text/html": [
       "<div>\n",
       "<style scoped>\n",
       "    .dataframe tbody tr th:only-of-type {\n",
       "        vertical-align: middle;\n",
       "    }\n",
       "\n",
       "    .dataframe tbody tr th {\n",
       "        vertical-align: top;\n",
       "    }\n",
       "\n",
       "    .dataframe thead th {\n",
       "        text-align: right;\n",
       "    }\n",
       "</style>\n",
       "<table border=\"1\" class=\"dataframe\">\n",
       "  <thead>\n",
       "    <tr style=\"text-align: right;\">\n",
       "      <th></th>\n",
       "      <th>50Hertz_power_mw</th>\n",
       "      <th>DE_power_mw</th>\n",
       "      <th>DK_power_mw</th>\n",
       "      <th>DK1_power_mw</th>\n",
       "      <th>TTG_power_mw</th>\n",
       "      <th>total_pred_cons</th>\n",
       "      <th>Biomasse[MWh]</th>\n",
       "      <th>Wasserkraft[MWh]</th>\n",
       "      <th>Wind Offshore[MWh]</th>\n",
       "      <th>Wind Onshore[MWh]</th>\n",
       "      <th>Photovoltaik[MWh]</th>\n",
       "      <th>Sonstige Erneuerbare[MWh]</th>\n",
       "      <th>Kernenergie[MWh]</th>\n",
       "      <th>Braunkohle[MWh]</th>\n",
       "      <th>Steinkohle[MWh]</th>\n",
       "      <th>Erdgas[MWh]</th>\n",
       "      <th>Pumpspeicher[MWh]</th>\n",
       "      <th>Sonstige Konventionelle[MWh]</th>\n",
       "      <th>rel_total</th>\n",
       "    </tr>\n",
       "    <tr>\n",
       "      <th>dt_start_utc</th>\n",
       "      <th></th>\n",
       "      <th></th>\n",
       "      <th></th>\n",
       "      <th></th>\n",
       "      <th></th>\n",
       "      <th></th>\n",
       "      <th></th>\n",
       "      <th></th>\n",
       "      <th></th>\n",
       "      <th></th>\n",
       "      <th></th>\n",
       "      <th></th>\n",
       "      <th></th>\n",
       "      <th></th>\n",
       "      <th></th>\n",
       "      <th></th>\n",
       "      <th></th>\n",
       "      <th></th>\n",
       "      <th></th>\n",
       "    </tr>\n",
       "  </thead>\n",
       "  <tbody>\n",
       "    <tr>\n",
       "      <th>2020-12-31 23:00:00</th>\n",
       "      <td>1616.0</td>\n",
       "      <td>3821.0</td>\n",
       "      <td>227.0</td>\n",
       "      <td>84.0</td>\n",
       "      <td>1437.0</td>\n",
       "      <td>7185.0</td>\n",
       "      <td>NaN</td>\n",
       "      <td>NaN</td>\n",
       "      <td>NaN</td>\n",
       "      <td>NaN</td>\n",
       "      <td>NaN</td>\n",
       "      <td>NaN</td>\n",
       "      <td>NaN</td>\n",
       "      <td>NaN</td>\n",
       "      <td>NaN</td>\n",
       "      <td>NaN</td>\n",
       "      <td>NaN</td>\n",
       "      <td>NaN</td>\n",
       "      <td>NaN</td>\n",
       "    </tr>\n",
       "    <tr>\n",
       "      <th>2020-12-31 23:15:00</th>\n",
       "      <td>1552.0</td>\n",
       "      <td>3708.0</td>\n",
       "      <td>227.0</td>\n",
       "      <td>84.0</td>\n",
       "      <td>1391.0</td>\n",
       "      <td>6962.0</td>\n",
       "      <td>NaN</td>\n",
       "      <td>NaN</td>\n",
       "      <td>NaN</td>\n",
       "      <td>NaN</td>\n",
       "      <td>NaN</td>\n",
       "      <td>NaN</td>\n",
       "      <td>NaN</td>\n",
       "      <td>NaN</td>\n",
       "      <td>NaN</td>\n",
       "      <td>NaN</td>\n",
       "      <td>NaN</td>\n",
       "      <td>NaN</td>\n",
       "      <td>NaN</td>\n",
       "    </tr>\n",
       "    <tr>\n",
       "      <th>2020-12-31 23:30:00</th>\n",
       "      <td>1495.0</td>\n",
       "      <td>3598.0</td>\n",
       "      <td>227.0</td>\n",
       "      <td>84.0</td>\n",
       "      <td>1344.0</td>\n",
       "      <td>6748.0</td>\n",
       "      <td>NaN</td>\n",
       "      <td>NaN</td>\n",
       "      <td>NaN</td>\n",
       "      <td>NaN</td>\n",
       "      <td>NaN</td>\n",
       "      <td>NaN</td>\n",
       "      <td>NaN</td>\n",
       "      <td>NaN</td>\n",
       "      <td>NaN</td>\n",
       "      <td>NaN</td>\n",
       "      <td>NaN</td>\n",
       "      <td>NaN</td>\n",
       "      <td>NaN</td>\n",
       "    </tr>\n",
       "    <tr>\n",
       "      <th>2020-12-31 23:45:00</th>\n",
       "      <td>1442.0</td>\n",
       "      <td>3488.0</td>\n",
       "      <td>227.0</td>\n",
       "      <td>84.0</td>\n",
       "      <td>1297.0</td>\n",
       "      <td>6538.0</td>\n",
       "      <td>NaN</td>\n",
       "      <td>NaN</td>\n",
       "      <td>NaN</td>\n",
       "      <td>NaN</td>\n",
       "      <td>NaN</td>\n",
       "      <td>NaN</td>\n",
       "      <td>NaN</td>\n",
       "      <td>NaN</td>\n",
       "      <td>NaN</td>\n",
       "      <td>NaN</td>\n",
       "      <td>NaN</td>\n",
       "      <td>NaN</td>\n",
       "      <td>NaN</td>\n",
       "    </tr>\n",
       "    <tr>\n",
       "      <th>2021-01-01 00:00:00</th>\n",
       "      <td>1392.0</td>\n",
       "      <td>3378.0</td>\n",
       "      <td>184.0</td>\n",
       "      <td>70.0</td>\n",
       "      <td>1248.0</td>\n",
       "      <td>6272.0</td>\n",
       "      <td>NaN</td>\n",
       "      <td>NaN</td>\n",
       "      <td>NaN</td>\n",
       "      <td>NaN</td>\n",
       "      <td>NaN</td>\n",
       "      <td>NaN</td>\n",
       "      <td>NaN</td>\n",
       "      <td>NaN</td>\n",
       "      <td>NaN</td>\n",
       "      <td>NaN</td>\n",
       "      <td>NaN</td>\n",
       "      <td>NaN</td>\n",
       "      <td>NaN</td>\n",
       "    </tr>\n",
       "  </tbody>\n",
       "</table>\n",
       "</div>"
      ]
     },
     "metadata": {},
     "execution_count": 169
    }
   ],
   "metadata": {}
  },
  {
   "cell_type": "markdown",
   "source": [
    "We create a new feature. The difference between forcasted consumption and supplied power."
   ],
   "metadata": {}
  },
  {
   "cell_type": "code",
   "execution_count": 170,
   "source": [
    "df_merge.eval(\"diff_prog_real = total_pred_cons - rel_total\", inplace=True)"
   ],
   "outputs": [],
   "metadata": {}
  },
  {
   "cell_type": "markdown",
   "source": [
    "## Save Data Set"
   ],
   "metadata": {}
  },
  {
   "cell_type": "markdown",
   "source": [
    "For further work we save the data frame as a \"pickle\"."
   ],
   "metadata": {}
  },
  {
   "cell_type": "code",
   "execution_count": 172,
   "source": [
    "df_merge.to_pickle('../data/pickle/df_merged_1.pickle')"
   ],
   "outputs": [],
   "metadata": {}
  }
 ],
 "metadata": {
  "kernelspec": {
   "name": "python3",
   "display_name": "Python 3.8.5 64-bit ('.venv': venv)"
  },
  "language_info": {
   "codemirror_mode": {
    "name": "ipython",
    "version": 3
   },
   "file_extension": ".py",
   "mimetype": "text/x-python",
   "name": "python",
   "nbconvert_exporter": "python",
   "pygments_lexer": "ipython3",
   "version": "3.8.5"
  },
  "interpreter": {
   "hash": "c3b88ade08e7e5c458f75e647914a1f8383074144cd24084ca5ecc64490d7249"
  }
 },
 "nbformat": 4,
 "nbformat_minor": 5
}