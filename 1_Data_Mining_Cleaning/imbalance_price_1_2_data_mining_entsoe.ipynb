{
 "cells": [
  {
   "cell_type": "markdown",
   "id": "09a32ecc",
   "metadata": {},
   "source": [
    "## Data origin :: entsoe"
   ]
  },
  {
   "cell_type": "markdown",
   "id": "0c84edbe",
   "metadata": {},
   "source": [
    "The origin for this data is the transparency platform \"entsoe\". It's a central collection and publiaction of electricity generation, transportation and consumption data and information for the pan-European market. The url for the following data is: https://transparency.entsoe.eu/balancing/r2/imbalance/show\n"
   ]
  },
  {
   "cell_type": "markdown",
   "id": "50874bfd",
   "metadata": {},
   "source": [
    "### Original features"
   ]
  },
  {
   "cell_type": "markdown",
   "id": "ed2c9a68",
   "metadata": {},
   "source": [
    "The instances represent article orders. The given features are as follows:"
   ]
  },
  {
   "cell_type": "markdown",
   "id": "e1878e2c",
   "metadata": {},
   "source": [
    "## Part 1: Data mining"
   ]
  },
  {
   "cell_type": "markdown",
   "id": "09c9023e",
   "metadata": {},
   "source": [
    "We import the data set, explore it briefly, drop duplicates and unused features and cast the data types."
   ]
  },
  {
   "cell_type": "markdown",
   "id": "2cc10de0",
   "metadata": {},
   "source": [
    "## Imports"
   ]
  },
  {
   "cell_type": "markdown",
   "id": "d3fbd868",
   "metadata": {},
   "source": [
    "### Modules, classes and functions"
   ]
  },
  {
   "cell_type": "code",
   "execution_count": 614,
   "id": "dc0e3f10",
   "metadata": {},
   "outputs": [],
   "source": [
    "import datetime, time, os\n",
    "import matplotlib.pyplot as plt\n",
    "import numpy as np\n",
    "import pandas as pd\n",
    "import seaborn as sns\n",
    "import pandas as pd\n",
    "import glob\n",
    "from pandas_profiling import ProfileReport\n",
    "import json\n",
    "\n",
    "from cesium import datasets\n",
    "\n",
    "from functools import reduce\n",
    "\n",
    "from sklearn.preprocessing import StandardScaler\n",
    "from sklearn.linear_model import LinearRegression\n",
    "from sklearn.metrics import mean_absolute_error, mean_squared_error\n",
    "\n",
    "# Make numpy printouts easier to read.\n",
    "np.set_printoptions(precision=3, suppress=True)\n",
    "\n",
    "from datetime import datetime, timezone, timedelta\n",
    "\n",
    "resample_size = \"15MIN\"\n",
    "resample_factor = 15\n",
    "\n",
    "#windowfactor = 15\n",
    "\n",
    "import warnings"
   ]
  },
  {
   "cell_type": "code",
   "execution_count": 615,
   "id": "9620e84b",
   "metadata": {},
   "outputs": [],
   "source": [
    "def cleaningcolumns(df):\n",
    "    \n",
    "    df.rename(str.lower, axis='columns', inplace=True)\n",
    "    df.columns = df.columns.str.replace('(', '')\n",
    "    df.columns = df.columns.str.replace(')', '')\n",
    "    df.columns = df.columns.str.replace(' ','')\n",
    "    df.columns = df.columns.str.replace('-','')\n",
    "    df.columns = df.columns.str.replace('|','')\n",
    "    df.columns = df.columns.str.replace(']','')\n",
    "    df.columns = df.columns.str.replace('[','')\n",
    "    df.columns = df.columns.str.replace('+','plus')\n",
    "    df.columns = df.columns.str.replace('-','minus')\n",
    "    df.columns = df.columns.str.replace('/','')"
   ]
  },
  {
   "cell_type": "markdown",
   "id": "ee30ffe8",
   "metadata": {},
   "source": [
    "## Import Previous Data "
   ]
  },
  {
   "cell_type": "code",
   "execution_count": 616,
   "id": "424057a1",
   "metadata": {},
   "outputs": [],
   "source": [
    "df_merged_1 = pd.read_pickle('data/pickle/df_merged_1.pickle')"
   ]
  },
  {
   "cell_type": "markdown",
   "id": "ef87c30a",
   "metadata": {},
   "source": [
    "## Data"
   ]
  },
  {
   "cell_type": "markdown",
   "id": "01bec42c",
   "metadata": {},
   "source": [
    "We import our data, which is available in a single csv file, in a dataframe."
   ]
  },
  {
   "cell_type": "code",
   "execution_count": 617,
   "id": "00f435c5",
   "metadata": {},
   "outputs": [
    {
     "name": "stderr",
     "output_type": "stream",
     "text": [
      "/var/folders/x_/rjggxhdx2j5ch0bl5gfg01480000gn/T/ipykernel_649/2980905474.py:11: FutureWarning: The default value of regex will change from True to False in a future version. In addition, single character regular expressions will*not* be treated as literal strings when regex=True.\n",
      "  df_imbalance_de.columns = df_imbalance_de.columns.str.replace('|','')\n",
      "/var/folders/x_/rjggxhdx2j5ch0bl5gfg01480000gn/T/ipykernel_649/2980905474.py:12: FutureWarning: The default value of regex will change from True to False in a future version. In addition, single character regular expressions will*not* be treated as literal strings when regex=True.\n",
      "  df_imbalance_de.columns = df_imbalance_de.columns.str.replace(']','')\n",
      "/var/folders/x_/rjggxhdx2j5ch0bl5gfg01480000gn/T/ipykernel_649/2980905474.py:13: FutureWarning: The default value of regex will change from True to False in a future version. In addition, single character regular expressions will*not* be treated as literal strings when regex=True.\n",
      "  df_imbalance_de.columns = df_imbalance_de.columns.str.replace('[','')\n",
      "/var/folders/x_/rjggxhdx2j5ch0bl5gfg01480000gn/T/ipykernel_649/2980905474.py:14: FutureWarning: The default value of regex will change from True to False in a future version. In addition, single character regular expressions will*not* be treated as literal strings when regex=True.\n",
      "  df_imbalance_de.columns = df_imbalance_de.columns.str.replace('+','plus')\n"
     ]
    }
   ],
   "source": [
    "df_imbalance_de = pd.read_csv(\"data/entsoe/df_imbalance_de.csv\")\n",
    "\n",
    "new = df_imbalance_de[\"Imbalance settlement period (UTC)\"].str.split(\" - \", n=2, expand=True)\n",
    "\n",
    "df_imbalance_de[\"dt_start_utc\"]= new[0]\n",
    "df_imbalance_de[\"dt_start_utc\"] = pd.to_datetime(df_imbalance_de[\"dt_start_utc\"], dayfirst=True)\n",
    "df_imbalance_de.set_index('dt_start_utc', inplace=True)\n",
    "\n",
    "df_imbalance_de.columns = df_imbalance_de.columns.str.replace(' ','')\n",
    "df_imbalance_de.columns = df_imbalance_de.columns.str.replace('-','')\n",
    "df_imbalance_de.columns = df_imbalance_de.columns.str.replace('|','')\n",
    "df_imbalance_de.columns = df_imbalance_de.columns.str.replace(']','')\n",
    "df_imbalance_de.columns = df_imbalance_de.columns.str.replace('[','')\n",
    "df_imbalance_de.columns = df_imbalance_de.columns.str.replace('+','plus')\n",
    "df_imbalance_de.columns = df_imbalance_de.columns.str.replace('-','minus')\n",
    "df_imbalance_de.columns = df_imbalance_de.columns.str.replace('/','')"
   ]
  },
  {
   "cell_type": "code",
   "execution_count": 618,
   "id": "475c6217",
   "metadata": {},
   "outputs": [
    {
     "data": {
      "text/html": [
       "<div>\n",
       "<style scoped>\n",
       "    .dataframe tbody tr th:only-of-type {\n",
       "        vertical-align: middle;\n",
       "    }\n",
       "\n",
       "    .dataframe tbody tr th {\n",
       "        vertical-align: top;\n",
       "    }\n",
       "\n",
       "    .dataframe thead th {\n",
       "        text-align: right;\n",
       "    }\n",
       "</style>\n",
       "<table border=\"1\" class=\"dataframe\">\n",
       "  <thead>\n",
       "    <tr style=\"text-align: right;\">\n",
       "      <th></th>\n",
       "      <th>Imbalancesettlementperiod(UTC)</th>\n",
       "      <th>plusImbalancePriceEURMWhMBADELU</th>\n",
       "      <th>ImbalancePriceEURMWhMBADELU</th>\n",
       "      <th>Status</th>\n",
       "      <th>TotalImbalanceMWhMBADELU</th>\n",
       "      <th>Difference</th>\n",
       "      <th>Situation</th>\n",
       "      <th>Status.1</th>\n",
       "    </tr>\n",
       "    <tr>\n",
       "      <th>dt_start_utc</th>\n",
       "      <th></th>\n",
       "      <th></th>\n",
       "      <th></th>\n",
       "      <th></th>\n",
       "      <th></th>\n",
       "      <th></th>\n",
       "      <th></th>\n",
       "      <th></th>\n",
       "    </tr>\n",
       "  </thead>\n",
       "  <tbody>\n",
       "    <tr>\n",
       "      <th>2021-01-01 00:00:00</th>\n",
       "      <td>01.01.2021 00:00 - 01.01.2021 00:15</td>\n",
       "      <td>96.09</td>\n",
       "      <td>96.09</td>\n",
       "      <td>Final</td>\n",
       "      <td>52</td>\n",
       "      <td>NaN</td>\n",
       "      <td>Deficit</td>\n",
       "      <td>Intermediate</td>\n",
       "    </tr>\n",
       "    <tr>\n",
       "      <th>2021-01-01 00:15:00</th>\n",
       "      <td>01.01.2021 00:15 - 01.01.2021 00:30</td>\n",
       "      <td>94.62</td>\n",
       "      <td>94.62</td>\n",
       "      <td>Final</td>\n",
       "      <td>7</td>\n",
       "      <td>NaN</td>\n",
       "      <td>Deficit</td>\n",
       "      <td>Intermediate</td>\n",
       "    </tr>\n",
       "    <tr>\n",
       "      <th>2021-01-01 00:30:00</th>\n",
       "      <td>01.01.2021 00:30 - 01.01.2021 00:45</td>\n",
       "      <td>92.21</td>\n",
       "      <td>92.21</td>\n",
       "      <td>Final</td>\n",
       "      <td>13</td>\n",
       "      <td>NaN</td>\n",
       "      <td>Deficit</td>\n",
       "      <td>Intermediate</td>\n",
       "    </tr>\n",
       "    <tr>\n",
       "      <th>2021-01-01 00:45:00</th>\n",
       "      <td>01.01.2021 00:45 - 01.01.2021 01:00</td>\n",
       "      <td>27.64</td>\n",
       "      <td>27.64</td>\n",
       "      <td>Final</td>\n",
       "      <td>38</td>\n",
       "      <td>NaN</td>\n",
       "      <td>Surplus</td>\n",
       "      <td>Intermediate</td>\n",
       "    </tr>\n",
       "    <tr>\n",
       "      <th>2021-01-01 01:00:00</th>\n",
       "      <td>01.01.2021 01:00 - 01.01.2021 01:15</td>\n",
       "      <td>13.71</td>\n",
       "      <td>13.71</td>\n",
       "      <td>Final</td>\n",
       "      <td>17</td>\n",
       "      <td>NaN</td>\n",
       "      <td>Surplus</td>\n",
       "      <td>Intermediate</td>\n",
       "    </tr>\n",
       "  </tbody>\n",
       "</table>\n",
       "</div>"
      ],
      "text/plain": [
       "                          Imbalancesettlementperiod(UTC)  \\\n",
       "dt_start_utc                                               \n",
       "2021-01-01 00:00:00  01.01.2021 00:00 - 01.01.2021 00:15   \n",
       "2021-01-01 00:15:00  01.01.2021 00:15 - 01.01.2021 00:30   \n",
       "2021-01-01 00:30:00  01.01.2021 00:30 - 01.01.2021 00:45   \n",
       "2021-01-01 00:45:00  01.01.2021 00:45 - 01.01.2021 01:00   \n",
       "2021-01-01 01:00:00  01.01.2021 01:00 - 01.01.2021 01:15   \n",
       "\n",
       "                     plusImbalancePriceEURMWhMBADELU  \\\n",
       "dt_start_utc                                           \n",
       "2021-01-01 00:00:00                            96.09   \n",
       "2021-01-01 00:15:00                            94.62   \n",
       "2021-01-01 00:30:00                            92.21   \n",
       "2021-01-01 00:45:00                            27.64   \n",
       "2021-01-01 01:00:00                            13.71   \n",
       "\n",
       "                     ImbalancePriceEURMWhMBADELU Status  \\\n",
       "dt_start_utc                                              \n",
       "2021-01-01 00:00:00                        96.09  Final   \n",
       "2021-01-01 00:15:00                        94.62  Final   \n",
       "2021-01-01 00:30:00                        92.21  Final   \n",
       "2021-01-01 00:45:00                        27.64  Final   \n",
       "2021-01-01 01:00:00                        13.71  Final   \n",
       "\n",
       "                     TotalImbalanceMWhMBADELU  Difference Situation  \\\n",
       "dt_start_utc                                                          \n",
       "2021-01-01 00:00:00                        52         NaN   Deficit   \n",
       "2021-01-01 00:15:00                         7         NaN   Deficit   \n",
       "2021-01-01 00:30:00                        13         NaN   Deficit   \n",
       "2021-01-01 00:45:00                        38         NaN   Surplus   \n",
       "2021-01-01 01:00:00                        17         NaN   Surplus   \n",
       "\n",
       "                         Status.1  \n",
       "dt_start_utc                       \n",
       "2021-01-01 00:00:00  Intermediate  \n",
       "2021-01-01 00:15:00  Intermediate  \n",
       "2021-01-01 00:30:00  Intermediate  \n",
       "2021-01-01 00:45:00  Intermediate  \n",
       "2021-01-01 01:00:00  Intermediate  "
      ]
     },
     "execution_count": 618,
     "metadata": {},
     "output_type": "execute_result"
    }
   ],
   "source": [
    "df_imbalance_de.head()"
   ]
  },
  {
   "cell_type": "code",
   "execution_count": 619,
   "id": "c4ceb672",
   "metadata": {},
   "outputs": [],
   "source": [
    "df_imbalance_de.loc[df_imbalance_de.Situation == \"Deficit\", 'Situation'] = int(-1)\n",
    "df_imbalance_de.loc[df_imbalance_de.Situation == \"Surplus\", 'Situation'] = int(1)\n",
    "df_imbalance_de.loc[df_imbalance_de.Situation == \"Balanced\", 'Situation'] = int(0)\n",
    "\n",
    "df_imbalance_de[\"Situation\"] = df_imbalance_de[\"Situation\"].astype('int64')\n",
    "\n",
    "\n",
    "#pd.to_numeric(df_imbalance_de.Situation)\n",
    "\n",
    "#df_imbalance_de\n",
    "\n",
    "\n"
   ]
  },
  {
   "cell_type": "code",
   "execution_count": 620,
   "id": "af21dbaf",
   "metadata": {},
   "outputs": [
    {
     "data": {
      "text/plain": [
       "Imbalancesettlementperiod(UTC)      object\n",
       "plusImbalancePriceEURMWhMBADELU    float64\n",
       "ImbalancePriceEURMWhMBADELU        float64\n",
       "Status                              object\n",
       "TotalImbalanceMWhMBADELU             int64\n",
       "Difference                         float64\n",
       "Situation                            int64\n",
       "Status.1                            object\n",
       "dtype: object"
      ]
     },
     "execution_count": 620,
     "metadata": {},
     "output_type": "execute_result"
    }
   ],
   "source": [
    "df_imbalance_de.dtypes"
   ]
  },
  {
   "cell_type": "code",
   "execution_count": 621,
   "id": "37dc391e",
   "metadata": {},
   "outputs": [
    {
     "data": {
      "text/plain": [
       "dt_start_utc\n",
       "2021-01-01 00:00:00    52\n",
       "2021-01-01 00:15:00     7\n",
       "2021-01-01 00:30:00    13\n",
       "2021-01-01 00:45:00    38\n",
       "2021-01-01 01:00:00    17\n",
       "                       ..\n",
       "2021-06-30 20:45:00    57\n",
       "2021-06-30 21:00:00     4\n",
       "2021-06-30 21:15:00    62\n",
       "2021-06-30 21:30:00    11\n",
       "2021-06-30 21:45:00    44\n",
       "Name: TotalImbalanceMWhMBADELU, Length: 17368, dtype: int64"
      ]
     },
     "execution_count": 621,
     "metadata": {},
     "output_type": "execute_result"
    }
   ],
   "source": [
    "pd.to_numeric(df_imbalance_de.TotalImbalanceMWhMBADELU)"
   ]
  },
  {
   "cell_type": "code",
   "execution_count": 622,
   "id": "ffbc0ed5",
   "metadata": {},
   "outputs": [
    {
     "data": {
      "text/plain": [
       "array([-1,  1,  0])"
      ]
     },
     "execution_count": 622,
     "metadata": {},
     "output_type": "execute_result"
    }
   ],
   "source": [
    "df_imbalance_de.Situation.unique()"
   ]
  },
  {
   "cell_type": "code",
   "execution_count": 623,
   "id": "4f64aae0",
   "metadata": {},
   "outputs": [
    {
     "data": {
      "text/plain": [
       "dt_start_utc\n",
       "2021-01-01 00:00:00   -1\n",
       "2021-01-01 00:15:00   -1\n",
       "2021-01-01 00:30:00   -1\n",
       "2021-01-01 00:45:00    1\n",
       "2021-01-01 01:00:00    1\n",
       "                      ..\n",
       "2021-06-30 20:45:00   -1\n",
       "2021-06-30 21:00:00    1\n",
       "2021-06-30 21:15:00   -1\n",
       "2021-06-30 21:30:00   -1\n",
       "2021-06-30 21:45:00    1\n",
       "Name: Situation, Length: 17368, dtype: int64"
      ]
     },
     "execution_count": 623,
     "metadata": {},
     "output_type": "execute_result"
    }
   ],
   "source": [
    "pd.to_numeric(df_imbalance_de.Situation)"
   ]
  },
  {
   "cell_type": "code",
   "execution_count": 624,
   "id": "be3bf394",
   "metadata": {},
   "outputs": [],
   "source": [
    "df_imbalance_de.eval(\"rz_saldo_mwh = Situation * TotalImbalanceMWhMBADELU\", inplace=True)"
   ]
  },
  {
   "cell_type": "code",
   "execution_count": 625,
   "id": "2373e2aa",
   "metadata": {},
   "outputs": [],
   "source": [
    "df_imbalance_de.eval(\"temp = plusImbalancePriceEURMWhMBADELU - ImbalancePriceEURMWhMBADELU\", inplace=True)"
   ]
  },
  {
   "cell_type": "code",
   "execution_count": 626,
   "id": "5608eb8e",
   "metadata": {},
   "outputs": [
    {
     "data": {
      "text/plain": [
       "1"
      ]
     },
     "execution_count": 626,
     "metadata": {},
     "output_type": "execute_result"
    }
   ],
   "source": [
    "df_imbalance_de[\"temp\"].nunique()"
   ]
  },
  {
   "cell_type": "code",
   "execution_count": 627,
   "id": "165e61b6",
   "metadata": {},
   "outputs": [
    {
     "data": {
      "text/plain": [
       "Index(['Imbalancesettlementperiod(UTC)', 'plusImbalancePriceEURMWhMBADELU',\n",
       "       'ImbalancePriceEURMWhMBADELU', 'Status', 'TotalImbalanceMWhMBADELU',\n",
       "       'Difference', 'Situation', 'Status.1', 'rz_saldo_mwh', 'temp'],\n",
       "      dtype='object')"
      ]
     },
     "execution_count": 627,
     "metadata": {},
     "output_type": "execute_result"
    }
   ],
   "source": [
    "df_imbalance_de.columns"
   ]
  },
  {
   "cell_type": "code",
   "execution_count": 628,
   "id": "2f7c0bca",
   "metadata": {},
   "outputs": [],
   "source": [
    "df_imbalance_de.drop(['Imbalancesettlementperiod(UTC)', 'Status',\n",
    "                      \"ImbalancePriceEURMWhMBADELU\",\n",
    "                      \"TotalImbalanceMWhMBADELU\", \"Difference\", \n",
    "                      \"Situation\", \"Status.1\", \"temp\"], axis=1, inplace=True)\n",
    "\n"
   ]
  },
  {
   "cell_type": "code",
   "execution_count": 629,
   "id": "df78ed7f",
   "metadata": {},
   "outputs": [
    {
     "data": {
      "text/html": [
       "<div>\n",
       "<style scoped>\n",
       "    .dataframe tbody tr th:only-of-type {\n",
       "        vertical-align: middle;\n",
       "    }\n",
       "\n",
       "    .dataframe tbody tr th {\n",
       "        vertical-align: top;\n",
       "    }\n",
       "\n",
       "    .dataframe thead th {\n",
       "        text-align: right;\n",
       "    }\n",
       "</style>\n",
       "<table border=\"1\" class=\"dataframe\">\n",
       "  <thead>\n",
       "    <tr style=\"text-align: right;\">\n",
       "      <th></th>\n",
       "      <th>plusImbalancePriceEURMWhMBADELU</th>\n",
       "      <th>rz_saldo_mwh</th>\n",
       "    </tr>\n",
       "    <tr>\n",
       "      <th>dt_start_utc</th>\n",
       "      <th></th>\n",
       "      <th></th>\n",
       "    </tr>\n",
       "  </thead>\n",
       "  <tbody>\n",
       "    <tr>\n",
       "      <th>2021-01-01 00:00:00</th>\n",
       "      <td>96.09</td>\n",
       "      <td>-52</td>\n",
       "    </tr>\n",
       "    <tr>\n",
       "      <th>2021-01-01 00:15:00</th>\n",
       "      <td>94.62</td>\n",
       "      <td>-7</td>\n",
       "    </tr>\n",
       "    <tr>\n",
       "      <th>2021-01-01 00:30:00</th>\n",
       "      <td>92.21</td>\n",
       "      <td>-13</td>\n",
       "    </tr>\n",
       "    <tr>\n",
       "      <th>2021-01-01 00:45:00</th>\n",
       "      <td>27.64</td>\n",
       "      <td>38</td>\n",
       "    </tr>\n",
       "    <tr>\n",
       "      <th>2021-01-01 01:00:00</th>\n",
       "      <td>13.71</td>\n",
       "      <td>17</td>\n",
       "    </tr>\n",
       "  </tbody>\n",
       "</table>\n",
       "</div>"
      ],
      "text/plain": [
       "                     plusImbalancePriceEURMWhMBADELU  rz_saldo_mwh\n",
       "dt_start_utc                                                      \n",
       "2021-01-01 00:00:00                            96.09           -52\n",
       "2021-01-01 00:15:00                            94.62            -7\n",
       "2021-01-01 00:30:00                            92.21           -13\n",
       "2021-01-01 00:45:00                            27.64            38\n",
       "2021-01-01 01:00:00                            13.71            17"
      ]
     },
     "execution_count": 629,
     "metadata": {},
     "output_type": "execute_result"
    }
   ],
   "source": [
    "df_imbalance_de.head()"
   ]
  },
  {
   "cell_type": "code",
   "execution_count": 630,
   "id": "e1596ef5",
   "metadata": {},
   "outputs": [
    {
     "data": {
      "text/html": [
       "<div>\n",
       "<style scoped>\n",
       "    .dataframe tbody tr th:only-of-type {\n",
       "        vertical-align: middle;\n",
       "    }\n",
       "\n",
       "    .dataframe tbody tr th {\n",
       "        vertical-align: top;\n",
       "    }\n",
       "\n",
       "    .dataframe thead th {\n",
       "        text-align: right;\n",
       "    }\n",
       "</style>\n",
       "<table border=\"1\" class=\"dataframe\">\n",
       "  <thead>\n",
       "    <tr style=\"text-align: right;\">\n",
       "      <th></th>\n",
       "      <th>rebap_eur_mwh</th>\n",
       "      <th>rz_saldo_mwh</th>\n",
       "    </tr>\n",
       "    <tr>\n",
       "      <th>dt_start_utc</th>\n",
       "      <th></th>\n",
       "      <th></th>\n",
       "    </tr>\n",
       "  </thead>\n",
       "  <tbody>\n",
       "    <tr>\n",
       "      <th>2021-01-01 00:00:00</th>\n",
       "      <td>96.09</td>\n",
       "      <td>-52</td>\n",
       "    </tr>\n",
       "    <tr>\n",
       "      <th>2021-01-01 00:15:00</th>\n",
       "      <td>94.62</td>\n",
       "      <td>-7</td>\n",
       "    </tr>\n",
       "    <tr>\n",
       "      <th>2021-01-01 00:30:00</th>\n",
       "      <td>92.21</td>\n",
       "      <td>-13</td>\n",
       "    </tr>\n",
       "    <tr>\n",
       "      <th>2021-01-01 00:45:00</th>\n",
       "      <td>27.64</td>\n",
       "      <td>38</td>\n",
       "    </tr>\n",
       "    <tr>\n",
       "      <th>2021-01-01 01:00:00</th>\n",
       "      <td>13.71</td>\n",
       "      <td>17</td>\n",
       "    </tr>\n",
       "    <tr>\n",
       "      <th>...</th>\n",
       "      <td>...</td>\n",
       "      <td>...</td>\n",
       "    </tr>\n",
       "    <tr>\n",
       "      <th>2021-06-30 20:45:00</th>\n",
       "      <td>119.06</td>\n",
       "      <td>-57</td>\n",
       "    </tr>\n",
       "    <tr>\n",
       "      <th>2021-06-30 21:00:00</th>\n",
       "      <td>3.10</td>\n",
       "      <td>4</td>\n",
       "    </tr>\n",
       "    <tr>\n",
       "      <th>2021-06-30 21:15:00</th>\n",
       "      <td>125.68</td>\n",
       "      <td>-62</td>\n",
       "    </tr>\n",
       "    <tr>\n",
       "      <th>2021-06-30 21:30:00</th>\n",
       "      <td>100.92</td>\n",
       "      <td>-11</td>\n",
       "    </tr>\n",
       "    <tr>\n",
       "      <th>2021-06-30 21:45:00</th>\n",
       "      <td>-19.88</td>\n",
       "      <td>44</td>\n",
       "    </tr>\n",
       "  </tbody>\n",
       "</table>\n",
       "<p>17368 rows × 2 columns</p>\n",
       "</div>"
      ],
      "text/plain": [
       "                     rebap_eur_mwh  rz_saldo_mwh\n",
       "dt_start_utc                                    \n",
       "2021-01-01 00:00:00          96.09           -52\n",
       "2021-01-01 00:15:00          94.62            -7\n",
       "2021-01-01 00:30:00          92.21           -13\n",
       "2021-01-01 00:45:00          27.64            38\n",
       "2021-01-01 01:00:00          13.71            17\n",
       "...                            ...           ...\n",
       "2021-06-30 20:45:00         119.06           -57\n",
       "2021-06-30 21:00:00           3.10             4\n",
       "2021-06-30 21:15:00         125.68           -62\n",
       "2021-06-30 21:30:00         100.92           -11\n",
       "2021-06-30 21:45:00         -19.88            44\n",
       "\n",
       "[17368 rows x 2 columns]"
      ]
     },
     "execution_count": 630,
     "metadata": {},
     "output_type": "execute_result"
    }
   ],
   "source": [
    "\n",
    "\n",
    "df_imbalance_de.rename(columns={\"plusImbalancePriceEURMWhMBADELU\": \"rebap_eur_mwh\"\n",
    "                              },inplace=True)\n",
    "\n",
    "df_imbalance_de"
   ]
  },
  {
   "cell_type": "code",
   "execution_count": null,
   "id": "6ccaece1",
   "metadata": {},
   "outputs": [],
   "source": []
  },
  {
   "cell_type": "markdown",
   "id": "aafc4d41",
   "metadata": {},
   "source": [
    "## First exploration"
   ]
  },
  {
   "cell_type": "markdown",
   "id": "dc5cdbed",
   "metadata": {},
   "source": [
    "We check whether the import worked as expected."
   ]
  },
  {
   "cell_type": "markdown",
   "id": "1173fb6d",
   "metadata": {},
   "source": [
    "We want to unify the timezones in all our data set to UTC. The origin timezone is CET and we just need substract one our of the datetime column."
   ]
  },
  {
   "cell_type": "markdown",
   "id": "5e53e812",
   "metadata": {},
   "source": [
    "The next step is to transfer columns with an numerical character to an numerical type and rename them to a shorter name."
   ]
  },
  {
   "cell_type": "markdown",
   "id": "3d373967",
   "metadata": {},
   "source": [
    "To keep the dataframe lean, we simplfiy \"rzpuls\" and \"rzminus\" to a single \"rz_saldo\" column and drop both from the dataframe"
   ]
  },
  {
   "cell_type": "markdown",
   "id": "1e1bff8a",
   "metadata": {},
   "source": [
    "We can't indentify any duplicates. There's not need to take action. Now we can set the date column to index."
   ]
  },
  {
   "cell_type": "code",
   "execution_count": 631,
   "id": "ee4c974c",
   "metadata": {},
   "outputs": [
    {
     "name": "stdout",
     "output_type": "stream",
     "text": [
      "2021-01-01 00:00:00\n",
      "2021-06-30 21:45:00\n",
      "True\n"
     ]
    }
   ],
   "source": [
    "#df_imbalance_de = df_imbalance_de.copy()\n",
    "print (df_imbalance_de.index.min())\n",
    "print (df_imbalance_de.index.max())\n",
    "print (df_imbalance_de.index.is_unique)\n",
    "#df_imbalance_de.to_csv(\"test_df_imbalance_de.csv\")"
   ]
  },
  {
   "cell_type": "code",
   "execution_count": 632,
   "id": "6af3f3b1",
   "metadata": {},
   "outputs": [],
   "source": [
    "#df_imbalance_de.duplicated().sum()"
   ]
  },
  {
   "cell_type": "code",
   "execution_count": 633,
   "id": "373c3807",
   "metadata": {},
   "outputs": [
    {
     "name": "stdout",
     "output_type": "stream",
     "text": [
      "The data frame contains 0 infinite values and 0 missing values.\n"
     ]
    }
   ],
   "source": [
    "count_inf = np.isinf(df_imbalance_de).values.sum()\n",
    "count_nan = df_imbalance_de.isnull().sum().sum()\n",
    "print(\"The data frame contains \" + str(count_inf) + \" infinite values and \" + str(count_nan) + \" missing values.\")"
   ]
  },
  {
   "cell_type": "code",
   "execution_count": 634,
   "id": "757158dc",
   "metadata": {},
   "outputs": [
    {
     "data": {
      "text/plain": [
       "(17368, 2)"
      ]
     },
     "execution_count": 634,
     "metadata": {},
     "output_type": "execute_result"
    }
   ],
   "source": [
    "df_imbalance_de.shape"
   ]
  },
  {
   "cell_type": "code",
   "execution_count": 635,
   "id": "65eab048",
   "metadata": {},
   "outputs": [
    {
     "data": {
      "text/html": [
       "<div>\n",
       "<style scoped>\n",
       "    .dataframe tbody tr th:only-of-type {\n",
       "        vertical-align: middle;\n",
       "    }\n",
       "\n",
       "    .dataframe tbody tr th {\n",
       "        vertical-align: top;\n",
       "    }\n",
       "\n",
       "    .dataframe thead th {\n",
       "        text-align: right;\n",
       "    }\n",
       "</style>\n",
       "<table border=\"1\" class=\"dataframe\">\n",
       "  <thead>\n",
       "    <tr style=\"text-align: right;\">\n",
       "      <th></th>\n",
       "      <th>rebap_eur_mwh</th>\n",
       "      <th>rz_saldo_mwh</th>\n",
       "    </tr>\n",
       "    <tr>\n",
       "      <th>dt_start_utc</th>\n",
       "      <th></th>\n",
       "      <th></th>\n",
       "    </tr>\n",
       "  </thead>\n",
       "  <tbody>\n",
       "    <tr>\n",
       "      <th>2021-06-30 20:45:00</th>\n",
       "      <td>119.06</td>\n",
       "      <td>-57</td>\n",
       "    </tr>\n",
       "    <tr>\n",
       "      <th>2021-06-30 21:00:00</th>\n",
       "      <td>3.10</td>\n",
       "      <td>4</td>\n",
       "    </tr>\n",
       "    <tr>\n",
       "      <th>2021-06-30 21:15:00</th>\n",
       "      <td>125.68</td>\n",
       "      <td>-62</td>\n",
       "    </tr>\n",
       "    <tr>\n",
       "      <th>2021-06-30 21:30:00</th>\n",
       "      <td>100.92</td>\n",
       "      <td>-11</td>\n",
       "    </tr>\n",
       "    <tr>\n",
       "      <th>2021-06-30 21:45:00</th>\n",
       "      <td>-19.88</td>\n",
       "      <td>44</td>\n",
       "    </tr>\n",
       "  </tbody>\n",
       "</table>\n",
       "</div>"
      ],
      "text/plain": [
       "                     rebap_eur_mwh  rz_saldo_mwh\n",
       "dt_start_utc                                    \n",
       "2021-06-30 20:45:00         119.06           -57\n",
       "2021-06-30 21:00:00           3.10             4\n",
       "2021-06-30 21:15:00         125.68           -62\n",
       "2021-06-30 21:30:00         100.92           -11\n",
       "2021-06-30 21:45:00         -19.88            44"
      ]
     },
     "execution_count": 635,
     "metadata": {},
     "output_type": "execute_result"
    }
   ],
   "source": [
    "df_imbalance_de.tail()"
   ]
  },
  {
   "cell_type": "markdown",
   "id": "f0d890bb",
   "metadata": {},
   "source": [
    "## Implement Real Life Time Delays to Data Frame"
   ]
  },
  {
   "cell_type": "markdown",
   "id": "2fb3cf05",
   "metadata": {},
   "source": [
    "In real life, the balancing energie value is published with an delay of 30 mins. We remodeling this situation by shifting this column by two rows, which is equivalent to 30 mins."
   ]
  },
  {
   "cell_type": "code",
   "execution_count": 636,
   "id": "556c9061",
   "metadata": {},
   "outputs": [],
   "source": [
    "df_imbalance_de[\"rz_saldo_mwh\"] = df_imbalance_de[\"rz_saldo_mwh\"].shift(periods=2)"
   ]
  },
  {
   "cell_type": "code",
   "execution_count": 637,
   "id": "25559d99",
   "metadata": {},
   "outputs": [],
   "source": [
    "#df_imbalance_de.resample(resample_size).agg({'rebap_eur_mwh': np.interp, 'rz_saldo_mwh': np.mean})"
   ]
  },
  {
   "cell_type": "code",
   "execution_count": 638,
   "id": "bf96c146",
   "metadata": {},
   "outputs": [],
   "source": [
    "df_rz = df_imbalance_de.drop('rebap_eur_mwh', axis=1)"
   ]
  },
  {
   "cell_type": "code",
   "execution_count": 639,
   "id": "8e0878b5",
   "metadata": {},
   "outputs": [],
   "source": [
    "#df_rz.tail()"
   ]
  },
  {
   "cell_type": "code",
   "execution_count": 640,
   "id": "a087b597",
   "metadata": {},
   "outputs": [
    {
     "name": "stdout",
     "output_type": "stream",
     "text": [
      "The data frame contains 0 infinite values and 2 missing values.\n"
     ]
    }
   ],
   "source": [
    "count_inf = np.isinf(df_imbalance_de).values.sum()\n",
    "count_nan = df_imbalance_de.isnull().sum().sum()\n",
    "print(\"The data frame contains \" + str(count_inf) + \" infinite values and \" + str(count_nan) + \" missing values.\")"
   ]
  },
  {
   "cell_type": "code",
   "execution_count": 641,
   "id": "dc53c538",
   "metadata": {},
   "outputs": [],
   "source": [
    "#df_rz.fillna(0)"
   ]
  },
  {
   "cell_type": "code",
   "execution_count": 642,
   "id": "4938efc1",
   "metadata": {},
   "outputs": [
    {
     "data": {
      "text/plain": [
       "16591"
      ]
     },
     "execution_count": 642,
     "metadata": {},
     "output_type": "execute_result"
    }
   ],
   "source": [
    "df_rz[\"rz_saldo_mwh\"].duplicated().sum()"
   ]
  },
  {
   "cell_type": "code",
   "execution_count": 643,
   "id": "00291241",
   "metadata": {},
   "outputs": [],
   "source": [
    "df_rz= df_rz[~df_rz.index.duplicated(keep='first')]"
   ]
  },
  {
   "cell_type": "code",
   "execution_count": 644,
   "id": "58448407",
   "metadata": {},
   "outputs": [
    {
     "data": {
      "text/plain": [
       "(17368, 1)"
      ]
     },
     "execution_count": 644,
     "metadata": {},
     "output_type": "execute_result"
    }
   ],
   "source": [
    "df_rz.shape"
   ]
  },
  {
   "cell_type": "code",
   "execution_count": 645,
   "id": "30ff36ef",
   "metadata": {},
   "outputs": [],
   "source": [
    "#df_rz = df_rz.resample(resample_size).interpolate(method='polynomial', order=2)"
   ]
  },
  {
   "cell_type": "code",
   "execution_count": 646,
   "id": "860ef85c",
   "metadata": {},
   "outputs": [
    {
     "data": {
      "text/html": [
       "<div>\n",
       "<style scoped>\n",
       "    .dataframe tbody tr th:only-of-type {\n",
       "        vertical-align: middle;\n",
       "    }\n",
       "\n",
       "    .dataframe tbody tr th {\n",
       "        vertical-align: top;\n",
       "    }\n",
       "\n",
       "    .dataframe thead th {\n",
       "        text-align: right;\n",
       "    }\n",
       "</style>\n",
       "<table border=\"1\" class=\"dataframe\">\n",
       "  <thead>\n",
       "    <tr style=\"text-align: right;\">\n",
       "      <th></th>\n",
       "      <th>rz_saldo_mwh</th>\n",
       "    </tr>\n",
       "    <tr>\n",
       "      <th>dt_start_utc</th>\n",
       "      <th></th>\n",
       "    </tr>\n",
       "  </thead>\n",
       "  <tbody>\n",
       "    <tr>\n",
       "      <th>2021-01-01 00:00:00</th>\n",
       "      <td>NaN</td>\n",
       "    </tr>\n",
       "    <tr>\n",
       "      <th>2021-01-01 00:15:00</th>\n",
       "      <td>NaN</td>\n",
       "    </tr>\n",
       "    <tr>\n",
       "      <th>2021-01-01 00:30:00</th>\n",
       "      <td>-52.0</td>\n",
       "    </tr>\n",
       "    <tr>\n",
       "      <th>2021-01-01 00:45:00</th>\n",
       "      <td>-7.0</td>\n",
       "    </tr>\n",
       "    <tr>\n",
       "      <th>2021-01-01 01:00:00</th>\n",
       "      <td>-13.0</td>\n",
       "    </tr>\n",
       "  </tbody>\n",
       "</table>\n",
       "</div>"
      ],
      "text/plain": [
       "                     rz_saldo_mwh\n",
       "dt_start_utc                     \n",
       "2021-01-01 00:00:00           NaN\n",
       "2021-01-01 00:15:00           NaN\n",
       "2021-01-01 00:30:00         -52.0\n",
       "2021-01-01 00:45:00          -7.0\n",
       "2021-01-01 01:00:00         -13.0"
      ]
     },
     "execution_count": 646,
     "metadata": {},
     "output_type": "execute_result"
    }
   ],
   "source": [
    "df_rz.head()"
   ]
  },
  {
   "cell_type": "code",
   "execution_count": 647,
   "id": "96d447fc",
   "metadata": {},
   "outputs": [],
   "source": [
    "df_imbalance_de.drop('rz_saldo_mwh', axis=1, inplace=True)"
   ]
  },
  {
   "cell_type": "code",
   "execution_count": 648,
   "id": "973d8623",
   "metadata": {},
   "outputs": [
    {
     "data": {
      "text/html": [
       "<div>\n",
       "<style scoped>\n",
       "    .dataframe tbody tr th:only-of-type {\n",
       "        vertical-align: middle;\n",
       "    }\n",
       "\n",
       "    .dataframe tbody tr th {\n",
       "        vertical-align: top;\n",
       "    }\n",
       "\n",
       "    .dataframe thead th {\n",
       "        text-align: right;\n",
       "    }\n",
       "</style>\n",
       "<table border=\"1\" class=\"dataframe\">\n",
       "  <thead>\n",
       "    <tr style=\"text-align: right;\">\n",
       "      <th></th>\n",
       "      <th>rebap_eur_mwh</th>\n",
       "    </tr>\n",
       "    <tr>\n",
       "      <th>dt_start_utc</th>\n",
       "      <th></th>\n",
       "    </tr>\n",
       "  </thead>\n",
       "  <tbody>\n",
       "    <tr>\n",
       "      <th>2021-06-30 20:45:00</th>\n",
       "      <td>119.06</td>\n",
       "    </tr>\n",
       "    <tr>\n",
       "      <th>2021-06-30 21:00:00</th>\n",
       "      <td>3.10</td>\n",
       "    </tr>\n",
       "    <tr>\n",
       "      <th>2021-06-30 21:15:00</th>\n",
       "      <td>125.68</td>\n",
       "    </tr>\n",
       "    <tr>\n",
       "      <th>2021-06-30 21:30:00</th>\n",
       "      <td>100.92</td>\n",
       "    </tr>\n",
       "    <tr>\n",
       "      <th>2021-06-30 21:45:00</th>\n",
       "      <td>-19.88</td>\n",
       "    </tr>\n",
       "  </tbody>\n",
       "</table>\n",
       "</div>"
      ],
      "text/plain": [
       "                     rebap_eur_mwh\n",
       "dt_start_utc                      \n",
       "2021-06-30 20:45:00         119.06\n",
       "2021-06-30 21:00:00           3.10\n",
       "2021-06-30 21:15:00         125.68\n",
       "2021-06-30 21:30:00         100.92\n",
       "2021-06-30 21:45:00         -19.88"
      ]
     },
     "execution_count": 648,
     "metadata": {},
     "output_type": "execute_result"
    }
   ],
   "source": [
    "df_imbalance_de.tail()"
   ]
  },
  {
   "cell_type": "code",
   "execution_count": 649,
   "id": "45074128",
   "metadata": {},
   "outputs": [],
   "source": [
    "#df_imbalance_de = df_imbalance_de[~df_imbalance_de.index.duplicated(keep='first')]"
   ]
  },
  {
   "cell_type": "code",
   "execution_count": 650,
   "id": "222f15b2",
   "metadata": {},
   "outputs": [],
   "source": [
    "#df_imbalance_de = df_imbalance_de.resample(resample_size).ffill();"
   ]
  },
  {
   "cell_type": "code",
   "execution_count": 651,
   "id": "9d6d00f4",
   "metadata": {},
   "outputs": [
    {
     "data": {
      "text/html": [
       "<div>\n",
       "<style scoped>\n",
       "    .dataframe tbody tr th:only-of-type {\n",
       "        vertical-align: middle;\n",
       "    }\n",
       "\n",
       "    .dataframe tbody tr th {\n",
       "        vertical-align: top;\n",
       "    }\n",
       "\n",
       "    .dataframe thead th {\n",
       "        text-align: right;\n",
       "    }\n",
       "</style>\n",
       "<table border=\"1\" class=\"dataframe\">\n",
       "  <thead>\n",
       "    <tr style=\"text-align: right;\">\n",
       "      <th></th>\n",
       "      <th>rebap_eur_mwh</th>\n",
       "    </tr>\n",
       "    <tr>\n",
       "      <th>dt_start_utc</th>\n",
       "      <th></th>\n",
       "    </tr>\n",
       "  </thead>\n",
       "  <tbody>\n",
       "    <tr>\n",
       "      <th>2021-06-30 18:15:00</th>\n",
       "      <td>134.91</td>\n",
       "    </tr>\n",
       "    <tr>\n",
       "      <th>2021-06-30 18:30:00</th>\n",
       "      <td>137.10</td>\n",
       "    </tr>\n",
       "    <tr>\n",
       "      <th>2021-06-30 18:45:00</th>\n",
       "      <td>136.11</td>\n",
       "    </tr>\n",
       "    <tr>\n",
       "      <th>2021-06-30 19:00:00</th>\n",
       "      <td>169.18</td>\n",
       "    </tr>\n",
       "    <tr>\n",
       "      <th>2021-06-30 19:15:00</th>\n",
       "      <td>172.76</td>\n",
       "    </tr>\n",
       "    <tr>\n",
       "      <th>2021-06-30 19:30:00</th>\n",
       "      <td>117.90</td>\n",
       "    </tr>\n",
       "    <tr>\n",
       "      <th>2021-06-30 19:45:00</th>\n",
       "      <td>135.15</td>\n",
       "    </tr>\n",
       "    <tr>\n",
       "      <th>2021-06-30 20:00:00</th>\n",
       "      <td>163.27</td>\n",
       "    </tr>\n",
       "    <tr>\n",
       "      <th>2021-06-30 20:15:00</th>\n",
       "      <td>123.92</td>\n",
       "    </tr>\n",
       "    <tr>\n",
       "      <th>2021-06-30 20:30:00</th>\n",
       "      <td>120.25</td>\n",
       "    </tr>\n",
       "    <tr>\n",
       "      <th>2021-06-30 20:45:00</th>\n",
       "      <td>119.06</td>\n",
       "    </tr>\n",
       "    <tr>\n",
       "      <th>2021-06-30 21:00:00</th>\n",
       "      <td>3.10</td>\n",
       "    </tr>\n",
       "    <tr>\n",
       "      <th>2021-06-30 21:15:00</th>\n",
       "      <td>125.68</td>\n",
       "    </tr>\n",
       "    <tr>\n",
       "      <th>2021-06-30 21:30:00</th>\n",
       "      <td>100.92</td>\n",
       "    </tr>\n",
       "    <tr>\n",
       "      <th>2021-06-30 21:45:00</th>\n",
       "      <td>-19.88</td>\n",
       "    </tr>\n",
       "  </tbody>\n",
       "</table>\n",
       "</div>"
      ],
      "text/plain": [
       "                     rebap_eur_mwh\n",
       "dt_start_utc                      \n",
       "2021-06-30 18:15:00         134.91\n",
       "2021-06-30 18:30:00         137.10\n",
       "2021-06-30 18:45:00         136.11\n",
       "2021-06-30 19:00:00         169.18\n",
       "2021-06-30 19:15:00         172.76\n",
       "2021-06-30 19:30:00         117.90\n",
       "2021-06-30 19:45:00         135.15\n",
       "2021-06-30 20:00:00         163.27\n",
       "2021-06-30 20:15:00         123.92\n",
       "2021-06-30 20:30:00         120.25\n",
       "2021-06-30 20:45:00         119.06\n",
       "2021-06-30 21:00:00           3.10\n",
       "2021-06-30 21:15:00         125.68\n",
       "2021-06-30 21:30:00         100.92\n",
       "2021-06-30 21:45:00         -19.88"
      ]
     },
     "execution_count": 651,
     "metadata": {},
     "output_type": "execute_result"
    }
   ],
   "source": [
    "df_imbalance_de.tail(15)"
   ]
  },
  {
   "cell_type": "code",
   "execution_count": 652,
   "id": "3b198c76",
   "metadata": {},
   "outputs": [],
   "source": [
    "df_imbalance_de.to_csv(\"check_df_imbalance_de.csv\")"
   ]
  },
  {
   "cell_type": "code",
   "execution_count": 653,
   "id": "edb591d4",
   "metadata": {},
   "outputs": [],
   "source": [
    "df_imbalance_de = df_imbalance_de.merge(df_rz, left_index=True, right_index=True)"
   ]
  },
  {
   "cell_type": "code",
   "execution_count": 654,
   "id": "2966ce40",
   "metadata": {},
   "outputs": [
    {
     "name": "stdout",
     "output_type": "stream",
     "text": [
      "The Data Frame has 2 missing values.\n"
     ]
    }
   ],
   "source": [
    "print(\"The Data Frame has\",df_imbalance_de.isnull().sum().sum(),\"missing values.\")"
   ]
  },
  {
   "cell_type": "code",
   "execution_count": 655,
   "id": "4a322448",
   "metadata": {},
   "outputs": [],
   "source": [
    "#df_imbalance_de.fillna(df_imbalance_de.median(), inplace=True)"
   ]
  },
  {
   "cell_type": "code",
   "execution_count": 656,
   "id": "4a88cd06",
   "metadata": {},
   "outputs": [
    {
     "data": {
      "text/html": [
       "<div>\n",
       "<style scoped>\n",
       "    .dataframe tbody tr th:only-of-type {\n",
       "        vertical-align: middle;\n",
       "    }\n",
       "\n",
       "    .dataframe tbody tr th {\n",
       "        vertical-align: top;\n",
       "    }\n",
       "\n",
       "    .dataframe thead th {\n",
       "        text-align: right;\n",
       "    }\n",
       "</style>\n",
       "<table border=\"1\" class=\"dataframe\">\n",
       "  <thead>\n",
       "    <tr style=\"text-align: right;\">\n",
       "      <th></th>\n",
       "      <th>rebap_eur_mwh</th>\n",
       "      <th>rz_saldo_mwh</th>\n",
       "    </tr>\n",
       "    <tr>\n",
       "      <th>dt_start_utc</th>\n",
       "      <th></th>\n",
       "      <th></th>\n",
       "    </tr>\n",
       "  </thead>\n",
       "  <tbody>\n",
       "    <tr>\n",
       "      <th>2021-01-01 00:00:00</th>\n",
       "      <td>96.09</td>\n",
       "      <td>NaN</td>\n",
       "    </tr>\n",
       "    <tr>\n",
       "      <th>2021-01-01 00:15:00</th>\n",
       "      <td>94.62</td>\n",
       "      <td>NaN</td>\n",
       "    </tr>\n",
       "    <tr>\n",
       "      <th>2021-01-01 00:30:00</th>\n",
       "      <td>92.21</td>\n",
       "      <td>-52.0</td>\n",
       "    </tr>\n",
       "    <tr>\n",
       "      <th>2021-01-01 00:45:00</th>\n",
       "      <td>27.64</td>\n",
       "      <td>-7.0</td>\n",
       "    </tr>\n",
       "    <tr>\n",
       "      <th>2021-01-01 01:00:00</th>\n",
       "      <td>13.71</td>\n",
       "      <td>-13.0</td>\n",
       "    </tr>\n",
       "    <tr>\n",
       "      <th>2021-01-01 01:15:00</th>\n",
       "      <td>11.99</td>\n",
       "      <td>38.0</td>\n",
       "    </tr>\n",
       "    <tr>\n",
       "      <th>2021-01-01 01:30:00</th>\n",
       "      <td>4.31</td>\n",
       "      <td>17.0</td>\n",
       "    </tr>\n",
       "    <tr>\n",
       "      <th>2021-01-01 01:45:00</th>\n",
       "      <td>-3.01</td>\n",
       "      <td>40.0</td>\n",
       "    </tr>\n",
       "    <tr>\n",
       "      <th>2021-01-01 02:00:00</th>\n",
       "      <td>2.22</td>\n",
       "      <td>64.0</td>\n",
       "    </tr>\n",
       "    <tr>\n",
       "      <th>2021-01-01 02:15:00</th>\n",
       "      <td>4.63</td>\n",
       "      <td>118.0</td>\n",
       "    </tr>\n",
       "  </tbody>\n",
       "</table>\n",
       "</div>"
      ],
      "text/plain": [
       "                     rebap_eur_mwh  rz_saldo_mwh\n",
       "dt_start_utc                                    \n",
       "2021-01-01 00:00:00          96.09           NaN\n",
       "2021-01-01 00:15:00          94.62           NaN\n",
       "2021-01-01 00:30:00          92.21         -52.0\n",
       "2021-01-01 00:45:00          27.64          -7.0\n",
       "2021-01-01 01:00:00          13.71         -13.0\n",
       "2021-01-01 01:15:00          11.99          38.0\n",
       "2021-01-01 01:30:00           4.31          17.0\n",
       "2021-01-01 01:45:00          -3.01          40.0\n",
       "2021-01-01 02:00:00           2.22          64.0\n",
       "2021-01-01 02:15:00           4.63         118.0"
      ]
     },
     "execution_count": 656,
     "metadata": {},
     "output_type": "execute_result"
    }
   ],
   "source": [
    "df_imbalance_de.head(10)"
   ]
  },
  {
   "cell_type": "code",
   "execution_count": 657,
   "id": "635cebed",
   "metadata": {},
   "outputs": [
    {
     "name": "stdout",
     "output_type": "stream",
     "text": [
      "The data frame has 2 missing values.\n"
     ]
    }
   ],
   "source": [
    "print(\"The data frame has\",df_imbalance_de.isnull().sum().sum(),\"missing values.\")"
   ]
  },
  {
   "cell_type": "code",
   "execution_count": 658,
   "id": "21a8820e",
   "metadata": {},
   "outputs": [],
   "source": [
    "df_imbalance_de.to_pickle('data/pickle/df_imbalance_de.pickle')"
   ]
  },
  {
   "cell_type": "markdown",
   "id": "67113c84",
   "metadata": {},
   "source": [
    "## 1.1 Import Belgium"
   ]
  },
  {
   "cell_type": "code",
   "execution_count": 659,
   "id": "524e7d19",
   "metadata": {},
   "outputs": [],
   "source": [
    "df = pd.read_csv(\"data/entsoe/Imbalance_Belgien.csv\")"
   ]
  },
  {
   "cell_type": "code",
   "execution_count": 660,
   "id": "5cc0da84",
   "metadata": {},
   "outputs": [],
   "source": [
    "df[['dt_start_utc','Last']] = df.dt_start_utc.str.split(\"-\", expand=True)"
   ]
  },
  {
   "cell_type": "code",
   "execution_count": 661,
   "id": "b4b599e9",
   "metadata": {},
   "outputs": [
    {
     "name": "stderr",
     "output_type": "stream",
     "text": [
      "/var/folders/x_/rjggxhdx2j5ch0bl5gfg01480000gn/T/ipykernel_649/2771464415.py:4: FutureWarning: The default value of regex will change from True to False in a future version. In addition, single character regular expressions will*not* be treated as literal strings when regex=True.\n",
      "  df.columns = df.columns.str.replace('(', '')\n",
      "/var/folders/x_/rjggxhdx2j5ch0bl5gfg01480000gn/T/ipykernel_649/2771464415.py:5: FutureWarning: The default value of regex will change from True to False in a future version. In addition, single character regular expressions will*not* be treated as literal strings when regex=True.\n",
      "  df.columns = df.columns.str.replace(')', '')\n",
      "/var/folders/x_/rjggxhdx2j5ch0bl5gfg01480000gn/T/ipykernel_649/2771464415.py:8: FutureWarning: The default value of regex will change from True to False in a future version. In addition, single character regular expressions will*not* be treated as literal strings when regex=True.\n",
      "  df.columns = df.columns.str.replace('|','')\n",
      "/var/folders/x_/rjggxhdx2j5ch0bl5gfg01480000gn/T/ipykernel_649/2771464415.py:9: FutureWarning: The default value of regex will change from True to False in a future version. In addition, single character regular expressions will*not* be treated as literal strings when regex=True.\n",
      "  df.columns = df.columns.str.replace(']','')\n",
      "/var/folders/x_/rjggxhdx2j5ch0bl5gfg01480000gn/T/ipykernel_649/2771464415.py:10: FutureWarning: The default value of regex will change from True to False in a future version. In addition, single character regular expressions will*not* be treated as literal strings when regex=True.\n",
      "  df.columns = df.columns.str.replace('[','')\n",
      "/var/folders/x_/rjggxhdx2j5ch0bl5gfg01480000gn/T/ipykernel_649/2771464415.py:11: FutureWarning: The default value of regex will change from True to False in a future version. In addition, single character regular expressions will*not* be treated as literal strings when regex=True.\n",
      "  df.columns = df.columns.str.replace('+','plus')\n"
     ]
    }
   ],
   "source": [
    "cleaningcolumns(df)"
   ]
  },
  {
   "cell_type": "code",
   "execution_count": 662,
   "id": "3fb60edd",
   "metadata": {},
   "outputs": [],
   "source": [
    "df.loc[df.situation == \"Deficit\", 'situation'] = int(-1)\n",
    "df.loc[df.situation == \"Surplus\", 'situation'] = int(1)\n",
    "df.loc[df.situation == \"Balanced\", 'situation'] = int(0)\n",
    "\n",
    "df[\"situation\"] = df[\"situation\"].astype('int64')"
   ]
  },
  {
   "cell_type": "code",
   "execution_count": 663,
   "id": "44d664fe",
   "metadata": {},
   "outputs": [
    {
     "data": {
      "text/html": [
       "<div>\n",
       "<style scoped>\n",
       "    .dataframe tbody tr th:only-of-type {\n",
       "        vertical-align: middle;\n",
       "    }\n",
       "\n",
       "    .dataframe tbody tr th {\n",
       "        vertical-align: top;\n",
       "    }\n",
       "\n",
       "    .dataframe thead th {\n",
       "        text-align: right;\n",
       "    }\n",
       "</style>\n",
       "<table border=\"1\" class=\"dataframe\">\n",
       "  <thead>\n",
       "    <tr style=\"text-align: right;\">\n",
       "      <th></th>\n",
       "      <th>dt_start_utc</th>\n",
       "      <th>plusimbalancepriceeurmwhscabe</th>\n",
       "      <th>imbalancepriceeurmwhscabe</th>\n",
       "      <th>status</th>\n",
       "      <th>totalimbalancemwhscabe</th>\n",
       "      <th>difference</th>\n",
       "      <th>situation</th>\n",
       "      <th>status.1</th>\n",
       "      <th>last</th>\n",
       "    </tr>\n",
       "  </thead>\n",
       "  <tbody>\n",
       "    <tr>\n",
       "      <th>0</th>\n",
       "      <td>01.01.2021 00:00</td>\n",
       "      <td>64.84</td>\n",
       "      <td>64.84</td>\n",
       "      <td>Final</td>\n",
       "      <td>16</td>\n",
       "      <td>-3</td>\n",
       "      <td>-1</td>\n",
       "      <td>Final</td>\n",
       "      <td>01.01.2021 00:15</td>\n",
       "    </tr>\n",
       "    <tr>\n",
       "      <th>1</th>\n",
       "      <td>01.01.2021 00:15</td>\n",
       "      <td>13.96</td>\n",
       "      <td>13.96</td>\n",
       "      <td>Final</td>\n",
       "      <td>38</td>\n",
       "      <td>2</td>\n",
       "      <td>1</td>\n",
       "      <td>Final</td>\n",
       "      <td>01.01.2021 00:30</td>\n",
       "    </tr>\n",
       "    <tr>\n",
       "      <th>2</th>\n",
       "      <td>01.01.2021 00:30</td>\n",
       "      <td>12.40</td>\n",
       "      <td>12.40</td>\n",
       "      <td>Final</td>\n",
       "      <td>46</td>\n",
       "      <td>1</td>\n",
       "      <td>1</td>\n",
       "      <td>Final</td>\n",
       "      <td>01.01.2021 00:45</td>\n",
       "    </tr>\n",
       "    <tr>\n",
       "      <th>3</th>\n",
       "      <td>01.01.2021 00:45</td>\n",
       "      <td>7.70</td>\n",
       "      <td>7.70</td>\n",
       "      <td>Final</td>\n",
       "      <td>65</td>\n",
       "      <td>14</td>\n",
       "      <td>1</td>\n",
       "      <td>Final</td>\n",
       "      <td>01.01.2021 01:00</td>\n",
       "    </tr>\n",
       "    <tr>\n",
       "      <th>4</th>\n",
       "      <td>01.01.2021 01:00</td>\n",
       "      <td>64.25</td>\n",
       "      <td>64.25</td>\n",
       "      <td>Final</td>\n",
       "      <td>3</td>\n",
       "      <td>-9</td>\n",
       "      <td>-1</td>\n",
       "      <td>Final</td>\n",
       "      <td>01.01.2021 01:15</td>\n",
       "    </tr>\n",
       "  </tbody>\n",
       "</table>\n",
       "</div>"
      ],
      "text/plain": [
       "        dt_start_utc  plusimbalancepriceeurmwhscabe  \\\n",
       "0  01.01.2021 00:00                           64.84   \n",
       "1  01.01.2021 00:15                           13.96   \n",
       "2  01.01.2021 00:30                           12.40   \n",
       "3  01.01.2021 00:45                            7.70   \n",
       "4  01.01.2021 01:00                           64.25   \n",
       "\n",
       "   imbalancepriceeurmwhscabe status  totalimbalancemwhscabe  difference  \\\n",
       "0                      64.84  Final                      16          -3   \n",
       "1                      13.96  Final                      38           2   \n",
       "2                      12.40  Final                      46           1   \n",
       "3                       7.70  Final                      65          14   \n",
       "4                      64.25  Final                       3          -9   \n",
       "\n",
       "   situation status.1               last  \n",
       "0         -1    Final   01.01.2021 00:15  \n",
       "1          1    Final   01.01.2021 00:30  \n",
       "2          1    Final   01.01.2021 00:45  \n",
       "3          1    Final   01.01.2021 01:00  \n",
       "4         -1    Final   01.01.2021 01:15  "
      ]
     },
     "execution_count": 663,
     "metadata": {},
     "output_type": "execute_result"
    }
   ],
   "source": [
    "df.head()"
   ]
  },
  {
   "cell_type": "code",
   "execution_count": 664,
   "id": "6d386d34",
   "metadata": {},
   "outputs": [],
   "source": [
    "df.eval(\"rz_saldo_mwh_BE = situation * totalimbalancemwhscabe\", inplace=True)\n"
   ]
  },
  {
   "cell_type": "code",
   "execution_count": 665,
   "id": "7ca2f7d1",
   "metadata": {},
   "outputs": [],
   "source": [
    "df.drop([\"imbalancepriceeurmwhscabe\", \"totalimbalancemwhscabe\",\"last\", \"status\", \"status.1\", \"situation\", \"difference\"], axis=1, inplace=True)\n",
    "df.rename(columns={\"plusimbalancepriceeurmwhscabe\": \"rebap_eur_mwh_BE\"},inplace=True)"
   ]
  },
  {
   "cell_type": "code",
   "execution_count": 666,
   "id": "50ef537b",
   "metadata": {},
   "outputs": [
    {
     "data": {
      "text/html": [
       "<div>\n",
       "<style scoped>\n",
       "    .dataframe tbody tr th:only-of-type {\n",
       "        vertical-align: middle;\n",
       "    }\n",
       "\n",
       "    .dataframe tbody tr th {\n",
       "        vertical-align: top;\n",
       "    }\n",
       "\n",
       "    .dataframe thead th {\n",
       "        text-align: right;\n",
       "    }\n",
       "</style>\n",
       "<table border=\"1\" class=\"dataframe\">\n",
       "  <thead>\n",
       "    <tr style=\"text-align: right;\">\n",
       "      <th></th>\n",
       "      <th>dt_start_utc</th>\n",
       "      <th>rebap_eur_mwh_BE</th>\n",
       "      <th>rz_saldo_mwh_BE</th>\n",
       "    </tr>\n",
       "  </thead>\n",
       "  <tbody>\n",
       "    <tr>\n",
       "      <th>0</th>\n",
       "      <td>01.01.2021 00:00</td>\n",
       "      <td>64.84</td>\n",
       "      <td>-16</td>\n",
       "    </tr>\n",
       "    <tr>\n",
       "      <th>1</th>\n",
       "      <td>01.01.2021 00:15</td>\n",
       "      <td>13.96</td>\n",
       "      <td>38</td>\n",
       "    </tr>\n",
       "    <tr>\n",
       "      <th>2</th>\n",
       "      <td>01.01.2021 00:30</td>\n",
       "      <td>12.40</td>\n",
       "      <td>46</td>\n",
       "    </tr>\n",
       "    <tr>\n",
       "      <th>3</th>\n",
       "      <td>01.01.2021 00:45</td>\n",
       "      <td>7.70</td>\n",
       "      <td>65</td>\n",
       "    </tr>\n",
       "    <tr>\n",
       "      <th>4</th>\n",
       "      <td>01.01.2021 01:00</td>\n",
       "      <td>64.25</td>\n",
       "      <td>-3</td>\n",
       "    </tr>\n",
       "    <tr>\n",
       "      <th>...</th>\n",
       "      <td>...</td>\n",
       "      <td>...</td>\n",
       "      <td>...</td>\n",
       "    </tr>\n",
       "    <tr>\n",
       "      <th>20109</th>\n",
       "      <td>29.07.2021 11:15</td>\n",
       "      <td>-53.36</td>\n",
       "      <td>42</td>\n",
       "    </tr>\n",
       "    <tr>\n",
       "      <th>20110</th>\n",
       "      <td>29.07.2021 11:30</td>\n",
       "      <td>-106.41</td>\n",
       "      <td>78</td>\n",
       "    </tr>\n",
       "    <tr>\n",
       "      <th>20111</th>\n",
       "      <td>29.07.2021 11:45</td>\n",
       "      <td>-123.69</td>\n",
       "      <td>74</td>\n",
       "    </tr>\n",
       "    <tr>\n",
       "      <th>20112</th>\n",
       "      <td>29.07.2021 12:00</td>\n",
       "      <td>-108.10</td>\n",
       "      <td>44</td>\n",
       "    </tr>\n",
       "    <tr>\n",
       "      <th>20113</th>\n",
       "      <td>29.07.2021 12:15</td>\n",
       "      <td>-87.47</td>\n",
       "      <td>45</td>\n",
       "    </tr>\n",
       "  </tbody>\n",
       "</table>\n",
       "<p>20114 rows × 3 columns</p>\n",
       "</div>"
      ],
      "text/plain": [
       "            dt_start_utc  rebap_eur_mwh_BE  rz_saldo_mwh_BE\n",
       "0      01.01.2021 00:00              64.84              -16\n",
       "1      01.01.2021 00:15              13.96               38\n",
       "2      01.01.2021 00:30              12.40               46\n",
       "3      01.01.2021 00:45               7.70               65\n",
       "4      01.01.2021 01:00              64.25               -3\n",
       "...                  ...               ...              ...\n",
       "20109  29.07.2021 11:15             -53.36               42\n",
       "20110  29.07.2021 11:30            -106.41               78\n",
       "20111  29.07.2021 11:45            -123.69               74\n",
       "20112  29.07.2021 12:00            -108.10               44\n",
       "20113  29.07.2021 12:15             -87.47               45\n",
       "\n",
       "[20114 rows x 3 columns]"
      ]
     },
     "execution_count": 666,
     "metadata": {},
     "output_type": "execute_result"
    }
   ],
   "source": [
    "df"
   ]
  },
  {
   "cell_type": "code",
   "execution_count": 667,
   "id": "883c11e6",
   "metadata": {},
   "outputs": [],
   "source": [
    "df[\"dt_start_utc\"] = pd.to_datetime(df[\"dt_start_utc\"], dayfirst=True)"
   ]
  },
  {
   "cell_type": "code",
   "execution_count": 668,
   "id": "959f8df8",
   "metadata": {},
   "outputs": [],
   "source": [
    "df.set_index('dt_start_utc', inplace=True)"
   ]
  },
  {
   "cell_type": "code",
   "execution_count": 669,
   "id": "b8420738",
   "metadata": {},
   "outputs": [
    {
     "data": {
      "text/html": [
       "<div>\n",
       "<style scoped>\n",
       "    .dataframe tbody tr th:only-of-type {\n",
       "        vertical-align: middle;\n",
       "    }\n",
       "\n",
       "    .dataframe tbody tr th {\n",
       "        vertical-align: top;\n",
       "    }\n",
       "\n",
       "    .dataframe thead th {\n",
       "        text-align: right;\n",
       "    }\n",
       "</style>\n",
       "<table border=\"1\" class=\"dataframe\">\n",
       "  <thead>\n",
       "    <tr style=\"text-align: right;\">\n",
       "      <th></th>\n",
       "      <th>rebap_eur_mwh_BE</th>\n",
       "      <th>rz_saldo_mwh_BE</th>\n",
       "    </tr>\n",
       "    <tr>\n",
       "      <th>dt_start_utc</th>\n",
       "      <th></th>\n",
       "      <th></th>\n",
       "    </tr>\n",
       "  </thead>\n",
       "  <tbody>\n",
       "    <tr>\n",
       "      <th>2021-01-01 00:00:00</th>\n",
       "      <td>64.84</td>\n",
       "      <td>-16</td>\n",
       "    </tr>\n",
       "    <tr>\n",
       "      <th>2021-01-01 00:15:00</th>\n",
       "      <td>13.96</td>\n",
       "      <td>38</td>\n",
       "    </tr>\n",
       "    <tr>\n",
       "      <th>2021-01-01 00:30:00</th>\n",
       "      <td>12.40</td>\n",
       "      <td>46</td>\n",
       "    </tr>\n",
       "    <tr>\n",
       "      <th>2021-01-01 00:45:00</th>\n",
       "      <td>7.70</td>\n",
       "      <td>65</td>\n",
       "    </tr>\n",
       "    <tr>\n",
       "      <th>2021-01-01 01:00:00</th>\n",
       "      <td>64.25</td>\n",
       "      <td>-3</td>\n",
       "    </tr>\n",
       "  </tbody>\n",
       "</table>\n",
       "</div>"
      ],
      "text/plain": [
       "                     rebap_eur_mwh_BE  rz_saldo_mwh_BE\n",
       "dt_start_utc                                          \n",
       "2021-01-01 00:00:00             64.84              -16\n",
       "2021-01-01 00:15:00             13.96               38\n",
       "2021-01-01 00:30:00             12.40               46\n",
       "2021-01-01 00:45:00              7.70               65\n",
       "2021-01-01 01:00:00             64.25               -3"
      ]
     },
     "execution_count": 669,
     "metadata": {},
     "output_type": "execute_result"
    }
   ],
   "source": [
    "df.head()"
   ]
  },
  {
   "cell_type": "code",
   "execution_count": 670,
   "id": "623f5bb7",
   "metadata": {},
   "outputs": [],
   "source": [
    "df = df.shift(periods=8)"
   ]
  },
  {
   "cell_type": "code",
   "execution_count": 671,
   "id": "46ea17a1",
   "metadata": {},
   "outputs": [],
   "source": [
    "#df.loc[df[\"+ Imbalance Price [EUR/MWh] - SCA|BE\"] == \"-\", \"+ Imbalance Price [EUR/MWh] - SCA|AT\"] = None"
   ]
  },
  {
   "cell_type": "code",
   "execution_count": 672,
   "id": "60013a5b",
   "metadata": {},
   "outputs": [],
   "source": [
    "#df[\"+ Imbalance Price [EUR/MWh] - SCA|AT\"].astype(float);"
   ]
  },
  {
   "cell_type": "code",
   "execution_count": 673,
   "id": "d56a211e",
   "metadata": {},
   "outputs": [],
   "source": [
    "#df = df.resample(resample_size).interpolate(method='polynomial', order=2)"
   ]
  },
  {
   "cell_type": "code",
   "execution_count": 674,
   "id": "e413efa7",
   "metadata": {},
   "outputs": [
    {
     "name": "stdout",
     "output_type": "stream",
     "text": [
      "The data frame contains 0 infinite values and 2 missing values.\n"
     ]
    }
   ],
   "source": [
    "count_inf = np.isinf(df_imbalance_de).values.sum()\n",
    "count_nan = df_imbalance_de.isnull().sum().sum()\n",
    "print(\"The data frame contains \" + str(count_inf) + \" infinite values and \" + str(count_nan) + \" missing values.\")"
   ]
  },
  {
   "cell_type": "code",
   "execution_count": 675,
   "id": "2cb79305",
   "metadata": {},
   "outputs": [],
   "source": [
    "df.to_csv(\"df_be.csv\")"
   ]
  },
  {
   "cell_type": "code",
   "execution_count": 676,
   "id": "679579d8",
   "metadata": {},
   "outputs": [
    {
     "data": {
      "text/html": [
       "<div>\n",
       "<style scoped>\n",
       "    .dataframe tbody tr th:only-of-type {\n",
       "        vertical-align: middle;\n",
       "    }\n",
       "\n",
       "    .dataframe tbody tr th {\n",
       "        vertical-align: top;\n",
       "    }\n",
       "\n",
       "    .dataframe thead th {\n",
       "        text-align: right;\n",
       "    }\n",
       "</style>\n",
       "<table border=\"1\" class=\"dataframe\">\n",
       "  <thead>\n",
       "    <tr style=\"text-align: right;\">\n",
       "      <th></th>\n",
       "      <th>rebap_eur_mwh_BE</th>\n",
       "      <th>rz_saldo_mwh_BE</th>\n",
       "    </tr>\n",
       "    <tr>\n",
       "      <th>dt_start_utc</th>\n",
       "      <th></th>\n",
       "      <th></th>\n",
       "    </tr>\n",
       "  </thead>\n",
       "  <tbody>\n",
       "    <tr>\n",
       "      <th>2021-01-01 00:00:00</th>\n",
       "      <td>NaN</td>\n",
       "      <td>NaN</td>\n",
       "    </tr>\n",
       "    <tr>\n",
       "      <th>2021-01-01 00:15:00</th>\n",
       "      <td>NaN</td>\n",
       "      <td>NaN</td>\n",
       "    </tr>\n",
       "    <tr>\n",
       "      <th>2021-01-01 00:30:00</th>\n",
       "      <td>NaN</td>\n",
       "      <td>NaN</td>\n",
       "    </tr>\n",
       "    <tr>\n",
       "      <th>2021-01-01 00:45:00</th>\n",
       "      <td>NaN</td>\n",
       "      <td>NaN</td>\n",
       "    </tr>\n",
       "    <tr>\n",
       "      <th>2021-01-01 01:00:00</th>\n",
       "      <td>NaN</td>\n",
       "      <td>NaN</td>\n",
       "    </tr>\n",
       "  </tbody>\n",
       "</table>\n",
       "</div>"
      ],
      "text/plain": [
       "                     rebap_eur_mwh_BE  rz_saldo_mwh_BE\n",
       "dt_start_utc                                          \n",
       "2021-01-01 00:00:00               NaN              NaN\n",
       "2021-01-01 00:15:00               NaN              NaN\n",
       "2021-01-01 00:30:00               NaN              NaN\n",
       "2021-01-01 00:45:00               NaN              NaN\n",
       "2021-01-01 01:00:00               NaN              NaN"
      ]
     },
     "execution_count": 676,
     "metadata": {},
     "output_type": "execute_result"
    }
   ],
   "source": [
    "df.head()"
   ]
  },
  {
   "cell_type": "code",
   "execution_count": 677,
   "id": "4d9e053a",
   "metadata": {},
   "outputs": [],
   "source": [
    "#df.fillna(df.median(), inplace=True)"
   ]
  },
  {
   "cell_type": "code",
   "execution_count": 678,
   "id": "dfca6ff7",
   "metadata": {},
   "outputs": [],
   "source": [
    "#df.fillna(0, inplace=True)"
   ]
  },
  {
   "cell_type": "code",
   "execution_count": 679,
   "id": "47ec0b78",
   "metadata": {},
   "outputs": [],
   "source": [
    "df_be = df.copy()"
   ]
  },
  {
   "cell_type": "markdown",
   "id": "8627679c",
   "metadata": {},
   "source": [
    "## 1.2 Import Poland Data"
   ]
  },
  {
   "cell_type": "code",
   "execution_count": 680,
   "id": "456e5c85",
   "metadata": {},
   "outputs": [],
   "source": [
    "df = pd.read_csv(\"data/entsoe/Imbalance_MB__Poland.csv\")"
   ]
  },
  {
   "cell_type": "code",
   "execution_count": 681,
   "id": "fc2fd0f6",
   "metadata": {},
   "outputs": [],
   "source": [
    "df[['dt_start_utc','Last']] = df.dt_start_utc.str.split(\"-\", expand=True)"
   ]
  },
  {
   "cell_type": "code",
   "execution_count": 682,
   "id": "ed72b771",
   "metadata": {},
   "outputs": [
    {
     "name": "stderr",
     "output_type": "stream",
     "text": [
      "/var/folders/x_/rjggxhdx2j5ch0bl5gfg01480000gn/T/ipykernel_649/2771464415.py:4: FutureWarning: The default value of regex will change from True to False in a future version. In addition, single character regular expressions will*not* be treated as literal strings when regex=True.\n",
      "  df.columns = df.columns.str.replace('(', '')\n",
      "/var/folders/x_/rjggxhdx2j5ch0bl5gfg01480000gn/T/ipykernel_649/2771464415.py:5: FutureWarning: The default value of regex will change from True to False in a future version. In addition, single character regular expressions will*not* be treated as literal strings when regex=True.\n",
      "  df.columns = df.columns.str.replace(')', '')\n",
      "/var/folders/x_/rjggxhdx2j5ch0bl5gfg01480000gn/T/ipykernel_649/2771464415.py:8: FutureWarning: The default value of regex will change from True to False in a future version. In addition, single character regular expressions will*not* be treated as literal strings when regex=True.\n",
      "  df.columns = df.columns.str.replace('|','')\n",
      "/var/folders/x_/rjggxhdx2j5ch0bl5gfg01480000gn/T/ipykernel_649/2771464415.py:9: FutureWarning: The default value of regex will change from True to False in a future version. In addition, single character regular expressions will*not* be treated as literal strings when regex=True.\n",
      "  df.columns = df.columns.str.replace(']','')\n",
      "/var/folders/x_/rjggxhdx2j5ch0bl5gfg01480000gn/T/ipykernel_649/2771464415.py:10: FutureWarning: The default value of regex will change from True to False in a future version. In addition, single character regular expressions will*not* be treated as literal strings when regex=True.\n",
      "  df.columns = df.columns.str.replace('[','')\n",
      "/var/folders/x_/rjggxhdx2j5ch0bl5gfg01480000gn/T/ipykernel_649/2771464415.py:11: FutureWarning: The default value of regex will change from True to False in a future version. In addition, single character regular expressions will*not* be treated as literal strings when regex=True.\n",
      "  df.columns = df.columns.str.replace('+','plus')\n"
     ]
    }
   ],
   "source": [
    "cleaningcolumns(df)"
   ]
  },
  {
   "cell_type": "code",
   "execution_count": 683,
   "id": "486b00fd",
   "metadata": {},
   "outputs": [
    {
     "data": {
      "text/html": [
       "<div>\n",
       "<style scoped>\n",
       "    .dataframe tbody tr th:only-of-type {\n",
       "        vertical-align: middle;\n",
       "    }\n",
       "\n",
       "    .dataframe tbody tr th {\n",
       "        vertical-align: top;\n",
       "    }\n",
       "\n",
       "    .dataframe thead th {\n",
       "        text-align: right;\n",
       "    }\n",
       "</style>\n",
       "<table border=\"1\" class=\"dataframe\">\n",
       "  <thead>\n",
       "    <tr style=\"text-align: right;\">\n",
       "      <th></th>\n",
       "      <th>dt_start_utc</th>\n",
       "      <th>imbalanceprice_pln_mwh_mba_pl</th>\n",
       "      <th>imbalancepriceplnmwhmbapl</th>\n",
       "      <th>status</th>\n",
       "      <th>totalimbalancemwhmbapl</th>\n",
       "      <th>difference</th>\n",
       "      <th>situation</th>\n",
       "      <th>status.1</th>\n",
       "      <th>last</th>\n",
       "    </tr>\n",
       "  </thead>\n",
       "  <tbody>\n",
       "    <tr>\n",
       "      <th>0</th>\n",
       "      <td>01.01.2021 00:00</td>\n",
       "      <td>191.33</td>\n",
       "      <td>191.33</td>\n",
       "      <td>Final</td>\n",
       "      <td>669</td>\n",
       "      <td>36</td>\n",
       "      <td>Surplus</td>\n",
       "      <td>Final</td>\n",
       "      <td>01.01.2021 01:00</td>\n",
       "    </tr>\n",
       "    <tr>\n",
       "      <th>1</th>\n",
       "      <td>01.01.2021 01:00</td>\n",
       "      <td>191.33</td>\n",
       "      <td>191.33</td>\n",
       "      <td>Final</td>\n",
       "      <td>521</td>\n",
       "      <td>15</td>\n",
       "      <td>Surplus</td>\n",
       "      <td>Final</td>\n",
       "      <td>01.01.2021 02:00</td>\n",
       "    </tr>\n",
       "    <tr>\n",
       "      <th>2</th>\n",
       "      <td>01.01.2021 02:00</td>\n",
       "      <td>191.33</td>\n",
       "      <td>191.33</td>\n",
       "      <td>Final</td>\n",
       "      <td>253</td>\n",
       "      <td>69</td>\n",
       "      <td>Surplus</td>\n",
       "      <td>Final</td>\n",
       "      <td>01.01.2021 03:00</td>\n",
       "    </tr>\n",
       "    <tr>\n",
       "      <th>3</th>\n",
       "      <td>01.01.2021 03:00</td>\n",
       "      <td>191.33</td>\n",
       "      <td>191.33</td>\n",
       "      <td>Final</td>\n",
       "      <td>130</td>\n",
       "      <td>47</td>\n",
       "      <td>Surplus</td>\n",
       "      <td>Final</td>\n",
       "      <td>01.01.2021 04:00</td>\n",
       "    </tr>\n",
       "    <tr>\n",
       "      <th>4</th>\n",
       "      <td>01.01.2021 04:00</td>\n",
       "      <td>191.33</td>\n",
       "      <td>191.33</td>\n",
       "      <td>Final</td>\n",
       "      <td>35</td>\n",
       "      <td>-85</td>\n",
       "      <td>Surplus</td>\n",
       "      <td>Final</td>\n",
       "      <td>01.01.2021 05:00</td>\n",
       "    </tr>\n",
       "  </tbody>\n",
       "</table>\n",
       "</div>"
      ],
      "text/plain": [
       "        dt_start_utc  imbalanceprice_pln_mwh_mba_pl  \\\n",
       "0  01.01.2021 00:00                          191.33   \n",
       "1  01.01.2021 01:00                          191.33   \n",
       "2  01.01.2021 02:00                          191.33   \n",
       "3  01.01.2021 03:00                          191.33   \n",
       "4  01.01.2021 04:00                          191.33   \n",
       "\n",
       "   imbalancepriceplnmwhmbapl status  totalimbalancemwhmbapl  difference  \\\n",
       "0                     191.33  Final                     669          36   \n",
       "1                     191.33  Final                     521          15   \n",
       "2                     191.33  Final                     253          69   \n",
       "3                     191.33  Final                     130          47   \n",
       "4                     191.33  Final                      35         -85   \n",
       "\n",
       "  situation status.1               last  \n",
       "0   Surplus    Final   01.01.2021 01:00  \n",
       "1   Surplus    Final   01.01.2021 02:00  \n",
       "2   Surplus    Final   01.01.2021 03:00  \n",
       "3   Surplus    Final   01.01.2021 04:00  \n",
       "4   Surplus    Final   01.01.2021 05:00  "
      ]
     },
     "execution_count": 683,
     "metadata": {},
     "output_type": "execute_result"
    }
   ],
   "source": [
    "df.head()"
   ]
  },
  {
   "cell_type": "code",
   "execution_count": 684,
   "id": "82dea5d5",
   "metadata": {},
   "outputs": [],
   "source": [
    "df.loc[df.situation == \"Deficit\", 'situation'] = int(-1)\n",
    "df.loc[df.situation == \"Surplus\", 'situation'] = int(1)\n",
    "df.loc[df.situation == \"Balanced\", 'situation'] = int(0)\n",
    "\n",
    "df[\"situation\"] = df[\"situation\"].astype('int64')\n",
    "\n",
    "df.eval(\"rz_saldo_mwh_PL = situation * totalimbalancemwhmbapl\", inplace=True)\n",
    "df.drop([\"imbalancepriceplnmwhmbapl\", \"status\",\"totalimbalancemwhmbapl\", \"status.1\", \"situation\", \"difference\", \"last\"], axis=1, inplace=True)\n",
    "df.rename(columns={\"imbalanceprice_pln_mwh_mba_pl\": \"rebap_eur_mwh_PL\"},inplace=True)"
   ]
  },
  {
   "cell_type": "code",
   "execution_count": 685,
   "id": "22c169bc",
   "metadata": {},
   "outputs": [],
   "source": [
    "df[\"dt_start_utc\"] = pd.to_datetime(df[\"dt_start_utc\"], dayfirst=True)"
   ]
  },
  {
   "cell_type": "code",
   "execution_count": 686,
   "id": "fcff388b",
   "metadata": {},
   "outputs": [],
   "source": [
    "df.set_index('dt_start_utc', inplace=True)"
   ]
  },
  {
   "cell_type": "code",
   "execution_count": 687,
   "id": "cdff925b",
   "metadata": {},
   "outputs": [
    {
     "data": {
      "text/html": [
       "<div>\n",
       "<style scoped>\n",
       "    .dataframe tbody tr th:only-of-type {\n",
       "        vertical-align: middle;\n",
       "    }\n",
       "\n",
       "    .dataframe tbody tr th {\n",
       "        vertical-align: top;\n",
       "    }\n",
       "\n",
       "    .dataframe thead th {\n",
       "        text-align: right;\n",
       "    }\n",
       "</style>\n",
       "<table border=\"1\" class=\"dataframe\">\n",
       "  <thead>\n",
       "    <tr style=\"text-align: right;\">\n",
       "      <th></th>\n",
       "      <th>rebap_eur_mwh_PL</th>\n",
       "      <th>rz_saldo_mwh_PL</th>\n",
       "    </tr>\n",
       "    <tr>\n",
       "      <th>dt_start_utc</th>\n",
       "      <th></th>\n",
       "      <th></th>\n",
       "    </tr>\n",
       "  </thead>\n",
       "  <tbody>\n",
       "    <tr>\n",
       "      <th>2021-01-01 00:00:00</th>\n",
       "      <td>191.33</td>\n",
       "      <td>669</td>\n",
       "    </tr>\n",
       "    <tr>\n",
       "      <th>2021-01-01 01:00:00</th>\n",
       "      <td>191.33</td>\n",
       "      <td>521</td>\n",
       "    </tr>\n",
       "    <tr>\n",
       "      <th>2021-01-01 02:00:00</th>\n",
       "      <td>191.33</td>\n",
       "      <td>253</td>\n",
       "    </tr>\n",
       "    <tr>\n",
       "      <th>2021-01-01 03:00:00</th>\n",
       "      <td>191.33</td>\n",
       "      <td>130</td>\n",
       "    </tr>\n",
       "    <tr>\n",
       "      <th>2021-01-01 04:00:00</th>\n",
       "      <td>191.33</td>\n",
       "      <td>35</td>\n",
       "    </tr>\n",
       "    <tr>\n",
       "      <th>2021-01-01 05:00:00</th>\n",
       "      <td>191.33</td>\n",
       "      <td>-317</td>\n",
       "    </tr>\n",
       "    <tr>\n",
       "      <th>2021-01-01 06:00:00</th>\n",
       "      <td>191.33</td>\n",
       "      <td>-445</td>\n",
       "    </tr>\n",
       "    <tr>\n",
       "      <th>2021-01-01 07:00:00</th>\n",
       "      <td>191.33</td>\n",
       "      <td>-377</td>\n",
       "    </tr>\n",
       "    <tr>\n",
       "      <th>2021-01-01 08:00:00</th>\n",
       "      <td>191.33</td>\n",
       "      <td>141</td>\n",
       "    </tr>\n",
       "    <tr>\n",
       "      <th>2021-01-01 09:00:00</th>\n",
       "      <td>191.33</td>\n",
       "      <td>294</td>\n",
       "    </tr>\n",
       "  </tbody>\n",
       "</table>\n",
       "</div>"
      ],
      "text/plain": [
       "                     rebap_eur_mwh_PL  rz_saldo_mwh_PL\n",
       "dt_start_utc                                          \n",
       "2021-01-01 00:00:00            191.33              669\n",
       "2021-01-01 01:00:00            191.33              521\n",
       "2021-01-01 02:00:00            191.33              253\n",
       "2021-01-01 03:00:00            191.33              130\n",
       "2021-01-01 04:00:00            191.33               35\n",
       "2021-01-01 05:00:00            191.33             -317\n",
       "2021-01-01 06:00:00            191.33             -445\n",
       "2021-01-01 07:00:00            191.33             -377\n",
       "2021-01-01 08:00:00            191.33              141\n",
       "2021-01-01 09:00:00            191.33              294"
      ]
     },
     "execution_count": 687,
     "metadata": {},
     "output_type": "execute_result"
    }
   ],
   "source": [
    "df.head(10)"
   ]
  },
  {
   "cell_type": "code",
   "execution_count": 688,
   "id": "224e418c",
   "metadata": {},
   "outputs": [],
   "source": [
    "df = df.resample(resample_size).ffill()"
   ]
  },
  {
   "cell_type": "code",
   "execution_count": 689,
   "id": "6bb7af50",
   "metadata": {},
   "outputs": [
    {
     "data": {
      "text/html": [
       "<div>\n",
       "<style scoped>\n",
       "    .dataframe tbody tr th:only-of-type {\n",
       "        vertical-align: middle;\n",
       "    }\n",
       "\n",
       "    .dataframe tbody tr th {\n",
       "        vertical-align: top;\n",
       "    }\n",
       "\n",
       "    .dataframe thead th {\n",
       "        text-align: right;\n",
       "    }\n",
       "</style>\n",
       "<table border=\"1\" class=\"dataframe\">\n",
       "  <thead>\n",
       "    <tr style=\"text-align: right;\">\n",
       "      <th></th>\n",
       "      <th>rebap_eur_mwh_PL</th>\n",
       "      <th>rz_saldo_mwh_PL</th>\n",
       "    </tr>\n",
       "    <tr>\n",
       "      <th>dt_start_utc</th>\n",
       "      <th></th>\n",
       "      <th></th>\n",
       "    </tr>\n",
       "  </thead>\n",
       "  <tbody>\n",
       "    <tr>\n",
       "      <th>2021-01-01 00:00:00</th>\n",
       "      <td>191.33</td>\n",
       "      <td>669</td>\n",
       "    </tr>\n",
       "    <tr>\n",
       "      <th>2021-01-01 00:15:00</th>\n",
       "      <td>191.33</td>\n",
       "      <td>669</td>\n",
       "    </tr>\n",
       "    <tr>\n",
       "      <th>2021-01-01 00:30:00</th>\n",
       "      <td>191.33</td>\n",
       "      <td>669</td>\n",
       "    </tr>\n",
       "    <tr>\n",
       "      <th>2021-01-01 00:45:00</th>\n",
       "      <td>191.33</td>\n",
       "      <td>669</td>\n",
       "    </tr>\n",
       "    <tr>\n",
       "      <th>2021-01-01 01:00:00</th>\n",
       "      <td>191.33</td>\n",
       "      <td>521</td>\n",
       "    </tr>\n",
       "  </tbody>\n",
       "</table>\n",
       "</div>"
      ],
      "text/plain": [
       "                     rebap_eur_mwh_PL  rz_saldo_mwh_PL\n",
       "dt_start_utc                                          \n",
       "2021-01-01 00:00:00            191.33              669\n",
       "2021-01-01 00:15:00            191.33              669\n",
       "2021-01-01 00:30:00            191.33              669\n",
       "2021-01-01 00:45:00            191.33              669\n",
       "2021-01-01 01:00:00            191.33              521"
      ]
     },
     "execution_count": 689,
     "metadata": {},
     "output_type": "execute_result"
    }
   ],
   "source": [
    "df.head()"
   ]
  },
  {
   "cell_type": "markdown",
   "id": "90b5ca26",
   "metadata": {},
   "source": [
    "The data are published one hour delayde"
   ]
  },
  {
   "cell_type": "code",
   "execution_count": 690,
   "id": "9fc9980f",
   "metadata": {},
   "outputs": [],
   "source": [
    "df = df.shift(periods=4)"
   ]
  },
  {
   "cell_type": "code",
   "execution_count": 691,
   "id": "d90cf82a",
   "metadata": {},
   "outputs": [
    {
     "data": {
      "text/html": [
       "<div>\n",
       "<style scoped>\n",
       "    .dataframe tbody tr th:only-of-type {\n",
       "        vertical-align: middle;\n",
       "    }\n",
       "\n",
       "    .dataframe tbody tr th {\n",
       "        vertical-align: top;\n",
       "    }\n",
       "\n",
       "    .dataframe thead th {\n",
       "        text-align: right;\n",
       "    }\n",
       "</style>\n",
       "<table border=\"1\" class=\"dataframe\">\n",
       "  <thead>\n",
       "    <tr style=\"text-align: right;\">\n",
       "      <th></th>\n",
       "      <th>rebap_eur_mwh_PL</th>\n",
       "      <th>rz_saldo_mwh_PL</th>\n",
       "    </tr>\n",
       "    <tr>\n",
       "      <th>dt_start_utc</th>\n",
       "      <th></th>\n",
       "      <th></th>\n",
       "    </tr>\n",
       "  </thead>\n",
       "  <tbody>\n",
       "    <tr>\n",
       "      <th>2021-01-01 00:00:00</th>\n",
       "      <td>NaN</td>\n",
       "      <td>NaN</td>\n",
       "    </tr>\n",
       "    <tr>\n",
       "      <th>2021-01-01 00:15:00</th>\n",
       "      <td>NaN</td>\n",
       "      <td>NaN</td>\n",
       "    </tr>\n",
       "    <tr>\n",
       "      <th>2021-01-01 00:30:00</th>\n",
       "      <td>NaN</td>\n",
       "      <td>NaN</td>\n",
       "    </tr>\n",
       "    <tr>\n",
       "      <th>2021-01-01 00:45:00</th>\n",
       "      <td>NaN</td>\n",
       "      <td>NaN</td>\n",
       "    </tr>\n",
       "    <tr>\n",
       "      <th>2021-01-01 01:00:00</th>\n",
       "      <td>191.33</td>\n",
       "      <td>669.0</td>\n",
       "    </tr>\n",
       "  </tbody>\n",
       "</table>\n",
       "</div>"
      ],
      "text/plain": [
       "                     rebap_eur_mwh_PL  rz_saldo_mwh_PL\n",
       "dt_start_utc                                          \n",
       "2021-01-01 00:00:00               NaN              NaN\n",
       "2021-01-01 00:15:00               NaN              NaN\n",
       "2021-01-01 00:30:00               NaN              NaN\n",
       "2021-01-01 00:45:00               NaN              NaN\n",
       "2021-01-01 01:00:00            191.33            669.0"
      ]
     },
     "execution_count": 691,
     "metadata": {},
     "output_type": "execute_result"
    }
   ],
   "source": [
    "df.head()"
   ]
  },
  {
   "cell_type": "code",
   "execution_count": 692,
   "id": "91fa566f",
   "metadata": {},
   "outputs": [],
   "source": [
    "#df = df.select_dtypes(include=['float64']).astype(np.float32)\n",
    "#df = df.astype(np.float32)"
   ]
  },
  {
   "cell_type": "code",
   "execution_count": 693,
   "id": "69f64b9d",
   "metadata": {},
   "outputs": [],
   "source": [
    "#df.loc[df[\"+ Imbalance Price [EUR/MWh] - SCA|PL\"] == \"-\", \"+ Imbalance Price [EUR/MWh] - SCA|AT\"] = None"
   ]
  },
  {
   "cell_type": "code",
   "execution_count": 694,
   "id": "2dfcb5f2",
   "metadata": {},
   "outputs": [
    {
     "name": "stdout",
     "output_type": "stream",
     "text": [
      "The data frame contains 0 infinite values\n",
      "The Data Frame has 8 missing values.\n"
     ]
    }
   ],
   "source": [
    "count = np.isinf(df).values.sum()\n",
    "print(\"The data frame contains \" + str(count) + \" infinite values\")\n",
    "print(\"The Data Frame has\",df.isnull().sum().sum(),\"missing values.\")"
   ]
  },
  {
   "cell_type": "code",
   "execution_count": 695,
   "id": "5967b52c",
   "metadata": {},
   "outputs": [],
   "source": [
    "df.to_csv(\"df_pl.csv\")"
   ]
  },
  {
   "cell_type": "code",
   "execution_count": 696,
   "id": "76a28d90",
   "metadata": {},
   "outputs": [
    {
     "data": {
      "text/html": [
       "<div>\n",
       "<style scoped>\n",
       "    .dataframe tbody tr th:only-of-type {\n",
       "        vertical-align: middle;\n",
       "    }\n",
       "\n",
       "    .dataframe tbody tr th {\n",
       "        vertical-align: top;\n",
       "    }\n",
       "\n",
       "    .dataframe thead th {\n",
       "        text-align: right;\n",
       "    }\n",
       "</style>\n",
       "<table border=\"1\" class=\"dataframe\">\n",
       "  <thead>\n",
       "    <tr style=\"text-align: right;\">\n",
       "      <th></th>\n",
       "      <th>rebap_eur_mwh_PL</th>\n",
       "      <th>rz_saldo_mwh_PL</th>\n",
       "    </tr>\n",
       "    <tr>\n",
       "      <th>dt_start_utc</th>\n",
       "      <th></th>\n",
       "      <th></th>\n",
       "    </tr>\n",
       "  </thead>\n",
       "  <tbody>\n",
       "    <tr>\n",
       "      <th>2021-01-01 00:00:00</th>\n",
       "      <td>NaN</td>\n",
       "      <td>NaN</td>\n",
       "    </tr>\n",
       "    <tr>\n",
       "      <th>2021-01-01 00:15:00</th>\n",
       "      <td>NaN</td>\n",
       "      <td>NaN</td>\n",
       "    </tr>\n",
       "    <tr>\n",
       "      <th>2021-01-01 00:30:00</th>\n",
       "      <td>NaN</td>\n",
       "      <td>NaN</td>\n",
       "    </tr>\n",
       "    <tr>\n",
       "      <th>2021-01-01 00:45:00</th>\n",
       "      <td>NaN</td>\n",
       "      <td>NaN</td>\n",
       "    </tr>\n",
       "    <tr>\n",
       "      <th>2021-01-01 01:00:00</th>\n",
       "      <td>191.33</td>\n",
       "      <td>669.0</td>\n",
       "    </tr>\n",
       "  </tbody>\n",
       "</table>\n",
       "</div>"
      ],
      "text/plain": [
       "                     rebap_eur_mwh_PL  rz_saldo_mwh_PL\n",
       "dt_start_utc                                          \n",
       "2021-01-01 00:00:00               NaN              NaN\n",
       "2021-01-01 00:15:00               NaN              NaN\n",
       "2021-01-01 00:30:00               NaN              NaN\n",
       "2021-01-01 00:45:00               NaN              NaN\n",
       "2021-01-01 01:00:00            191.33            669.0"
      ]
     },
     "execution_count": 696,
     "metadata": {},
     "output_type": "execute_result"
    }
   ],
   "source": [
    "df.head()"
   ]
  },
  {
   "cell_type": "code",
   "execution_count": 697,
   "id": "09b286c8",
   "metadata": {},
   "outputs": [],
   "source": [
    "#df.fillna(df.median(), inplace=True)"
   ]
  },
  {
   "cell_type": "code",
   "execution_count": 698,
   "id": "081d24d0",
   "metadata": {},
   "outputs": [],
   "source": [
    "#df.fillna(0, inplace=True)"
   ]
  },
  {
   "cell_type": "code",
   "execution_count": 699,
   "id": "972313a6",
   "metadata": {},
   "outputs": [],
   "source": [
    "df_pl = df.copy()"
   ]
  },
  {
   "cell_type": "code",
   "execution_count": 700,
   "id": "34bf11fd",
   "metadata": {},
   "outputs": [],
   "source": [
    "#df[\"+ Imbalance Price [EUR/MWh] - SCA|AT\"].astype(float);"
   ]
  },
  {
   "cell_type": "markdown",
   "id": "17e3e47f",
   "metadata": {},
   "source": [
    "## 1.4 Import Austrian Data"
   ]
  },
  {
   "cell_type": "code",
   "execution_count": 701,
   "id": "22f66426",
   "metadata": {},
   "outputs": [],
   "source": [
    "df = pd.read_csv(\"data/entsoe/AUS_Imba.csv\")"
   ]
  },
  {
   "cell_type": "code",
   "execution_count": 702,
   "id": "47424892",
   "metadata": {},
   "outputs": [],
   "source": [
    "df[['dt_start_utc','Last']] = df.dt_start_utc.str.split(\"-\", expand=True)"
   ]
  },
  {
   "cell_type": "code",
   "execution_count": 703,
   "id": "ba0667e1",
   "metadata": {},
   "outputs": [
    {
     "name": "stderr",
     "output_type": "stream",
     "text": [
      "/var/folders/x_/rjggxhdx2j5ch0bl5gfg01480000gn/T/ipykernel_649/2771464415.py:4: FutureWarning: The default value of regex will change from True to False in a future version. In addition, single character regular expressions will*not* be treated as literal strings when regex=True.\n",
      "  df.columns = df.columns.str.replace('(', '')\n",
      "/var/folders/x_/rjggxhdx2j5ch0bl5gfg01480000gn/T/ipykernel_649/2771464415.py:5: FutureWarning: The default value of regex will change from True to False in a future version. In addition, single character regular expressions will*not* be treated as literal strings when regex=True.\n",
      "  df.columns = df.columns.str.replace(')', '')\n",
      "/var/folders/x_/rjggxhdx2j5ch0bl5gfg01480000gn/T/ipykernel_649/2771464415.py:8: FutureWarning: The default value of regex will change from True to False in a future version. In addition, single character regular expressions will*not* be treated as literal strings when regex=True.\n",
      "  df.columns = df.columns.str.replace('|','')\n",
      "/var/folders/x_/rjggxhdx2j5ch0bl5gfg01480000gn/T/ipykernel_649/2771464415.py:9: FutureWarning: The default value of regex will change from True to False in a future version. In addition, single character regular expressions will*not* be treated as literal strings when regex=True.\n",
      "  df.columns = df.columns.str.replace(']','')\n",
      "/var/folders/x_/rjggxhdx2j5ch0bl5gfg01480000gn/T/ipykernel_649/2771464415.py:10: FutureWarning: The default value of regex will change from True to False in a future version. In addition, single character regular expressions will*not* be treated as literal strings when regex=True.\n",
      "  df.columns = df.columns.str.replace('[','')\n",
      "/var/folders/x_/rjggxhdx2j5ch0bl5gfg01480000gn/T/ipykernel_649/2771464415.py:11: FutureWarning: The default value of regex will change from True to False in a future version. In addition, single character regular expressions will*not* be treated as literal strings when regex=True.\n",
      "  df.columns = df.columns.str.replace('+','plus')\n"
     ]
    }
   ],
   "source": [
    "cleaningcolumns(df)"
   ]
  },
  {
   "cell_type": "code",
   "execution_count": 704,
   "id": "9dc29dc6",
   "metadata": {},
   "outputs": [
    {
     "data": {
      "text/html": [
       "<div>\n",
       "<style scoped>\n",
       "    .dataframe tbody tr th:only-of-type {\n",
       "        vertical-align: middle;\n",
       "    }\n",
       "\n",
       "    .dataframe tbody tr th {\n",
       "        vertical-align: top;\n",
       "    }\n",
       "\n",
       "    .dataframe thead th {\n",
       "        text-align: right;\n",
       "    }\n",
       "</style>\n",
       "<table border=\"1\" class=\"dataframe\">\n",
       "  <thead>\n",
       "    <tr style=\"text-align: right;\">\n",
       "      <th></th>\n",
       "      <th>dt_start_utc</th>\n",
       "      <th>plusimbalancepriceeurmwhscaat</th>\n",
       "      <th>imbalancepriceeurmwhscaat</th>\n",
       "      <th>status</th>\n",
       "      <th>totalimbalancemwhscaat</th>\n",
       "      <th>difference</th>\n",
       "      <th>situation</th>\n",
       "      <th>status.1</th>\n",
       "      <th>last</th>\n",
       "    </tr>\n",
       "  </thead>\n",
       "  <tbody>\n",
       "    <tr>\n",
       "      <th>0</th>\n",
       "      <td>01.01.2021 00:00</td>\n",
       "      <td>85.42</td>\n",
       "      <td>85.42</td>\n",
       "      <td>Estimated</td>\n",
       "      <td>34</td>\n",
       "      <td>NaN</td>\n",
       "      <td>NaN</td>\n",
       "      <td>Final</td>\n",
       "      <td>01.01.2021 00:15</td>\n",
       "    </tr>\n",
       "    <tr>\n",
       "      <th>1</th>\n",
       "      <td>01.01.2021 00:15</td>\n",
       "      <td>84.96</td>\n",
       "      <td>84.96</td>\n",
       "      <td>Estimated</td>\n",
       "      <td>40</td>\n",
       "      <td>NaN</td>\n",
       "      <td>NaN</td>\n",
       "      <td>Final</td>\n",
       "      <td>01.01.2021 00:30</td>\n",
       "    </tr>\n",
       "    <tr>\n",
       "      <th>2</th>\n",
       "      <td>01.01.2021 00:30</td>\n",
       "      <td>80.71</td>\n",
       "      <td>80.71</td>\n",
       "      <td>Estimated</td>\n",
       "      <td>24</td>\n",
       "      <td>NaN</td>\n",
       "      <td>NaN</td>\n",
       "      <td>Final</td>\n",
       "      <td>01.01.2021 00:45</td>\n",
       "    </tr>\n",
       "    <tr>\n",
       "      <th>3</th>\n",
       "      <td>01.01.2021 00:45</td>\n",
       "      <td>70.53</td>\n",
       "      <td>70.53</td>\n",
       "      <td>Estimated</td>\n",
       "      <td>14</td>\n",
       "      <td>NaN</td>\n",
       "      <td>NaN</td>\n",
       "      <td>Final</td>\n",
       "      <td>01.01.2021 01:00</td>\n",
       "    </tr>\n",
       "    <tr>\n",
       "      <th>4</th>\n",
       "      <td>01.01.2021 01:00</td>\n",
       "      <td>77.71</td>\n",
       "      <td>77.71</td>\n",
       "      <td>Estimated</td>\n",
       "      <td>32</td>\n",
       "      <td>NaN</td>\n",
       "      <td>NaN</td>\n",
       "      <td>Final</td>\n",
       "      <td>01.01.2021 01:15</td>\n",
       "    </tr>\n",
       "  </tbody>\n",
       "</table>\n",
       "</div>"
      ],
      "text/plain": [
       "        dt_start_utc  plusimbalancepriceeurmwhscaat  \\\n",
       "0  01.01.2021 00:00                           85.42   \n",
       "1  01.01.2021 00:15                           84.96   \n",
       "2  01.01.2021 00:30                           80.71   \n",
       "3  01.01.2021 00:45                           70.53   \n",
       "4  01.01.2021 01:00                           77.71   \n",
       "\n",
       "   imbalancepriceeurmwhscaat     status  totalimbalancemwhscaat  difference  \\\n",
       "0                      85.42  Estimated                      34         NaN   \n",
       "1                      84.96  Estimated                      40         NaN   \n",
       "2                      80.71  Estimated                      24         NaN   \n",
       "3                      70.53  Estimated                      14         NaN   \n",
       "4                      77.71  Estimated                      32         NaN   \n",
       "\n",
       "  situation status.1               last  \n",
       "0       NaN    Final   01.01.2021 00:15  \n",
       "1       NaN    Final   01.01.2021 00:30  \n",
       "2       NaN    Final   01.01.2021 00:45  \n",
       "3       NaN    Final   01.01.2021 01:00  \n",
       "4       NaN    Final   01.01.2021 01:15  "
      ]
     },
     "execution_count": 704,
     "metadata": {},
     "output_type": "execute_result"
    }
   ],
   "source": [
    "df.head()"
   ]
  },
  {
   "cell_type": "code",
   "execution_count": 705,
   "id": "780db3af",
   "metadata": {},
   "outputs": [],
   "source": [
    "df.situation = df.situation.fillna(value=1)\n",
    "df.loc[df.situation == \"Deficit\", 'situation'] = int(-1)\n",
    "df.loc[df.situation == \"Surplus\", 'situation'] = int(1)\n",
    "df.loc[df.situation == \"Balanced\", 'situation'] = int(0)\n",
    "\n",
    "\n",
    "df[\"situation\"] = df[\"situation\"].astype('int64')\n",
    "\n",
    "df.eval(\"rz_saldo_mwh_AUS = situation * totalimbalancemwhscaat\", inplace=True)\n",
    "df.drop([\"plusimbalancepriceeurmwhscaat\", \"status\",\"totalimbalancemwhscaat\", \"status.1\", \"situation\", \"difference\", \"last\"], axis=1, inplace=True)\n",
    "df.rename(columns={\"imbalancepriceeurmwhscaat\": \"rebap_eur_mwh_AUS\"},inplace=True)"
   ]
  },
  {
   "cell_type": "code",
   "execution_count": 706,
   "id": "b4620f22",
   "metadata": {},
   "outputs": [
    {
     "data": {
      "text/html": [
       "<div>\n",
       "<style scoped>\n",
       "    .dataframe tbody tr th:only-of-type {\n",
       "        vertical-align: middle;\n",
       "    }\n",
       "\n",
       "    .dataframe tbody tr th {\n",
       "        vertical-align: top;\n",
       "    }\n",
       "\n",
       "    .dataframe thead th {\n",
       "        text-align: right;\n",
       "    }\n",
       "</style>\n",
       "<table border=\"1\" class=\"dataframe\">\n",
       "  <thead>\n",
       "    <tr style=\"text-align: right;\">\n",
       "      <th></th>\n",
       "      <th>dt_start_utc</th>\n",
       "      <th>rebap_eur_mwh_AUS</th>\n",
       "      <th>rz_saldo_mwh_AUS</th>\n",
       "    </tr>\n",
       "  </thead>\n",
       "  <tbody>\n",
       "    <tr>\n",
       "      <th>0</th>\n",
       "      <td>01.01.2021 00:00</td>\n",
       "      <td>85.42</td>\n",
       "      <td>34</td>\n",
       "    </tr>\n",
       "    <tr>\n",
       "      <th>1</th>\n",
       "      <td>01.01.2021 00:15</td>\n",
       "      <td>84.96</td>\n",
       "      <td>40</td>\n",
       "    </tr>\n",
       "    <tr>\n",
       "      <th>2</th>\n",
       "      <td>01.01.2021 00:30</td>\n",
       "      <td>80.71</td>\n",
       "      <td>24</td>\n",
       "    </tr>\n",
       "    <tr>\n",
       "      <th>3</th>\n",
       "      <td>01.01.2021 00:45</td>\n",
       "      <td>70.53</td>\n",
       "      <td>14</td>\n",
       "    </tr>\n",
       "    <tr>\n",
       "      <th>4</th>\n",
       "      <td>01.01.2021 01:00</td>\n",
       "      <td>77.71</td>\n",
       "      <td>32</td>\n",
       "    </tr>\n",
       "    <tr>\n",
       "      <th>...</th>\n",
       "      <td>...</td>\n",
       "      <td>...</td>\n",
       "      <td>...</td>\n",
       "    </tr>\n",
       "    <tr>\n",
       "      <th>20084</th>\n",
       "      <td>29.07.2021 05:00</td>\n",
       "      <td>13.48</td>\n",
       "      <td>8</td>\n",
       "    </tr>\n",
       "    <tr>\n",
       "      <th>20085</th>\n",
       "      <td>29.07.2021 05:15</td>\n",
       "      <td>86.98</td>\n",
       "      <td>-28</td>\n",
       "    </tr>\n",
       "    <tr>\n",
       "      <th>20086</th>\n",
       "      <td>29.07.2021 05:30</td>\n",
       "      <td>100.00</td>\n",
       "      <td>-45</td>\n",
       "    </tr>\n",
       "    <tr>\n",
       "      <th>20087</th>\n",
       "      <td>29.07.2021 05:45</td>\n",
       "      <td>86.98</td>\n",
       "      <td>-30</td>\n",
       "    </tr>\n",
       "    <tr>\n",
       "      <th>20088</th>\n",
       "      <td>29.07.2021 06:00</td>\n",
       "      <td>82.29</td>\n",
       "      <td>-9</td>\n",
       "    </tr>\n",
       "  </tbody>\n",
       "</table>\n",
       "<p>20089 rows × 3 columns</p>\n",
       "</div>"
      ],
      "text/plain": [
       "            dt_start_utc  rebap_eur_mwh_AUS  rz_saldo_mwh_AUS\n",
       "0      01.01.2021 00:00               85.42                34\n",
       "1      01.01.2021 00:15               84.96                40\n",
       "2      01.01.2021 00:30               80.71                24\n",
       "3      01.01.2021 00:45               70.53                14\n",
       "4      01.01.2021 01:00               77.71                32\n",
       "...                  ...                ...               ...\n",
       "20084  29.07.2021 05:00               13.48                 8\n",
       "20085  29.07.2021 05:15               86.98               -28\n",
       "20086  29.07.2021 05:30              100.00               -45\n",
       "20087  29.07.2021 05:45               86.98               -30\n",
       "20088  29.07.2021 06:00               82.29                -9\n",
       "\n",
       "[20089 rows x 3 columns]"
      ]
     },
     "execution_count": 706,
     "metadata": {},
     "output_type": "execute_result"
    }
   ],
   "source": [
    "df"
   ]
  },
  {
   "cell_type": "code",
   "execution_count": 707,
   "id": "9487c7d3",
   "metadata": {},
   "outputs": [],
   "source": [
    "#df['dt_start_utc'].to_datetime(format='%d.%m.%Y %H:%M', errors='ignore')\n",
    "\n",
    "#df['dt_start_utc'] = pd.to_datetime(df[\"dt_start_utc\"],format='%d.%m.%Y %H:%M' )\n",
    "\n",
    "#df['DataFrame Column'] = pd.to_datetime(df['DataFrame Column'], format=specify your format)\n",
    "#df_aus['dt_start_utc'] = pd.to_datetime(df_aus['dt_start_utc'], format='%d.%m.%Y %H:%M')\n",
    "\n",
    "#df['dt_start_utc'] = df['dt_start_utc'].apply(lambda _: datetime.strptime(_,format='%d.%m.%Y %H:%M'))"
   ]
  },
  {
   "cell_type": "code",
   "execution_count": 708,
   "id": "64b752a4",
   "metadata": {},
   "outputs": [],
   "source": [
    "df[\"dt_start_utc\"] = pd.to_datetime(df[\"dt_start_utc\"], dayfirst=True)"
   ]
  },
  {
   "cell_type": "code",
   "execution_count": 709,
   "id": "109460a8",
   "metadata": {},
   "outputs": [
    {
     "data": {
      "text/html": [
       "<div>\n",
       "<style scoped>\n",
       "    .dataframe tbody tr th:only-of-type {\n",
       "        vertical-align: middle;\n",
       "    }\n",
       "\n",
       "    .dataframe tbody tr th {\n",
       "        vertical-align: top;\n",
       "    }\n",
       "\n",
       "    .dataframe thead th {\n",
       "        text-align: right;\n",
       "    }\n",
       "</style>\n",
       "<table border=\"1\" class=\"dataframe\">\n",
       "  <thead>\n",
       "    <tr style=\"text-align: right;\">\n",
       "      <th></th>\n",
       "      <th>dt_start_utc</th>\n",
       "      <th>rebap_eur_mwh_AUS</th>\n",
       "      <th>rz_saldo_mwh_AUS</th>\n",
       "    </tr>\n",
       "  </thead>\n",
       "  <tbody>\n",
       "    <tr>\n",
       "      <th>0</th>\n",
       "      <td>2021-01-01 00:00:00</td>\n",
       "      <td>85.42</td>\n",
       "      <td>34</td>\n",
       "    </tr>\n",
       "    <tr>\n",
       "      <th>1</th>\n",
       "      <td>2021-01-01 00:15:00</td>\n",
       "      <td>84.96</td>\n",
       "      <td>40</td>\n",
       "    </tr>\n",
       "    <tr>\n",
       "      <th>2</th>\n",
       "      <td>2021-01-01 00:30:00</td>\n",
       "      <td>80.71</td>\n",
       "      <td>24</td>\n",
       "    </tr>\n",
       "    <tr>\n",
       "      <th>3</th>\n",
       "      <td>2021-01-01 00:45:00</td>\n",
       "      <td>70.53</td>\n",
       "      <td>14</td>\n",
       "    </tr>\n",
       "    <tr>\n",
       "      <th>4</th>\n",
       "      <td>2021-01-01 01:00:00</td>\n",
       "      <td>77.71</td>\n",
       "      <td>32</td>\n",
       "    </tr>\n",
       "    <tr>\n",
       "      <th>...</th>\n",
       "      <td>...</td>\n",
       "      <td>...</td>\n",
       "      <td>...</td>\n",
       "    </tr>\n",
       "    <tr>\n",
       "      <th>20084</th>\n",
       "      <td>2021-07-29 05:00:00</td>\n",
       "      <td>13.48</td>\n",
       "      <td>8</td>\n",
       "    </tr>\n",
       "    <tr>\n",
       "      <th>20085</th>\n",
       "      <td>2021-07-29 05:15:00</td>\n",
       "      <td>86.98</td>\n",
       "      <td>-28</td>\n",
       "    </tr>\n",
       "    <tr>\n",
       "      <th>20086</th>\n",
       "      <td>2021-07-29 05:30:00</td>\n",
       "      <td>100.00</td>\n",
       "      <td>-45</td>\n",
       "    </tr>\n",
       "    <tr>\n",
       "      <th>20087</th>\n",
       "      <td>2021-07-29 05:45:00</td>\n",
       "      <td>86.98</td>\n",
       "      <td>-30</td>\n",
       "    </tr>\n",
       "    <tr>\n",
       "      <th>20088</th>\n",
       "      <td>2021-07-29 06:00:00</td>\n",
       "      <td>82.29</td>\n",
       "      <td>-9</td>\n",
       "    </tr>\n",
       "  </tbody>\n",
       "</table>\n",
       "<p>20089 rows × 3 columns</p>\n",
       "</div>"
      ],
      "text/plain": [
       "             dt_start_utc  rebap_eur_mwh_AUS  rz_saldo_mwh_AUS\n",
       "0     2021-01-01 00:00:00              85.42                34\n",
       "1     2021-01-01 00:15:00              84.96                40\n",
       "2     2021-01-01 00:30:00              80.71                24\n",
       "3     2021-01-01 00:45:00              70.53                14\n",
       "4     2021-01-01 01:00:00              77.71                32\n",
       "...                   ...                ...               ...\n",
       "20084 2021-07-29 05:00:00              13.48                 8\n",
       "20085 2021-07-29 05:15:00              86.98               -28\n",
       "20086 2021-07-29 05:30:00             100.00               -45\n",
       "20087 2021-07-29 05:45:00              86.98               -30\n",
       "20088 2021-07-29 06:00:00              82.29                -9\n",
       "\n",
       "[20089 rows x 3 columns]"
      ]
     },
     "execution_count": 709,
     "metadata": {},
     "output_type": "execute_result"
    }
   ],
   "source": [
    "df"
   ]
  },
  {
   "cell_type": "code",
   "execution_count": 710,
   "id": "9cab4c60",
   "metadata": {},
   "outputs": [],
   "source": [
    "#df_aus.eva(\"Im_sum = + Imbalance Price [EUR/MWh] - SCA|AT\")"
   ]
  },
  {
   "cell_type": "code",
   "execution_count": 711,
   "id": "31134d9c",
   "metadata": {},
   "outputs": [],
   "source": [
    "df.set_index('dt_start_utc', inplace=True)"
   ]
  },
  {
   "cell_type": "code",
   "execution_count": 712,
   "id": "f044843d",
   "metadata": {},
   "outputs": [],
   "source": [
    "df.to_csv(\"df_aus.csv\")"
   ]
  },
  {
   "cell_type": "code",
   "execution_count": 713,
   "id": "dbd6359b",
   "metadata": {},
   "outputs": [],
   "source": [
    "#df_aus.loc[df_aus[\"+ Imbalance Price [EUR/MWh] - SCA|AT\"] == \"-\", \"+ Imbalance Price [EUR/MWh] - SCA|AT\"] = None"
   ]
  },
  {
   "cell_type": "code",
   "execution_count": 714,
   "id": "ee4588e3",
   "metadata": {},
   "outputs": [],
   "source": [
    "#df_aus[\"+ Imbalance Price [EUR/MWh] - SCA|AT\"].astype(float);"
   ]
  },
  {
   "cell_type": "code",
   "execution_count": 715,
   "id": "7bae9d82",
   "metadata": {},
   "outputs": [
    {
     "data": {
      "text/html": [
       "<div>\n",
       "<style scoped>\n",
       "    .dataframe tbody tr th:only-of-type {\n",
       "        vertical-align: middle;\n",
       "    }\n",
       "\n",
       "    .dataframe tbody tr th {\n",
       "        vertical-align: top;\n",
       "    }\n",
       "\n",
       "    .dataframe thead th {\n",
       "        text-align: right;\n",
       "    }\n",
       "</style>\n",
       "<table border=\"1\" class=\"dataframe\">\n",
       "  <thead>\n",
       "    <tr style=\"text-align: right;\">\n",
       "      <th></th>\n",
       "      <th>rebap_eur_mwh_AUS</th>\n",
       "      <th>rz_saldo_mwh_AUS</th>\n",
       "    </tr>\n",
       "    <tr>\n",
       "      <th>dt_start_utc</th>\n",
       "      <th></th>\n",
       "      <th></th>\n",
       "    </tr>\n",
       "  </thead>\n",
       "  <tbody>\n",
       "    <tr>\n",
       "      <th>2021-01-01 00:00:00</th>\n",
       "      <td>85.42</td>\n",
       "      <td>34</td>\n",
       "    </tr>\n",
       "    <tr>\n",
       "      <th>2021-01-01 00:15:00</th>\n",
       "      <td>84.96</td>\n",
       "      <td>40</td>\n",
       "    </tr>\n",
       "    <tr>\n",
       "      <th>2021-01-01 00:30:00</th>\n",
       "      <td>80.71</td>\n",
       "      <td>24</td>\n",
       "    </tr>\n",
       "    <tr>\n",
       "      <th>2021-01-01 00:45:00</th>\n",
       "      <td>70.53</td>\n",
       "      <td>14</td>\n",
       "    </tr>\n",
       "    <tr>\n",
       "      <th>2021-01-01 01:00:00</th>\n",
       "      <td>77.71</td>\n",
       "      <td>32</td>\n",
       "    </tr>\n",
       "  </tbody>\n",
       "</table>\n",
       "</div>"
      ],
      "text/plain": [
       "                     rebap_eur_mwh_AUS  rz_saldo_mwh_AUS\n",
       "dt_start_utc                                            \n",
       "2021-01-01 00:00:00              85.42                34\n",
       "2021-01-01 00:15:00              84.96                40\n",
       "2021-01-01 00:30:00              80.71                24\n",
       "2021-01-01 00:45:00              70.53                14\n",
       "2021-01-01 01:00:00              77.71                32"
      ]
     },
     "execution_count": 715,
     "metadata": {},
     "output_type": "execute_result"
    }
   ],
   "source": [
    "df.head()"
   ]
  },
  {
   "cell_type": "code",
   "execution_count": 716,
   "id": "237b26bc",
   "metadata": {},
   "outputs": [],
   "source": [
    "df = df.shift(periods=10)"
   ]
  },
  {
   "cell_type": "code",
   "execution_count": null,
   "id": "9e96fbce",
   "metadata": {},
   "outputs": [],
   "source": []
  },
  {
   "cell_type": "code",
   "execution_count": 717,
   "id": "b2905924",
   "metadata": {},
   "outputs": [],
   "source": [
    "#df_aus = df_aus.resample(resample_size).interpolate(method='polynomial', order=2)"
   ]
  },
  {
   "cell_type": "code",
   "execution_count": 718,
   "id": "f364c844",
   "metadata": {},
   "outputs": [],
   "source": [
    "#df_aus.fillna(df_aus.median(), inplace=True)"
   ]
  },
  {
   "cell_type": "code",
   "execution_count": 719,
   "id": "1588a0d6",
   "metadata": {},
   "outputs": [],
   "source": [
    "df.to_csv(\"df_aus.csv\")"
   ]
  },
  {
   "cell_type": "code",
   "execution_count": 720,
   "id": "e4b3aacf",
   "metadata": {},
   "outputs": [],
   "source": [
    "#df_aus.fillna(0, inplace=True)"
   ]
  },
  {
   "cell_type": "code",
   "execution_count": 721,
   "id": "d9c3e3eb",
   "metadata": {},
   "outputs": [],
   "source": [
    "df_aus = df.copy()"
   ]
  },
  {
   "cell_type": "markdown",
   "id": "24832524",
   "metadata": {},
   "source": [
    "## 1.5 Import Danemark"
   ]
  },
  {
   "cell_type": "code",
   "execution_count": 722,
   "id": "df041a14",
   "metadata": {},
   "outputs": [],
   "source": [
    "df = pd.read_csv(\"data/entsoe/Imbalance_MB__DK.csv\")"
   ]
  },
  {
   "cell_type": "code",
   "execution_count": 723,
   "id": "49e89b74",
   "metadata": {},
   "outputs": [],
   "source": [
    "df[['dt_start_utc','Last']] =df.dt_start_utc.str.split(\"-\", expand=True)"
   ]
  },
  {
   "cell_type": "code",
   "execution_count": 724,
   "id": "62e97140",
   "metadata": {},
   "outputs": [
    {
     "name": "stderr",
     "output_type": "stream",
     "text": [
      "/var/folders/x_/rjggxhdx2j5ch0bl5gfg01480000gn/T/ipykernel_649/2771464415.py:4: FutureWarning: The default value of regex will change from True to False in a future version. In addition, single character regular expressions will*not* be treated as literal strings when regex=True.\n",
      "  df.columns = df.columns.str.replace('(', '')\n",
      "/var/folders/x_/rjggxhdx2j5ch0bl5gfg01480000gn/T/ipykernel_649/2771464415.py:5: FutureWarning: The default value of regex will change from True to False in a future version. In addition, single character regular expressions will*not* be treated as literal strings when regex=True.\n",
      "  df.columns = df.columns.str.replace(')', '')\n",
      "/var/folders/x_/rjggxhdx2j5ch0bl5gfg01480000gn/T/ipykernel_649/2771464415.py:8: FutureWarning: The default value of regex will change from True to False in a future version. In addition, single character regular expressions will*not* be treated as literal strings when regex=True.\n",
      "  df.columns = df.columns.str.replace('|','')\n",
      "/var/folders/x_/rjggxhdx2j5ch0bl5gfg01480000gn/T/ipykernel_649/2771464415.py:9: FutureWarning: The default value of regex will change from True to False in a future version. In addition, single character regular expressions will*not* be treated as literal strings when regex=True.\n",
      "  df.columns = df.columns.str.replace(']','')\n",
      "/var/folders/x_/rjggxhdx2j5ch0bl5gfg01480000gn/T/ipykernel_649/2771464415.py:10: FutureWarning: The default value of regex will change from True to False in a future version. In addition, single character regular expressions will*not* be treated as literal strings when regex=True.\n",
      "  df.columns = df.columns.str.replace('[','')\n",
      "/var/folders/x_/rjggxhdx2j5ch0bl5gfg01480000gn/T/ipykernel_649/2771464415.py:11: FutureWarning: The default value of regex will change from True to False in a future version. In addition, single character regular expressions will*not* be treated as literal strings when regex=True.\n",
      "  df.columns = df.columns.str.replace('+','plus')\n"
     ]
    }
   ],
   "source": [
    "cleaningcolumns(df)"
   ]
  },
  {
   "cell_type": "code",
   "execution_count": 725,
   "id": "7fb03038",
   "metadata": {},
   "outputs": [],
   "source": [
    "df.drop([\"last\", \"status\", \"status.1\", \"situation\", \"difference\"], axis=1, inplace=True)"
   ]
  },
  {
   "cell_type": "code",
   "execution_count": 726,
   "id": "5f57a5e2",
   "metadata": {},
   "outputs": [
    {
     "data": {
      "text/html": [
       "<div>\n",
       "<style scoped>\n",
       "    .dataframe tbody tr th:only-of-type {\n",
       "        vertical-align: middle;\n",
       "    }\n",
       "\n",
       "    .dataframe tbody tr th {\n",
       "        vertical-align: top;\n",
       "    }\n",
       "\n",
       "    .dataframe thead th {\n",
       "        text-align: right;\n",
       "    }\n",
       "</style>\n",
       "<table border=\"1\" class=\"dataframe\">\n",
       "  <thead>\n",
       "    <tr style=\"text-align: right;\">\n",
       "      <th></th>\n",
       "      <th>dt_start_utc</th>\n",
       "      <th>generationplusimbalancepriceeurmwhmbadk2</th>\n",
       "      <th>generationimbalancepriceeurmwhmbadk2</th>\n",
       "      <th>priceforconsumptioneurmwhmbadk2</th>\n",
       "      <th>totalimbalancemwhmbadk2</th>\n",
       "    </tr>\n",
       "  </thead>\n",
       "  <tbody>\n",
       "    <tr>\n",
       "      <th>0</th>\n",
       "      <td>01.01.2021 00:00</td>\n",
       "      <td>48.19</td>\n",
       "      <td>48.19</td>\n",
       "      <td>48.19</td>\n",
       "      <td>141</td>\n",
       "    </tr>\n",
       "    <tr>\n",
       "      <th>1</th>\n",
       "      <td>01.01.2021 01:00</td>\n",
       "      <td>44.68</td>\n",
       "      <td>44.68</td>\n",
       "      <td>44.68</td>\n",
       "      <td>148</td>\n",
       "    </tr>\n",
       "    <tr>\n",
       "      <th>2</th>\n",
       "      <td>01.01.2021 02:00</td>\n",
       "      <td>42.92</td>\n",
       "      <td>42.92</td>\n",
       "      <td>42.92</td>\n",
       "      <td>156</td>\n",
       "    </tr>\n",
       "    <tr>\n",
       "      <th>3</th>\n",
       "      <td>01.01.2021 03:00</td>\n",
       "      <td>40.39</td>\n",
       "      <td>40.39</td>\n",
       "      <td>40.39</td>\n",
       "      <td>196</td>\n",
       "    </tr>\n",
       "    <tr>\n",
       "      <th>4</th>\n",
       "      <td>01.01.2021 04:00</td>\n",
       "      <td>40.20</td>\n",
       "      <td>40.20</td>\n",
       "      <td>40.20</td>\n",
       "      <td>216</td>\n",
       "    </tr>\n",
       "  </tbody>\n",
       "</table>\n",
       "</div>"
      ],
      "text/plain": [
       "        dt_start_utc  generationplusimbalancepriceeurmwhmbadk2  \\\n",
       "0  01.01.2021 00:00                                      48.19   \n",
       "1  01.01.2021 01:00                                      44.68   \n",
       "2  01.01.2021 02:00                                      42.92   \n",
       "3  01.01.2021 03:00                                      40.39   \n",
       "4  01.01.2021 04:00                                      40.20   \n",
       "\n",
       "   generationimbalancepriceeurmwhmbadk2  priceforconsumptioneurmwhmbadk2  \\\n",
       "0                                 48.19                            48.19   \n",
       "1                                 44.68                            44.68   \n",
       "2                                 42.92                            42.92   \n",
       "3                                 40.39                            40.39   \n",
       "4                                 40.20                            40.20   \n",
       "\n",
       "   totalimbalancemwhmbadk2  \n",
       "0                      141  \n",
       "1                      148  \n",
       "2                      156  \n",
       "3                      196  \n",
       "4                      216  "
      ]
     },
     "execution_count": 726,
     "metadata": {},
     "output_type": "execute_result"
    }
   ],
   "source": [
    "df.head()"
   ]
  },
  {
   "cell_type": "code",
   "execution_count": 727,
   "id": "a643cc9c",
   "metadata": {},
   "outputs": [],
   "source": [
    "df.to_csv(\"df_dk.csv\")"
   ]
  },
  {
   "cell_type": "code",
   "execution_count": 728,
   "id": "dd707c92",
   "metadata": {},
   "outputs": [],
   "source": [
    "df[\"dt_start_utc\"] = pd.to_datetime(df[\"dt_start_utc\"], dayfirst=True)"
   ]
  },
  {
   "cell_type": "code",
   "execution_count": 729,
   "id": "06d89aa8",
   "metadata": {},
   "outputs": [],
   "source": [
    "df.set_index('dt_start_utc', inplace=True)"
   ]
  },
  {
   "cell_type": "code",
   "execution_count": 730,
   "id": "538f949a",
   "metadata": {},
   "outputs": [],
   "source": [
    "df = df.resample(resample_size).ffill();"
   ]
  },
  {
   "cell_type": "markdown",
   "id": "9afecd69",
   "metadata": {},
   "source": [
    "We need to forward the value for 2.5 hours."
   ]
  },
  {
   "cell_type": "code",
   "execution_count": 731,
   "id": "9f5ea600",
   "metadata": {},
   "outputs": [],
   "source": [
    "df = df.shift(periods=10)"
   ]
  },
  {
   "cell_type": "code",
   "execution_count": 732,
   "id": "695cb409",
   "metadata": {},
   "outputs": [
    {
     "data": {
      "text/html": [
       "<div>\n",
       "<style scoped>\n",
       "    .dataframe tbody tr th:only-of-type {\n",
       "        vertical-align: middle;\n",
       "    }\n",
       "\n",
       "    .dataframe tbody tr th {\n",
       "        vertical-align: top;\n",
       "    }\n",
       "\n",
       "    .dataframe thead th {\n",
       "        text-align: right;\n",
       "    }\n",
       "</style>\n",
       "<table border=\"1\" class=\"dataframe\">\n",
       "  <thead>\n",
       "    <tr style=\"text-align: right;\">\n",
       "      <th></th>\n",
       "      <th>generationplusimbalancepriceeurmwhmbadk2</th>\n",
       "      <th>generationimbalancepriceeurmwhmbadk2</th>\n",
       "      <th>priceforconsumptioneurmwhmbadk2</th>\n",
       "      <th>totalimbalancemwhmbadk2</th>\n",
       "    </tr>\n",
       "    <tr>\n",
       "      <th>dt_start_utc</th>\n",
       "      <th></th>\n",
       "      <th></th>\n",
       "      <th></th>\n",
       "      <th></th>\n",
       "    </tr>\n",
       "  </thead>\n",
       "  <tbody>\n",
       "    <tr>\n",
       "      <th>2021-01-01 00:00:00</th>\n",
       "      <td>NaN</td>\n",
       "      <td>NaN</td>\n",
       "      <td>NaN</td>\n",
       "      <td>NaN</td>\n",
       "    </tr>\n",
       "    <tr>\n",
       "      <th>2021-01-01 00:15:00</th>\n",
       "      <td>NaN</td>\n",
       "      <td>NaN</td>\n",
       "      <td>NaN</td>\n",
       "      <td>NaN</td>\n",
       "    </tr>\n",
       "    <tr>\n",
       "      <th>2021-01-01 00:30:00</th>\n",
       "      <td>NaN</td>\n",
       "      <td>NaN</td>\n",
       "      <td>NaN</td>\n",
       "      <td>NaN</td>\n",
       "    </tr>\n",
       "    <tr>\n",
       "      <th>2021-01-01 00:45:00</th>\n",
       "      <td>NaN</td>\n",
       "      <td>NaN</td>\n",
       "      <td>NaN</td>\n",
       "      <td>NaN</td>\n",
       "    </tr>\n",
       "    <tr>\n",
       "      <th>2021-01-01 01:00:00</th>\n",
       "      <td>NaN</td>\n",
       "      <td>NaN</td>\n",
       "      <td>NaN</td>\n",
       "      <td>NaN</td>\n",
       "    </tr>\n",
       "  </tbody>\n",
       "</table>\n",
       "</div>"
      ],
      "text/plain": [
       "                     generationplusimbalancepriceeurmwhmbadk2  \\\n",
       "dt_start_utc                                                    \n",
       "2021-01-01 00:00:00                                       NaN   \n",
       "2021-01-01 00:15:00                                       NaN   \n",
       "2021-01-01 00:30:00                                       NaN   \n",
       "2021-01-01 00:45:00                                       NaN   \n",
       "2021-01-01 01:00:00                                       NaN   \n",
       "\n",
       "                     generationimbalancepriceeurmwhmbadk2  \\\n",
       "dt_start_utc                                                \n",
       "2021-01-01 00:00:00                                   NaN   \n",
       "2021-01-01 00:15:00                                   NaN   \n",
       "2021-01-01 00:30:00                                   NaN   \n",
       "2021-01-01 00:45:00                                   NaN   \n",
       "2021-01-01 01:00:00                                   NaN   \n",
       "\n",
       "                     priceforconsumptioneurmwhmbadk2  totalimbalancemwhmbadk2  \n",
       "dt_start_utc                                                                   \n",
       "2021-01-01 00:00:00                              NaN                      NaN  \n",
       "2021-01-01 00:15:00                              NaN                      NaN  \n",
       "2021-01-01 00:30:00                              NaN                      NaN  \n",
       "2021-01-01 00:45:00                              NaN                      NaN  \n",
       "2021-01-01 01:00:00                              NaN                      NaN  "
      ]
     },
     "execution_count": 732,
     "metadata": {},
     "output_type": "execute_result"
    }
   ],
   "source": [
    "df.head()"
   ]
  },
  {
   "cell_type": "code",
   "execution_count": 733,
   "id": "761e484f",
   "metadata": {},
   "outputs": [],
   "source": [
    "\n",
    "\n",
    "#df = df.resample(resample_size).interpolate(method='polynomial', order=2)"
   ]
  },
  {
   "cell_type": "code",
   "execution_count": 734,
   "id": "3a87f8fa",
   "metadata": {},
   "outputs": [],
   "source": [
    "#df.loc[df[\"+ Imbalance Price [EUR/MWh] - SCA|PL\"] == \"-\", \"+ Imbalance Price [EUR/MWh] - SCA|AT\"] = None"
   ]
  },
  {
   "cell_type": "code",
   "execution_count": 735,
   "id": "80b661eb",
   "metadata": {},
   "outputs": [],
   "source": [
    "#df[\"+ Imbalance Price [EUR/MWh] - SCA|AT\"].astype(float);"
   ]
  },
  {
   "cell_type": "code",
   "execution_count": 736,
   "id": "cb3e2798",
   "metadata": {},
   "outputs": [],
   "source": [
    "#df.fillna(df.median(), inplace=True)"
   ]
  },
  {
   "cell_type": "code",
   "execution_count": 737,
   "id": "66d40475",
   "metadata": {},
   "outputs": [],
   "source": [
    "df.to_csv(\"df_dk.csv\")"
   ]
  },
  {
   "cell_type": "code",
   "execution_count": 738,
   "id": "f00fc685",
   "metadata": {},
   "outputs": [],
   "source": [
    "#df.fillna(0, inplace=True)"
   ]
  },
  {
   "cell_type": "code",
   "execution_count": 739,
   "id": "d2afe99e",
   "metadata": {},
   "outputs": [],
   "source": [
    "df_dk = df.copy()"
   ]
  },
  {
   "cell_type": "code",
   "execution_count": null,
   "id": "08b392b5",
   "metadata": {},
   "outputs": [],
   "source": []
  },
  {
   "cell_type": "markdown",
   "id": "5c0fece0",
   "metadata": {},
   "source": [
    "## 1.6 Import Danemark DK1"
   ]
  },
  {
   "cell_type": "code",
   "execution_count": 740,
   "id": "a6136c20",
   "metadata": {},
   "outputs": [],
   "source": [
    "df = pd.read_csv(\"data/entsoe/Imbalance_MB__DK_DK1.csv\")"
   ]
  },
  {
   "cell_type": "code",
   "execution_count": 741,
   "id": "98b709ec",
   "metadata": {},
   "outputs": [],
   "source": [
    "df[['dt_start_utc','Last']] =df.dt_start_utc.str.split(\"-\", expand=True)"
   ]
  },
  {
   "cell_type": "code",
   "execution_count": 742,
   "id": "b48696c8",
   "metadata": {},
   "outputs": [
    {
     "name": "stderr",
     "output_type": "stream",
     "text": [
      "/var/folders/x_/rjggxhdx2j5ch0bl5gfg01480000gn/T/ipykernel_649/2771464415.py:4: FutureWarning: The default value of regex will change from True to False in a future version. In addition, single character regular expressions will*not* be treated as literal strings when regex=True.\n",
      "  df.columns = df.columns.str.replace('(', '')\n",
      "/var/folders/x_/rjggxhdx2j5ch0bl5gfg01480000gn/T/ipykernel_649/2771464415.py:5: FutureWarning: The default value of regex will change from True to False in a future version. In addition, single character regular expressions will*not* be treated as literal strings when regex=True.\n",
      "  df.columns = df.columns.str.replace(')', '')\n",
      "/var/folders/x_/rjggxhdx2j5ch0bl5gfg01480000gn/T/ipykernel_649/2771464415.py:8: FutureWarning: The default value of regex will change from True to False in a future version. In addition, single character regular expressions will*not* be treated as literal strings when regex=True.\n",
      "  df.columns = df.columns.str.replace('|','')\n",
      "/var/folders/x_/rjggxhdx2j5ch0bl5gfg01480000gn/T/ipykernel_649/2771464415.py:9: FutureWarning: The default value of regex will change from True to False in a future version. In addition, single character regular expressions will*not* be treated as literal strings when regex=True.\n",
      "  df.columns = df.columns.str.replace(']','')\n",
      "/var/folders/x_/rjggxhdx2j5ch0bl5gfg01480000gn/T/ipykernel_649/2771464415.py:10: FutureWarning: The default value of regex will change from True to False in a future version. In addition, single character regular expressions will*not* be treated as literal strings when regex=True.\n",
      "  df.columns = df.columns.str.replace('[','')\n",
      "/var/folders/x_/rjggxhdx2j5ch0bl5gfg01480000gn/T/ipykernel_649/2771464415.py:11: FutureWarning: The default value of regex will change from True to False in a future version. In addition, single character regular expressions will*not* be treated as literal strings when regex=True.\n",
      "  df.columns = df.columns.str.replace('+','plus')\n"
     ]
    }
   ],
   "source": [
    "cleaningcolumns(df)"
   ]
  },
  {
   "cell_type": "code",
   "execution_count": 743,
   "id": "0de6c901",
   "metadata": {},
   "outputs": [],
   "source": [
    "df.drop([\"last\", \"status\", \"status.1\", \"situation\", \"difference\"], axis=1, inplace=True)"
   ]
  },
  {
   "cell_type": "code",
   "execution_count": 744,
   "id": "c250d4c5",
   "metadata": {},
   "outputs": [],
   "source": [
    "df[\"dt_start_utc\"] = pd.to_datetime(df[\"dt_start_utc\"], dayfirst=True)"
   ]
  },
  {
   "cell_type": "code",
   "execution_count": 745,
   "id": "8b251c90",
   "metadata": {},
   "outputs": [],
   "source": [
    "df.set_index('dt_start_utc', inplace=True)"
   ]
  },
  {
   "cell_type": "code",
   "execution_count": 746,
   "id": "de2aefd1",
   "metadata": {},
   "outputs": [
    {
     "data": {
      "text/html": [
       "<div>\n",
       "<style scoped>\n",
       "    .dataframe tbody tr th:only-of-type {\n",
       "        vertical-align: middle;\n",
       "    }\n",
       "\n",
       "    .dataframe tbody tr th {\n",
       "        vertical-align: top;\n",
       "    }\n",
       "\n",
       "    .dataframe thead th {\n",
       "        text-align: right;\n",
       "    }\n",
       "</style>\n",
       "<table border=\"1\" class=\"dataframe\">\n",
       "  <thead>\n",
       "    <tr style=\"text-align: right;\">\n",
       "      <th></th>\n",
       "      <th>generationplusimbalancepriceeurmwhmbadk1</th>\n",
       "      <th>generationimbalancepriceeurmwhmbadk1</th>\n",
       "      <th>priceforconsumptioneurmwhmbadk1</th>\n",
       "      <th>totalimbalancemwhmbadk1</th>\n",
       "    </tr>\n",
       "    <tr>\n",
       "      <th>dt_start_utc</th>\n",
       "      <th></th>\n",
       "      <th></th>\n",
       "      <th></th>\n",
       "      <th></th>\n",
       "    </tr>\n",
       "  </thead>\n",
       "  <tbody>\n",
       "    <tr>\n",
       "      <th>2021-01-01 00:00:00</th>\n",
       "      <td>48.19</td>\n",
       "      <td>48.19</td>\n",
       "      <td>48.19</td>\n",
       "      <td>75</td>\n",
       "    </tr>\n",
       "    <tr>\n",
       "      <th>2021-01-01 01:00:00</th>\n",
       "      <td>44.68</td>\n",
       "      <td>44.68</td>\n",
       "      <td>44.68</td>\n",
       "      <td>86</td>\n",
       "    </tr>\n",
       "    <tr>\n",
       "      <th>2021-01-01 02:00:00</th>\n",
       "      <td>42.92</td>\n",
       "      <td>42.92</td>\n",
       "      <td>42.92</td>\n",
       "      <td>30</td>\n",
       "    </tr>\n",
       "    <tr>\n",
       "      <th>2021-01-01 03:00:00</th>\n",
       "      <td>40.39</td>\n",
       "      <td>40.39</td>\n",
       "      <td>40.39</td>\n",
       "      <td>84</td>\n",
       "    </tr>\n",
       "    <tr>\n",
       "      <th>2021-01-01 04:00:00</th>\n",
       "      <td>40.20</td>\n",
       "      <td>40.20</td>\n",
       "      <td>40.20</td>\n",
       "      <td>30</td>\n",
       "    </tr>\n",
       "  </tbody>\n",
       "</table>\n",
       "</div>"
      ],
      "text/plain": [
       "                     generationplusimbalancepriceeurmwhmbadk1  \\\n",
       "dt_start_utc                                                    \n",
       "2021-01-01 00:00:00                                     48.19   \n",
       "2021-01-01 01:00:00                                     44.68   \n",
       "2021-01-01 02:00:00                                     42.92   \n",
       "2021-01-01 03:00:00                                     40.39   \n",
       "2021-01-01 04:00:00                                     40.20   \n",
       "\n",
       "                     generationimbalancepriceeurmwhmbadk1  \\\n",
       "dt_start_utc                                                \n",
       "2021-01-01 00:00:00                                 48.19   \n",
       "2021-01-01 01:00:00                                 44.68   \n",
       "2021-01-01 02:00:00                                 42.92   \n",
       "2021-01-01 03:00:00                                 40.39   \n",
       "2021-01-01 04:00:00                                 40.20   \n",
       "\n",
       "                     priceforconsumptioneurmwhmbadk1  totalimbalancemwhmbadk1  \n",
       "dt_start_utc                                                                   \n",
       "2021-01-01 00:00:00                            48.19                       75  \n",
       "2021-01-01 01:00:00                            44.68                       86  \n",
       "2021-01-01 02:00:00                            42.92                       30  \n",
       "2021-01-01 03:00:00                            40.39                       84  \n",
       "2021-01-01 04:00:00                            40.20                       30  "
      ]
     },
     "execution_count": 746,
     "metadata": {},
     "output_type": "execute_result"
    }
   ],
   "source": [
    "df.head()"
   ]
  },
  {
   "cell_type": "code",
   "execution_count": 747,
   "id": "bfa838af",
   "metadata": {},
   "outputs": [],
   "source": [
    "df = df.resample(resample_size).ffill();"
   ]
  },
  {
   "cell_type": "code",
   "execution_count": 748,
   "id": "3be7a639",
   "metadata": {},
   "outputs": [
    {
     "data": {
      "text/html": [
       "<div>\n",
       "<style scoped>\n",
       "    .dataframe tbody tr th:only-of-type {\n",
       "        vertical-align: middle;\n",
       "    }\n",
       "\n",
       "    .dataframe tbody tr th {\n",
       "        vertical-align: top;\n",
       "    }\n",
       "\n",
       "    .dataframe thead th {\n",
       "        text-align: right;\n",
       "    }\n",
       "</style>\n",
       "<table border=\"1\" class=\"dataframe\">\n",
       "  <thead>\n",
       "    <tr style=\"text-align: right;\">\n",
       "      <th></th>\n",
       "      <th>generationplusimbalancepriceeurmwhmbadk1</th>\n",
       "      <th>generationimbalancepriceeurmwhmbadk1</th>\n",
       "      <th>priceforconsumptioneurmwhmbadk1</th>\n",
       "      <th>totalimbalancemwhmbadk1</th>\n",
       "    </tr>\n",
       "    <tr>\n",
       "      <th>dt_start_utc</th>\n",
       "      <th></th>\n",
       "      <th></th>\n",
       "      <th></th>\n",
       "      <th></th>\n",
       "    </tr>\n",
       "  </thead>\n",
       "  <tbody>\n",
       "    <tr>\n",
       "      <th>2021-01-01 00:00:00</th>\n",
       "      <td>48.19</td>\n",
       "      <td>48.19</td>\n",
       "      <td>48.19</td>\n",
       "      <td>75</td>\n",
       "    </tr>\n",
       "    <tr>\n",
       "      <th>2021-01-01 00:15:00</th>\n",
       "      <td>48.19</td>\n",
       "      <td>48.19</td>\n",
       "      <td>48.19</td>\n",
       "      <td>75</td>\n",
       "    </tr>\n",
       "    <tr>\n",
       "      <th>2021-01-01 00:30:00</th>\n",
       "      <td>48.19</td>\n",
       "      <td>48.19</td>\n",
       "      <td>48.19</td>\n",
       "      <td>75</td>\n",
       "    </tr>\n",
       "    <tr>\n",
       "      <th>2021-01-01 00:45:00</th>\n",
       "      <td>48.19</td>\n",
       "      <td>48.19</td>\n",
       "      <td>48.19</td>\n",
       "      <td>75</td>\n",
       "    </tr>\n",
       "    <tr>\n",
       "      <th>2021-01-01 01:00:00</th>\n",
       "      <td>44.68</td>\n",
       "      <td>44.68</td>\n",
       "      <td>44.68</td>\n",
       "      <td>86</td>\n",
       "    </tr>\n",
       "  </tbody>\n",
       "</table>\n",
       "</div>"
      ],
      "text/plain": [
       "                     generationplusimbalancepriceeurmwhmbadk1  \\\n",
       "dt_start_utc                                                    \n",
       "2021-01-01 00:00:00                                     48.19   \n",
       "2021-01-01 00:15:00                                     48.19   \n",
       "2021-01-01 00:30:00                                     48.19   \n",
       "2021-01-01 00:45:00                                     48.19   \n",
       "2021-01-01 01:00:00                                     44.68   \n",
       "\n",
       "                     generationimbalancepriceeurmwhmbadk1  \\\n",
       "dt_start_utc                                                \n",
       "2021-01-01 00:00:00                                 48.19   \n",
       "2021-01-01 00:15:00                                 48.19   \n",
       "2021-01-01 00:30:00                                 48.19   \n",
       "2021-01-01 00:45:00                                 48.19   \n",
       "2021-01-01 01:00:00                                 44.68   \n",
       "\n",
       "                     priceforconsumptioneurmwhmbadk1  totalimbalancemwhmbadk1  \n",
       "dt_start_utc                                                                   \n",
       "2021-01-01 00:00:00                            48.19                       75  \n",
       "2021-01-01 00:15:00                            48.19                       75  \n",
       "2021-01-01 00:30:00                            48.19                       75  \n",
       "2021-01-01 00:45:00                            48.19                       75  \n",
       "2021-01-01 01:00:00                            44.68                       86  "
      ]
     },
     "execution_count": 748,
     "metadata": {},
     "output_type": "execute_result"
    }
   ],
   "source": [
    "df.head()"
   ]
  },
  {
   "cell_type": "markdown",
   "id": "c325b743",
   "metadata": {},
   "source": [
    "We need to shift 2.5hours forward."
   ]
  },
  {
   "cell_type": "code",
   "execution_count": 749,
   "id": "39ee6ef3",
   "metadata": {},
   "outputs": [],
   "source": [
    "df = df.shift(periods=10)"
   ]
  },
  {
   "cell_type": "code",
   "execution_count": 750,
   "id": "b1fe9069",
   "metadata": {},
   "outputs": [],
   "source": [
    "#df.loc[df[\"+ Imbalance Price [EUR/MWh] - SCA|PL\"] == \"-\", \"+ Imbalance Price [EUR/MWh] - SCA|AT\"] = None"
   ]
  },
  {
   "cell_type": "code",
   "execution_count": 751,
   "id": "c58f6801",
   "metadata": {},
   "outputs": [],
   "source": [
    "#df.fillna(df.median(), inplace=True)"
   ]
  },
  {
   "cell_type": "code",
   "execution_count": 752,
   "id": "7f3c4dd4",
   "metadata": {},
   "outputs": [
    {
     "data": {
      "text/html": [
       "<div>\n",
       "<style scoped>\n",
       "    .dataframe tbody tr th:only-of-type {\n",
       "        vertical-align: middle;\n",
       "    }\n",
       "\n",
       "    .dataframe tbody tr th {\n",
       "        vertical-align: top;\n",
       "    }\n",
       "\n",
       "    .dataframe thead th {\n",
       "        text-align: right;\n",
       "    }\n",
       "</style>\n",
       "<table border=\"1\" class=\"dataframe\">\n",
       "  <thead>\n",
       "    <tr style=\"text-align: right;\">\n",
       "      <th></th>\n",
       "      <th>generationplusimbalancepriceeurmwhmbadk1</th>\n",
       "      <th>generationimbalancepriceeurmwhmbadk1</th>\n",
       "      <th>priceforconsumptioneurmwhmbadk1</th>\n",
       "      <th>totalimbalancemwhmbadk1</th>\n",
       "    </tr>\n",
       "    <tr>\n",
       "      <th>dt_start_utc</th>\n",
       "      <th></th>\n",
       "      <th></th>\n",
       "      <th></th>\n",
       "      <th></th>\n",
       "    </tr>\n",
       "  </thead>\n",
       "  <tbody>\n",
       "    <tr>\n",
       "      <th>2021-01-01 00:00:00</th>\n",
       "      <td>NaN</td>\n",
       "      <td>NaN</td>\n",
       "      <td>NaN</td>\n",
       "      <td>NaN</td>\n",
       "    </tr>\n",
       "    <tr>\n",
       "      <th>2021-01-01 00:15:00</th>\n",
       "      <td>NaN</td>\n",
       "      <td>NaN</td>\n",
       "      <td>NaN</td>\n",
       "      <td>NaN</td>\n",
       "    </tr>\n",
       "    <tr>\n",
       "      <th>2021-01-01 00:30:00</th>\n",
       "      <td>NaN</td>\n",
       "      <td>NaN</td>\n",
       "      <td>NaN</td>\n",
       "      <td>NaN</td>\n",
       "    </tr>\n",
       "    <tr>\n",
       "      <th>2021-01-01 00:45:00</th>\n",
       "      <td>NaN</td>\n",
       "      <td>NaN</td>\n",
       "      <td>NaN</td>\n",
       "      <td>NaN</td>\n",
       "    </tr>\n",
       "    <tr>\n",
       "      <th>2021-01-01 01:00:00</th>\n",
       "      <td>NaN</td>\n",
       "      <td>NaN</td>\n",
       "      <td>NaN</td>\n",
       "      <td>NaN</td>\n",
       "    </tr>\n",
       "  </tbody>\n",
       "</table>\n",
       "</div>"
      ],
      "text/plain": [
       "                     generationplusimbalancepriceeurmwhmbadk1  \\\n",
       "dt_start_utc                                                    \n",
       "2021-01-01 00:00:00                                       NaN   \n",
       "2021-01-01 00:15:00                                       NaN   \n",
       "2021-01-01 00:30:00                                       NaN   \n",
       "2021-01-01 00:45:00                                       NaN   \n",
       "2021-01-01 01:00:00                                       NaN   \n",
       "\n",
       "                     generationimbalancepriceeurmwhmbadk1  \\\n",
       "dt_start_utc                                                \n",
       "2021-01-01 00:00:00                                   NaN   \n",
       "2021-01-01 00:15:00                                   NaN   \n",
       "2021-01-01 00:30:00                                   NaN   \n",
       "2021-01-01 00:45:00                                   NaN   \n",
       "2021-01-01 01:00:00                                   NaN   \n",
       "\n",
       "                     priceforconsumptioneurmwhmbadk1  totalimbalancemwhmbadk1  \n",
       "dt_start_utc                                                                   \n",
       "2021-01-01 00:00:00                              NaN                      NaN  \n",
       "2021-01-01 00:15:00                              NaN                      NaN  \n",
       "2021-01-01 00:30:00                              NaN                      NaN  \n",
       "2021-01-01 00:45:00                              NaN                      NaN  \n",
       "2021-01-01 01:00:00                              NaN                      NaN  "
      ]
     },
     "execution_count": 752,
     "metadata": {},
     "output_type": "execute_result"
    }
   ],
   "source": [
    "df.head()"
   ]
  },
  {
   "cell_type": "code",
   "execution_count": 753,
   "id": "15d20593",
   "metadata": {},
   "outputs": [],
   "source": [
    "#df.fillna(0, inplace=True)"
   ]
  },
  {
   "cell_type": "code",
   "execution_count": 754,
   "id": "fd80e833",
   "metadata": {},
   "outputs": [],
   "source": [
    "df.to_csv(\"df_dk_1.csv\")"
   ]
  },
  {
   "cell_type": "code",
   "execution_count": 755,
   "id": "8684af53",
   "metadata": {},
   "outputs": [],
   "source": [
    "#df[\"+ Imbalance Price [EUR/MWh] - SCA|AT\"].astype(float);"
   ]
  },
  {
   "cell_type": "code",
   "execution_count": 756,
   "id": "4028c437",
   "metadata": {},
   "outputs": [],
   "source": [
    "df_dk_1 = df.copy()"
   ]
  },
  {
   "cell_type": "markdown",
   "id": "53c1688d",
   "metadata": {},
   "source": [
    "## Data Merge "
   ]
  },
  {
   "cell_type": "code",
   "execution_count": 757,
   "id": "b97df0e7",
   "metadata": {},
   "outputs": [],
   "source": [
    "dfs = [df_imbalance_de, df_be, df_pl, df_aus, df_dk, df_dk_1]\n",
    "\n",
    "df_merged_2 = reduce(lambda  left,right: pd.merge(left, right, on=['dt_start_utc'],\n",
    "                                            how='inner'), dfs)"
   ]
  },
  {
   "cell_type": "code",
   "execution_count": 758,
   "id": "e42641ed",
   "metadata": {},
   "outputs": [],
   "source": [
    "#df_merged_2 = df_merged_2.drop(df_merged_2.filter(regex='Situation').columns, axis=1)\n",
    "#df_merged_2 = df_merged_2.drop(df_merged_2.filter(regex='Status').columns, axis=1)\n",
    "#df_merged_2.loc[:,~df_merged_2.columns.str.startswith('Situation')]"
   ]
  },
  {
   "cell_type": "code",
   "execution_count": 759,
   "id": "62836093",
   "metadata": {},
   "outputs": [
    {
     "data": {
      "text/html": [
       "<div>\n",
       "<style scoped>\n",
       "    .dataframe tbody tr th:only-of-type {\n",
       "        vertical-align: middle;\n",
       "    }\n",
       "\n",
       "    .dataframe tbody tr th {\n",
       "        vertical-align: top;\n",
       "    }\n",
       "\n",
       "    .dataframe thead th {\n",
       "        text-align: right;\n",
       "    }\n",
       "</style>\n",
       "<table border=\"1\" class=\"dataframe\">\n",
       "  <thead>\n",
       "    <tr style=\"text-align: right;\">\n",
       "      <th></th>\n",
       "      <th>rebap_eur_mwh</th>\n",
       "      <th>rz_saldo_mwh</th>\n",
       "      <th>rebap_eur_mwh_BE</th>\n",
       "      <th>rz_saldo_mwh_BE</th>\n",
       "      <th>rebap_eur_mwh_PL</th>\n",
       "      <th>rz_saldo_mwh_PL</th>\n",
       "      <th>rebap_eur_mwh_AUS</th>\n",
       "      <th>rz_saldo_mwh_AUS</th>\n",
       "      <th>generationplusimbalancepriceeurmwhmbadk2</th>\n",
       "      <th>generationimbalancepriceeurmwhmbadk2</th>\n",
       "      <th>priceforconsumptioneurmwhmbadk2</th>\n",
       "      <th>totalimbalancemwhmbadk2</th>\n",
       "      <th>generationplusimbalancepriceeurmwhmbadk1</th>\n",
       "      <th>generationimbalancepriceeurmwhmbadk1</th>\n",
       "      <th>priceforconsumptioneurmwhmbadk1</th>\n",
       "      <th>totalimbalancemwhmbadk1</th>\n",
       "    </tr>\n",
       "    <tr>\n",
       "      <th>dt_start_utc</th>\n",
       "      <th></th>\n",
       "      <th></th>\n",
       "      <th></th>\n",
       "      <th></th>\n",
       "      <th></th>\n",
       "      <th></th>\n",
       "      <th></th>\n",
       "      <th></th>\n",
       "      <th></th>\n",
       "      <th></th>\n",
       "      <th></th>\n",
       "      <th></th>\n",
       "      <th></th>\n",
       "      <th></th>\n",
       "      <th></th>\n",
       "      <th></th>\n",
       "    </tr>\n",
       "  </thead>\n",
       "  <tbody>\n",
       "    <tr>\n",
       "      <th>2021-01-01 00:00:00</th>\n",
       "      <td>96.09</td>\n",
       "      <td>NaN</td>\n",
       "      <td>NaN</td>\n",
       "      <td>NaN</td>\n",
       "      <td>NaN</td>\n",
       "      <td>NaN</td>\n",
       "      <td>NaN</td>\n",
       "      <td>NaN</td>\n",
       "      <td>NaN</td>\n",
       "      <td>NaN</td>\n",
       "      <td>NaN</td>\n",
       "      <td>NaN</td>\n",
       "      <td>NaN</td>\n",
       "      <td>NaN</td>\n",
       "      <td>NaN</td>\n",
       "      <td>NaN</td>\n",
       "    </tr>\n",
       "    <tr>\n",
       "      <th>2021-01-01 00:15:00</th>\n",
       "      <td>94.62</td>\n",
       "      <td>NaN</td>\n",
       "      <td>NaN</td>\n",
       "      <td>NaN</td>\n",
       "      <td>NaN</td>\n",
       "      <td>NaN</td>\n",
       "      <td>NaN</td>\n",
       "      <td>NaN</td>\n",
       "      <td>NaN</td>\n",
       "      <td>NaN</td>\n",
       "      <td>NaN</td>\n",
       "      <td>NaN</td>\n",
       "      <td>NaN</td>\n",
       "      <td>NaN</td>\n",
       "      <td>NaN</td>\n",
       "      <td>NaN</td>\n",
       "    </tr>\n",
       "    <tr>\n",
       "      <th>2021-01-01 00:30:00</th>\n",
       "      <td>92.21</td>\n",
       "      <td>-52.0</td>\n",
       "      <td>NaN</td>\n",
       "      <td>NaN</td>\n",
       "      <td>NaN</td>\n",
       "      <td>NaN</td>\n",
       "      <td>NaN</td>\n",
       "      <td>NaN</td>\n",
       "      <td>NaN</td>\n",
       "      <td>NaN</td>\n",
       "      <td>NaN</td>\n",
       "      <td>NaN</td>\n",
       "      <td>NaN</td>\n",
       "      <td>NaN</td>\n",
       "      <td>NaN</td>\n",
       "      <td>NaN</td>\n",
       "    </tr>\n",
       "    <tr>\n",
       "      <th>2021-01-01 00:45:00</th>\n",
       "      <td>27.64</td>\n",
       "      <td>-7.0</td>\n",
       "      <td>NaN</td>\n",
       "      <td>NaN</td>\n",
       "      <td>NaN</td>\n",
       "      <td>NaN</td>\n",
       "      <td>NaN</td>\n",
       "      <td>NaN</td>\n",
       "      <td>NaN</td>\n",
       "      <td>NaN</td>\n",
       "      <td>NaN</td>\n",
       "      <td>NaN</td>\n",
       "      <td>NaN</td>\n",
       "      <td>NaN</td>\n",
       "      <td>NaN</td>\n",
       "      <td>NaN</td>\n",
       "    </tr>\n",
       "    <tr>\n",
       "      <th>2021-01-01 01:00:00</th>\n",
       "      <td>13.71</td>\n",
       "      <td>-13.0</td>\n",
       "      <td>NaN</td>\n",
       "      <td>NaN</td>\n",
       "      <td>191.33</td>\n",
       "      <td>669.0</td>\n",
       "      <td>NaN</td>\n",
       "      <td>NaN</td>\n",
       "      <td>NaN</td>\n",
       "      <td>NaN</td>\n",
       "      <td>NaN</td>\n",
       "      <td>NaN</td>\n",
       "      <td>NaN</td>\n",
       "      <td>NaN</td>\n",
       "      <td>NaN</td>\n",
       "      <td>NaN</td>\n",
       "    </tr>\n",
       "    <tr>\n",
       "      <th>...</th>\n",
       "      <td>...</td>\n",
       "      <td>...</td>\n",
       "      <td>...</td>\n",
       "      <td>...</td>\n",
       "      <td>...</td>\n",
       "      <td>...</td>\n",
       "      <td>...</td>\n",
       "      <td>...</td>\n",
       "      <td>...</td>\n",
       "      <td>...</td>\n",
       "      <td>...</td>\n",
       "      <td>...</td>\n",
       "      <td>...</td>\n",
       "      <td>...</td>\n",
       "      <td>...</td>\n",
       "      <td>...</td>\n",
       "    </tr>\n",
       "    <tr>\n",
       "      <th>2021-06-30 20:45:00</th>\n",
       "      <td>119.06</td>\n",
       "      <td>-79.0</td>\n",
       "      <td>104.51</td>\n",
       "      <td>-14.0</td>\n",
       "      <td>351.15</td>\n",
       "      <td>712.0</td>\n",
       "      <td>-47.04</td>\n",
       "      <td>-102.0</td>\n",
       "      <td>98.97</td>\n",
       "      <td>268.93</td>\n",
       "      <td>268.93</td>\n",
       "      <td>220.0</td>\n",
       "      <td>98.97</td>\n",
       "      <td>268.93</td>\n",
       "      <td>268.93</td>\n",
       "      <td>100.0</td>\n",
       "    </tr>\n",
       "    <tr>\n",
       "      <th>2021-06-30 21:00:00</th>\n",
       "      <td>3.10</td>\n",
       "      <td>-91.0</td>\n",
       "      <td>116.67</td>\n",
       "      <td>-50.0</td>\n",
       "      <td>358.31</td>\n",
       "      <td>343.0</td>\n",
       "      <td>-97.86</td>\n",
       "      <td>-87.0</td>\n",
       "      <td>98.97</td>\n",
       "      <td>268.93</td>\n",
       "      <td>268.93</td>\n",
       "      <td>220.0</td>\n",
       "      <td>98.97</td>\n",
       "      <td>268.93</td>\n",
       "      <td>268.93</td>\n",
       "      <td>100.0</td>\n",
       "    </tr>\n",
       "    <tr>\n",
       "      <th>2021-06-30 21:15:00</th>\n",
       "      <td>125.68</td>\n",
       "      <td>-57.0</td>\n",
       "      <td>119.98</td>\n",
       "      <td>-49.0</td>\n",
       "      <td>358.31</td>\n",
       "      <td>343.0</td>\n",
       "      <td>-199.94</td>\n",
       "      <td>-71.0</td>\n",
       "      <td>98.97</td>\n",
       "      <td>268.93</td>\n",
       "      <td>268.93</td>\n",
       "      <td>220.0</td>\n",
       "      <td>98.97</td>\n",
       "      <td>268.93</td>\n",
       "      <td>268.93</td>\n",
       "      <td>100.0</td>\n",
       "    </tr>\n",
       "    <tr>\n",
       "      <th>2021-06-30 21:30:00</th>\n",
       "      <td>100.92</td>\n",
       "      <td>4.0</td>\n",
       "      <td>104.51</td>\n",
       "      <td>-9.0</td>\n",
       "      <td>358.31</td>\n",
       "      <td>343.0</td>\n",
       "      <td>171.06</td>\n",
       "      <td>56.0</td>\n",
       "      <td>46.00</td>\n",
       "      <td>97.02</td>\n",
       "      <td>46.00</td>\n",
       "      <td>97.0</td>\n",
       "      <td>46.00</td>\n",
       "      <td>97.02</td>\n",
       "      <td>46.00</td>\n",
       "      <td>39.0</td>\n",
       "    </tr>\n",
       "    <tr>\n",
       "      <th>2021-06-30 21:45:00</th>\n",
       "      <td>-19.88</td>\n",
       "      <td>-62.0</td>\n",
       "      <td>104.51</td>\n",
       "      <td>-15.0</td>\n",
       "      <td>358.31</td>\n",
       "      <td>343.0</td>\n",
       "      <td>175.22</td>\n",
       "      <td>86.0</td>\n",
       "      <td>46.00</td>\n",
       "      <td>97.02</td>\n",
       "      <td>46.00</td>\n",
       "      <td>97.0</td>\n",
       "      <td>46.00</td>\n",
       "      <td>97.02</td>\n",
       "      <td>46.00</td>\n",
       "      <td>39.0</td>\n",
       "    </tr>\n",
       "  </tbody>\n",
       "</table>\n",
       "<p>17368 rows × 16 columns</p>\n",
       "</div>"
      ],
      "text/plain": [
       "                     rebap_eur_mwh  rz_saldo_mwh  rebap_eur_mwh_BE  \\\n",
       "dt_start_utc                                                         \n",
       "2021-01-01 00:00:00          96.09           NaN               NaN   \n",
       "2021-01-01 00:15:00          94.62           NaN               NaN   \n",
       "2021-01-01 00:30:00          92.21         -52.0               NaN   \n",
       "2021-01-01 00:45:00          27.64          -7.0               NaN   \n",
       "2021-01-01 01:00:00          13.71         -13.0               NaN   \n",
       "...                            ...           ...               ...   \n",
       "2021-06-30 20:45:00         119.06         -79.0            104.51   \n",
       "2021-06-30 21:00:00           3.10         -91.0            116.67   \n",
       "2021-06-30 21:15:00         125.68         -57.0            119.98   \n",
       "2021-06-30 21:30:00         100.92           4.0            104.51   \n",
       "2021-06-30 21:45:00         -19.88         -62.0            104.51   \n",
       "\n",
       "                     rz_saldo_mwh_BE  rebap_eur_mwh_PL  rz_saldo_mwh_PL  \\\n",
       "dt_start_utc                                                              \n",
       "2021-01-01 00:00:00              NaN               NaN              NaN   \n",
       "2021-01-01 00:15:00              NaN               NaN              NaN   \n",
       "2021-01-01 00:30:00              NaN               NaN              NaN   \n",
       "2021-01-01 00:45:00              NaN               NaN              NaN   \n",
       "2021-01-01 01:00:00              NaN            191.33            669.0   \n",
       "...                              ...               ...              ...   \n",
       "2021-06-30 20:45:00            -14.0            351.15            712.0   \n",
       "2021-06-30 21:00:00            -50.0            358.31            343.0   \n",
       "2021-06-30 21:15:00            -49.0            358.31            343.0   \n",
       "2021-06-30 21:30:00             -9.0            358.31            343.0   \n",
       "2021-06-30 21:45:00            -15.0            358.31            343.0   \n",
       "\n",
       "                     rebap_eur_mwh_AUS  rz_saldo_mwh_AUS  \\\n",
       "dt_start_utc                                               \n",
       "2021-01-01 00:00:00                NaN               NaN   \n",
       "2021-01-01 00:15:00                NaN               NaN   \n",
       "2021-01-01 00:30:00                NaN               NaN   \n",
       "2021-01-01 00:45:00                NaN               NaN   \n",
       "2021-01-01 01:00:00                NaN               NaN   \n",
       "...                                ...               ...   \n",
       "2021-06-30 20:45:00             -47.04            -102.0   \n",
       "2021-06-30 21:00:00             -97.86             -87.0   \n",
       "2021-06-30 21:15:00            -199.94             -71.0   \n",
       "2021-06-30 21:30:00             171.06              56.0   \n",
       "2021-06-30 21:45:00             175.22              86.0   \n",
       "\n",
       "                     generationplusimbalancepriceeurmwhmbadk2  \\\n",
       "dt_start_utc                                                    \n",
       "2021-01-01 00:00:00                                       NaN   \n",
       "2021-01-01 00:15:00                                       NaN   \n",
       "2021-01-01 00:30:00                                       NaN   \n",
       "2021-01-01 00:45:00                                       NaN   \n",
       "2021-01-01 01:00:00                                       NaN   \n",
       "...                                                       ...   \n",
       "2021-06-30 20:45:00                                     98.97   \n",
       "2021-06-30 21:00:00                                     98.97   \n",
       "2021-06-30 21:15:00                                     98.97   \n",
       "2021-06-30 21:30:00                                     46.00   \n",
       "2021-06-30 21:45:00                                     46.00   \n",
       "\n",
       "                     generationimbalancepriceeurmwhmbadk2  \\\n",
       "dt_start_utc                                                \n",
       "2021-01-01 00:00:00                                   NaN   \n",
       "2021-01-01 00:15:00                                   NaN   \n",
       "2021-01-01 00:30:00                                   NaN   \n",
       "2021-01-01 00:45:00                                   NaN   \n",
       "2021-01-01 01:00:00                                   NaN   \n",
       "...                                                   ...   \n",
       "2021-06-30 20:45:00                                268.93   \n",
       "2021-06-30 21:00:00                                268.93   \n",
       "2021-06-30 21:15:00                                268.93   \n",
       "2021-06-30 21:30:00                                 97.02   \n",
       "2021-06-30 21:45:00                                 97.02   \n",
       "\n",
       "                     priceforconsumptioneurmwhmbadk2  totalimbalancemwhmbadk2  \\\n",
       "dt_start_utc                                                                    \n",
       "2021-01-01 00:00:00                              NaN                      NaN   \n",
       "2021-01-01 00:15:00                              NaN                      NaN   \n",
       "2021-01-01 00:30:00                              NaN                      NaN   \n",
       "2021-01-01 00:45:00                              NaN                      NaN   \n",
       "2021-01-01 01:00:00                              NaN                      NaN   \n",
       "...                                              ...                      ...   \n",
       "2021-06-30 20:45:00                           268.93                    220.0   \n",
       "2021-06-30 21:00:00                           268.93                    220.0   \n",
       "2021-06-30 21:15:00                           268.93                    220.0   \n",
       "2021-06-30 21:30:00                            46.00                     97.0   \n",
       "2021-06-30 21:45:00                            46.00                     97.0   \n",
       "\n",
       "                     generationplusimbalancepriceeurmwhmbadk1  \\\n",
       "dt_start_utc                                                    \n",
       "2021-01-01 00:00:00                                       NaN   \n",
       "2021-01-01 00:15:00                                       NaN   \n",
       "2021-01-01 00:30:00                                       NaN   \n",
       "2021-01-01 00:45:00                                       NaN   \n",
       "2021-01-01 01:00:00                                       NaN   \n",
       "...                                                       ...   \n",
       "2021-06-30 20:45:00                                     98.97   \n",
       "2021-06-30 21:00:00                                     98.97   \n",
       "2021-06-30 21:15:00                                     98.97   \n",
       "2021-06-30 21:30:00                                     46.00   \n",
       "2021-06-30 21:45:00                                     46.00   \n",
       "\n",
       "                     generationimbalancepriceeurmwhmbadk1  \\\n",
       "dt_start_utc                                                \n",
       "2021-01-01 00:00:00                                   NaN   \n",
       "2021-01-01 00:15:00                                   NaN   \n",
       "2021-01-01 00:30:00                                   NaN   \n",
       "2021-01-01 00:45:00                                   NaN   \n",
       "2021-01-01 01:00:00                                   NaN   \n",
       "...                                                   ...   \n",
       "2021-06-30 20:45:00                                268.93   \n",
       "2021-06-30 21:00:00                                268.93   \n",
       "2021-06-30 21:15:00                                268.93   \n",
       "2021-06-30 21:30:00                                 97.02   \n",
       "2021-06-30 21:45:00                                 97.02   \n",
       "\n",
       "                     priceforconsumptioneurmwhmbadk1  totalimbalancemwhmbadk1  \n",
       "dt_start_utc                                                                   \n",
       "2021-01-01 00:00:00                              NaN                      NaN  \n",
       "2021-01-01 00:15:00                              NaN                      NaN  \n",
       "2021-01-01 00:30:00                              NaN                      NaN  \n",
       "2021-01-01 00:45:00                              NaN                      NaN  \n",
       "2021-01-01 01:00:00                              NaN                      NaN  \n",
       "...                                              ...                      ...  \n",
       "2021-06-30 20:45:00                           268.93                    100.0  \n",
       "2021-06-30 21:00:00                           268.93                    100.0  \n",
       "2021-06-30 21:15:00                           268.93                    100.0  \n",
       "2021-06-30 21:30:00                            46.00                     39.0  \n",
       "2021-06-30 21:45:00                            46.00                     39.0  \n",
       "\n",
       "[17368 rows x 16 columns]"
      ]
     },
     "execution_count": 759,
     "metadata": {},
     "output_type": "execute_result"
    }
   ],
   "source": [
    "df_merged_2"
   ]
  },
  {
   "cell_type": "code",
   "execution_count": 760,
   "id": "104e9c34",
   "metadata": {},
   "outputs": [
    {
     "data": {
      "text/html": [
       "<div>\n",
       "<style scoped>\n",
       "    .dataframe tbody tr th:only-of-type {\n",
       "        vertical-align: middle;\n",
       "    }\n",
       "\n",
       "    .dataframe tbody tr th {\n",
       "        vertical-align: top;\n",
       "    }\n",
       "\n",
       "    .dataframe thead th {\n",
       "        text-align: right;\n",
       "    }\n",
       "</style>\n",
       "<table border=\"1\" class=\"dataframe\">\n",
       "  <thead>\n",
       "    <tr style=\"text-align: right;\">\n",
       "      <th></th>\n",
       "      <th>rebap_eur_mwh</th>\n",
       "      <th>rz_saldo_mwh</th>\n",
       "      <th>rebap_eur_mwh_BE</th>\n",
       "      <th>rz_saldo_mwh_BE</th>\n",
       "      <th>rebap_eur_mwh_PL</th>\n",
       "      <th>rz_saldo_mwh_PL</th>\n",
       "      <th>rebap_eur_mwh_AUS</th>\n",
       "      <th>rz_saldo_mwh_AUS</th>\n",
       "      <th>generationplusimbalancepriceeurmwhmbadk2</th>\n",
       "      <th>generationimbalancepriceeurmwhmbadk2</th>\n",
       "      <th>priceforconsumptioneurmwhmbadk2</th>\n",
       "      <th>totalimbalancemwhmbadk2</th>\n",
       "      <th>generationplusimbalancepriceeurmwhmbadk1</th>\n",
       "      <th>generationimbalancepriceeurmwhmbadk1</th>\n",
       "      <th>priceforconsumptioneurmwhmbadk1</th>\n",
       "      <th>totalimbalancemwhmbadk1</th>\n",
       "    </tr>\n",
       "    <tr>\n",
       "      <th>dt_start_utc</th>\n",
       "      <th></th>\n",
       "      <th></th>\n",
       "      <th></th>\n",
       "      <th></th>\n",
       "      <th></th>\n",
       "      <th></th>\n",
       "      <th></th>\n",
       "      <th></th>\n",
       "      <th></th>\n",
       "      <th></th>\n",
       "      <th></th>\n",
       "      <th></th>\n",
       "      <th></th>\n",
       "      <th></th>\n",
       "      <th></th>\n",
       "      <th></th>\n",
       "    </tr>\n",
       "  </thead>\n",
       "  <tbody>\n",
       "    <tr>\n",
       "      <th>2021-01-01 00:00:00</th>\n",
       "      <td>96.09</td>\n",
       "      <td>NaN</td>\n",
       "      <td>NaN</td>\n",
       "      <td>NaN</td>\n",
       "      <td>NaN</td>\n",
       "      <td>NaN</td>\n",
       "      <td>NaN</td>\n",
       "      <td>NaN</td>\n",
       "      <td>NaN</td>\n",
       "      <td>NaN</td>\n",
       "      <td>NaN</td>\n",
       "      <td>NaN</td>\n",
       "      <td>NaN</td>\n",
       "      <td>NaN</td>\n",
       "      <td>NaN</td>\n",
       "      <td>NaN</td>\n",
       "    </tr>\n",
       "    <tr>\n",
       "      <th>2021-01-01 00:15:00</th>\n",
       "      <td>94.62</td>\n",
       "      <td>NaN</td>\n",
       "      <td>NaN</td>\n",
       "      <td>NaN</td>\n",
       "      <td>NaN</td>\n",
       "      <td>NaN</td>\n",
       "      <td>NaN</td>\n",
       "      <td>NaN</td>\n",
       "      <td>NaN</td>\n",
       "      <td>NaN</td>\n",
       "      <td>NaN</td>\n",
       "      <td>NaN</td>\n",
       "      <td>NaN</td>\n",
       "      <td>NaN</td>\n",
       "      <td>NaN</td>\n",
       "      <td>NaN</td>\n",
       "    </tr>\n",
       "    <tr>\n",
       "      <th>2021-01-01 00:30:00</th>\n",
       "      <td>92.21</td>\n",
       "      <td>-52.0</td>\n",
       "      <td>NaN</td>\n",
       "      <td>NaN</td>\n",
       "      <td>NaN</td>\n",
       "      <td>NaN</td>\n",
       "      <td>NaN</td>\n",
       "      <td>NaN</td>\n",
       "      <td>NaN</td>\n",
       "      <td>NaN</td>\n",
       "      <td>NaN</td>\n",
       "      <td>NaN</td>\n",
       "      <td>NaN</td>\n",
       "      <td>NaN</td>\n",
       "      <td>NaN</td>\n",
       "      <td>NaN</td>\n",
       "    </tr>\n",
       "    <tr>\n",
       "      <th>2021-01-01 00:45:00</th>\n",
       "      <td>27.64</td>\n",
       "      <td>-7.0</td>\n",
       "      <td>NaN</td>\n",
       "      <td>NaN</td>\n",
       "      <td>NaN</td>\n",
       "      <td>NaN</td>\n",
       "      <td>NaN</td>\n",
       "      <td>NaN</td>\n",
       "      <td>NaN</td>\n",
       "      <td>NaN</td>\n",
       "      <td>NaN</td>\n",
       "      <td>NaN</td>\n",
       "      <td>NaN</td>\n",
       "      <td>NaN</td>\n",
       "      <td>NaN</td>\n",
       "      <td>NaN</td>\n",
       "    </tr>\n",
       "    <tr>\n",
       "      <th>2021-01-01 01:00:00</th>\n",
       "      <td>13.71</td>\n",
       "      <td>-13.0</td>\n",
       "      <td>NaN</td>\n",
       "      <td>NaN</td>\n",
       "      <td>191.33</td>\n",
       "      <td>669.0</td>\n",
       "      <td>NaN</td>\n",
       "      <td>NaN</td>\n",
       "      <td>NaN</td>\n",
       "      <td>NaN</td>\n",
       "      <td>NaN</td>\n",
       "      <td>NaN</td>\n",
       "      <td>NaN</td>\n",
       "      <td>NaN</td>\n",
       "      <td>NaN</td>\n",
       "      <td>NaN</td>\n",
       "    </tr>\n",
       "  </tbody>\n",
       "</table>\n",
       "</div>"
      ],
      "text/plain": [
       "                     rebap_eur_mwh  rz_saldo_mwh  rebap_eur_mwh_BE  \\\n",
       "dt_start_utc                                                         \n",
       "2021-01-01 00:00:00          96.09           NaN               NaN   \n",
       "2021-01-01 00:15:00          94.62           NaN               NaN   \n",
       "2021-01-01 00:30:00          92.21         -52.0               NaN   \n",
       "2021-01-01 00:45:00          27.64          -7.0               NaN   \n",
       "2021-01-01 01:00:00          13.71         -13.0               NaN   \n",
       "\n",
       "                     rz_saldo_mwh_BE  rebap_eur_mwh_PL  rz_saldo_mwh_PL  \\\n",
       "dt_start_utc                                                              \n",
       "2021-01-01 00:00:00              NaN               NaN              NaN   \n",
       "2021-01-01 00:15:00              NaN               NaN              NaN   \n",
       "2021-01-01 00:30:00              NaN               NaN              NaN   \n",
       "2021-01-01 00:45:00              NaN               NaN              NaN   \n",
       "2021-01-01 01:00:00              NaN            191.33            669.0   \n",
       "\n",
       "                     rebap_eur_mwh_AUS  rz_saldo_mwh_AUS  \\\n",
       "dt_start_utc                                               \n",
       "2021-01-01 00:00:00                NaN               NaN   \n",
       "2021-01-01 00:15:00                NaN               NaN   \n",
       "2021-01-01 00:30:00                NaN               NaN   \n",
       "2021-01-01 00:45:00                NaN               NaN   \n",
       "2021-01-01 01:00:00                NaN               NaN   \n",
       "\n",
       "                     generationplusimbalancepriceeurmwhmbadk2  \\\n",
       "dt_start_utc                                                    \n",
       "2021-01-01 00:00:00                                       NaN   \n",
       "2021-01-01 00:15:00                                       NaN   \n",
       "2021-01-01 00:30:00                                       NaN   \n",
       "2021-01-01 00:45:00                                       NaN   \n",
       "2021-01-01 01:00:00                                       NaN   \n",
       "\n",
       "                     generationimbalancepriceeurmwhmbadk2  \\\n",
       "dt_start_utc                                                \n",
       "2021-01-01 00:00:00                                   NaN   \n",
       "2021-01-01 00:15:00                                   NaN   \n",
       "2021-01-01 00:30:00                                   NaN   \n",
       "2021-01-01 00:45:00                                   NaN   \n",
       "2021-01-01 01:00:00                                   NaN   \n",
       "\n",
       "                     priceforconsumptioneurmwhmbadk2  totalimbalancemwhmbadk2  \\\n",
       "dt_start_utc                                                                    \n",
       "2021-01-01 00:00:00                              NaN                      NaN   \n",
       "2021-01-01 00:15:00                              NaN                      NaN   \n",
       "2021-01-01 00:30:00                              NaN                      NaN   \n",
       "2021-01-01 00:45:00                              NaN                      NaN   \n",
       "2021-01-01 01:00:00                              NaN                      NaN   \n",
       "\n",
       "                     generationplusimbalancepriceeurmwhmbadk1  \\\n",
       "dt_start_utc                                                    \n",
       "2021-01-01 00:00:00                                       NaN   \n",
       "2021-01-01 00:15:00                                       NaN   \n",
       "2021-01-01 00:30:00                                       NaN   \n",
       "2021-01-01 00:45:00                                       NaN   \n",
       "2021-01-01 01:00:00                                       NaN   \n",
       "\n",
       "                     generationimbalancepriceeurmwhmbadk1  \\\n",
       "dt_start_utc                                                \n",
       "2021-01-01 00:00:00                                   NaN   \n",
       "2021-01-01 00:15:00                                   NaN   \n",
       "2021-01-01 00:30:00                                   NaN   \n",
       "2021-01-01 00:45:00                                   NaN   \n",
       "2021-01-01 01:00:00                                   NaN   \n",
       "\n",
       "                     priceforconsumptioneurmwhmbadk1  totalimbalancemwhmbadk1  \n",
       "dt_start_utc                                                                   \n",
       "2021-01-01 00:00:00                              NaN                      NaN  \n",
       "2021-01-01 00:15:00                              NaN                      NaN  \n",
       "2021-01-01 00:30:00                              NaN                      NaN  \n",
       "2021-01-01 00:45:00                              NaN                      NaN  \n",
       "2021-01-01 01:00:00                              NaN                      NaN  "
      ]
     },
     "execution_count": 760,
     "metadata": {},
     "output_type": "execute_result"
    }
   ],
   "source": [
    "df_merged_2.head()"
   ]
  },
  {
   "cell_type": "code",
   "execution_count": 761,
   "id": "9d46a883",
   "metadata": {},
   "outputs": [
    {
     "data": {
      "text/plain": [
       "(17368, 16)"
      ]
     },
     "execution_count": 761,
     "metadata": {},
     "output_type": "execute_result"
    }
   ],
   "source": [
    "df_merged_2.shape"
   ]
  },
  {
   "cell_type": "code",
   "execution_count": 762,
   "id": "fdd10e96",
   "metadata": {},
   "outputs": [
    {
     "data": {
      "text/html": [
       "<div>\n",
       "<style scoped>\n",
       "    .dataframe tbody tr th:only-of-type {\n",
       "        vertical-align: middle;\n",
       "    }\n",
       "\n",
       "    .dataframe tbody tr th {\n",
       "        vertical-align: top;\n",
       "    }\n",
       "\n",
       "    .dataframe thead th {\n",
       "        text-align: right;\n",
       "    }\n",
       "</style>\n",
       "<table border=\"1\" class=\"dataframe\">\n",
       "  <thead>\n",
       "    <tr style=\"text-align: right;\">\n",
       "      <th></th>\n",
       "      <th>rebap_eur_mwh</th>\n",
       "      <th>rz_saldo_mwh</th>\n",
       "      <th>rebap_eur_mwh_BE</th>\n",
       "      <th>rz_saldo_mwh_BE</th>\n",
       "      <th>rebap_eur_mwh_PL</th>\n",
       "      <th>rz_saldo_mwh_PL</th>\n",
       "      <th>rebap_eur_mwh_AUS</th>\n",
       "      <th>rz_saldo_mwh_AUS</th>\n",
       "      <th>generationplusimbalancepriceeurmwhmbadk2</th>\n",
       "      <th>generationimbalancepriceeurmwhmbadk2</th>\n",
       "      <th>priceforconsumptioneurmwhmbadk2</th>\n",
       "      <th>totalimbalancemwhmbadk2</th>\n",
       "      <th>generationplusimbalancepriceeurmwhmbadk1</th>\n",
       "      <th>generationimbalancepriceeurmwhmbadk1</th>\n",
       "      <th>priceforconsumptioneurmwhmbadk1</th>\n",
       "      <th>totalimbalancemwhmbadk1</th>\n",
       "    </tr>\n",
       "    <tr>\n",
       "      <th>dt_start_utc</th>\n",
       "      <th></th>\n",
       "      <th></th>\n",
       "      <th></th>\n",
       "      <th></th>\n",
       "      <th></th>\n",
       "      <th></th>\n",
       "      <th></th>\n",
       "      <th></th>\n",
       "      <th></th>\n",
       "      <th></th>\n",
       "      <th></th>\n",
       "      <th></th>\n",
       "      <th></th>\n",
       "      <th></th>\n",
       "      <th></th>\n",
       "      <th></th>\n",
       "    </tr>\n",
       "  </thead>\n",
       "  <tbody>\n",
       "    <tr>\n",
       "      <th>2021-06-30 20:45:00</th>\n",
       "      <td>119.06</td>\n",
       "      <td>-79.0</td>\n",
       "      <td>104.51</td>\n",
       "      <td>-14.0</td>\n",
       "      <td>351.15</td>\n",
       "      <td>712.0</td>\n",
       "      <td>-47.04</td>\n",
       "      <td>-102.0</td>\n",
       "      <td>98.97</td>\n",
       "      <td>268.93</td>\n",
       "      <td>268.93</td>\n",
       "      <td>220.0</td>\n",
       "      <td>98.97</td>\n",
       "      <td>268.93</td>\n",
       "      <td>268.93</td>\n",
       "      <td>100.0</td>\n",
       "    </tr>\n",
       "    <tr>\n",
       "      <th>2021-06-30 21:00:00</th>\n",
       "      <td>3.10</td>\n",
       "      <td>-91.0</td>\n",
       "      <td>116.67</td>\n",
       "      <td>-50.0</td>\n",
       "      <td>358.31</td>\n",
       "      <td>343.0</td>\n",
       "      <td>-97.86</td>\n",
       "      <td>-87.0</td>\n",
       "      <td>98.97</td>\n",
       "      <td>268.93</td>\n",
       "      <td>268.93</td>\n",
       "      <td>220.0</td>\n",
       "      <td>98.97</td>\n",
       "      <td>268.93</td>\n",
       "      <td>268.93</td>\n",
       "      <td>100.0</td>\n",
       "    </tr>\n",
       "    <tr>\n",
       "      <th>2021-06-30 21:15:00</th>\n",
       "      <td>125.68</td>\n",
       "      <td>-57.0</td>\n",
       "      <td>119.98</td>\n",
       "      <td>-49.0</td>\n",
       "      <td>358.31</td>\n",
       "      <td>343.0</td>\n",
       "      <td>-199.94</td>\n",
       "      <td>-71.0</td>\n",
       "      <td>98.97</td>\n",
       "      <td>268.93</td>\n",
       "      <td>268.93</td>\n",
       "      <td>220.0</td>\n",
       "      <td>98.97</td>\n",
       "      <td>268.93</td>\n",
       "      <td>268.93</td>\n",
       "      <td>100.0</td>\n",
       "    </tr>\n",
       "    <tr>\n",
       "      <th>2021-06-30 21:30:00</th>\n",
       "      <td>100.92</td>\n",
       "      <td>4.0</td>\n",
       "      <td>104.51</td>\n",
       "      <td>-9.0</td>\n",
       "      <td>358.31</td>\n",
       "      <td>343.0</td>\n",
       "      <td>171.06</td>\n",
       "      <td>56.0</td>\n",
       "      <td>46.00</td>\n",
       "      <td>97.02</td>\n",
       "      <td>46.00</td>\n",
       "      <td>97.0</td>\n",
       "      <td>46.00</td>\n",
       "      <td>97.02</td>\n",
       "      <td>46.00</td>\n",
       "      <td>39.0</td>\n",
       "    </tr>\n",
       "    <tr>\n",
       "      <th>2021-06-30 21:45:00</th>\n",
       "      <td>-19.88</td>\n",
       "      <td>-62.0</td>\n",
       "      <td>104.51</td>\n",
       "      <td>-15.0</td>\n",
       "      <td>358.31</td>\n",
       "      <td>343.0</td>\n",
       "      <td>175.22</td>\n",
       "      <td>86.0</td>\n",
       "      <td>46.00</td>\n",
       "      <td>97.02</td>\n",
       "      <td>46.00</td>\n",
       "      <td>97.0</td>\n",
       "      <td>46.00</td>\n",
       "      <td>97.02</td>\n",
       "      <td>46.00</td>\n",
       "      <td>39.0</td>\n",
       "    </tr>\n",
       "  </tbody>\n",
       "</table>\n",
       "</div>"
      ],
      "text/plain": [
       "                     rebap_eur_mwh  rz_saldo_mwh  rebap_eur_mwh_BE  \\\n",
       "dt_start_utc                                                         \n",
       "2021-06-30 20:45:00         119.06         -79.0            104.51   \n",
       "2021-06-30 21:00:00           3.10         -91.0            116.67   \n",
       "2021-06-30 21:15:00         125.68         -57.0            119.98   \n",
       "2021-06-30 21:30:00         100.92           4.0            104.51   \n",
       "2021-06-30 21:45:00         -19.88         -62.0            104.51   \n",
       "\n",
       "                     rz_saldo_mwh_BE  rebap_eur_mwh_PL  rz_saldo_mwh_PL  \\\n",
       "dt_start_utc                                                              \n",
       "2021-06-30 20:45:00            -14.0            351.15            712.0   \n",
       "2021-06-30 21:00:00            -50.0            358.31            343.0   \n",
       "2021-06-30 21:15:00            -49.0            358.31            343.0   \n",
       "2021-06-30 21:30:00             -9.0            358.31            343.0   \n",
       "2021-06-30 21:45:00            -15.0            358.31            343.0   \n",
       "\n",
       "                     rebap_eur_mwh_AUS  rz_saldo_mwh_AUS  \\\n",
       "dt_start_utc                                               \n",
       "2021-06-30 20:45:00             -47.04            -102.0   \n",
       "2021-06-30 21:00:00             -97.86             -87.0   \n",
       "2021-06-30 21:15:00            -199.94             -71.0   \n",
       "2021-06-30 21:30:00             171.06              56.0   \n",
       "2021-06-30 21:45:00             175.22              86.0   \n",
       "\n",
       "                     generationplusimbalancepriceeurmwhmbadk2  \\\n",
       "dt_start_utc                                                    \n",
       "2021-06-30 20:45:00                                     98.97   \n",
       "2021-06-30 21:00:00                                     98.97   \n",
       "2021-06-30 21:15:00                                     98.97   \n",
       "2021-06-30 21:30:00                                     46.00   \n",
       "2021-06-30 21:45:00                                     46.00   \n",
       "\n",
       "                     generationimbalancepriceeurmwhmbadk2  \\\n",
       "dt_start_utc                                                \n",
       "2021-06-30 20:45:00                                268.93   \n",
       "2021-06-30 21:00:00                                268.93   \n",
       "2021-06-30 21:15:00                                268.93   \n",
       "2021-06-30 21:30:00                                 97.02   \n",
       "2021-06-30 21:45:00                                 97.02   \n",
       "\n",
       "                     priceforconsumptioneurmwhmbadk2  totalimbalancemwhmbadk2  \\\n",
       "dt_start_utc                                                                    \n",
       "2021-06-30 20:45:00                           268.93                    220.0   \n",
       "2021-06-30 21:00:00                           268.93                    220.0   \n",
       "2021-06-30 21:15:00                           268.93                    220.0   \n",
       "2021-06-30 21:30:00                            46.00                     97.0   \n",
       "2021-06-30 21:45:00                            46.00                     97.0   \n",
       "\n",
       "                     generationplusimbalancepriceeurmwhmbadk1  \\\n",
       "dt_start_utc                                                    \n",
       "2021-06-30 20:45:00                                     98.97   \n",
       "2021-06-30 21:00:00                                     98.97   \n",
       "2021-06-30 21:15:00                                     98.97   \n",
       "2021-06-30 21:30:00                                     46.00   \n",
       "2021-06-30 21:45:00                                     46.00   \n",
       "\n",
       "                     generationimbalancepriceeurmwhmbadk1  \\\n",
       "dt_start_utc                                                \n",
       "2021-06-30 20:45:00                                268.93   \n",
       "2021-06-30 21:00:00                                268.93   \n",
       "2021-06-30 21:15:00                                268.93   \n",
       "2021-06-30 21:30:00                                 97.02   \n",
       "2021-06-30 21:45:00                                 97.02   \n",
       "\n",
       "                     priceforconsumptioneurmwhmbadk1  totalimbalancemwhmbadk1  \n",
       "dt_start_utc                                                                   \n",
       "2021-06-30 20:45:00                           268.93                    100.0  \n",
       "2021-06-30 21:00:00                           268.93                    100.0  \n",
       "2021-06-30 21:15:00                           268.93                    100.0  \n",
       "2021-06-30 21:30:00                            46.00                     39.0  \n",
       "2021-06-30 21:45:00                            46.00                     39.0  "
      ]
     },
     "execution_count": 762,
     "metadata": {},
     "output_type": "execute_result"
    }
   ],
   "source": [
    "df_merged_2.tail()"
   ]
  },
  {
   "cell_type": "code",
   "execution_count": 763,
   "id": "8c02a2c1",
   "metadata": {},
   "outputs": [
    {
     "name": "stdout",
     "output_type": "stream",
     "text": [
      "The data frame contains 0 infinite values and 126 missing values.\n"
     ]
    }
   ],
   "source": [
    "count_inf = np.isinf(df_merged_2).values.sum()\n",
    "count_nan = df_merged_2.isnull().sum().sum()\n",
    "print(\"The data frame contains \" + str(count_inf) + \" infinite values and \" + str(count_nan) + \" missing values.\")"
   ]
  },
  {
   "cell_type": "code",
   "execution_count": 764,
   "id": "df140217",
   "metadata": {},
   "outputs": [],
   "source": [
    "df_merged_2.to_csv(\"df_merged_2_test.csv\")"
   ]
  },
  {
   "cell_type": "markdown",
   "id": "91d17178",
   "metadata": {},
   "source": [
    "## Save Data Set"
   ]
  },
  {
   "cell_type": "code",
   "execution_count": 765,
   "id": "4ef41e82",
   "metadata": {},
   "outputs": [
    {
     "name": "stdout",
     "output_type": "stream",
     "text": [
      "The data frame contains 0 infinite values\n",
      "The Data Frame has 126 missing values.\n"
     ]
    }
   ],
   "source": [
    "count = np.isinf(df_merged_2).values.sum()\n",
    "print(\"The data frame contains \" + str(count) + \" infinite values\")\n",
    "print(\"The Data Frame has\",df_merged_2.isnull().sum().sum(),\"missing values.\")"
   ]
  },
  {
   "cell_type": "code",
   "execution_count": 766,
   "id": "e91e055b",
   "metadata": {},
   "outputs": [],
   "source": [
    "df_merged_2.to_pickle('data/pickle/df_merged_2.pickle')"
   ]
  },
  {
   "cell_type": "code",
   "execution_count": null,
   "id": "f3ce4d15",
   "metadata": {},
   "outputs": [],
   "source": []
  }
 ],
 "metadata": {
  "kernelspec": {
   "display_name": "Python 3 (ipykernel)",
   "language": "python",
   "name": "python3"
  },
  "language_info": {
   "codemirror_mode": {
    "name": "ipython",
    "version": 3
   },
   "file_extension": ".py",
   "mimetype": "text/x-python",
   "name": "python",
   "nbconvert_exporter": "python",
   "pygments_lexer": "ipython3",
   "version": "3.8.5"
  }
 },
 "nbformat": 4,
 "nbformat_minor": 5
}
