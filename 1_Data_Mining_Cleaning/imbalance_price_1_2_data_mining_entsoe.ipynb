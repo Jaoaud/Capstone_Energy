{
 "cells": [
  {
   "cell_type": "markdown",
   "source": [
    "## Data Origin :: entsoe"
   ],
   "metadata": {}
  },
  {
   "cell_type": "markdown",
   "source": [
    "The origin for this data is the transparency platform \"entsoe\". It's a central collection and publiaction of electricity generation, transportation and consumption data and information for the pan-European market. The url for the following data is: https://transparency.entsoe.eu/balancing/r2/imbalance/show\n"
   ],
   "metadata": {}
  },
  {
   "cell_type": "markdown",
   "source": [
    "## Part 1: Data mining"
   ],
   "metadata": {}
  },
  {
   "cell_type": "markdown",
   "source": [
    "## Imports"
   ],
   "metadata": {}
  },
  {
   "cell_type": "code",
   "execution_count": 1,
   "source": [
    "import datetime, time, os\n",
    "import matplotlib.pyplot as plt\n",
    "import numpy as np\n",
    "import pandas as pd\n",
    "import seaborn as sns\n",
    "import pandas as pd\n",
    "import glob\n",
    "import json\n",
    "\n",
    "from functools import reduce\n",
    "\n",
    "from sklearn.preprocessing import StandardScaler\n",
    "from sklearn.linear_model import LinearRegression\n",
    "from sklearn.metrics import mean_absolute_error, mean_squared_error\n",
    "\n",
    "# Make numpy printouts easier to read.\n",
    "np.set_printoptions(precision=3, suppress=True)\n",
    "\n",
    "from datetime import datetime, timezone, timedelta\n",
    "\n",
    "resample_size = \"15MIN\"\n",
    "resample_factor = 15\n",
    "\n",
    "#windowfactor = 15\n",
    "\n",
    "import warnings\n",
    "warnings.simplefilter(action='ignore', category=FutureWarning)\n",
    "# Function in this notebook"
   ],
   "outputs": [],
   "metadata": {}
  },
  {
   "cell_type": "markdown",
   "source": [
    "# Functions in this notebook"
   ],
   "metadata": {}
  },
  {
   "cell_type": "code",
   "execution_count": 2,
   "source": [
    "def to_datetime(df):\n",
    "    '''\n",
    "    We want the date and time to function as the index of the observations in a time-series.\n",
    "    In this data frame the time column represent a period. We need to adapt this values to create a datetime format.  \n",
    "    '''\n",
    "\n",
    "    #Split the time period to a new temporary data frame.\n",
    "    df[['dt_start_utc','Last']] = df.dt_start_utc.str.split(\"-\", expand=True)\n",
    "\n",
    "    #According to a correct datetime convertion, we need to consider the given format of the date in our data frame: DD-MM-YY.\n",
    "    #In this situation the value of dayfirst must be set to \"True\".\n",
    "    df[\"dt_start_utc\"] = pd.to_datetime(df[\"dt_start_utc\"], dayfirst=True)\n",
    "    \n",
    "    #The first date of each period will be assigned to an datetime format and set to index\n",
    "    \n",
    "    df.set_index('dt_start_utc', inplace=True)\n",
    "\n",
    "    return(df)"
   ],
   "outputs": [],
   "metadata": {}
  },
  {
   "cell_type": "code",
   "execution_count": 3,
   "source": [
    "def cleaningcolumns(df):\n",
    "    '''This function simplify the column names of an given data frame.\n",
    "        Special characters will replaced by an empty string and all \n",
    "        letters will be lowered. \n",
    "    '''  \n",
    "    df.rename(str.lower, axis='columns', inplace=True)\n",
    "    df.columns = df.columns.str.replace('(', '')\n",
    "    df.columns = df.columns.str.replace(')', '')\n",
    "    df.columns = df.columns.str.replace(' ','')\n",
    "    df.columns = df.columns.str.replace('-','')\n",
    "    df.columns = df.columns.str.replace('|','')\n",
    "    df.columns = df.columns.str.replace(']','')\n",
    "    df.columns = df.columns.str.replace('[','')\n",
    "    df.columns = df.columns.str.replace('+','plus')\n",
    "    df.columns = df.columns.str.replace('-','minus')\n",
    "    df.columns = df.columns.str.replace('/','')\n",
    "    \n",
    "    return df"
   ],
   "outputs": [],
   "metadata": {}
  },
  {
   "cell_type": "code",
   "execution_count": 4,
   "source": [
    "def mwh_sign(df):\n",
    "    '''The columns representing the total imbalance in MWh are only given in absolute \n",
    "    values, which means that the mathematcial sign isn't represented in numbers, but \n",
    "    this information is given in the column \"situation\" through the values \"Deficit\",\n",
    "    \"Surplus\" and \"Balanced\". We need to extract this string informations to numercial \n",
    "    informations. We can generate from this point the total imbalace price with the \n",
    "    correct mathematical sign.'''\n",
    "\n",
    "    #Strings of the column \"Situation\" will be replaced by representive integer values.\n",
    "    df.loc[df.situation == \"Deficit\", 'situation'] = int(-1)\n",
    "    df.loc[df.situation == \"Surplus\", 'situation'] = int(1)\n",
    "    df.loc[df.situation == \"Balanced\", 'situation'] = int(0)\n",
    "\n",
    "    df[\"situation\"] = df[\"situation\"].astype('int64')\n",
    "\n",
    "    #Checking, if all states are replaced\n",
    "    print(df.situation.unique())\n",
    "\n",
    "    return df"
   ],
   "outputs": [],
   "metadata": {}
  },
  {
   "cell_type": "markdown",
   "source": [
    "## Import German Imblance Data"
   ],
   "metadata": {}
  },
  {
   "cell_type": "markdown",
   "source": [
    "We import the data, which is available in a single csv file, and assign it to a dataframe."
   ],
   "metadata": {}
  },
  {
   "cell_type": "code",
   "execution_count": 5,
   "source": [
    "df_imbalance_de = pd.read_csv(\"../data/entsoe/df_imbalance_de.csv\")\n",
    "\n",
    "df_imbalance_de.shape"
   ],
   "outputs": [
    {
     "output_type": "execute_result",
     "data": {
      "text/plain": [
       "(17368, 8)"
      ]
     },
     "metadata": {},
     "execution_count": 5
    }
   ],
   "metadata": {}
  },
  {
   "cell_type": "code",
   "execution_count": 6,
   "source": [
    " #Find NaNs and duplicates in df_imbalance_de\n",
    "\n",
    "print('There are {} missing values or NaNs in df_imbalance_de.'\n",
    "      .format(df_imbalance_de.isnull().values.sum()))\n",
    "\n",
    "temp_energy = df_imbalance_de.duplicated(keep='first').sum()\n",
    "\n",
    "print('There are {} duplicate rows in df_imbalance_de based on all columns.'\n",
    "      .format(temp_energy))"
   ],
   "outputs": [
    {
     "output_type": "stream",
     "name": "stdout",
     "text": [
      "There are 17368 missing values or NaNs in df_imbalance_de.\n",
      "There are 0 duplicate rows in df_imbalance_de based on all columns.\n"
     ]
    }
   ],
   "metadata": {}
  },
  {
   "cell_type": "markdown",
   "source": [
    "As we can see, the data frame has no duplicate values. Nevertheless, it has some NaNs and thus, we have to investigate further."
   ],
   "metadata": {}
  },
  {
   "cell_type": "code",
   "execution_count": 7,
   "source": [
    "# Find the number of NaNs in each column\n",
    "df_imbalance_de.isnull().sum(axis=0)"
   ],
   "outputs": [
    {
     "output_type": "execute_result",
     "data": {
      "text/plain": [
       "Imbalance settlement period (UTC)              0\n",
       "+ Imbalance Price [EUR/MWh] - MBA|DE-LU        0\n",
       "- Imbalance Price [EUR/MWh] - MBA|DE-LU        0\n",
       "Status                                         0\n",
       "Total Imbalance [MWh] - MBA|DE-LU              0\n",
       "Difference                                 17368\n",
       "Situation                                      0\n",
       "Status.1                                       0\n",
       "dtype: int64"
      ]
     },
     "metadata": {},
     "execution_count": 7
    }
   ],
   "metadata": {}
  },
  {
   "cell_type": "markdown",
   "source": [
    "We can drop the column \"Difference\", because it has NaNs in every row of this data frame. We will do this later."
   ],
   "metadata": {}
  },
  {
   "cell_type": "code",
   "execution_count": 8,
   "source": [
    "df_imbalance_de.head()"
   ],
   "outputs": [
    {
     "output_type": "execute_result",
     "data": {
      "text/html": [
       "<div>\n",
       "<style scoped>\n",
       "    .dataframe tbody tr th:only-of-type {\n",
       "        vertical-align: middle;\n",
       "    }\n",
       "\n",
       "    .dataframe tbody tr th {\n",
       "        vertical-align: top;\n",
       "    }\n",
       "\n",
       "    .dataframe thead th {\n",
       "        text-align: right;\n",
       "    }\n",
       "</style>\n",
       "<table border=\"1\" class=\"dataframe\">\n",
       "  <thead>\n",
       "    <tr style=\"text-align: right;\">\n",
       "      <th></th>\n",
       "      <th>Imbalance settlement period (UTC)</th>\n",
       "      <th>+ Imbalance Price [EUR/MWh] - MBA|DE-LU</th>\n",
       "      <th>- Imbalance Price [EUR/MWh] - MBA|DE-LU</th>\n",
       "      <th>Status</th>\n",
       "      <th>Total Imbalance [MWh] - MBA|DE-LU</th>\n",
       "      <th>Difference</th>\n",
       "      <th>Situation</th>\n",
       "      <th>Status.1</th>\n",
       "    </tr>\n",
       "  </thead>\n",
       "  <tbody>\n",
       "    <tr>\n",
       "      <th>0</th>\n",
       "      <td>01.01.2021 00:00 - 01.01.2021 00:15</td>\n",
       "      <td>96.09</td>\n",
       "      <td>96.09</td>\n",
       "      <td>Final</td>\n",
       "      <td>52</td>\n",
       "      <td>NaN</td>\n",
       "      <td>Deficit</td>\n",
       "      <td>Intermediate</td>\n",
       "    </tr>\n",
       "    <tr>\n",
       "      <th>1</th>\n",
       "      <td>01.01.2021 00:15 - 01.01.2021 00:30</td>\n",
       "      <td>94.62</td>\n",
       "      <td>94.62</td>\n",
       "      <td>Final</td>\n",
       "      <td>7</td>\n",
       "      <td>NaN</td>\n",
       "      <td>Deficit</td>\n",
       "      <td>Intermediate</td>\n",
       "    </tr>\n",
       "    <tr>\n",
       "      <th>2</th>\n",
       "      <td>01.01.2021 00:30 - 01.01.2021 00:45</td>\n",
       "      <td>92.21</td>\n",
       "      <td>92.21</td>\n",
       "      <td>Final</td>\n",
       "      <td>13</td>\n",
       "      <td>NaN</td>\n",
       "      <td>Deficit</td>\n",
       "      <td>Intermediate</td>\n",
       "    </tr>\n",
       "    <tr>\n",
       "      <th>3</th>\n",
       "      <td>01.01.2021 00:45 - 01.01.2021 01:00</td>\n",
       "      <td>27.64</td>\n",
       "      <td>27.64</td>\n",
       "      <td>Final</td>\n",
       "      <td>38</td>\n",
       "      <td>NaN</td>\n",
       "      <td>Surplus</td>\n",
       "      <td>Intermediate</td>\n",
       "    </tr>\n",
       "    <tr>\n",
       "      <th>4</th>\n",
       "      <td>01.01.2021 01:00 - 01.01.2021 01:15</td>\n",
       "      <td>13.71</td>\n",
       "      <td>13.71</td>\n",
       "      <td>Final</td>\n",
       "      <td>17</td>\n",
       "      <td>NaN</td>\n",
       "      <td>Surplus</td>\n",
       "      <td>Intermediate</td>\n",
       "    </tr>\n",
       "  </tbody>\n",
       "</table>\n",
       "</div>"
      ],
      "text/plain": [
       "     Imbalance settlement period (UTC)  \\\n",
       "0  01.01.2021 00:00 - 01.01.2021 00:15   \n",
       "1  01.01.2021 00:15 - 01.01.2021 00:30   \n",
       "2  01.01.2021 00:30 - 01.01.2021 00:45   \n",
       "3  01.01.2021 00:45 - 01.01.2021 01:00   \n",
       "4  01.01.2021 01:00 - 01.01.2021 01:15   \n",
       "\n",
       "   + Imbalance Price [EUR/MWh] - MBA|DE-LU  \\\n",
       "0                                    96.09   \n",
       "1                                    94.62   \n",
       "2                                    92.21   \n",
       "3                                    27.64   \n",
       "4                                    13.71   \n",
       "\n",
       "   - Imbalance Price [EUR/MWh] - MBA|DE-LU Status  \\\n",
       "0                                    96.09  Final   \n",
       "1                                    94.62  Final   \n",
       "2                                    92.21  Final   \n",
       "3                                    27.64  Final   \n",
       "4                                    13.71  Final   \n",
       "\n",
       "   Total Imbalance [MWh] - MBA|DE-LU  Difference Situation      Status.1  \n",
       "0                                 52         NaN   Deficit  Intermediate  \n",
       "1                                  7         NaN   Deficit  Intermediate  \n",
       "2                                 13         NaN   Deficit  Intermediate  \n",
       "3                                 38         NaN   Surplus  Intermediate  \n",
       "4                                 17         NaN   Surplus  Intermediate  "
      ]
     },
     "metadata": {},
     "execution_count": 8
    }
   ],
   "metadata": {}
  },
  {
   "cell_type": "markdown",
   "source": [
    "We want the date and time to function as the index of the observations in a time-series.\n",
    "\n",
    "In this data frame the time column represent a period. We need to adapt this values to create a datetime format. "
   ],
   "metadata": {}
  },
  {
   "cell_type": "code",
   "execution_count": 9,
   "source": [
    "df_imbalance_de.rename(columns={\"Imbalance settlement period (UTC)\": \"dt_start_utc\"}, inplace=True)\n",
    "df_imbalance_de = to_datetime(df_imbalance_de).copy()\n"
   ],
   "outputs": [],
   "metadata": {}
  },
  {
   "cell_type": "code",
   "execution_count": 10,
   "source": [
    "df_imbalance_de.head()"
   ],
   "outputs": [
    {
     "output_type": "execute_result",
     "data": {
      "text/html": [
       "<div>\n",
       "<style scoped>\n",
       "    .dataframe tbody tr th:only-of-type {\n",
       "        vertical-align: middle;\n",
       "    }\n",
       "\n",
       "    .dataframe tbody tr th {\n",
       "        vertical-align: top;\n",
       "    }\n",
       "\n",
       "    .dataframe thead th {\n",
       "        text-align: right;\n",
       "    }\n",
       "</style>\n",
       "<table border=\"1\" class=\"dataframe\">\n",
       "  <thead>\n",
       "    <tr style=\"text-align: right;\">\n",
       "      <th></th>\n",
       "      <th>+ Imbalance Price [EUR/MWh] - MBA|DE-LU</th>\n",
       "      <th>- Imbalance Price [EUR/MWh] - MBA|DE-LU</th>\n",
       "      <th>Status</th>\n",
       "      <th>Total Imbalance [MWh] - MBA|DE-LU</th>\n",
       "      <th>Difference</th>\n",
       "      <th>Situation</th>\n",
       "      <th>Status.1</th>\n",
       "      <th>Last</th>\n",
       "    </tr>\n",
       "    <tr>\n",
       "      <th>dt_start_utc</th>\n",
       "      <th></th>\n",
       "      <th></th>\n",
       "      <th></th>\n",
       "      <th></th>\n",
       "      <th></th>\n",
       "      <th></th>\n",
       "      <th></th>\n",
       "      <th></th>\n",
       "    </tr>\n",
       "  </thead>\n",
       "  <tbody>\n",
       "    <tr>\n",
       "      <th>2021-01-01 00:00:00</th>\n",
       "      <td>96.09</td>\n",
       "      <td>96.09</td>\n",
       "      <td>Final</td>\n",
       "      <td>52</td>\n",
       "      <td>NaN</td>\n",
       "      <td>Deficit</td>\n",
       "      <td>Intermediate</td>\n",
       "      <td>01.01.2021 00:15</td>\n",
       "    </tr>\n",
       "    <tr>\n",
       "      <th>2021-01-01 00:15:00</th>\n",
       "      <td>94.62</td>\n",
       "      <td>94.62</td>\n",
       "      <td>Final</td>\n",
       "      <td>7</td>\n",
       "      <td>NaN</td>\n",
       "      <td>Deficit</td>\n",
       "      <td>Intermediate</td>\n",
       "      <td>01.01.2021 00:30</td>\n",
       "    </tr>\n",
       "    <tr>\n",
       "      <th>2021-01-01 00:30:00</th>\n",
       "      <td>92.21</td>\n",
       "      <td>92.21</td>\n",
       "      <td>Final</td>\n",
       "      <td>13</td>\n",
       "      <td>NaN</td>\n",
       "      <td>Deficit</td>\n",
       "      <td>Intermediate</td>\n",
       "      <td>01.01.2021 00:45</td>\n",
       "    </tr>\n",
       "    <tr>\n",
       "      <th>2021-01-01 00:45:00</th>\n",
       "      <td>27.64</td>\n",
       "      <td>27.64</td>\n",
       "      <td>Final</td>\n",
       "      <td>38</td>\n",
       "      <td>NaN</td>\n",
       "      <td>Surplus</td>\n",
       "      <td>Intermediate</td>\n",
       "      <td>01.01.2021 01:00</td>\n",
       "    </tr>\n",
       "    <tr>\n",
       "      <th>2021-01-01 01:00:00</th>\n",
       "      <td>13.71</td>\n",
       "      <td>13.71</td>\n",
       "      <td>Final</td>\n",
       "      <td>17</td>\n",
       "      <td>NaN</td>\n",
       "      <td>Surplus</td>\n",
       "      <td>Intermediate</td>\n",
       "      <td>01.01.2021 01:15</td>\n",
       "    </tr>\n",
       "  </tbody>\n",
       "</table>\n",
       "</div>"
      ],
      "text/plain": [
       "                     + Imbalance Price [EUR/MWh] - MBA|DE-LU  \\\n",
       "dt_start_utc                                                   \n",
       "2021-01-01 00:00:00                                    96.09   \n",
       "2021-01-01 00:15:00                                    94.62   \n",
       "2021-01-01 00:30:00                                    92.21   \n",
       "2021-01-01 00:45:00                                    27.64   \n",
       "2021-01-01 01:00:00                                    13.71   \n",
       "\n",
       "                     - Imbalance Price [EUR/MWh] - MBA|DE-LU Status  \\\n",
       "dt_start_utc                                                          \n",
       "2021-01-01 00:00:00                                    96.09  Final   \n",
       "2021-01-01 00:15:00                                    94.62  Final   \n",
       "2021-01-01 00:30:00                                    92.21  Final   \n",
       "2021-01-01 00:45:00                                    27.64  Final   \n",
       "2021-01-01 01:00:00                                    13.71  Final   \n",
       "\n",
       "                     Total Imbalance [MWh] - MBA|DE-LU  Difference Situation  \\\n",
       "dt_start_utc                                                                   \n",
       "2021-01-01 00:00:00                                 52         NaN   Deficit   \n",
       "2021-01-01 00:15:00                                  7         NaN   Deficit   \n",
       "2021-01-01 00:30:00                                 13         NaN   Deficit   \n",
       "2021-01-01 00:45:00                                 38         NaN   Surplus   \n",
       "2021-01-01 01:00:00                                 17         NaN   Surplus   \n",
       "\n",
       "                         Status.1               Last  \n",
       "dt_start_utc                                          \n",
       "2021-01-01 00:00:00  Intermediate   01.01.2021 00:15  \n",
       "2021-01-01 00:15:00  Intermediate   01.01.2021 00:30  \n",
       "2021-01-01 00:30:00  Intermediate   01.01.2021 00:45  \n",
       "2021-01-01 00:45:00  Intermediate   01.01.2021 01:00  \n",
       "2021-01-01 01:00:00  Intermediate   01.01.2021 01:15  "
      ]
     },
     "metadata": {},
     "execution_count": 10
    }
   ],
   "metadata": {}
  },
  {
   "cell_type": "code",
   "execution_count": 11,
   "source": [
    "#Simplify the column names of the data frame.\n",
    "df_imbalance_de = cleaningcolumns(df_imbalance_de)"
   ],
   "outputs": [],
   "metadata": {}
  },
  {
   "cell_type": "code",
   "execution_count": 12,
   "source": [
    "df_imbalance_de.head()"
   ],
   "outputs": [
    {
     "output_type": "execute_result",
     "data": {
      "text/html": [
       "<div>\n",
       "<style scoped>\n",
       "    .dataframe tbody tr th:only-of-type {\n",
       "        vertical-align: middle;\n",
       "    }\n",
       "\n",
       "    .dataframe tbody tr th {\n",
       "        vertical-align: top;\n",
       "    }\n",
       "\n",
       "    .dataframe thead th {\n",
       "        text-align: right;\n",
       "    }\n",
       "</style>\n",
       "<table border=\"1\" class=\"dataframe\">\n",
       "  <thead>\n",
       "    <tr style=\"text-align: right;\">\n",
       "      <th></th>\n",
       "      <th>plusimbalancepriceeurmwhmbadelu</th>\n",
       "      <th>imbalancepriceeurmwhmbadelu</th>\n",
       "      <th>status</th>\n",
       "      <th>totalimbalancemwhmbadelu</th>\n",
       "      <th>difference</th>\n",
       "      <th>situation</th>\n",
       "      <th>status.1</th>\n",
       "      <th>last</th>\n",
       "    </tr>\n",
       "    <tr>\n",
       "      <th>dt_start_utc</th>\n",
       "      <th></th>\n",
       "      <th></th>\n",
       "      <th></th>\n",
       "      <th></th>\n",
       "      <th></th>\n",
       "      <th></th>\n",
       "      <th></th>\n",
       "      <th></th>\n",
       "    </tr>\n",
       "  </thead>\n",
       "  <tbody>\n",
       "    <tr>\n",
       "      <th>2021-01-01 00:00:00</th>\n",
       "      <td>96.09</td>\n",
       "      <td>96.09</td>\n",
       "      <td>Final</td>\n",
       "      <td>52</td>\n",
       "      <td>NaN</td>\n",
       "      <td>Deficit</td>\n",
       "      <td>Intermediate</td>\n",
       "      <td>01.01.2021 00:15</td>\n",
       "    </tr>\n",
       "    <tr>\n",
       "      <th>2021-01-01 00:15:00</th>\n",
       "      <td>94.62</td>\n",
       "      <td>94.62</td>\n",
       "      <td>Final</td>\n",
       "      <td>7</td>\n",
       "      <td>NaN</td>\n",
       "      <td>Deficit</td>\n",
       "      <td>Intermediate</td>\n",
       "      <td>01.01.2021 00:30</td>\n",
       "    </tr>\n",
       "    <tr>\n",
       "      <th>2021-01-01 00:30:00</th>\n",
       "      <td>92.21</td>\n",
       "      <td>92.21</td>\n",
       "      <td>Final</td>\n",
       "      <td>13</td>\n",
       "      <td>NaN</td>\n",
       "      <td>Deficit</td>\n",
       "      <td>Intermediate</td>\n",
       "      <td>01.01.2021 00:45</td>\n",
       "    </tr>\n",
       "    <tr>\n",
       "      <th>2021-01-01 00:45:00</th>\n",
       "      <td>27.64</td>\n",
       "      <td>27.64</td>\n",
       "      <td>Final</td>\n",
       "      <td>38</td>\n",
       "      <td>NaN</td>\n",
       "      <td>Surplus</td>\n",
       "      <td>Intermediate</td>\n",
       "      <td>01.01.2021 01:00</td>\n",
       "    </tr>\n",
       "    <tr>\n",
       "      <th>2021-01-01 01:00:00</th>\n",
       "      <td>13.71</td>\n",
       "      <td>13.71</td>\n",
       "      <td>Final</td>\n",
       "      <td>17</td>\n",
       "      <td>NaN</td>\n",
       "      <td>Surplus</td>\n",
       "      <td>Intermediate</td>\n",
       "      <td>01.01.2021 01:15</td>\n",
       "    </tr>\n",
       "  </tbody>\n",
       "</table>\n",
       "</div>"
      ],
      "text/plain": [
       "                     plusimbalancepriceeurmwhmbadelu  \\\n",
       "dt_start_utc                                           \n",
       "2021-01-01 00:00:00                            96.09   \n",
       "2021-01-01 00:15:00                            94.62   \n",
       "2021-01-01 00:30:00                            92.21   \n",
       "2021-01-01 00:45:00                            27.64   \n",
       "2021-01-01 01:00:00                            13.71   \n",
       "\n",
       "                     imbalancepriceeurmwhmbadelu status  \\\n",
       "dt_start_utc                                              \n",
       "2021-01-01 00:00:00                        96.09  Final   \n",
       "2021-01-01 00:15:00                        94.62  Final   \n",
       "2021-01-01 00:30:00                        92.21  Final   \n",
       "2021-01-01 00:45:00                        27.64  Final   \n",
       "2021-01-01 01:00:00                        13.71  Final   \n",
       "\n",
       "                     totalimbalancemwhmbadelu  difference situation  \\\n",
       "dt_start_utc                                                          \n",
       "2021-01-01 00:00:00                        52         NaN   Deficit   \n",
       "2021-01-01 00:15:00                         7         NaN   Deficit   \n",
       "2021-01-01 00:30:00                        13         NaN   Deficit   \n",
       "2021-01-01 00:45:00                        38         NaN   Surplus   \n",
       "2021-01-01 01:00:00                        17         NaN   Surplus   \n",
       "\n",
       "                         status.1               last  \n",
       "dt_start_utc                                          \n",
       "2021-01-01 00:00:00  Intermediate   01.01.2021 00:15  \n",
       "2021-01-01 00:15:00  Intermediate   01.01.2021 00:30  \n",
       "2021-01-01 00:30:00  Intermediate   01.01.2021 00:45  \n",
       "2021-01-01 00:45:00  Intermediate   01.01.2021 01:00  \n",
       "2021-01-01 01:00:00  Intermediate   01.01.2021 01:15  "
      ]
     },
     "metadata": {},
     "execution_count": 12
    }
   ],
   "metadata": {}
  },
  {
   "cell_type": "code",
   "execution_count": 13,
   "source": [
    "df_imbalance_de.dtypes"
   ],
   "outputs": [
    {
     "output_type": "execute_result",
     "data": {
      "text/plain": [
       "plusimbalancepriceeurmwhmbadelu    float64\n",
       "imbalancepriceeurmwhmbadelu        float64\n",
       "status                              object\n",
       "totalimbalancemwhmbadelu             int64\n",
       "difference                         float64\n",
       "situation                           object\n",
       "status.1                            object\n",
       "last                                object\n",
       "dtype: object"
      ]
     },
     "metadata": {},
     "execution_count": 13
    }
   ],
   "metadata": {}
  },
  {
   "cell_type": "code",
   "execution_count": 14,
   "source": [
    "#The mathematical sign is represented by a string value. The function convert the string to proper numerical format.\n",
    "df_imbalance_de = mwh_sign(df_imbalance_de).copy()\n",
    "\n",
    "#Adding the correct mathmatical sign to the total imbalance MWh value.\n",
    "df_imbalance_de.eval(\"rz_saldo_mwh = situation * totalimbalancemwhmbadelu\", inplace=True)"
   ],
   "outputs": [
    {
     "output_type": "stream",
     "name": "stdout",
     "text": [
      "[-1  1  0]\n"
     ]
    }
   ],
   "metadata": {}
  },
  {
   "cell_type": "markdown",
   "source": [
    "The values of the columns \"plusimbalancepriceeurmwhmbadelu\" and \"imbalancepriceeurmwhmbadelu\" seems to be identical. If they're, we could drop one of them."
   ],
   "metadata": {}
  },
  {
   "cell_type": "code",
   "execution_count": 15,
   "source": [
    "#If the difference of booths columns are always \"0\", booth columns are identical.\n",
    "df_imbalance_de.eval(\"temp = plusimbalancepriceeurmwhmbadelu - imbalancepriceeurmwhmbadelu\", inplace=True)\n",
    "print(df_imbalance_de[\"temp\"].unique())"
   ],
   "outputs": [
    {
     "output_type": "stream",
     "name": "stdout",
     "text": [
      "[0.]\n"
     ]
    }
   ],
   "metadata": {}
  },
  {
   "cell_type": "code",
   "execution_count": 16,
   "source": [
    "df_imbalance_de.columns"
   ],
   "outputs": [
    {
     "output_type": "execute_result",
     "data": {
      "text/plain": [
       "Index(['plusimbalancepriceeurmwhmbadelu', 'imbalancepriceeurmwhmbadelu',\n",
       "       'status', 'totalimbalancemwhmbadelu', 'difference', 'situation',\n",
       "       'status.1', 'last', 'rz_saldo_mwh', 'temp'],\n",
       "      dtype='object')"
      ]
     },
     "metadata": {},
     "execution_count": 16
    }
   ],
   "metadata": {}
  },
  {
   "cell_type": "markdown",
   "source": [
    "We will remove the columns which will not be used at all in our analysis."
   ],
   "metadata": {}
  },
  {
   "cell_type": "code",
   "execution_count": 17,
   "source": [
    "df_imbalance_de.drop(['imbalancepriceeurmwhmbadelu',\n",
    "                      \"status\", \"totalimbalancemwhmbadelu\", \"difference\", \n",
    "                      \"situation\", \"status.1\", \"last\", \"temp\"], axis=1, inplace=True)\n",
    "\n"
   ],
   "outputs": [],
   "metadata": {}
  },
  {
   "cell_type": "code",
   "execution_count": 18,
   "source": [
    "df_imbalance_de.head()"
   ],
   "outputs": [
    {
     "output_type": "execute_result",
     "data": {
      "text/html": [
       "<div>\n",
       "<style scoped>\n",
       "    .dataframe tbody tr th:only-of-type {\n",
       "        vertical-align: middle;\n",
       "    }\n",
       "\n",
       "    .dataframe tbody tr th {\n",
       "        vertical-align: top;\n",
       "    }\n",
       "\n",
       "    .dataframe thead th {\n",
       "        text-align: right;\n",
       "    }\n",
       "</style>\n",
       "<table border=\"1\" class=\"dataframe\">\n",
       "  <thead>\n",
       "    <tr style=\"text-align: right;\">\n",
       "      <th></th>\n",
       "      <th>plusimbalancepriceeurmwhmbadelu</th>\n",
       "      <th>rz_saldo_mwh</th>\n",
       "    </tr>\n",
       "    <tr>\n",
       "      <th>dt_start_utc</th>\n",
       "      <th></th>\n",
       "      <th></th>\n",
       "    </tr>\n",
       "  </thead>\n",
       "  <tbody>\n",
       "    <tr>\n",
       "      <th>2021-01-01 00:00:00</th>\n",
       "      <td>96.09</td>\n",
       "      <td>-52</td>\n",
       "    </tr>\n",
       "    <tr>\n",
       "      <th>2021-01-01 00:15:00</th>\n",
       "      <td>94.62</td>\n",
       "      <td>-7</td>\n",
       "    </tr>\n",
       "    <tr>\n",
       "      <th>2021-01-01 00:30:00</th>\n",
       "      <td>92.21</td>\n",
       "      <td>-13</td>\n",
       "    </tr>\n",
       "    <tr>\n",
       "      <th>2021-01-01 00:45:00</th>\n",
       "      <td>27.64</td>\n",
       "      <td>38</td>\n",
       "    </tr>\n",
       "    <tr>\n",
       "      <th>2021-01-01 01:00:00</th>\n",
       "      <td>13.71</td>\n",
       "      <td>17</td>\n",
       "    </tr>\n",
       "  </tbody>\n",
       "</table>\n",
       "</div>"
      ],
      "text/plain": [
       "                     plusimbalancepriceeurmwhmbadelu  rz_saldo_mwh\n",
       "dt_start_utc                                                      \n",
       "2021-01-01 00:00:00                            96.09           -52\n",
       "2021-01-01 00:15:00                            94.62            -7\n",
       "2021-01-01 00:30:00                            92.21           -13\n",
       "2021-01-01 00:45:00                            27.64            38\n",
       "2021-01-01 01:00:00                            13.71            17"
      ]
     },
     "metadata": {},
     "execution_count": 18
    }
   ],
   "metadata": {}
  },
  {
   "cell_type": "markdown",
   "source": [
    "The column \"plusimbalancepriceeurmwhmbadelu\" represent the \"regelzonenübergreifenden Bilanzausgleichsenergiepreise\" short reBAP. To simplify the wording we like to rename the column."
   ],
   "metadata": {}
  },
  {
   "cell_type": "code",
   "execution_count": 19,
   "source": [
    "df_imbalance_de.rename(columns={\"plusimbalancepriceeurmwhmbadelu\": \"rebap_eur_mwh\"},inplace=True)\n"
   ],
   "outputs": [],
   "metadata": {}
  },
  {
   "cell_type": "code",
   "execution_count": 20,
   "source": [
    "df_imbalance_de.head()"
   ],
   "outputs": [
    {
     "output_type": "execute_result",
     "data": {
      "text/html": [
       "<div>\n",
       "<style scoped>\n",
       "    .dataframe tbody tr th:only-of-type {\n",
       "        vertical-align: middle;\n",
       "    }\n",
       "\n",
       "    .dataframe tbody tr th {\n",
       "        vertical-align: top;\n",
       "    }\n",
       "\n",
       "    .dataframe thead th {\n",
       "        text-align: right;\n",
       "    }\n",
       "</style>\n",
       "<table border=\"1\" class=\"dataframe\">\n",
       "  <thead>\n",
       "    <tr style=\"text-align: right;\">\n",
       "      <th></th>\n",
       "      <th>rebap_eur_mwh</th>\n",
       "      <th>rz_saldo_mwh</th>\n",
       "    </tr>\n",
       "    <tr>\n",
       "      <th>dt_start_utc</th>\n",
       "      <th></th>\n",
       "      <th></th>\n",
       "    </tr>\n",
       "  </thead>\n",
       "  <tbody>\n",
       "    <tr>\n",
       "      <th>2021-01-01 00:00:00</th>\n",
       "      <td>96.09</td>\n",
       "      <td>-52</td>\n",
       "    </tr>\n",
       "    <tr>\n",
       "      <th>2021-01-01 00:15:00</th>\n",
       "      <td>94.62</td>\n",
       "      <td>-7</td>\n",
       "    </tr>\n",
       "    <tr>\n",
       "      <th>2021-01-01 00:30:00</th>\n",
       "      <td>92.21</td>\n",
       "      <td>-13</td>\n",
       "    </tr>\n",
       "    <tr>\n",
       "      <th>2021-01-01 00:45:00</th>\n",
       "      <td>27.64</td>\n",
       "      <td>38</td>\n",
       "    </tr>\n",
       "    <tr>\n",
       "      <th>2021-01-01 01:00:00</th>\n",
       "      <td>13.71</td>\n",
       "      <td>17</td>\n",
       "    </tr>\n",
       "  </tbody>\n",
       "</table>\n",
       "</div>"
      ],
      "text/plain": [
       "                     rebap_eur_mwh  rz_saldo_mwh\n",
       "dt_start_utc                                    \n",
       "2021-01-01 00:00:00          96.09           -52\n",
       "2021-01-01 00:15:00          94.62            -7\n",
       "2021-01-01 00:30:00          92.21           -13\n",
       "2021-01-01 00:45:00          27.64            38\n",
       "2021-01-01 01:00:00          13.71            17"
      ]
     },
     "metadata": {},
     "execution_count": 20
    }
   ],
   "metadata": {}
  },
  {
   "cell_type": "markdown",
   "source": [
    "## Implement Real Life Time Delays to Data Frame"
   ],
   "metadata": {}
  },
  {
   "cell_type": "markdown",
   "source": [
    "In real life, the balancing energie value is published with an delay of 30 mins. We remodeling this situation by shifting this column by two rows, which is equivalent to 30 mins."
   ],
   "metadata": {}
  },
  {
   "cell_type": "code",
   "execution_count": 21,
   "source": [
    "df_imbalance_de[\"rz_saldo_mwh\"] = df_imbalance_de[\"rz_saldo_mwh\"].shift(periods=2)"
   ],
   "outputs": [],
   "metadata": {}
  },
  {
   "cell_type": "code",
   "execution_count": 22,
   "source": [
    "df_imbalance_de.head()"
   ],
   "outputs": [
    {
     "output_type": "execute_result",
     "data": {
      "text/html": [
       "<div>\n",
       "<style scoped>\n",
       "    .dataframe tbody tr th:only-of-type {\n",
       "        vertical-align: middle;\n",
       "    }\n",
       "\n",
       "    .dataframe tbody tr th {\n",
       "        vertical-align: top;\n",
       "    }\n",
       "\n",
       "    .dataframe thead th {\n",
       "        text-align: right;\n",
       "    }\n",
       "</style>\n",
       "<table border=\"1\" class=\"dataframe\">\n",
       "  <thead>\n",
       "    <tr style=\"text-align: right;\">\n",
       "      <th></th>\n",
       "      <th>rebap_eur_mwh</th>\n",
       "      <th>rz_saldo_mwh</th>\n",
       "    </tr>\n",
       "    <tr>\n",
       "      <th>dt_start_utc</th>\n",
       "      <th></th>\n",
       "      <th></th>\n",
       "    </tr>\n",
       "  </thead>\n",
       "  <tbody>\n",
       "    <tr>\n",
       "      <th>2021-01-01 00:00:00</th>\n",
       "      <td>96.09</td>\n",
       "      <td>NaN</td>\n",
       "    </tr>\n",
       "    <tr>\n",
       "      <th>2021-01-01 00:15:00</th>\n",
       "      <td>94.62</td>\n",
       "      <td>NaN</td>\n",
       "    </tr>\n",
       "    <tr>\n",
       "      <th>2021-01-01 00:30:00</th>\n",
       "      <td>92.21</td>\n",
       "      <td>-52.0</td>\n",
       "    </tr>\n",
       "    <tr>\n",
       "      <th>2021-01-01 00:45:00</th>\n",
       "      <td>27.64</td>\n",
       "      <td>-7.0</td>\n",
       "    </tr>\n",
       "    <tr>\n",
       "      <th>2021-01-01 01:00:00</th>\n",
       "      <td>13.71</td>\n",
       "      <td>-13.0</td>\n",
       "    </tr>\n",
       "  </tbody>\n",
       "</table>\n",
       "</div>"
      ],
      "text/plain": [
       "                     rebap_eur_mwh  rz_saldo_mwh\n",
       "dt_start_utc                                    \n",
       "2021-01-01 00:00:00          96.09           NaN\n",
       "2021-01-01 00:15:00          94.62           NaN\n",
       "2021-01-01 00:30:00          92.21         -52.0\n",
       "2021-01-01 00:45:00          27.64          -7.0\n",
       "2021-01-01 01:00:00          13.71         -13.0"
      ]
     },
     "metadata": {},
     "execution_count": 22
    }
   ],
   "metadata": {}
  },
  {
   "cell_type": "markdown",
   "source": [
    "By shifting two periods of \"rz_saldo_mwh\", we created two NaNs. "
   ],
   "metadata": {}
  },
  {
   "cell_type": "code",
   "execution_count": 23,
   "source": [
    "print(\"The Data Frame has\",df_imbalance_de.isnull().sum().sum(),\"missing values.\")"
   ],
   "outputs": [
    {
     "output_type": "stream",
     "name": "stdout",
     "text": [
      "The Data Frame has 2 missing values.\n"
     ]
    }
   ],
   "metadata": {}
  },
  {
   "cell_type": "markdown",
   "source": [
    "The data frame will be saved to a \"pickle\". This allows us to access the data frame with multiple notebooks."
   ],
   "metadata": {}
  },
  {
   "cell_type": "code",
   "execution_count": 24,
   "source": [
    "df_imbalance_de.to_pickle('../data/pickle/df_imbalance_de.pickle')"
   ],
   "outputs": [],
   "metadata": {}
  },
  {
   "cell_type": "markdown",
   "source": [
    "## 1.1 Import Belgium"
   ],
   "metadata": {}
  },
  {
   "cell_type": "code",
   "execution_count": 25,
   "source": [
    "df = pd.read_csv(\"../data/entsoe/Imbalance_Belgien.csv\")"
   ],
   "outputs": [],
   "metadata": {}
  },
  {
   "cell_type": "code",
   "execution_count": 26,
   "source": [
    " #Find NaNs and duplicates in data frame\n",
    "\n",
    "print('There are {} missing values or NaNs in df_imbalance_de.'\n",
    "      .format(df.isnull().values.sum()))\n",
    "\n",
    "temp = df.duplicated(keep='first').sum()\n",
    "\n",
    "print('There are {} duplicate rows in df_imbalance_de based on all columns.'\n",
    "      .format(temp))"
   ],
   "outputs": [
    {
     "output_type": "stream",
     "name": "stdout",
     "text": [
      "There are 0 missing values or NaNs in df_imbalance_de.\n",
      "There are 0 duplicate rows in df_imbalance_de based on all columns.\n"
     ]
    }
   ],
   "metadata": {}
  },
  {
   "cell_type": "code",
   "execution_count": 27,
   "source": [
    "df.head()"
   ],
   "outputs": [
    {
     "output_type": "execute_result",
     "data": {
      "text/html": [
       "<div>\n",
       "<style scoped>\n",
       "    .dataframe tbody tr th:only-of-type {\n",
       "        vertical-align: middle;\n",
       "    }\n",
       "\n",
       "    .dataframe tbody tr th {\n",
       "        vertical-align: top;\n",
       "    }\n",
       "\n",
       "    .dataframe thead th {\n",
       "        text-align: right;\n",
       "    }\n",
       "</style>\n",
       "<table border=\"1\" class=\"dataframe\">\n",
       "  <thead>\n",
       "    <tr style=\"text-align: right;\">\n",
       "      <th></th>\n",
       "      <th>dt_start_utc</th>\n",
       "      <th>+ Imbalance Price [EUR/MWh] - SCA|BE</th>\n",
       "      <th>- Imbalance Price [EUR/MWh] - SCA|BE</th>\n",
       "      <th>Status</th>\n",
       "      <th>Total Imbalance [MWh] - SCA|BE</th>\n",
       "      <th>Difference</th>\n",
       "      <th>Situation</th>\n",
       "      <th>Status.1</th>\n",
       "    </tr>\n",
       "  </thead>\n",
       "  <tbody>\n",
       "    <tr>\n",
       "      <th>0</th>\n",
       "      <td>01.01.2021 00:00 - 01.01.2021 00:15</td>\n",
       "      <td>64.84</td>\n",
       "      <td>64.84</td>\n",
       "      <td>Final</td>\n",
       "      <td>16</td>\n",
       "      <td>-3</td>\n",
       "      <td>Deficit</td>\n",
       "      <td>Final</td>\n",
       "    </tr>\n",
       "    <tr>\n",
       "      <th>1</th>\n",
       "      <td>01.01.2021 00:15 - 01.01.2021 00:30</td>\n",
       "      <td>13.96</td>\n",
       "      <td>13.96</td>\n",
       "      <td>Final</td>\n",
       "      <td>38</td>\n",
       "      <td>2</td>\n",
       "      <td>Surplus</td>\n",
       "      <td>Final</td>\n",
       "    </tr>\n",
       "    <tr>\n",
       "      <th>2</th>\n",
       "      <td>01.01.2021 00:30 - 01.01.2021 00:45</td>\n",
       "      <td>12.40</td>\n",
       "      <td>12.40</td>\n",
       "      <td>Final</td>\n",
       "      <td>46</td>\n",
       "      <td>1</td>\n",
       "      <td>Surplus</td>\n",
       "      <td>Final</td>\n",
       "    </tr>\n",
       "    <tr>\n",
       "      <th>3</th>\n",
       "      <td>01.01.2021 00:45 - 01.01.2021 01:00</td>\n",
       "      <td>7.70</td>\n",
       "      <td>7.70</td>\n",
       "      <td>Final</td>\n",
       "      <td>65</td>\n",
       "      <td>14</td>\n",
       "      <td>Surplus</td>\n",
       "      <td>Final</td>\n",
       "    </tr>\n",
       "    <tr>\n",
       "      <th>4</th>\n",
       "      <td>01.01.2021 01:00 - 01.01.2021 01:15</td>\n",
       "      <td>64.25</td>\n",
       "      <td>64.25</td>\n",
       "      <td>Final</td>\n",
       "      <td>3</td>\n",
       "      <td>-9</td>\n",
       "      <td>Deficit</td>\n",
       "      <td>Final</td>\n",
       "    </tr>\n",
       "  </tbody>\n",
       "</table>\n",
       "</div>"
      ],
      "text/plain": [
       "                          dt_start_utc  + Imbalance Price [EUR/MWh] - SCA|BE  \\\n",
       "0  01.01.2021 00:00 - 01.01.2021 00:15                                 64.84   \n",
       "1  01.01.2021 00:15 - 01.01.2021 00:30                                 13.96   \n",
       "2  01.01.2021 00:30 - 01.01.2021 00:45                                 12.40   \n",
       "3  01.01.2021 00:45 - 01.01.2021 01:00                                  7.70   \n",
       "4  01.01.2021 01:00 - 01.01.2021 01:15                                 64.25   \n",
       "\n",
       "   - Imbalance Price [EUR/MWh] - SCA|BE Status  \\\n",
       "0                                 64.84  Final   \n",
       "1                                 13.96  Final   \n",
       "2                                 12.40  Final   \n",
       "3                                  7.70  Final   \n",
       "4                                 64.25  Final   \n",
       "\n",
       "   Total Imbalance [MWh] - SCA|BE  Difference Situation Status.1  \n",
       "0                              16          -3   Deficit    Final  \n",
       "1                              38           2   Surplus    Final  \n",
       "2                              46           1   Surplus    Final  \n",
       "3                              65          14   Surplus    Final  \n",
       "4                               3          -9   Deficit    Final  "
      ]
     },
     "metadata": {},
     "execution_count": 27
    }
   ],
   "metadata": {}
  },
  {
   "cell_type": "code",
   "execution_count": 28,
   "source": [
    "df = to_datetime(df).copy()\n"
   ],
   "outputs": [],
   "metadata": {}
  },
  {
   "cell_type": "code",
   "execution_count": 29,
   "source": [
    "cleaningcolumns(df)"
   ],
   "outputs": [
    {
     "output_type": "execute_result",
     "data": {
      "text/html": [
       "<div>\n",
       "<style scoped>\n",
       "    .dataframe tbody tr th:only-of-type {\n",
       "        vertical-align: middle;\n",
       "    }\n",
       "\n",
       "    .dataframe tbody tr th {\n",
       "        vertical-align: top;\n",
       "    }\n",
       "\n",
       "    .dataframe thead th {\n",
       "        text-align: right;\n",
       "    }\n",
       "</style>\n",
       "<table border=\"1\" class=\"dataframe\">\n",
       "  <thead>\n",
       "    <tr style=\"text-align: right;\">\n",
       "      <th></th>\n",
       "      <th>plusimbalancepriceeurmwhscabe</th>\n",
       "      <th>imbalancepriceeurmwhscabe</th>\n",
       "      <th>status</th>\n",
       "      <th>totalimbalancemwhscabe</th>\n",
       "      <th>difference</th>\n",
       "      <th>situation</th>\n",
       "      <th>status.1</th>\n",
       "      <th>last</th>\n",
       "    </tr>\n",
       "    <tr>\n",
       "      <th>dt_start_utc</th>\n",
       "      <th></th>\n",
       "      <th></th>\n",
       "      <th></th>\n",
       "      <th></th>\n",
       "      <th></th>\n",
       "      <th></th>\n",
       "      <th></th>\n",
       "      <th></th>\n",
       "    </tr>\n",
       "  </thead>\n",
       "  <tbody>\n",
       "    <tr>\n",
       "      <th>2021-01-01 00:00:00</th>\n",
       "      <td>64.84</td>\n",
       "      <td>64.84</td>\n",
       "      <td>Final</td>\n",
       "      <td>16</td>\n",
       "      <td>-3</td>\n",
       "      <td>Deficit</td>\n",
       "      <td>Final</td>\n",
       "      <td>01.01.2021 00:15</td>\n",
       "    </tr>\n",
       "    <tr>\n",
       "      <th>2021-01-01 00:15:00</th>\n",
       "      <td>13.96</td>\n",
       "      <td>13.96</td>\n",
       "      <td>Final</td>\n",
       "      <td>38</td>\n",
       "      <td>2</td>\n",
       "      <td>Surplus</td>\n",
       "      <td>Final</td>\n",
       "      <td>01.01.2021 00:30</td>\n",
       "    </tr>\n",
       "    <tr>\n",
       "      <th>2021-01-01 00:30:00</th>\n",
       "      <td>12.40</td>\n",
       "      <td>12.40</td>\n",
       "      <td>Final</td>\n",
       "      <td>46</td>\n",
       "      <td>1</td>\n",
       "      <td>Surplus</td>\n",
       "      <td>Final</td>\n",
       "      <td>01.01.2021 00:45</td>\n",
       "    </tr>\n",
       "    <tr>\n",
       "      <th>2021-01-01 00:45:00</th>\n",
       "      <td>7.70</td>\n",
       "      <td>7.70</td>\n",
       "      <td>Final</td>\n",
       "      <td>65</td>\n",
       "      <td>14</td>\n",
       "      <td>Surplus</td>\n",
       "      <td>Final</td>\n",
       "      <td>01.01.2021 01:00</td>\n",
       "    </tr>\n",
       "    <tr>\n",
       "      <th>2021-01-01 01:00:00</th>\n",
       "      <td>64.25</td>\n",
       "      <td>64.25</td>\n",
       "      <td>Final</td>\n",
       "      <td>3</td>\n",
       "      <td>-9</td>\n",
       "      <td>Deficit</td>\n",
       "      <td>Final</td>\n",
       "      <td>01.01.2021 01:15</td>\n",
       "    </tr>\n",
       "    <tr>\n",
       "      <th>...</th>\n",
       "      <td>...</td>\n",
       "      <td>...</td>\n",
       "      <td>...</td>\n",
       "      <td>...</td>\n",
       "      <td>...</td>\n",
       "      <td>...</td>\n",
       "      <td>...</td>\n",
       "      <td>...</td>\n",
       "    </tr>\n",
       "    <tr>\n",
       "      <th>2021-07-29 11:15:00</th>\n",
       "      <td>-53.36</td>\n",
       "      <td>-53.36</td>\n",
       "      <td>Intermediate</td>\n",
       "      <td>42</td>\n",
       "      <td>18</td>\n",
       "      <td>Surplus</td>\n",
       "      <td>Intermediate</td>\n",
       "      <td>29.07.2021 11:30</td>\n",
       "    </tr>\n",
       "    <tr>\n",
       "      <th>2021-07-29 11:30:00</th>\n",
       "      <td>-106.41</td>\n",
       "      <td>-106.41</td>\n",
       "      <td>Intermediate</td>\n",
       "      <td>78</td>\n",
       "      <td>33</td>\n",
       "      <td>Surplus</td>\n",
       "      <td>Intermediate</td>\n",
       "      <td>29.07.2021 11:45</td>\n",
       "    </tr>\n",
       "    <tr>\n",
       "      <th>2021-07-29 11:45:00</th>\n",
       "      <td>-123.69</td>\n",
       "      <td>-123.69</td>\n",
       "      <td>Intermediate</td>\n",
       "      <td>74</td>\n",
       "      <td>37</td>\n",
       "      <td>Surplus</td>\n",
       "      <td>Intermediate</td>\n",
       "      <td>29.07.2021 12:00</td>\n",
       "    </tr>\n",
       "    <tr>\n",
       "      <th>2021-07-29 12:00:00</th>\n",
       "      <td>-108.10</td>\n",
       "      <td>-108.10</td>\n",
       "      <td>Intermediate</td>\n",
       "      <td>44</td>\n",
       "      <td>-7</td>\n",
       "      <td>Surplus</td>\n",
       "      <td>Intermediate</td>\n",
       "      <td>29.07.2021 12:15</td>\n",
       "    </tr>\n",
       "    <tr>\n",
       "      <th>2021-07-29 12:15:00</th>\n",
       "      <td>-87.47</td>\n",
       "      <td>-87.47</td>\n",
       "      <td>Intermediate</td>\n",
       "      <td>45</td>\n",
       "      <td>1</td>\n",
       "      <td>Surplus</td>\n",
       "      <td>Intermediate</td>\n",
       "      <td>29.07.2021 12:30</td>\n",
       "    </tr>\n",
       "  </tbody>\n",
       "</table>\n",
       "<p>20114 rows × 8 columns</p>\n",
       "</div>"
      ],
      "text/plain": [
       "                     plusimbalancepriceeurmwhscabe  imbalancepriceeurmwhscabe  \\\n",
       "dt_start_utc                                                                    \n",
       "2021-01-01 00:00:00                          64.84                      64.84   \n",
       "2021-01-01 00:15:00                          13.96                      13.96   \n",
       "2021-01-01 00:30:00                          12.40                      12.40   \n",
       "2021-01-01 00:45:00                           7.70                       7.70   \n",
       "2021-01-01 01:00:00                          64.25                      64.25   \n",
       "...                                            ...                        ...   \n",
       "2021-07-29 11:15:00                         -53.36                     -53.36   \n",
       "2021-07-29 11:30:00                        -106.41                    -106.41   \n",
       "2021-07-29 11:45:00                        -123.69                    -123.69   \n",
       "2021-07-29 12:00:00                        -108.10                    -108.10   \n",
       "2021-07-29 12:15:00                         -87.47                     -87.47   \n",
       "\n",
       "                           status  totalimbalancemwhscabe  difference  \\\n",
       "dt_start_utc                                                            \n",
       "2021-01-01 00:00:00         Final                      16          -3   \n",
       "2021-01-01 00:15:00         Final                      38           2   \n",
       "2021-01-01 00:30:00         Final                      46           1   \n",
       "2021-01-01 00:45:00         Final                      65          14   \n",
       "2021-01-01 01:00:00         Final                       3          -9   \n",
       "...                           ...                     ...         ...   \n",
       "2021-07-29 11:15:00  Intermediate                      42          18   \n",
       "2021-07-29 11:30:00  Intermediate                      78          33   \n",
       "2021-07-29 11:45:00  Intermediate                      74          37   \n",
       "2021-07-29 12:00:00  Intermediate                      44          -7   \n",
       "2021-07-29 12:15:00  Intermediate                      45           1   \n",
       "\n",
       "                    situation      status.1               last  \n",
       "dt_start_utc                                                    \n",
       "2021-01-01 00:00:00   Deficit         Final   01.01.2021 00:15  \n",
       "2021-01-01 00:15:00   Surplus         Final   01.01.2021 00:30  \n",
       "2021-01-01 00:30:00   Surplus         Final   01.01.2021 00:45  \n",
       "2021-01-01 00:45:00   Surplus         Final   01.01.2021 01:00  \n",
       "2021-01-01 01:00:00   Deficit         Final   01.01.2021 01:15  \n",
       "...                       ...           ...                ...  \n",
       "2021-07-29 11:15:00   Surplus  Intermediate   29.07.2021 11:30  \n",
       "2021-07-29 11:30:00   Surplus  Intermediate   29.07.2021 11:45  \n",
       "2021-07-29 11:45:00   Surplus  Intermediate   29.07.2021 12:00  \n",
       "2021-07-29 12:00:00   Surplus  Intermediate   29.07.2021 12:15  \n",
       "2021-07-29 12:15:00   Surplus  Intermediate   29.07.2021 12:30  \n",
       "\n",
       "[20114 rows x 8 columns]"
      ]
     },
     "metadata": {},
     "execution_count": 29
    }
   ],
   "metadata": {}
  },
  {
   "cell_type": "code",
   "execution_count": 30,
   "source": [
    "#The mathematical sign is represented by a string value. The function convert the string to proper numerical format.\n",
    "df = mwh_sign(df).copy()\n",
    "\n",
    "#Adding the correct mathmatical sign to the total imbalance MWh value.\n",
    "df.eval(\"rz_saldo_mwh_BE = situation * totalimbalancemwhscabe\", inplace=True)"
   ],
   "outputs": [
    {
     "output_type": "stream",
     "name": "stdout",
     "text": [
      "[-1  1  0]\n"
     ]
    }
   ],
   "metadata": {}
  },
  {
   "cell_type": "code",
   "execution_count": 31,
   "source": [
    "df.head()"
   ],
   "outputs": [
    {
     "output_type": "execute_result",
     "data": {
      "text/html": [
       "<div>\n",
       "<style scoped>\n",
       "    .dataframe tbody tr th:only-of-type {\n",
       "        vertical-align: middle;\n",
       "    }\n",
       "\n",
       "    .dataframe tbody tr th {\n",
       "        vertical-align: top;\n",
       "    }\n",
       "\n",
       "    .dataframe thead th {\n",
       "        text-align: right;\n",
       "    }\n",
       "</style>\n",
       "<table border=\"1\" class=\"dataframe\">\n",
       "  <thead>\n",
       "    <tr style=\"text-align: right;\">\n",
       "      <th></th>\n",
       "      <th>plusimbalancepriceeurmwhscabe</th>\n",
       "      <th>imbalancepriceeurmwhscabe</th>\n",
       "      <th>status</th>\n",
       "      <th>totalimbalancemwhscabe</th>\n",
       "      <th>difference</th>\n",
       "      <th>situation</th>\n",
       "      <th>status.1</th>\n",
       "      <th>last</th>\n",
       "      <th>rz_saldo_mwh_BE</th>\n",
       "    </tr>\n",
       "    <tr>\n",
       "      <th>dt_start_utc</th>\n",
       "      <th></th>\n",
       "      <th></th>\n",
       "      <th></th>\n",
       "      <th></th>\n",
       "      <th></th>\n",
       "      <th></th>\n",
       "      <th></th>\n",
       "      <th></th>\n",
       "      <th></th>\n",
       "    </tr>\n",
       "  </thead>\n",
       "  <tbody>\n",
       "    <tr>\n",
       "      <th>2021-01-01 00:00:00</th>\n",
       "      <td>64.84</td>\n",
       "      <td>64.84</td>\n",
       "      <td>Final</td>\n",
       "      <td>16</td>\n",
       "      <td>-3</td>\n",
       "      <td>-1</td>\n",
       "      <td>Final</td>\n",
       "      <td>01.01.2021 00:15</td>\n",
       "      <td>-16</td>\n",
       "    </tr>\n",
       "    <tr>\n",
       "      <th>2021-01-01 00:15:00</th>\n",
       "      <td>13.96</td>\n",
       "      <td>13.96</td>\n",
       "      <td>Final</td>\n",
       "      <td>38</td>\n",
       "      <td>2</td>\n",
       "      <td>1</td>\n",
       "      <td>Final</td>\n",
       "      <td>01.01.2021 00:30</td>\n",
       "      <td>38</td>\n",
       "    </tr>\n",
       "    <tr>\n",
       "      <th>2021-01-01 00:30:00</th>\n",
       "      <td>12.40</td>\n",
       "      <td>12.40</td>\n",
       "      <td>Final</td>\n",
       "      <td>46</td>\n",
       "      <td>1</td>\n",
       "      <td>1</td>\n",
       "      <td>Final</td>\n",
       "      <td>01.01.2021 00:45</td>\n",
       "      <td>46</td>\n",
       "    </tr>\n",
       "    <tr>\n",
       "      <th>2021-01-01 00:45:00</th>\n",
       "      <td>7.70</td>\n",
       "      <td>7.70</td>\n",
       "      <td>Final</td>\n",
       "      <td>65</td>\n",
       "      <td>14</td>\n",
       "      <td>1</td>\n",
       "      <td>Final</td>\n",
       "      <td>01.01.2021 01:00</td>\n",
       "      <td>65</td>\n",
       "    </tr>\n",
       "    <tr>\n",
       "      <th>2021-01-01 01:00:00</th>\n",
       "      <td>64.25</td>\n",
       "      <td>64.25</td>\n",
       "      <td>Final</td>\n",
       "      <td>3</td>\n",
       "      <td>-9</td>\n",
       "      <td>-1</td>\n",
       "      <td>Final</td>\n",
       "      <td>01.01.2021 01:15</td>\n",
       "      <td>-3</td>\n",
       "    </tr>\n",
       "  </tbody>\n",
       "</table>\n",
       "</div>"
      ],
      "text/plain": [
       "                     plusimbalancepriceeurmwhscabe  imbalancepriceeurmwhscabe  \\\n",
       "dt_start_utc                                                                    \n",
       "2021-01-01 00:00:00                          64.84                      64.84   \n",
       "2021-01-01 00:15:00                          13.96                      13.96   \n",
       "2021-01-01 00:30:00                          12.40                      12.40   \n",
       "2021-01-01 00:45:00                           7.70                       7.70   \n",
       "2021-01-01 01:00:00                          64.25                      64.25   \n",
       "\n",
       "                    status  totalimbalancemwhscabe  difference  situation  \\\n",
       "dt_start_utc                                                                \n",
       "2021-01-01 00:00:00  Final                      16          -3         -1   \n",
       "2021-01-01 00:15:00  Final                      38           2          1   \n",
       "2021-01-01 00:30:00  Final                      46           1          1   \n",
       "2021-01-01 00:45:00  Final                      65          14          1   \n",
       "2021-01-01 01:00:00  Final                       3          -9         -1   \n",
       "\n",
       "                    status.1               last  rz_saldo_mwh_BE  \n",
       "dt_start_utc                                                      \n",
       "2021-01-01 00:00:00    Final   01.01.2021 00:15              -16  \n",
       "2021-01-01 00:15:00    Final   01.01.2021 00:30               38  \n",
       "2021-01-01 00:30:00    Final   01.01.2021 00:45               46  \n",
       "2021-01-01 00:45:00    Final   01.01.2021 01:00               65  \n",
       "2021-01-01 01:00:00    Final   01.01.2021 01:15               -3  "
      ]
     },
     "metadata": {},
     "execution_count": 31
    }
   ],
   "metadata": {}
  },
  {
   "cell_type": "markdown",
   "source": [
    "We will remove the columns which will not be used at all in our analysis."
   ],
   "metadata": {}
  },
  {
   "cell_type": "code",
   "execution_count": 32,
   "source": [
    "df.drop([\"imbalancepriceeurmwhscabe\", \"status\",\"totalimbalancemwhscabe\", \"difference\", \"status.1\", \"situation\", \"status.1\", \"last\"], axis=1, inplace=True)\n",
    "df.rename(columns={\"plusimbalancepriceeurmwhscabe\": \"rebap_eur_mwh_BE\"},inplace=True)"
   ],
   "outputs": [],
   "metadata": {}
  },
  {
   "cell_type": "code",
   "execution_count": 33,
   "source": [
    "df.head()"
   ],
   "outputs": [
    {
     "output_type": "execute_result",
     "data": {
      "text/html": [
       "<div>\n",
       "<style scoped>\n",
       "    .dataframe tbody tr th:only-of-type {\n",
       "        vertical-align: middle;\n",
       "    }\n",
       "\n",
       "    .dataframe tbody tr th {\n",
       "        vertical-align: top;\n",
       "    }\n",
       "\n",
       "    .dataframe thead th {\n",
       "        text-align: right;\n",
       "    }\n",
       "</style>\n",
       "<table border=\"1\" class=\"dataframe\">\n",
       "  <thead>\n",
       "    <tr style=\"text-align: right;\">\n",
       "      <th></th>\n",
       "      <th>rebap_eur_mwh_BE</th>\n",
       "      <th>rz_saldo_mwh_BE</th>\n",
       "    </tr>\n",
       "    <tr>\n",
       "      <th>dt_start_utc</th>\n",
       "      <th></th>\n",
       "      <th></th>\n",
       "    </tr>\n",
       "  </thead>\n",
       "  <tbody>\n",
       "    <tr>\n",
       "      <th>2021-01-01 00:00:00</th>\n",
       "      <td>64.84</td>\n",
       "      <td>-16</td>\n",
       "    </tr>\n",
       "    <tr>\n",
       "      <th>2021-01-01 00:15:00</th>\n",
       "      <td>13.96</td>\n",
       "      <td>38</td>\n",
       "    </tr>\n",
       "    <tr>\n",
       "      <th>2021-01-01 00:30:00</th>\n",
       "      <td>12.40</td>\n",
       "      <td>46</td>\n",
       "    </tr>\n",
       "    <tr>\n",
       "      <th>2021-01-01 00:45:00</th>\n",
       "      <td>7.70</td>\n",
       "      <td>65</td>\n",
       "    </tr>\n",
       "    <tr>\n",
       "      <th>2021-01-01 01:00:00</th>\n",
       "      <td>64.25</td>\n",
       "      <td>-3</td>\n",
       "    </tr>\n",
       "  </tbody>\n",
       "</table>\n",
       "</div>"
      ],
      "text/plain": [
       "                     rebap_eur_mwh_BE  rz_saldo_mwh_BE\n",
       "dt_start_utc                                          \n",
       "2021-01-01 00:00:00             64.84              -16\n",
       "2021-01-01 00:15:00             13.96               38\n",
       "2021-01-01 00:30:00             12.40               46\n",
       "2021-01-01 00:45:00              7.70               65\n",
       "2021-01-01 01:00:00             64.25               -3"
      ]
     },
     "metadata": {},
     "execution_count": 33
    }
   ],
   "metadata": {}
  },
  {
   "cell_type": "markdown",
   "source": [
    "According to a correct datetime convertion, we need to consider the given format of the date in our data frame: DD-MM-YY.\n",
    "In this situation the value of dayfirst must be set to \"True\"."
   ],
   "metadata": {}
  },
  {
   "cell_type": "code",
   "execution_count": 34,
   "source": [
    "df.head()"
   ],
   "outputs": [
    {
     "output_type": "execute_result",
     "data": {
      "text/html": [
       "<div>\n",
       "<style scoped>\n",
       "    .dataframe tbody tr th:only-of-type {\n",
       "        vertical-align: middle;\n",
       "    }\n",
       "\n",
       "    .dataframe tbody tr th {\n",
       "        vertical-align: top;\n",
       "    }\n",
       "\n",
       "    .dataframe thead th {\n",
       "        text-align: right;\n",
       "    }\n",
       "</style>\n",
       "<table border=\"1\" class=\"dataframe\">\n",
       "  <thead>\n",
       "    <tr style=\"text-align: right;\">\n",
       "      <th></th>\n",
       "      <th>rebap_eur_mwh_BE</th>\n",
       "      <th>rz_saldo_mwh_BE</th>\n",
       "    </tr>\n",
       "    <tr>\n",
       "      <th>dt_start_utc</th>\n",
       "      <th></th>\n",
       "      <th></th>\n",
       "    </tr>\n",
       "  </thead>\n",
       "  <tbody>\n",
       "    <tr>\n",
       "      <th>2021-01-01 00:00:00</th>\n",
       "      <td>64.84</td>\n",
       "      <td>-16</td>\n",
       "    </tr>\n",
       "    <tr>\n",
       "      <th>2021-01-01 00:15:00</th>\n",
       "      <td>13.96</td>\n",
       "      <td>38</td>\n",
       "    </tr>\n",
       "    <tr>\n",
       "      <th>2021-01-01 00:30:00</th>\n",
       "      <td>12.40</td>\n",
       "      <td>46</td>\n",
       "    </tr>\n",
       "    <tr>\n",
       "      <th>2021-01-01 00:45:00</th>\n",
       "      <td>7.70</td>\n",
       "      <td>65</td>\n",
       "    </tr>\n",
       "    <tr>\n",
       "      <th>2021-01-01 01:00:00</th>\n",
       "      <td>64.25</td>\n",
       "      <td>-3</td>\n",
       "    </tr>\n",
       "  </tbody>\n",
       "</table>\n",
       "</div>"
      ],
      "text/plain": [
       "                     rebap_eur_mwh_BE  rz_saldo_mwh_BE\n",
       "dt_start_utc                                          \n",
       "2021-01-01 00:00:00             64.84              -16\n",
       "2021-01-01 00:15:00             13.96               38\n",
       "2021-01-01 00:30:00             12.40               46\n",
       "2021-01-01 00:45:00              7.70               65\n",
       "2021-01-01 01:00:00             64.25               -3"
      ]
     },
     "metadata": {},
     "execution_count": 34
    }
   ],
   "metadata": {}
  },
  {
   "cell_type": "code",
   "execution_count": 35,
   "source": [
    "count_inf = np.isinf(df_imbalance_de).values.sum()\n",
    "count_nan = df_imbalance_de.isnull().sum().sum()\n",
    "print(\"The data frame contains \" + str(count_inf) + \" infinite values and \" + str(count_nan) + \" missing values.\")"
   ],
   "outputs": [
    {
     "output_type": "stream",
     "name": "stdout",
     "text": [
      "The data frame contains 0 infinite values and 2 missing values.\n"
     ]
    }
   ],
   "metadata": {}
  },
  {
   "cell_type": "markdown",
   "source": [
    "### Implement Real Life Time Delays to Data Frame\n",
    "In real life, the balancing energie value is published with an delay of 2 hours. We remodeling this situation by shifting this column by eight rows, which is equivalent to 2 hours."
   ],
   "metadata": {}
  },
  {
   "cell_type": "code",
   "execution_count": 36,
   "source": [
    "df = df.shift(periods=8)"
   ],
   "outputs": [],
   "metadata": {}
  },
  {
   "cell_type": "markdown",
   "source": [
    "Copy data from a generic dataframe name (df) to more individual and specifc name."
   ],
   "metadata": {}
  },
  {
   "cell_type": "code",
   "execution_count": 37,
   "source": [
    "df_be = df.copy()"
   ],
   "outputs": [],
   "metadata": {}
  },
  {
   "cell_type": "markdown",
   "source": [
    "## 1.2 Import Poland Data"
   ],
   "metadata": {}
  },
  {
   "cell_type": "markdown",
   "source": [
    "We import the data, which is available in a single csv file, and assign it to a dataframe."
   ],
   "metadata": {}
  },
  {
   "cell_type": "code",
   "execution_count": 38,
   "source": [
    "df = pd.read_csv(\"../data/entsoe/Imbalance_MB__Poland.csv\")\n",
    "df.shape"
   ],
   "outputs": [
    {
     "output_type": "execute_result",
     "data": {
      "text/plain": [
       "(5029, 8)"
      ]
     },
     "metadata": {},
     "execution_count": 38
    }
   ],
   "metadata": {}
  },
  {
   "cell_type": "code",
   "execution_count": 39,
   "source": [
    "df.head()"
   ],
   "outputs": [
    {
     "output_type": "execute_result",
     "data": {
      "text/html": [
       "<div>\n",
       "<style scoped>\n",
       "    .dataframe tbody tr th:only-of-type {\n",
       "        vertical-align: middle;\n",
       "    }\n",
       "\n",
       "    .dataframe tbody tr th {\n",
       "        vertical-align: top;\n",
       "    }\n",
       "\n",
       "    .dataframe thead th {\n",
       "        text-align: right;\n",
       "    }\n",
       "</style>\n",
       "<table border=\"1\" class=\"dataframe\">\n",
       "  <thead>\n",
       "    <tr style=\"text-align: right;\">\n",
       "      <th></th>\n",
       "      <th>dt_start_utc</th>\n",
       "      <th>ImbalancePrice_PLN_MWh_MBA_PL</th>\n",
       "      <th>- Imbalance Price [PLN/MWh] - MBA|PL</th>\n",
       "      <th>Status</th>\n",
       "      <th>Total Imbalance [MWh] - MBA|PL</th>\n",
       "      <th>Difference</th>\n",
       "      <th>Situation</th>\n",
       "      <th>Status.1</th>\n",
       "    </tr>\n",
       "  </thead>\n",
       "  <tbody>\n",
       "    <tr>\n",
       "      <th>0</th>\n",
       "      <td>01.01.2021 00:00 - 01.01.2021 01:00</td>\n",
       "      <td>191.33</td>\n",
       "      <td>191.33</td>\n",
       "      <td>Final</td>\n",
       "      <td>669</td>\n",
       "      <td>36</td>\n",
       "      <td>Surplus</td>\n",
       "      <td>Final</td>\n",
       "    </tr>\n",
       "    <tr>\n",
       "      <th>1</th>\n",
       "      <td>01.01.2021 01:00 - 01.01.2021 02:00</td>\n",
       "      <td>191.33</td>\n",
       "      <td>191.33</td>\n",
       "      <td>Final</td>\n",
       "      <td>521</td>\n",
       "      <td>15</td>\n",
       "      <td>Surplus</td>\n",
       "      <td>Final</td>\n",
       "    </tr>\n",
       "    <tr>\n",
       "      <th>2</th>\n",
       "      <td>01.01.2021 02:00 - 01.01.2021 03:00</td>\n",
       "      <td>191.33</td>\n",
       "      <td>191.33</td>\n",
       "      <td>Final</td>\n",
       "      <td>253</td>\n",
       "      <td>69</td>\n",
       "      <td>Surplus</td>\n",
       "      <td>Final</td>\n",
       "    </tr>\n",
       "    <tr>\n",
       "      <th>3</th>\n",
       "      <td>01.01.2021 03:00 - 01.01.2021 04:00</td>\n",
       "      <td>191.33</td>\n",
       "      <td>191.33</td>\n",
       "      <td>Final</td>\n",
       "      <td>130</td>\n",
       "      <td>47</td>\n",
       "      <td>Surplus</td>\n",
       "      <td>Final</td>\n",
       "    </tr>\n",
       "    <tr>\n",
       "      <th>4</th>\n",
       "      <td>01.01.2021 04:00 - 01.01.2021 05:00</td>\n",
       "      <td>191.33</td>\n",
       "      <td>191.33</td>\n",
       "      <td>Final</td>\n",
       "      <td>35</td>\n",
       "      <td>-85</td>\n",
       "      <td>Surplus</td>\n",
       "      <td>Final</td>\n",
       "    </tr>\n",
       "  </tbody>\n",
       "</table>\n",
       "</div>"
      ],
      "text/plain": [
       "                          dt_start_utc  ImbalancePrice_PLN_MWh_MBA_PL  \\\n",
       "0  01.01.2021 00:00 - 01.01.2021 01:00                         191.33   \n",
       "1  01.01.2021 01:00 - 01.01.2021 02:00                         191.33   \n",
       "2  01.01.2021 02:00 - 01.01.2021 03:00                         191.33   \n",
       "3  01.01.2021 03:00 - 01.01.2021 04:00                         191.33   \n",
       "4  01.01.2021 04:00 - 01.01.2021 05:00                         191.33   \n",
       "\n",
       "   - Imbalance Price [PLN/MWh] - MBA|PL Status  \\\n",
       "0                                191.33  Final   \n",
       "1                                191.33  Final   \n",
       "2                                191.33  Final   \n",
       "3                                191.33  Final   \n",
       "4                                191.33  Final   \n",
       "\n",
       "   Total Imbalance [MWh] - MBA|PL  Difference Situation Status.1  \n",
       "0                             669          36   Surplus    Final  \n",
       "1                             521          15   Surplus    Final  \n",
       "2                             253          69   Surplus    Final  \n",
       "3                             130          47   Surplus    Final  \n",
       "4                              35         -85   Surplus    Final  "
      ]
     },
     "metadata": {},
     "execution_count": 39
    }
   ],
   "metadata": {}
  },
  {
   "cell_type": "code",
   "execution_count": 40,
   "source": [
    " #Find NaNs and duplicates in data frame\n",
    "\n",
    "print('There are {} missing values or NaNs in df_imbalance_de.'\n",
    "      .format(df.isnull().values.sum()))\n",
    "\n",
    "temp = df.duplicated(keep='first').sum()\n",
    "\n",
    "print('There are {} duplicate rows in df_imbalance_de based on all columns.'\n",
    "      .format(temp))"
   ],
   "outputs": [
    {
     "output_type": "stream",
     "name": "stdout",
     "text": [
      "There are 0 missing values or NaNs in df_imbalance_de.\n",
      "There are 0 duplicate rows in df_imbalance_de based on all columns.\n"
     ]
    }
   ],
   "metadata": {}
  },
  {
   "cell_type": "code",
   "execution_count": 41,
   "source": [
    "df = to_datetime(df).copy()"
   ],
   "outputs": [],
   "metadata": {}
  },
  {
   "cell_type": "code",
   "execution_count": 42,
   "source": [
    "#Simplify the column names of the data frame.\n",
    "df = cleaningcolumns(df).copy()"
   ],
   "outputs": [],
   "metadata": {}
  },
  {
   "cell_type": "code",
   "execution_count": 43,
   "source": [
    "df.head()"
   ],
   "outputs": [
    {
     "output_type": "execute_result",
     "data": {
      "text/html": [
       "<div>\n",
       "<style scoped>\n",
       "    .dataframe tbody tr th:only-of-type {\n",
       "        vertical-align: middle;\n",
       "    }\n",
       "\n",
       "    .dataframe tbody tr th {\n",
       "        vertical-align: top;\n",
       "    }\n",
       "\n",
       "    .dataframe thead th {\n",
       "        text-align: right;\n",
       "    }\n",
       "</style>\n",
       "<table border=\"1\" class=\"dataframe\">\n",
       "  <thead>\n",
       "    <tr style=\"text-align: right;\">\n",
       "      <th></th>\n",
       "      <th>imbalanceprice_pln_mwh_mba_pl</th>\n",
       "      <th>imbalancepriceplnmwhmbapl</th>\n",
       "      <th>status</th>\n",
       "      <th>totalimbalancemwhmbapl</th>\n",
       "      <th>difference</th>\n",
       "      <th>situation</th>\n",
       "      <th>status.1</th>\n",
       "      <th>last</th>\n",
       "    </tr>\n",
       "    <tr>\n",
       "      <th>dt_start_utc</th>\n",
       "      <th></th>\n",
       "      <th></th>\n",
       "      <th></th>\n",
       "      <th></th>\n",
       "      <th></th>\n",
       "      <th></th>\n",
       "      <th></th>\n",
       "      <th></th>\n",
       "    </tr>\n",
       "  </thead>\n",
       "  <tbody>\n",
       "    <tr>\n",
       "      <th>2021-01-01 00:00:00</th>\n",
       "      <td>191.33</td>\n",
       "      <td>191.33</td>\n",
       "      <td>Final</td>\n",
       "      <td>669</td>\n",
       "      <td>36</td>\n",
       "      <td>Surplus</td>\n",
       "      <td>Final</td>\n",
       "      <td>01.01.2021 01:00</td>\n",
       "    </tr>\n",
       "    <tr>\n",
       "      <th>2021-01-01 01:00:00</th>\n",
       "      <td>191.33</td>\n",
       "      <td>191.33</td>\n",
       "      <td>Final</td>\n",
       "      <td>521</td>\n",
       "      <td>15</td>\n",
       "      <td>Surplus</td>\n",
       "      <td>Final</td>\n",
       "      <td>01.01.2021 02:00</td>\n",
       "    </tr>\n",
       "    <tr>\n",
       "      <th>2021-01-01 02:00:00</th>\n",
       "      <td>191.33</td>\n",
       "      <td>191.33</td>\n",
       "      <td>Final</td>\n",
       "      <td>253</td>\n",
       "      <td>69</td>\n",
       "      <td>Surplus</td>\n",
       "      <td>Final</td>\n",
       "      <td>01.01.2021 03:00</td>\n",
       "    </tr>\n",
       "    <tr>\n",
       "      <th>2021-01-01 03:00:00</th>\n",
       "      <td>191.33</td>\n",
       "      <td>191.33</td>\n",
       "      <td>Final</td>\n",
       "      <td>130</td>\n",
       "      <td>47</td>\n",
       "      <td>Surplus</td>\n",
       "      <td>Final</td>\n",
       "      <td>01.01.2021 04:00</td>\n",
       "    </tr>\n",
       "    <tr>\n",
       "      <th>2021-01-01 04:00:00</th>\n",
       "      <td>191.33</td>\n",
       "      <td>191.33</td>\n",
       "      <td>Final</td>\n",
       "      <td>35</td>\n",
       "      <td>-85</td>\n",
       "      <td>Surplus</td>\n",
       "      <td>Final</td>\n",
       "      <td>01.01.2021 05:00</td>\n",
       "    </tr>\n",
       "  </tbody>\n",
       "</table>\n",
       "</div>"
      ],
      "text/plain": [
       "                     imbalanceprice_pln_mwh_mba_pl  imbalancepriceplnmwhmbapl  \\\n",
       "dt_start_utc                                                                    \n",
       "2021-01-01 00:00:00                         191.33                     191.33   \n",
       "2021-01-01 01:00:00                         191.33                     191.33   \n",
       "2021-01-01 02:00:00                         191.33                     191.33   \n",
       "2021-01-01 03:00:00                         191.33                     191.33   \n",
       "2021-01-01 04:00:00                         191.33                     191.33   \n",
       "\n",
       "                    status  totalimbalancemwhmbapl  difference situation  \\\n",
       "dt_start_utc                                                               \n",
       "2021-01-01 00:00:00  Final                     669          36   Surplus   \n",
       "2021-01-01 01:00:00  Final                     521          15   Surplus   \n",
       "2021-01-01 02:00:00  Final                     253          69   Surplus   \n",
       "2021-01-01 03:00:00  Final                     130          47   Surplus   \n",
       "2021-01-01 04:00:00  Final                      35         -85   Surplus   \n",
       "\n",
       "                    status.1               last  \n",
       "dt_start_utc                                     \n",
       "2021-01-01 00:00:00    Final   01.01.2021 01:00  \n",
       "2021-01-01 01:00:00    Final   01.01.2021 02:00  \n",
       "2021-01-01 02:00:00    Final   01.01.2021 03:00  \n",
       "2021-01-01 03:00:00    Final   01.01.2021 04:00  \n",
       "2021-01-01 04:00:00    Final   01.01.2021 05:00  "
      ]
     },
     "metadata": {},
     "execution_count": 43
    }
   ],
   "metadata": {}
  },
  {
   "cell_type": "code",
   "execution_count": 44,
   "source": [
    "df = mwh_sign(df).copy()\n",
    "df.eval(\"rz_saldo_mwh_PL = situation * totalimbalancemwhmbapl\", inplace=True)"
   ],
   "outputs": [
    {
     "output_type": "stream",
     "name": "stdout",
     "text": [
      "[ 1 -1  0]\n"
     ]
    }
   ],
   "metadata": {}
  },
  {
   "cell_type": "markdown",
   "source": [
    "We will remove the columns which will not be used at all in our analysis."
   ],
   "metadata": {}
  },
  {
   "cell_type": "code",
   "execution_count": 45,
   "source": [
    "df.drop([\"imbalancepriceplnmwhmbapl\", \"status\",\"totalimbalancemwhmbapl\", \"status.1\", \"situation\", \"difference\", \"last\"], axis=1, inplace=True)\n",
    "df.rename(columns={\"imbalanceprice_pln_mwh_mba_pl\": \"rebap_eur_mwh_PL\"},inplace=True)"
   ],
   "outputs": [],
   "metadata": {}
  },
  {
   "cell_type": "code",
   "execution_count": 46,
   "source": [
    "df.head(10)"
   ],
   "outputs": [
    {
     "output_type": "execute_result",
     "data": {
      "text/html": [
       "<div>\n",
       "<style scoped>\n",
       "    .dataframe tbody tr th:only-of-type {\n",
       "        vertical-align: middle;\n",
       "    }\n",
       "\n",
       "    .dataframe tbody tr th {\n",
       "        vertical-align: top;\n",
       "    }\n",
       "\n",
       "    .dataframe thead th {\n",
       "        text-align: right;\n",
       "    }\n",
       "</style>\n",
       "<table border=\"1\" class=\"dataframe\">\n",
       "  <thead>\n",
       "    <tr style=\"text-align: right;\">\n",
       "      <th></th>\n",
       "      <th>rebap_eur_mwh_PL</th>\n",
       "      <th>rz_saldo_mwh_PL</th>\n",
       "    </tr>\n",
       "    <tr>\n",
       "      <th>dt_start_utc</th>\n",
       "      <th></th>\n",
       "      <th></th>\n",
       "    </tr>\n",
       "  </thead>\n",
       "  <tbody>\n",
       "    <tr>\n",
       "      <th>2021-01-01 00:00:00</th>\n",
       "      <td>191.33</td>\n",
       "      <td>669</td>\n",
       "    </tr>\n",
       "    <tr>\n",
       "      <th>2021-01-01 01:00:00</th>\n",
       "      <td>191.33</td>\n",
       "      <td>521</td>\n",
       "    </tr>\n",
       "    <tr>\n",
       "      <th>2021-01-01 02:00:00</th>\n",
       "      <td>191.33</td>\n",
       "      <td>253</td>\n",
       "    </tr>\n",
       "    <tr>\n",
       "      <th>2021-01-01 03:00:00</th>\n",
       "      <td>191.33</td>\n",
       "      <td>130</td>\n",
       "    </tr>\n",
       "    <tr>\n",
       "      <th>2021-01-01 04:00:00</th>\n",
       "      <td>191.33</td>\n",
       "      <td>35</td>\n",
       "    </tr>\n",
       "    <tr>\n",
       "      <th>2021-01-01 05:00:00</th>\n",
       "      <td>191.33</td>\n",
       "      <td>-317</td>\n",
       "    </tr>\n",
       "    <tr>\n",
       "      <th>2021-01-01 06:00:00</th>\n",
       "      <td>191.33</td>\n",
       "      <td>-445</td>\n",
       "    </tr>\n",
       "    <tr>\n",
       "      <th>2021-01-01 07:00:00</th>\n",
       "      <td>191.33</td>\n",
       "      <td>-377</td>\n",
       "    </tr>\n",
       "    <tr>\n",
       "      <th>2021-01-01 08:00:00</th>\n",
       "      <td>191.33</td>\n",
       "      <td>141</td>\n",
       "    </tr>\n",
       "    <tr>\n",
       "      <th>2021-01-01 09:00:00</th>\n",
       "      <td>191.33</td>\n",
       "      <td>294</td>\n",
       "    </tr>\n",
       "  </tbody>\n",
       "</table>\n",
       "</div>"
      ],
      "text/plain": [
       "                     rebap_eur_mwh_PL  rz_saldo_mwh_PL\n",
       "dt_start_utc                                          \n",
       "2021-01-01 00:00:00            191.33              669\n",
       "2021-01-01 01:00:00            191.33              521\n",
       "2021-01-01 02:00:00            191.33              253\n",
       "2021-01-01 03:00:00            191.33              130\n",
       "2021-01-01 04:00:00            191.33               35\n",
       "2021-01-01 05:00:00            191.33             -317\n",
       "2021-01-01 06:00:00            191.33             -445\n",
       "2021-01-01 07:00:00            191.33             -377\n",
       "2021-01-01 08:00:00            191.33              141\n",
       "2021-01-01 09:00:00            191.33              294"
      ]
     },
     "metadata": {},
     "execution_count": 46
    }
   ],
   "metadata": {}
  },
  {
   "cell_type": "markdown",
   "source": [
    "The data are published with an one hour intervall. To unify the data with the other data frames it's necessary to resample from one hour to 15 min intervalls. The interpolated values are forward filled to prevent data leakage."
   ],
   "metadata": {}
  },
  {
   "cell_type": "code",
   "execution_count": 47,
   "source": [
    "df = df.resample(resample_size).ffill()\n",
    "df.head()"
   ],
   "outputs": [
    {
     "output_type": "execute_result",
     "data": {
      "text/html": [
       "<div>\n",
       "<style scoped>\n",
       "    .dataframe tbody tr th:only-of-type {\n",
       "        vertical-align: middle;\n",
       "    }\n",
       "\n",
       "    .dataframe tbody tr th {\n",
       "        vertical-align: top;\n",
       "    }\n",
       "\n",
       "    .dataframe thead th {\n",
       "        text-align: right;\n",
       "    }\n",
       "</style>\n",
       "<table border=\"1\" class=\"dataframe\">\n",
       "  <thead>\n",
       "    <tr style=\"text-align: right;\">\n",
       "      <th></th>\n",
       "      <th>rebap_eur_mwh_PL</th>\n",
       "      <th>rz_saldo_mwh_PL</th>\n",
       "    </tr>\n",
       "    <tr>\n",
       "      <th>dt_start_utc</th>\n",
       "      <th></th>\n",
       "      <th></th>\n",
       "    </tr>\n",
       "  </thead>\n",
       "  <tbody>\n",
       "    <tr>\n",
       "      <th>2021-01-01 00:00:00</th>\n",
       "      <td>191.33</td>\n",
       "      <td>669</td>\n",
       "    </tr>\n",
       "    <tr>\n",
       "      <th>2021-01-01 00:15:00</th>\n",
       "      <td>191.33</td>\n",
       "      <td>669</td>\n",
       "    </tr>\n",
       "    <tr>\n",
       "      <th>2021-01-01 00:30:00</th>\n",
       "      <td>191.33</td>\n",
       "      <td>669</td>\n",
       "    </tr>\n",
       "    <tr>\n",
       "      <th>2021-01-01 00:45:00</th>\n",
       "      <td>191.33</td>\n",
       "      <td>669</td>\n",
       "    </tr>\n",
       "    <tr>\n",
       "      <th>2021-01-01 01:00:00</th>\n",
       "      <td>191.33</td>\n",
       "      <td>521</td>\n",
       "    </tr>\n",
       "  </tbody>\n",
       "</table>\n",
       "</div>"
      ],
      "text/plain": [
       "                     rebap_eur_mwh_PL  rz_saldo_mwh_PL\n",
       "dt_start_utc                                          \n",
       "2021-01-01 00:00:00            191.33              669\n",
       "2021-01-01 00:15:00            191.33              669\n",
       "2021-01-01 00:30:00            191.33              669\n",
       "2021-01-01 00:45:00            191.33              669\n",
       "2021-01-01 01:00:00            191.33              521"
      ]
     },
     "metadata": {},
     "execution_count": 47
    }
   ],
   "metadata": {}
  },
  {
   "cell_type": "markdown",
   "source": [
    "The data are published one hour delayed, so we shift \"rz_saldo_mwh_PL four rows."
   ],
   "metadata": {}
  },
  {
   "cell_type": "code",
   "execution_count": 48,
   "source": [
    "df = df.shift(periods=4)"
   ],
   "outputs": [],
   "metadata": {}
  },
  {
   "cell_type": "code",
   "execution_count": 49,
   "source": [
    "count = np.isinf(df).values.sum()\n",
    "print(\"The data frame contains \" + str(count) + \" infinite values\")\n",
    "print(\"The Data Frame has\",df.isnull().sum().sum(),\"missing values.\")"
   ],
   "outputs": [
    {
     "output_type": "stream",
     "name": "stdout",
     "text": [
      "The data frame contains 0 infinite values\n",
      "The Data Frame has 8 missing values.\n"
     ]
    }
   ],
   "metadata": {}
  },
  {
   "cell_type": "code",
   "execution_count": 50,
   "source": [
    "df.head()"
   ],
   "outputs": [
    {
     "output_type": "execute_result",
     "data": {
      "text/html": [
       "<div>\n",
       "<style scoped>\n",
       "    .dataframe tbody tr th:only-of-type {\n",
       "        vertical-align: middle;\n",
       "    }\n",
       "\n",
       "    .dataframe tbody tr th {\n",
       "        vertical-align: top;\n",
       "    }\n",
       "\n",
       "    .dataframe thead th {\n",
       "        text-align: right;\n",
       "    }\n",
       "</style>\n",
       "<table border=\"1\" class=\"dataframe\">\n",
       "  <thead>\n",
       "    <tr style=\"text-align: right;\">\n",
       "      <th></th>\n",
       "      <th>rebap_eur_mwh_PL</th>\n",
       "      <th>rz_saldo_mwh_PL</th>\n",
       "    </tr>\n",
       "    <tr>\n",
       "      <th>dt_start_utc</th>\n",
       "      <th></th>\n",
       "      <th></th>\n",
       "    </tr>\n",
       "  </thead>\n",
       "  <tbody>\n",
       "    <tr>\n",
       "      <th>2021-01-01 00:00:00</th>\n",
       "      <td>NaN</td>\n",
       "      <td>NaN</td>\n",
       "    </tr>\n",
       "    <tr>\n",
       "      <th>2021-01-01 00:15:00</th>\n",
       "      <td>NaN</td>\n",
       "      <td>NaN</td>\n",
       "    </tr>\n",
       "    <tr>\n",
       "      <th>2021-01-01 00:30:00</th>\n",
       "      <td>NaN</td>\n",
       "      <td>NaN</td>\n",
       "    </tr>\n",
       "    <tr>\n",
       "      <th>2021-01-01 00:45:00</th>\n",
       "      <td>NaN</td>\n",
       "      <td>NaN</td>\n",
       "    </tr>\n",
       "    <tr>\n",
       "      <th>2021-01-01 01:00:00</th>\n",
       "      <td>191.33</td>\n",
       "      <td>669.0</td>\n",
       "    </tr>\n",
       "  </tbody>\n",
       "</table>\n",
       "</div>"
      ],
      "text/plain": [
       "                     rebap_eur_mwh_PL  rz_saldo_mwh_PL\n",
       "dt_start_utc                                          \n",
       "2021-01-01 00:00:00               NaN              NaN\n",
       "2021-01-01 00:15:00               NaN              NaN\n",
       "2021-01-01 00:30:00               NaN              NaN\n",
       "2021-01-01 00:45:00               NaN              NaN\n",
       "2021-01-01 01:00:00            191.33            669.0"
      ]
     },
     "metadata": {},
     "execution_count": 50
    }
   ],
   "metadata": {}
  },
  {
   "cell_type": "code",
   "execution_count": 51,
   "source": [
    "df_pl = df.copy()"
   ],
   "outputs": [],
   "metadata": {}
  },
  {
   "cell_type": "markdown",
   "source": [
    "## 1.4 Import Austrian Data"
   ],
   "metadata": {}
  },
  {
   "cell_type": "code",
   "execution_count": 52,
   "source": [
    "df = pd.read_csv(\"../data/entsoe/AUS_Imba.csv\")\n",
    "df.shape"
   ],
   "outputs": [
    {
     "output_type": "execute_result",
     "data": {
      "text/plain": [
       "(20089, 8)"
      ]
     },
     "metadata": {},
     "execution_count": 52
    }
   ],
   "metadata": {}
  },
  {
   "cell_type": "markdown",
   "source": [
    " First, we simplify all column names."
   ],
   "metadata": {}
  },
  {
   "cell_type": "code",
   "execution_count": 53,
   "source": [
    "cleaningcolumns(df)"
   ],
   "outputs": [
    {
     "output_type": "execute_result",
     "data": {
      "text/html": [
       "<div>\n",
       "<style scoped>\n",
       "    .dataframe tbody tr th:only-of-type {\n",
       "        vertical-align: middle;\n",
       "    }\n",
       "\n",
       "    .dataframe tbody tr th {\n",
       "        vertical-align: top;\n",
       "    }\n",
       "\n",
       "    .dataframe thead th {\n",
       "        text-align: right;\n",
       "    }\n",
       "</style>\n",
       "<table border=\"1\" class=\"dataframe\">\n",
       "  <thead>\n",
       "    <tr style=\"text-align: right;\">\n",
       "      <th></th>\n",
       "      <th>dt_start_utc</th>\n",
       "      <th>plusimbalancepriceeurmwhscaat</th>\n",
       "      <th>imbalancepriceeurmwhscaat</th>\n",
       "      <th>status</th>\n",
       "      <th>totalimbalancemwhscaat</th>\n",
       "      <th>difference</th>\n",
       "      <th>situation</th>\n",
       "      <th>status.1</th>\n",
       "    </tr>\n",
       "  </thead>\n",
       "  <tbody>\n",
       "    <tr>\n",
       "      <th>0</th>\n",
       "      <td>01.01.2021 00:00 - 01.01.2021 00:15</td>\n",
       "      <td>85.42</td>\n",
       "      <td>85.42</td>\n",
       "      <td>Estimated</td>\n",
       "      <td>34</td>\n",
       "      <td>NaN</td>\n",
       "      <td>NaN</td>\n",
       "      <td>Final</td>\n",
       "    </tr>\n",
       "    <tr>\n",
       "      <th>1</th>\n",
       "      <td>01.01.2021 00:15 - 01.01.2021 00:30</td>\n",
       "      <td>84.96</td>\n",
       "      <td>84.96</td>\n",
       "      <td>Estimated</td>\n",
       "      <td>40</td>\n",
       "      <td>NaN</td>\n",
       "      <td>NaN</td>\n",
       "      <td>Final</td>\n",
       "    </tr>\n",
       "    <tr>\n",
       "      <th>2</th>\n",
       "      <td>01.01.2021 00:30 - 01.01.2021 00:45</td>\n",
       "      <td>80.71</td>\n",
       "      <td>80.71</td>\n",
       "      <td>Estimated</td>\n",
       "      <td>24</td>\n",
       "      <td>NaN</td>\n",
       "      <td>NaN</td>\n",
       "      <td>Final</td>\n",
       "    </tr>\n",
       "    <tr>\n",
       "      <th>3</th>\n",
       "      <td>01.01.2021 00:45 - 01.01.2021 01:00</td>\n",
       "      <td>70.53</td>\n",
       "      <td>70.53</td>\n",
       "      <td>Estimated</td>\n",
       "      <td>14</td>\n",
       "      <td>NaN</td>\n",
       "      <td>NaN</td>\n",
       "      <td>Final</td>\n",
       "    </tr>\n",
       "    <tr>\n",
       "      <th>4</th>\n",
       "      <td>01.01.2021 01:00 - 01.01.2021 01:15</td>\n",
       "      <td>77.71</td>\n",
       "      <td>77.71</td>\n",
       "      <td>Estimated</td>\n",
       "      <td>32</td>\n",
       "      <td>NaN</td>\n",
       "      <td>NaN</td>\n",
       "      <td>Final</td>\n",
       "    </tr>\n",
       "    <tr>\n",
       "      <th>...</th>\n",
       "      <td>...</td>\n",
       "      <td>...</td>\n",
       "      <td>...</td>\n",
       "      <td>...</td>\n",
       "      <td>...</td>\n",
       "      <td>...</td>\n",
       "      <td>...</td>\n",
       "      <td>...</td>\n",
       "    </tr>\n",
       "    <tr>\n",
       "      <th>20084</th>\n",
       "      <td>29.07.2021 05:00 - 29.07.2021 05:15</td>\n",
       "      <td>13.48</td>\n",
       "      <td>13.48</td>\n",
       "      <td>Intermediate</td>\n",
       "      <td>8</td>\n",
       "      <td>5.0</td>\n",
       "      <td>Surplus</td>\n",
       "      <td>Intermediate</td>\n",
       "    </tr>\n",
       "    <tr>\n",
       "      <th>20085</th>\n",
       "      <td>29.07.2021 05:15 - 29.07.2021 05:30</td>\n",
       "      <td>86.98</td>\n",
       "      <td>86.98</td>\n",
       "      <td>Intermediate</td>\n",
       "      <td>28</td>\n",
       "      <td>2.0</td>\n",
       "      <td>Deficit</td>\n",
       "      <td>Intermediate</td>\n",
       "    </tr>\n",
       "    <tr>\n",
       "      <th>20086</th>\n",
       "      <td>29.07.2021 05:30 - 29.07.2021 05:45</td>\n",
       "      <td>100.00</td>\n",
       "      <td>100.00</td>\n",
       "      <td>Intermediate</td>\n",
       "      <td>45</td>\n",
       "      <td>2.0</td>\n",
       "      <td>Deficit</td>\n",
       "      <td>Intermediate</td>\n",
       "    </tr>\n",
       "    <tr>\n",
       "      <th>20087</th>\n",
       "      <td>29.07.2021 05:45 - 29.07.2021 06:00</td>\n",
       "      <td>86.98</td>\n",
       "      <td>86.98</td>\n",
       "      <td>Intermediate</td>\n",
       "      <td>30</td>\n",
       "      <td>3.0</td>\n",
       "      <td>Deficit</td>\n",
       "      <td>Intermediate</td>\n",
       "    </tr>\n",
       "    <tr>\n",
       "      <th>20088</th>\n",
       "      <td>29.07.2021 06:00 - 29.07.2021 06:15</td>\n",
       "      <td>82.29</td>\n",
       "      <td>82.29</td>\n",
       "      <td>Intermediate</td>\n",
       "      <td>9</td>\n",
       "      <td>4.0</td>\n",
       "      <td>Deficit</td>\n",
       "      <td>Intermediate</td>\n",
       "    </tr>\n",
       "  </tbody>\n",
       "</table>\n",
       "<p>20089 rows × 8 columns</p>\n",
       "</div>"
      ],
      "text/plain": [
       "                              dt_start_utc  plusimbalancepriceeurmwhscaat  \\\n",
       "0      01.01.2021 00:00 - 01.01.2021 00:15                          85.42   \n",
       "1      01.01.2021 00:15 - 01.01.2021 00:30                          84.96   \n",
       "2      01.01.2021 00:30 - 01.01.2021 00:45                          80.71   \n",
       "3      01.01.2021 00:45 - 01.01.2021 01:00                          70.53   \n",
       "4      01.01.2021 01:00 - 01.01.2021 01:15                          77.71   \n",
       "...                                    ...                            ...   \n",
       "20084  29.07.2021 05:00 - 29.07.2021 05:15                          13.48   \n",
       "20085  29.07.2021 05:15 - 29.07.2021 05:30                          86.98   \n",
       "20086  29.07.2021 05:30 - 29.07.2021 05:45                         100.00   \n",
       "20087  29.07.2021 05:45 - 29.07.2021 06:00                          86.98   \n",
       "20088  29.07.2021 06:00 - 29.07.2021 06:15                          82.29   \n",
       "\n",
       "       imbalancepriceeurmwhscaat        status  totalimbalancemwhscaat  \\\n",
       "0                          85.42     Estimated                      34   \n",
       "1                          84.96     Estimated                      40   \n",
       "2                          80.71     Estimated                      24   \n",
       "3                          70.53     Estimated                      14   \n",
       "4                          77.71     Estimated                      32   \n",
       "...                          ...           ...                     ...   \n",
       "20084                      13.48  Intermediate                       8   \n",
       "20085                      86.98  Intermediate                      28   \n",
       "20086                     100.00  Intermediate                      45   \n",
       "20087                      86.98  Intermediate                      30   \n",
       "20088                      82.29  Intermediate                       9   \n",
       "\n",
       "       difference situation      status.1  \n",
       "0             NaN       NaN         Final  \n",
       "1             NaN       NaN         Final  \n",
       "2             NaN       NaN         Final  \n",
       "3             NaN       NaN         Final  \n",
       "4             NaN       NaN         Final  \n",
       "...           ...       ...           ...  \n",
       "20084         5.0   Surplus  Intermediate  \n",
       "20085         2.0   Deficit  Intermediate  \n",
       "20086         2.0   Deficit  Intermediate  \n",
       "20087         3.0   Deficit  Intermediate  \n",
       "20088         4.0   Deficit  Intermediate  \n",
       "\n",
       "[20089 rows x 8 columns]"
      ]
     },
     "metadata": {},
     "execution_count": 53
    }
   ],
   "metadata": {}
  },
  {
   "cell_type": "code",
   "execution_count": 54,
   "source": [
    "df = to_datetime(df).copy()"
   ],
   "outputs": [],
   "metadata": {}
  },
  {
   "cell_type": "code",
   "execution_count": 55,
   "source": [
    " #Find NaNs and duplicates in df_imbalance_de\n",
    "\n",
    "print('There are {} missing values or NaNs in df_imbalance_de.'\n",
    "      .format(df.isnull().values.sum()))\n",
    "\n",
    "temp = df.duplicated(keep='first').sum()\n",
    "\n",
    "print('There are {} duplicate rows in df_imbalance_de based on all columns.'\n",
    "      .format(temp))"
   ],
   "outputs": [
    {
     "output_type": "stream",
     "name": "stdout",
     "text": [
      "There are 34736 missing values or NaNs in df_imbalance_de.\n",
      "There are 0 duplicate rows in df_imbalance_de based on all columns.\n"
     ]
    }
   ],
   "metadata": {}
  },
  {
   "cell_type": "markdown",
   "source": [
    "As we can see, the data frame has no duplicate values. Nevertheless, it has plenty NaNs we have to investigate further."
   ],
   "metadata": {}
  },
  {
   "cell_type": "code",
   "execution_count": 56,
   "source": [
    "# Find the number of NaNs in each column\n",
    "df.isnull().sum(axis=0)"
   ],
   "outputs": [
    {
     "output_type": "execute_result",
     "data": {
      "text/plain": [
       "plusimbalancepriceeurmwhscaat        0\n",
       "imbalancepriceeurmwhscaat            0\n",
       "status                               0\n",
       "totalimbalancemwhscaat               0\n",
       "difference                       17368\n",
       "situation                        17368\n",
       "status.1                             0\n",
       "Last                                 0\n",
       "dtype: int64"
      ]
     },
     "metadata": {},
     "execution_count": 56
    }
   ],
   "metadata": {}
  },
  {
   "cell_type": "markdown",
   "source": [
    "All NaNs are in the columns \"difference\" and \"situation\". We won't use \"difference\" in our further analysis, so we don't investigate in its NaNs. First, we take a look of all values of the column \"situation\"."
   ],
   "metadata": {}
  },
  {
   "cell_type": "code",
   "execution_count": 57,
   "source": [
    "df.drop(\"difference\", axis=1, inplace=True)\n",
    "\n",
    "print(df.situation.nunique())\n",
    "print(df.situation.unique())"
   ],
   "outputs": [
    {
     "output_type": "stream",
     "name": "stdout",
     "text": [
      "3\n",
      "[nan 'Deficit' 'Surplus' 'Balanced']\n"
     ]
    }
   ],
   "metadata": {}
  },
  {
   "cell_type": "code",
   "execution_count": 58,
   "source": [
    "df1 = df[df.isna().any(axis=1)]\n",
    "print (df1)"
   ],
   "outputs": [
    {
     "output_type": "stream",
     "name": "stdout",
     "text": [
      "                     plusimbalancepriceeurmwhscaat  imbalancepriceeurmwhscaat  \\\n",
      "dt_start_utc                                                                    \n",
      "2021-01-01 00:00:00                          85.42                      85.42   \n",
      "2021-01-01 00:15:00                          84.96                      84.96   \n",
      "2021-01-01 00:30:00                          80.71                      80.71   \n",
      "2021-01-01 00:45:00                          70.53                      70.53   \n",
      "2021-01-01 01:00:00                          77.71                      77.71   \n",
      "...                                            ...                        ...   \n",
      "2021-06-30 20:45:00                         123.85                     123.85   \n",
      "2021-06-30 21:00:00                          26.43                      26.43   \n",
      "2021-06-30 21:15:00                          20.93                      20.93   \n",
      "2021-06-30 21:30:00                          11.40                      11.40   \n",
      "2021-06-30 21:45:00                          11.09                      11.09   \n",
      "\n",
      "                        status  totalimbalancemwhscaat situation status.1  \\\n",
      "dt_start_utc                                                                \n",
      "2021-01-01 00:00:00  Estimated                      34       NaN    Final   \n",
      "2021-01-01 00:15:00  Estimated                      40       NaN    Final   \n",
      "2021-01-01 00:30:00  Estimated                      24       NaN    Final   \n",
      "2021-01-01 00:45:00  Estimated                      14       NaN    Final   \n",
      "2021-01-01 01:00:00  Estimated                      32       NaN    Final   \n",
      "...                        ...                     ...       ...      ...   \n",
      "2021-06-30 20:45:00  Estimated                      35       NaN    Final   \n",
      "2021-06-30 21:00:00  Estimated                     -46       NaN    Final   \n",
      "2021-06-30 21:15:00  Estimated                    -108       NaN    Final   \n",
      "2021-06-30 21:30:00  Estimated                     -96       NaN    Final   \n",
      "2021-06-30 21:45:00  Estimated                     -54       NaN    Final   \n",
      "\n",
      "                                  Last  \n",
      "dt_start_utc                            \n",
      "2021-01-01 00:00:00   01.01.2021 00:15  \n",
      "2021-01-01 00:15:00   01.01.2021 00:30  \n",
      "2021-01-01 00:30:00   01.01.2021 00:45  \n",
      "2021-01-01 00:45:00   01.01.2021 01:00  \n",
      "2021-01-01 01:00:00   01.01.2021 01:15  \n",
      "...                                ...  \n",
      "2021-06-30 20:45:00   30.06.2021 21:00  \n",
      "2021-06-30 21:00:00   30.06.2021 21:15  \n",
      "2021-06-30 21:15:00   30.06.2021 21:30  \n",
      "2021-06-30 21:30:00   30.06.2021 21:45  \n",
      "2021-06-30 21:45:00   30.06.2021 22:00  \n",
      "\n",
      "[17368 rows x 7 columns]\n"
     ]
    }
   ],
   "metadata": {}
  },
  {
   "cell_type": "markdown",
   "source": [
    "When \"situation\" is NaN, \"totalimbalancemwhscaat\" has booth, positive and negative values. The orgin use of \"situtation\" is obsolete. We set this NaNs to 1 and apply the data frame to the function \"mwh_sign\"."
   ],
   "metadata": {}
  },
  {
   "cell_type": "code",
   "execution_count": 59,
   "source": [
    "df.columns"
   ],
   "outputs": [
    {
     "output_type": "execute_result",
     "data": {
      "text/plain": [
       "Index(['plusimbalancepriceeurmwhscaat', 'imbalancepriceeurmwhscaat', 'status',\n",
       "       'totalimbalancemwhscaat', 'situation', 'status.1', 'Last'],\n",
       "      dtype='object')"
      ]
     },
     "metadata": {},
     "execution_count": 59
    }
   ],
   "metadata": {}
  },
  {
   "cell_type": "code",
   "execution_count": 60,
   "source": [
    "df.situation = df.situation.fillna(value=1)\n",
    "df = mwh_sign(df).copy()\n",
    "\n",
    "df.eval(\"rz_saldo_mwh_AUS = situation * totalimbalancemwhscaat\", inplace=True)\n",
    "\n",
    "\n",
    "df.drop([\"plusimbalancepriceeurmwhscaat\", \"status\",\"totalimbalancemwhscaat\", \"status.1\", \"situation\", \"Last\"], axis=1, inplace=True)\n",
    "df.rename(columns={\"imbalancepriceeurmwhscaat\": \"rebap_eur_mwh_AUS\"},inplace=True)"
   ],
   "outputs": [
    {
     "output_type": "stream",
     "name": "stdout",
     "text": [
      "[ 1 -1  0]\n"
     ]
    }
   ],
   "metadata": {}
  },
  {
   "cell_type": "code",
   "execution_count": 61,
   "source": [
    "df.head()"
   ],
   "outputs": [
    {
     "output_type": "execute_result",
     "data": {
      "text/html": [
       "<div>\n",
       "<style scoped>\n",
       "    .dataframe tbody tr th:only-of-type {\n",
       "        vertical-align: middle;\n",
       "    }\n",
       "\n",
       "    .dataframe tbody tr th {\n",
       "        vertical-align: top;\n",
       "    }\n",
       "\n",
       "    .dataframe thead th {\n",
       "        text-align: right;\n",
       "    }\n",
       "</style>\n",
       "<table border=\"1\" class=\"dataframe\">\n",
       "  <thead>\n",
       "    <tr style=\"text-align: right;\">\n",
       "      <th></th>\n",
       "      <th>rebap_eur_mwh_AUS</th>\n",
       "      <th>rz_saldo_mwh_AUS</th>\n",
       "    </tr>\n",
       "    <tr>\n",
       "      <th>dt_start_utc</th>\n",
       "      <th></th>\n",
       "      <th></th>\n",
       "    </tr>\n",
       "  </thead>\n",
       "  <tbody>\n",
       "    <tr>\n",
       "      <th>2021-01-01 00:00:00</th>\n",
       "      <td>85.42</td>\n",
       "      <td>34</td>\n",
       "    </tr>\n",
       "    <tr>\n",
       "      <th>2021-01-01 00:15:00</th>\n",
       "      <td>84.96</td>\n",
       "      <td>40</td>\n",
       "    </tr>\n",
       "    <tr>\n",
       "      <th>2021-01-01 00:30:00</th>\n",
       "      <td>80.71</td>\n",
       "      <td>24</td>\n",
       "    </tr>\n",
       "    <tr>\n",
       "      <th>2021-01-01 00:45:00</th>\n",
       "      <td>70.53</td>\n",
       "      <td>14</td>\n",
       "    </tr>\n",
       "    <tr>\n",
       "      <th>2021-01-01 01:00:00</th>\n",
       "      <td>77.71</td>\n",
       "      <td>32</td>\n",
       "    </tr>\n",
       "  </tbody>\n",
       "</table>\n",
       "</div>"
      ],
      "text/plain": [
       "                     rebap_eur_mwh_AUS  rz_saldo_mwh_AUS\n",
       "dt_start_utc                                            \n",
       "2021-01-01 00:00:00              85.42                34\n",
       "2021-01-01 00:15:00              84.96                40\n",
       "2021-01-01 00:30:00              80.71                24\n",
       "2021-01-01 00:45:00              70.53                14\n",
       "2021-01-01 01:00:00              77.71                32"
      ]
     },
     "metadata": {},
     "execution_count": 61
    }
   ],
   "metadata": {}
  },
  {
   "cell_type": "markdown",
   "source": [
    "We need to shift the data 10 rows, because the data are usually 2,5 hours delayed  "
   ],
   "metadata": {}
  },
  {
   "cell_type": "code",
   "execution_count": 62,
   "source": [
    "df = df.shift(periods=10)"
   ],
   "outputs": [],
   "metadata": {}
  },
  {
   "cell_type": "code",
   "execution_count": 63,
   "source": [
    "df_aus = df.copy()"
   ],
   "outputs": [],
   "metadata": {}
  },
  {
   "cell_type": "markdown",
   "source": [
    "## 1.5 Import Danemark"
   ],
   "metadata": {}
  },
  {
   "cell_type": "markdown",
   "source": [
    "We import the data, which is available in a single csv file, and assign it to a dataframe."
   ],
   "metadata": {}
  },
  {
   "cell_type": "code",
   "execution_count": 64,
   "source": [
    "df = pd.read_csv(\"../data/entsoe/Imbalance_MB__DK.csv\")\n",
    "df.shape"
   ],
   "outputs": [
    {
     "output_type": "execute_result",
     "data": {
      "text/plain": [
       "(5028, 9)"
      ]
     },
     "metadata": {},
     "execution_count": 64
    }
   ],
   "metadata": {}
  },
  {
   "cell_type": "code",
   "execution_count": 65,
   "source": [
    "df = to_datetime(df).copy()"
   ],
   "outputs": [],
   "metadata": {}
  },
  {
   "cell_type": "code",
   "execution_count": 66,
   "source": [
    "df = cleaningcolumns(df).copy()"
   ],
   "outputs": [],
   "metadata": {}
  },
  {
   "cell_type": "code",
   "execution_count": 67,
   "source": [
    " #Find NaNs and duplicates in df\n",
    "\n",
    "print('There are {} missing values or NaNs in data frame.'\n",
    "      .format(df.isnull().values.sum()))\n",
    "\n",
    "temp = df.duplicated(keep='first').sum()\n",
    "\n",
    "print('There are {} duplicate rows in df based on all columns.'\n",
    "      .format(temp))"
   ],
   "outputs": [
    {
     "output_type": "stream",
     "name": "stdout",
     "text": [
      "There are 10088 missing values or NaNs in data frame.\n",
      "There are 0 duplicate rows in df based on all columns.\n"
     ]
    }
   ],
   "metadata": {}
  },
  {
   "cell_type": "code",
   "execution_count": 68,
   "source": [
    "# Find the number of NaNs in each column\n",
    "df.isnull().sum(axis=0)"
   ],
   "outputs": [
    {
     "output_type": "execute_result",
     "data": {
      "text/plain": [
       "generationplusimbalancepriceeurmwhmbadk2       8\n",
       "generationimbalancepriceeurmwhmbadk2           8\n",
       "priceforconsumptioneurmwhmbadk2                8\n",
       "status                                         8\n",
       "totalimbalancemwhmbadk2                        0\n",
       "difference                                  5028\n",
       "situation                                   5028\n",
       "status.1                                       0\n",
       "last                                           0\n",
       "dtype: int64"
      ]
     },
     "metadata": {},
     "execution_count": 68
    }
   ],
   "metadata": {}
  },
  {
   "cell_type": "markdown",
   "source": [
    "When \"situation\" is NaN, \"totalimbalancemwhscaat\" has booth, positive and negative values. The orgin use of \"situtation\" is obsolete. We set this NaNs to 1 and apply the data frame to the function \"mwh_sign\"."
   ],
   "metadata": {}
  },
  {
   "cell_type": "code",
   "execution_count": 69,
   "source": [
    "df.situation = df.situation.fillna(value=1)\n",
    "df = mwh_sign(df).copy()\n",
    "\n",
    "df.eval(\"rz_saldo_mwh_dk2 = situation * totalimbalancemwhmbadk2\", inplace=True)\n",
    "\n",
    "\n",
    "df.drop([\"last\", \"status\", \"status.1\", \"situation\", \"difference\"], axis=1, inplace=True)\n",
    "df.rename(columns={\"generationimbalancepriceeurmwhmbadk2\": \"rebap_eur_mwh_dk2\"},inplace=True)"
   ],
   "outputs": [
    {
     "output_type": "stream",
     "name": "stdout",
     "text": [
      "[1]\n"
     ]
    }
   ],
   "metadata": {}
  },
  {
   "cell_type": "code",
   "execution_count": 70,
   "source": [
    "df.head()"
   ],
   "outputs": [
    {
     "output_type": "execute_result",
     "data": {
      "text/html": [
       "<div>\n",
       "<style scoped>\n",
       "    .dataframe tbody tr th:only-of-type {\n",
       "        vertical-align: middle;\n",
       "    }\n",
       "\n",
       "    .dataframe tbody tr th {\n",
       "        vertical-align: top;\n",
       "    }\n",
       "\n",
       "    .dataframe thead th {\n",
       "        text-align: right;\n",
       "    }\n",
       "</style>\n",
       "<table border=\"1\" class=\"dataframe\">\n",
       "  <thead>\n",
       "    <tr style=\"text-align: right;\">\n",
       "      <th></th>\n",
       "      <th>generationplusimbalancepriceeurmwhmbadk2</th>\n",
       "      <th>rebap_eur_mwh_dk2</th>\n",
       "      <th>priceforconsumptioneurmwhmbadk2</th>\n",
       "      <th>totalimbalancemwhmbadk2</th>\n",
       "      <th>rz_saldo_mwh_dk2</th>\n",
       "    </tr>\n",
       "    <tr>\n",
       "      <th>dt_start_utc</th>\n",
       "      <th></th>\n",
       "      <th></th>\n",
       "      <th></th>\n",
       "      <th></th>\n",
       "      <th></th>\n",
       "    </tr>\n",
       "  </thead>\n",
       "  <tbody>\n",
       "    <tr>\n",
       "      <th>2021-01-01 00:00:00</th>\n",
       "      <td>48.19</td>\n",
       "      <td>48.19</td>\n",
       "      <td>48.19</td>\n",
       "      <td>141</td>\n",
       "      <td>141</td>\n",
       "    </tr>\n",
       "    <tr>\n",
       "      <th>2021-01-01 01:00:00</th>\n",
       "      <td>44.68</td>\n",
       "      <td>44.68</td>\n",
       "      <td>44.68</td>\n",
       "      <td>148</td>\n",
       "      <td>148</td>\n",
       "    </tr>\n",
       "    <tr>\n",
       "      <th>2021-01-01 02:00:00</th>\n",
       "      <td>42.92</td>\n",
       "      <td>42.92</td>\n",
       "      <td>42.92</td>\n",
       "      <td>156</td>\n",
       "      <td>156</td>\n",
       "    </tr>\n",
       "    <tr>\n",
       "      <th>2021-01-01 03:00:00</th>\n",
       "      <td>40.39</td>\n",
       "      <td>40.39</td>\n",
       "      <td>40.39</td>\n",
       "      <td>196</td>\n",
       "      <td>196</td>\n",
       "    </tr>\n",
       "    <tr>\n",
       "      <th>2021-01-01 04:00:00</th>\n",
       "      <td>40.20</td>\n",
       "      <td>40.20</td>\n",
       "      <td>40.20</td>\n",
       "      <td>216</td>\n",
       "      <td>216</td>\n",
       "    </tr>\n",
       "  </tbody>\n",
       "</table>\n",
       "</div>"
      ],
      "text/plain": [
       "                     generationplusimbalancepriceeurmwhmbadk2  \\\n",
       "dt_start_utc                                                    \n",
       "2021-01-01 00:00:00                                     48.19   \n",
       "2021-01-01 01:00:00                                     44.68   \n",
       "2021-01-01 02:00:00                                     42.92   \n",
       "2021-01-01 03:00:00                                     40.39   \n",
       "2021-01-01 04:00:00                                     40.20   \n",
       "\n",
       "                     rebap_eur_mwh_dk2  priceforconsumptioneurmwhmbadk2  \\\n",
       "dt_start_utc                                                              \n",
       "2021-01-01 00:00:00              48.19                            48.19   \n",
       "2021-01-01 01:00:00              44.68                            44.68   \n",
       "2021-01-01 02:00:00              42.92                            42.92   \n",
       "2021-01-01 03:00:00              40.39                            40.39   \n",
       "2021-01-01 04:00:00              40.20                            40.20   \n",
       "\n",
       "                     totalimbalancemwhmbadk2  rz_saldo_mwh_dk2  \n",
       "dt_start_utc                                                    \n",
       "2021-01-01 00:00:00                      141               141  \n",
       "2021-01-01 01:00:00                      148               148  \n",
       "2021-01-01 02:00:00                      156               156  \n",
       "2021-01-01 03:00:00                      196               196  \n",
       "2021-01-01 04:00:00                      216               216  "
      ]
     },
     "metadata": {},
     "execution_count": 70
    }
   ],
   "metadata": {}
  },
  {
   "cell_type": "markdown",
   "source": [
    "The data are published with an one hour intervall. To unify the data with the other data frames it's necessary to resample from one hour to 15 min intervalls. The interpolated values are forward filled to prevent data leakage."
   ],
   "metadata": {}
  },
  {
   "cell_type": "code",
   "execution_count": 71,
   "source": [
    "df = df.resample(resample_size).ffill();"
   ],
   "outputs": [],
   "metadata": {}
  },
  {
   "cell_type": "markdown",
   "source": [
    "We need to forward rows for 2.5 hours, because it's released with a delay."
   ],
   "metadata": {}
  },
  {
   "cell_type": "code",
   "execution_count": 72,
   "source": [
    "df = df.shift(periods=10)"
   ],
   "outputs": [],
   "metadata": {}
  },
  {
   "cell_type": "code",
   "execution_count": 73,
   "source": [
    "df.head()"
   ],
   "outputs": [
    {
     "output_type": "execute_result",
     "data": {
      "text/html": [
       "<div>\n",
       "<style scoped>\n",
       "    .dataframe tbody tr th:only-of-type {\n",
       "        vertical-align: middle;\n",
       "    }\n",
       "\n",
       "    .dataframe tbody tr th {\n",
       "        vertical-align: top;\n",
       "    }\n",
       "\n",
       "    .dataframe thead th {\n",
       "        text-align: right;\n",
       "    }\n",
       "</style>\n",
       "<table border=\"1\" class=\"dataframe\">\n",
       "  <thead>\n",
       "    <tr style=\"text-align: right;\">\n",
       "      <th></th>\n",
       "      <th>generationplusimbalancepriceeurmwhmbadk2</th>\n",
       "      <th>rebap_eur_mwh_dk2</th>\n",
       "      <th>priceforconsumptioneurmwhmbadk2</th>\n",
       "      <th>totalimbalancemwhmbadk2</th>\n",
       "      <th>rz_saldo_mwh_dk2</th>\n",
       "    </tr>\n",
       "    <tr>\n",
       "      <th>dt_start_utc</th>\n",
       "      <th></th>\n",
       "      <th></th>\n",
       "      <th></th>\n",
       "      <th></th>\n",
       "      <th></th>\n",
       "    </tr>\n",
       "  </thead>\n",
       "  <tbody>\n",
       "    <tr>\n",
       "      <th>2021-01-01 00:00:00</th>\n",
       "      <td>NaN</td>\n",
       "      <td>NaN</td>\n",
       "      <td>NaN</td>\n",
       "      <td>NaN</td>\n",
       "      <td>NaN</td>\n",
       "    </tr>\n",
       "    <tr>\n",
       "      <th>2021-01-01 00:15:00</th>\n",
       "      <td>NaN</td>\n",
       "      <td>NaN</td>\n",
       "      <td>NaN</td>\n",
       "      <td>NaN</td>\n",
       "      <td>NaN</td>\n",
       "    </tr>\n",
       "    <tr>\n",
       "      <th>2021-01-01 00:30:00</th>\n",
       "      <td>NaN</td>\n",
       "      <td>NaN</td>\n",
       "      <td>NaN</td>\n",
       "      <td>NaN</td>\n",
       "      <td>NaN</td>\n",
       "    </tr>\n",
       "    <tr>\n",
       "      <th>2021-01-01 00:45:00</th>\n",
       "      <td>NaN</td>\n",
       "      <td>NaN</td>\n",
       "      <td>NaN</td>\n",
       "      <td>NaN</td>\n",
       "      <td>NaN</td>\n",
       "    </tr>\n",
       "    <tr>\n",
       "      <th>2021-01-01 01:00:00</th>\n",
       "      <td>NaN</td>\n",
       "      <td>NaN</td>\n",
       "      <td>NaN</td>\n",
       "      <td>NaN</td>\n",
       "      <td>NaN</td>\n",
       "    </tr>\n",
       "  </tbody>\n",
       "</table>\n",
       "</div>"
      ],
      "text/plain": [
       "                     generationplusimbalancepriceeurmwhmbadk2  \\\n",
       "dt_start_utc                                                    \n",
       "2021-01-01 00:00:00                                       NaN   \n",
       "2021-01-01 00:15:00                                       NaN   \n",
       "2021-01-01 00:30:00                                       NaN   \n",
       "2021-01-01 00:45:00                                       NaN   \n",
       "2021-01-01 01:00:00                                       NaN   \n",
       "\n",
       "                     rebap_eur_mwh_dk2  priceforconsumptioneurmwhmbadk2  \\\n",
       "dt_start_utc                                                              \n",
       "2021-01-01 00:00:00                NaN                              NaN   \n",
       "2021-01-01 00:15:00                NaN                              NaN   \n",
       "2021-01-01 00:30:00                NaN                              NaN   \n",
       "2021-01-01 00:45:00                NaN                              NaN   \n",
       "2021-01-01 01:00:00                NaN                              NaN   \n",
       "\n",
       "                     totalimbalancemwhmbadk2  rz_saldo_mwh_dk2  \n",
       "dt_start_utc                                                    \n",
       "2021-01-01 00:00:00                      NaN               NaN  \n",
       "2021-01-01 00:15:00                      NaN               NaN  \n",
       "2021-01-01 00:30:00                      NaN               NaN  \n",
       "2021-01-01 00:45:00                      NaN               NaN  \n",
       "2021-01-01 01:00:00                      NaN               NaN  "
      ]
     },
     "metadata": {},
     "execution_count": 73
    }
   ],
   "metadata": {}
  },
  {
   "cell_type": "code",
   "execution_count": 74,
   "source": [
    "df_dk = df.copy()"
   ],
   "outputs": [],
   "metadata": {}
  },
  {
   "cell_type": "markdown",
   "source": [
    "## 1.6 Import Danemark DK1"
   ],
   "metadata": {}
  },
  {
   "cell_type": "code",
   "execution_count": 75,
   "source": [
    "df = pd.read_csv(\"../data/entsoe/Imbalance_MB__DK_DK1.csv\")\n",
    "df.shape"
   ],
   "outputs": [
    {
     "output_type": "execute_result",
     "data": {
      "text/plain": [
       "(5028, 9)"
      ]
     },
     "metadata": {},
     "execution_count": 75
    }
   ],
   "metadata": {}
  },
  {
   "cell_type": "code",
   "execution_count": 76,
   "source": [
    "df = to_datetime(df).copy()"
   ],
   "outputs": [],
   "metadata": {}
  },
  {
   "cell_type": "code",
   "execution_count": 77,
   "source": [
    "df = cleaningcolumns(df).copy()"
   ],
   "outputs": [],
   "metadata": {}
  },
  {
   "cell_type": "code",
   "execution_count": 78,
   "source": [
    "df.drop([\"last\", \"status\", \"status.1\", \"situation\", \"difference\"], axis=1, inplace=True)"
   ],
   "outputs": [],
   "metadata": {}
  },
  {
   "cell_type": "code",
   "execution_count": 79,
   "source": [
    "df.head()"
   ],
   "outputs": [
    {
     "output_type": "execute_result",
     "data": {
      "text/html": [
       "<div>\n",
       "<style scoped>\n",
       "    .dataframe tbody tr th:only-of-type {\n",
       "        vertical-align: middle;\n",
       "    }\n",
       "\n",
       "    .dataframe tbody tr th {\n",
       "        vertical-align: top;\n",
       "    }\n",
       "\n",
       "    .dataframe thead th {\n",
       "        text-align: right;\n",
       "    }\n",
       "</style>\n",
       "<table border=\"1\" class=\"dataframe\">\n",
       "  <thead>\n",
       "    <tr style=\"text-align: right;\">\n",
       "      <th></th>\n",
       "      <th>generationplusimbalancepriceeurmwhmbadk1</th>\n",
       "      <th>generationimbalancepriceeurmwhmbadk1</th>\n",
       "      <th>priceforconsumptioneurmwhmbadk1</th>\n",
       "      <th>totalimbalancemwhmbadk1</th>\n",
       "    </tr>\n",
       "    <tr>\n",
       "      <th>dt_start_utc</th>\n",
       "      <th></th>\n",
       "      <th></th>\n",
       "      <th></th>\n",
       "      <th></th>\n",
       "    </tr>\n",
       "  </thead>\n",
       "  <tbody>\n",
       "    <tr>\n",
       "      <th>2021-01-01 00:00:00</th>\n",
       "      <td>48.19</td>\n",
       "      <td>48.19</td>\n",
       "      <td>48.19</td>\n",
       "      <td>75</td>\n",
       "    </tr>\n",
       "    <tr>\n",
       "      <th>2021-01-01 01:00:00</th>\n",
       "      <td>44.68</td>\n",
       "      <td>44.68</td>\n",
       "      <td>44.68</td>\n",
       "      <td>86</td>\n",
       "    </tr>\n",
       "    <tr>\n",
       "      <th>2021-01-01 02:00:00</th>\n",
       "      <td>42.92</td>\n",
       "      <td>42.92</td>\n",
       "      <td>42.92</td>\n",
       "      <td>30</td>\n",
       "    </tr>\n",
       "    <tr>\n",
       "      <th>2021-01-01 03:00:00</th>\n",
       "      <td>40.39</td>\n",
       "      <td>40.39</td>\n",
       "      <td>40.39</td>\n",
       "      <td>84</td>\n",
       "    </tr>\n",
       "    <tr>\n",
       "      <th>2021-01-01 04:00:00</th>\n",
       "      <td>40.20</td>\n",
       "      <td>40.20</td>\n",
       "      <td>40.20</td>\n",
       "      <td>30</td>\n",
       "    </tr>\n",
       "  </tbody>\n",
       "</table>\n",
       "</div>"
      ],
      "text/plain": [
       "                     generationplusimbalancepriceeurmwhmbadk1  \\\n",
       "dt_start_utc                                                    \n",
       "2021-01-01 00:00:00                                     48.19   \n",
       "2021-01-01 01:00:00                                     44.68   \n",
       "2021-01-01 02:00:00                                     42.92   \n",
       "2021-01-01 03:00:00                                     40.39   \n",
       "2021-01-01 04:00:00                                     40.20   \n",
       "\n",
       "                     generationimbalancepriceeurmwhmbadk1  \\\n",
       "dt_start_utc                                                \n",
       "2021-01-01 00:00:00                                 48.19   \n",
       "2021-01-01 01:00:00                                 44.68   \n",
       "2021-01-01 02:00:00                                 42.92   \n",
       "2021-01-01 03:00:00                                 40.39   \n",
       "2021-01-01 04:00:00                                 40.20   \n",
       "\n",
       "                     priceforconsumptioneurmwhmbadk1  totalimbalancemwhmbadk1  \n",
       "dt_start_utc                                                                   \n",
       "2021-01-01 00:00:00                            48.19                       75  \n",
       "2021-01-01 01:00:00                            44.68                       86  \n",
       "2021-01-01 02:00:00                            42.92                       30  \n",
       "2021-01-01 03:00:00                            40.39                       84  \n",
       "2021-01-01 04:00:00                            40.20                       30  "
      ]
     },
     "metadata": {},
     "execution_count": 79
    }
   ],
   "metadata": {}
  },
  {
   "cell_type": "markdown",
   "source": [
    "The data are published with an one hour intervall. To unify the data with the other data frames it's necessary to resample from one hour to 15 min intervalls. The interpolated values are forward filled to prevent data leakage."
   ],
   "metadata": {}
  },
  {
   "cell_type": "code",
   "execution_count": 80,
   "source": [
    "df = df.resample(resample_size).ffill();"
   ],
   "outputs": [],
   "metadata": {}
  },
  {
   "cell_type": "markdown",
   "source": [
    "We need to forward rows equivalent 2.5 hours, because it's released with a delay."
   ],
   "metadata": {}
  },
  {
   "cell_type": "code",
   "execution_count": 81,
   "source": [
    "df = df.shift(periods=10)"
   ],
   "outputs": [],
   "metadata": {}
  },
  {
   "cell_type": "code",
   "execution_count": 82,
   "source": [
    "df.head()"
   ],
   "outputs": [
    {
     "output_type": "execute_result",
     "data": {
      "text/html": [
       "<div>\n",
       "<style scoped>\n",
       "    .dataframe tbody tr th:only-of-type {\n",
       "        vertical-align: middle;\n",
       "    }\n",
       "\n",
       "    .dataframe tbody tr th {\n",
       "        vertical-align: top;\n",
       "    }\n",
       "\n",
       "    .dataframe thead th {\n",
       "        text-align: right;\n",
       "    }\n",
       "</style>\n",
       "<table border=\"1\" class=\"dataframe\">\n",
       "  <thead>\n",
       "    <tr style=\"text-align: right;\">\n",
       "      <th></th>\n",
       "      <th>generationplusimbalancepriceeurmwhmbadk1</th>\n",
       "      <th>generationimbalancepriceeurmwhmbadk1</th>\n",
       "      <th>priceforconsumptioneurmwhmbadk1</th>\n",
       "      <th>totalimbalancemwhmbadk1</th>\n",
       "    </tr>\n",
       "    <tr>\n",
       "      <th>dt_start_utc</th>\n",
       "      <th></th>\n",
       "      <th></th>\n",
       "      <th></th>\n",
       "      <th></th>\n",
       "    </tr>\n",
       "  </thead>\n",
       "  <tbody>\n",
       "    <tr>\n",
       "      <th>2021-01-01 00:00:00</th>\n",
       "      <td>NaN</td>\n",
       "      <td>NaN</td>\n",
       "      <td>NaN</td>\n",
       "      <td>NaN</td>\n",
       "    </tr>\n",
       "    <tr>\n",
       "      <th>2021-01-01 00:15:00</th>\n",
       "      <td>NaN</td>\n",
       "      <td>NaN</td>\n",
       "      <td>NaN</td>\n",
       "      <td>NaN</td>\n",
       "    </tr>\n",
       "    <tr>\n",
       "      <th>2021-01-01 00:30:00</th>\n",
       "      <td>NaN</td>\n",
       "      <td>NaN</td>\n",
       "      <td>NaN</td>\n",
       "      <td>NaN</td>\n",
       "    </tr>\n",
       "    <tr>\n",
       "      <th>2021-01-01 00:45:00</th>\n",
       "      <td>NaN</td>\n",
       "      <td>NaN</td>\n",
       "      <td>NaN</td>\n",
       "      <td>NaN</td>\n",
       "    </tr>\n",
       "    <tr>\n",
       "      <th>2021-01-01 01:00:00</th>\n",
       "      <td>NaN</td>\n",
       "      <td>NaN</td>\n",
       "      <td>NaN</td>\n",
       "      <td>NaN</td>\n",
       "    </tr>\n",
       "  </tbody>\n",
       "</table>\n",
       "</div>"
      ],
      "text/plain": [
       "                     generationplusimbalancepriceeurmwhmbadk1  \\\n",
       "dt_start_utc                                                    \n",
       "2021-01-01 00:00:00                                       NaN   \n",
       "2021-01-01 00:15:00                                       NaN   \n",
       "2021-01-01 00:30:00                                       NaN   \n",
       "2021-01-01 00:45:00                                       NaN   \n",
       "2021-01-01 01:00:00                                       NaN   \n",
       "\n",
       "                     generationimbalancepriceeurmwhmbadk1  \\\n",
       "dt_start_utc                                                \n",
       "2021-01-01 00:00:00                                   NaN   \n",
       "2021-01-01 00:15:00                                   NaN   \n",
       "2021-01-01 00:30:00                                   NaN   \n",
       "2021-01-01 00:45:00                                   NaN   \n",
       "2021-01-01 01:00:00                                   NaN   \n",
       "\n",
       "                     priceforconsumptioneurmwhmbadk1  totalimbalancemwhmbadk1  \n",
       "dt_start_utc                                                                   \n",
       "2021-01-01 00:00:00                              NaN                      NaN  \n",
       "2021-01-01 00:15:00                              NaN                      NaN  \n",
       "2021-01-01 00:30:00                              NaN                      NaN  \n",
       "2021-01-01 00:45:00                              NaN                      NaN  \n",
       "2021-01-01 01:00:00                              NaN                      NaN  "
      ]
     },
     "metadata": {},
     "execution_count": 82
    }
   ],
   "metadata": {}
  },
  {
   "cell_type": "markdown",
   "source": [
    "Copy the data frame to an unique and reasonable variable name"
   ],
   "metadata": {}
  },
  {
   "cell_type": "code",
   "execution_count": 83,
   "source": [
    "df_dk_1 = df.copy()"
   ],
   "outputs": [],
   "metadata": {}
  },
  {
   "cell_type": "markdown",
   "source": [
    "## Data Merge "
   ],
   "metadata": {}
  },
  {
   "cell_type": "markdown",
   "source": [
    "All data frames will be merged to a single data frame"
   ],
   "metadata": {}
  },
  {
   "cell_type": "code",
   "execution_count": 84,
   "source": [
    "dfs = [df_imbalance_de, df_be, df_pl, df_aus, df_dk, df_dk_1]\n",
    "\n",
    "df_merged_2 = reduce(lambda  left,right: pd.merge(left, right, on=['dt_start_utc'],\n",
    "                                            how='inner'), dfs)"
   ],
   "outputs": [],
   "metadata": {}
  },
  {
   "cell_type": "code",
   "execution_count": 85,
   "source": [
    "df_merged_2.head()"
   ],
   "outputs": [
    {
     "output_type": "execute_result",
     "data": {
      "text/html": [
       "<div>\n",
       "<style scoped>\n",
       "    .dataframe tbody tr th:only-of-type {\n",
       "        vertical-align: middle;\n",
       "    }\n",
       "\n",
       "    .dataframe tbody tr th {\n",
       "        vertical-align: top;\n",
       "    }\n",
       "\n",
       "    .dataframe thead th {\n",
       "        text-align: right;\n",
       "    }\n",
       "</style>\n",
       "<table border=\"1\" class=\"dataframe\">\n",
       "  <thead>\n",
       "    <tr style=\"text-align: right;\">\n",
       "      <th></th>\n",
       "      <th>rebap_eur_mwh</th>\n",
       "      <th>rz_saldo_mwh</th>\n",
       "      <th>rebap_eur_mwh_BE</th>\n",
       "      <th>rz_saldo_mwh_BE</th>\n",
       "      <th>rebap_eur_mwh_PL</th>\n",
       "      <th>rz_saldo_mwh_PL</th>\n",
       "      <th>rebap_eur_mwh_AUS</th>\n",
       "      <th>rz_saldo_mwh_AUS</th>\n",
       "      <th>generationplusimbalancepriceeurmwhmbadk2</th>\n",
       "      <th>rebap_eur_mwh_dk2</th>\n",
       "      <th>priceforconsumptioneurmwhmbadk2</th>\n",
       "      <th>totalimbalancemwhmbadk2</th>\n",
       "      <th>rz_saldo_mwh_dk2</th>\n",
       "      <th>generationplusimbalancepriceeurmwhmbadk1</th>\n",
       "      <th>generationimbalancepriceeurmwhmbadk1</th>\n",
       "      <th>priceforconsumptioneurmwhmbadk1</th>\n",
       "      <th>totalimbalancemwhmbadk1</th>\n",
       "    </tr>\n",
       "    <tr>\n",
       "      <th>dt_start_utc</th>\n",
       "      <th></th>\n",
       "      <th></th>\n",
       "      <th></th>\n",
       "      <th></th>\n",
       "      <th></th>\n",
       "      <th></th>\n",
       "      <th></th>\n",
       "      <th></th>\n",
       "      <th></th>\n",
       "      <th></th>\n",
       "      <th></th>\n",
       "      <th></th>\n",
       "      <th></th>\n",
       "      <th></th>\n",
       "      <th></th>\n",
       "      <th></th>\n",
       "      <th></th>\n",
       "    </tr>\n",
       "  </thead>\n",
       "  <tbody>\n",
       "    <tr>\n",
       "      <th>2021-01-01 00:00:00</th>\n",
       "      <td>96.09</td>\n",
       "      <td>NaN</td>\n",
       "      <td>NaN</td>\n",
       "      <td>NaN</td>\n",
       "      <td>NaN</td>\n",
       "      <td>NaN</td>\n",
       "      <td>NaN</td>\n",
       "      <td>NaN</td>\n",
       "      <td>NaN</td>\n",
       "      <td>NaN</td>\n",
       "      <td>NaN</td>\n",
       "      <td>NaN</td>\n",
       "      <td>NaN</td>\n",
       "      <td>NaN</td>\n",
       "      <td>NaN</td>\n",
       "      <td>NaN</td>\n",
       "      <td>NaN</td>\n",
       "    </tr>\n",
       "    <tr>\n",
       "      <th>2021-01-01 00:15:00</th>\n",
       "      <td>94.62</td>\n",
       "      <td>NaN</td>\n",
       "      <td>NaN</td>\n",
       "      <td>NaN</td>\n",
       "      <td>NaN</td>\n",
       "      <td>NaN</td>\n",
       "      <td>NaN</td>\n",
       "      <td>NaN</td>\n",
       "      <td>NaN</td>\n",
       "      <td>NaN</td>\n",
       "      <td>NaN</td>\n",
       "      <td>NaN</td>\n",
       "      <td>NaN</td>\n",
       "      <td>NaN</td>\n",
       "      <td>NaN</td>\n",
       "      <td>NaN</td>\n",
       "      <td>NaN</td>\n",
       "    </tr>\n",
       "    <tr>\n",
       "      <th>2021-01-01 00:30:00</th>\n",
       "      <td>92.21</td>\n",
       "      <td>-52.0</td>\n",
       "      <td>NaN</td>\n",
       "      <td>NaN</td>\n",
       "      <td>NaN</td>\n",
       "      <td>NaN</td>\n",
       "      <td>NaN</td>\n",
       "      <td>NaN</td>\n",
       "      <td>NaN</td>\n",
       "      <td>NaN</td>\n",
       "      <td>NaN</td>\n",
       "      <td>NaN</td>\n",
       "      <td>NaN</td>\n",
       "      <td>NaN</td>\n",
       "      <td>NaN</td>\n",
       "      <td>NaN</td>\n",
       "      <td>NaN</td>\n",
       "    </tr>\n",
       "    <tr>\n",
       "      <th>2021-01-01 00:45:00</th>\n",
       "      <td>27.64</td>\n",
       "      <td>-7.0</td>\n",
       "      <td>NaN</td>\n",
       "      <td>NaN</td>\n",
       "      <td>NaN</td>\n",
       "      <td>NaN</td>\n",
       "      <td>NaN</td>\n",
       "      <td>NaN</td>\n",
       "      <td>NaN</td>\n",
       "      <td>NaN</td>\n",
       "      <td>NaN</td>\n",
       "      <td>NaN</td>\n",
       "      <td>NaN</td>\n",
       "      <td>NaN</td>\n",
       "      <td>NaN</td>\n",
       "      <td>NaN</td>\n",
       "      <td>NaN</td>\n",
       "    </tr>\n",
       "    <tr>\n",
       "      <th>2021-01-01 01:00:00</th>\n",
       "      <td>13.71</td>\n",
       "      <td>-13.0</td>\n",
       "      <td>NaN</td>\n",
       "      <td>NaN</td>\n",
       "      <td>191.33</td>\n",
       "      <td>669.0</td>\n",
       "      <td>NaN</td>\n",
       "      <td>NaN</td>\n",
       "      <td>NaN</td>\n",
       "      <td>NaN</td>\n",
       "      <td>NaN</td>\n",
       "      <td>NaN</td>\n",
       "      <td>NaN</td>\n",
       "      <td>NaN</td>\n",
       "      <td>NaN</td>\n",
       "      <td>NaN</td>\n",
       "      <td>NaN</td>\n",
       "    </tr>\n",
       "  </tbody>\n",
       "</table>\n",
       "</div>"
      ],
      "text/plain": [
       "                     rebap_eur_mwh  rz_saldo_mwh  rebap_eur_mwh_BE  \\\n",
       "dt_start_utc                                                         \n",
       "2021-01-01 00:00:00          96.09           NaN               NaN   \n",
       "2021-01-01 00:15:00          94.62           NaN               NaN   \n",
       "2021-01-01 00:30:00          92.21         -52.0               NaN   \n",
       "2021-01-01 00:45:00          27.64          -7.0               NaN   \n",
       "2021-01-01 01:00:00          13.71         -13.0               NaN   \n",
       "\n",
       "                     rz_saldo_mwh_BE  rebap_eur_mwh_PL  rz_saldo_mwh_PL  \\\n",
       "dt_start_utc                                                              \n",
       "2021-01-01 00:00:00              NaN               NaN              NaN   \n",
       "2021-01-01 00:15:00              NaN               NaN              NaN   \n",
       "2021-01-01 00:30:00              NaN               NaN              NaN   \n",
       "2021-01-01 00:45:00              NaN               NaN              NaN   \n",
       "2021-01-01 01:00:00              NaN            191.33            669.0   \n",
       "\n",
       "                     rebap_eur_mwh_AUS  rz_saldo_mwh_AUS  \\\n",
       "dt_start_utc                                               \n",
       "2021-01-01 00:00:00                NaN               NaN   \n",
       "2021-01-01 00:15:00                NaN               NaN   \n",
       "2021-01-01 00:30:00                NaN               NaN   \n",
       "2021-01-01 00:45:00                NaN               NaN   \n",
       "2021-01-01 01:00:00                NaN               NaN   \n",
       "\n",
       "                     generationplusimbalancepriceeurmwhmbadk2  \\\n",
       "dt_start_utc                                                    \n",
       "2021-01-01 00:00:00                                       NaN   \n",
       "2021-01-01 00:15:00                                       NaN   \n",
       "2021-01-01 00:30:00                                       NaN   \n",
       "2021-01-01 00:45:00                                       NaN   \n",
       "2021-01-01 01:00:00                                       NaN   \n",
       "\n",
       "                     rebap_eur_mwh_dk2  priceforconsumptioneurmwhmbadk2  \\\n",
       "dt_start_utc                                                              \n",
       "2021-01-01 00:00:00                NaN                              NaN   \n",
       "2021-01-01 00:15:00                NaN                              NaN   \n",
       "2021-01-01 00:30:00                NaN                              NaN   \n",
       "2021-01-01 00:45:00                NaN                              NaN   \n",
       "2021-01-01 01:00:00                NaN                              NaN   \n",
       "\n",
       "                     totalimbalancemwhmbadk2  rz_saldo_mwh_dk2  \\\n",
       "dt_start_utc                                                     \n",
       "2021-01-01 00:00:00                      NaN               NaN   \n",
       "2021-01-01 00:15:00                      NaN               NaN   \n",
       "2021-01-01 00:30:00                      NaN               NaN   \n",
       "2021-01-01 00:45:00                      NaN               NaN   \n",
       "2021-01-01 01:00:00                      NaN               NaN   \n",
       "\n",
       "                     generationplusimbalancepriceeurmwhmbadk1  \\\n",
       "dt_start_utc                                                    \n",
       "2021-01-01 00:00:00                                       NaN   \n",
       "2021-01-01 00:15:00                                       NaN   \n",
       "2021-01-01 00:30:00                                       NaN   \n",
       "2021-01-01 00:45:00                                       NaN   \n",
       "2021-01-01 01:00:00                                       NaN   \n",
       "\n",
       "                     generationimbalancepriceeurmwhmbadk1  \\\n",
       "dt_start_utc                                                \n",
       "2021-01-01 00:00:00                                   NaN   \n",
       "2021-01-01 00:15:00                                   NaN   \n",
       "2021-01-01 00:30:00                                   NaN   \n",
       "2021-01-01 00:45:00                                   NaN   \n",
       "2021-01-01 01:00:00                                   NaN   \n",
       "\n",
       "                     priceforconsumptioneurmwhmbadk1  totalimbalancemwhmbadk1  \n",
       "dt_start_utc                                                                   \n",
       "2021-01-01 00:00:00                              NaN                      NaN  \n",
       "2021-01-01 00:15:00                              NaN                      NaN  \n",
       "2021-01-01 00:30:00                              NaN                      NaN  \n",
       "2021-01-01 00:45:00                              NaN                      NaN  \n",
       "2021-01-01 01:00:00                              NaN                      NaN  "
      ]
     },
     "metadata": {},
     "execution_count": 85
    }
   ],
   "metadata": {}
  },
  {
   "cell_type": "code",
   "execution_count": 86,
   "source": [
    "df_merged_2.shape"
   ],
   "outputs": [
    {
     "output_type": "execute_result",
     "data": {
      "text/plain": [
       "(17368, 17)"
      ]
     },
     "metadata": {},
     "execution_count": 86
    }
   ],
   "metadata": {}
  },
  {
   "cell_type": "code",
   "execution_count": 87,
   "source": [
    "df_merged_2.tail()"
   ],
   "outputs": [
    {
     "output_type": "execute_result",
     "data": {
      "text/html": [
       "<div>\n",
       "<style scoped>\n",
       "    .dataframe tbody tr th:only-of-type {\n",
       "        vertical-align: middle;\n",
       "    }\n",
       "\n",
       "    .dataframe tbody tr th {\n",
       "        vertical-align: top;\n",
       "    }\n",
       "\n",
       "    .dataframe thead th {\n",
       "        text-align: right;\n",
       "    }\n",
       "</style>\n",
       "<table border=\"1\" class=\"dataframe\">\n",
       "  <thead>\n",
       "    <tr style=\"text-align: right;\">\n",
       "      <th></th>\n",
       "      <th>rebap_eur_mwh</th>\n",
       "      <th>rz_saldo_mwh</th>\n",
       "      <th>rebap_eur_mwh_BE</th>\n",
       "      <th>rz_saldo_mwh_BE</th>\n",
       "      <th>rebap_eur_mwh_PL</th>\n",
       "      <th>rz_saldo_mwh_PL</th>\n",
       "      <th>rebap_eur_mwh_AUS</th>\n",
       "      <th>rz_saldo_mwh_AUS</th>\n",
       "      <th>generationplusimbalancepriceeurmwhmbadk2</th>\n",
       "      <th>rebap_eur_mwh_dk2</th>\n",
       "      <th>priceforconsumptioneurmwhmbadk2</th>\n",
       "      <th>totalimbalancemwhmbadk2</th>\n",
       "      <th>rz_saldo_mwh_dk2</th>\n",
       "      <th>generationplusimbalancepriceeurmwhmbadk1</th>\n",
       "      <th>generationimbalancepriceeurmwhmbadk1</th>\n",
       "      <th>priceforconsumptioneurmwhmbadk1</th>\n",
       "      <th>totalimbalancemwhmbadk1</th>\n",
       "    </tr>\n",
       "    <tr>\n",
       "      <th>dt_start_utc</th>\n",
       "      <th></th>\n",
       "      <th></th>\n",
       "      <th></th>\n",
       "      <th></th>\n",
       "      <th></th>\n",
       "      <th></th>\n",
       "      <th></th>\n",
       "      <th></th>\n",
       "      <th></th>\n",
       "      <th></th>\n",
       "      <th></th>\n",
       "      <th></th>\n",
       "      <th></th>\n",
       "      <th></th>\n",
       "      <th></th>\n",
       "      <th></th>\n",
       "      <th></th>\n",
       "    </tr>\n",
       "  </thead>\n",
       "  <tbody>\n",
       "    <tr>\n",
       "      <th>2021-06-30 20:45:00</th>\n",
       "      <td>119.06</td>\n",
       "      <td>-79.0</td>\n",
       "      <td>104.51</td>\n",
       "      <td>-14.0</td>\n",
       "      <td>351.15</td>\n",
       "      <td>712.0</td>\n",
       "      <td>-47.04</td>\n",
       "      <td>-102.0</td>\n",
       "      <td>98.97</td>\n",
       "      <td>268.93</td>\n",
       "      <td>268.93</td>\n",
       "      <td>220.0</td>\n",
       "      <td>220.0</td>\n",
       "      <td>98.97</td>\n",
       "      <td>268.93</td>\n",
       "      <td>268.93</td>\n",
       "      <td>100.0</td>\n",
       "    </tr>\n",
       "    <tr>\n",
       "      <th>2021-06-30 21:00:00</th>\n",
       "      <td>3.10</td>\n",
       "      <td>-91.0</td>\n",
       "      <td>116.67</td>\n",
       "      <td>-50.0</td>\n",
       "      <td>358.31</td>\n",
       "      <td>343.0</td>\n",
       "      <td>-97.86</td>\n",
       "      <td>-87.0</td>\n",
       "      <td>98.97</td>\n",
       "      <td>268.93</td>\n",
       "      <td>268.93</td>\n",
       "      <td>220.0</td>\n",
       "      <td>220.0</td>\n",
       "      <td>98.97</td>\n",
       "      <td>268.93</td>\n",
       "      <td>268.93</td>\n",
       "      <td>100.0</td>\n",
       "    </tr>\n",
       "    <tr>\n",
       "      <th>2021-06-30 21:15:00</th>\n",
       "      <td>125.68</td>\n",
       "      <td>-57.0</td>\n",
       "      <td>119.98</td>\n",
       "      <td>-49.0</td>\n",
       "      <td>358.31</td>\n",
       "      <td>343.0</td>\n",
       "      <td>-199.94</td>\n",
       "      <td>-71.0</td>\n",
       "      <td>98.97</td>\n",
       "      <td>268.93</td>\n",
       "      <td>268.93</td>\n",
       "      <td>220.0</td>\n",
       "      <td>220.0</td>\n",
       "      <td>98.97</td>\n",
       "      <td>268.93</td>\n",
       "      <td>268.93</td>\n",
       "      <td>100.0</td>\n",
       "    </tr>\n",
       "    <tr>\n",
       "      <th>2021-06-30 21:30:00</th>\n",
       "      <td>100.92</td>\n",
       "      <td>4.0</td>\n",
       "      <td>104.51</td>\n",
       "      <td>-9.0</td>\n",
       "      <td>358.31</td>\n",
       "      <td>343.0</td>\n",
       "      <td>171.06</td>\n",
       "      <td>56.0</td>\n",
       "      <td>46.00</td>\n",
       "      <td>97.02</td>\n",
       "      <td>46.00</td>\n",
       "      <td>97.0</td>\n",
       "      <td>97.0</td>\n",
       "      <td>46.00</td>\n",
       "      <td>97.02</td>\n",
       "      <td>46.00</td>\n",
       "      <td>39.0</td>\n",
       "    </tr>\n",
       "    <tr>\n",
       "      <th>2021-06-30 21:45:00</th>\n",
       "      <td>-19.88</td>\n",
       "      <td>-62.0</td>\n",
       "      <td>104.51</td>\n",
       "      <td>-15.0</td>\n",
       "      <td>358.31</td>\n",
       "      <td>343.0</td>\n",
       "      <td>175.22</td>\n",
       "      <td>86.0</td>\n",
       "      <td>46.00</td>\n",
       "      <td>97.02</td>\n",
       "      <td>46.00</td>\n",
       "      <td>97.0</td>\n",
       "      <td>97.0</td>\n",
       "      <td>46.00</td>\n",
       "      <td>97.02</td>\n",
       "      <td>46.00</td>\n",
       "      <td>39.0</td>\n",
       "    </tr>\n",
       "  </tbody>\n",
       "</table>\n",
       "</div>"
      ],
      "text/plain": [
       "                     rebap_eur_mwh  rz_saldo_mwh  rebap_eur_mwh_BE  \\\n",
       "dt_start_utc                                                         \n",
       "2021-06-30 20:45:00         119.06         -79.0            104.51   \n",
       "2021-06-30 21:00:00           3.10         -91.0            116.67   \n",
       "2021-06-30 21:15:00         125.68         -57.0            119.98   \n",
       "2021-06-30 21:30:00         100.92           4.0            104.51   \n",
       "2021-06-30 21:45:00         -19.88         -62.0            104.51   \n",
       "\n",
       "                     rz_saldo_mwh_BE  rebap_eur_mwh_PL  rz_saldo_mwh_PL  \\\n",
       "dt_start_utc                                                              \n",
       "2021-06-30 20:45:00            -14.0            351.15            712.0   \n",
       "2021-06-30 21:00:00            -50.0            358.31            343.0   \n",
       "2021-06-30 21:15:00            -49.0            358.31            343.0   \n",
       "2021-06-30 21:30:00             -9.0            358.31            343.0   \n",
       "2021-06-30 21:45:00            -15.0            358.31            343.0   \n",
       "\n",
       "                     rebap_eur_mwh_AUS  rz_saldo_mwh_AUS  \\\n",
       "dt_start_utc                                               \n",
       "2021-06-30 20:45:00             -47.04            -102.0   \n",
       "2021-06-30 21:00:00             -97.86             -87.0   \n",
       "2021-06-30 21:15:00            -199.94             -71.0   \n",
       "2021-06-30 21:30:00             171.06              56.0   \n",
       "2021-06-30 21:45:00             175.22              86.0   \n",
       "\n",
       "                     generationplusimbalancepriceeurmwhmbadk2  \\\n",
       "dt_start_utc                                                    \n",
       "2021-06-30 20:45:00                                     98.97   \n",
       "2021-06-30 21:00:00                                     98.97   \n",
       "2021-06-30 21:15:00                                     98.97   \n",
       "2021-06-30 21:30:00                                     46.00   \n",
       "2021-06-30 21:45:00                                     46.00   \n",
       "\n",
       "                     rebap_eur_mwh_dk2  priceforconsumptioneurmwhmbadk2  \\\n",
       "dt_start_utc                                                              \n",
       "2021-06-30 20:45:00             268.93                           268.93   \n",
       "2021-06-30 21:00:00             268.93                           268.93   \n",
       "2021-06-30 21:15:00             268.93                           268.93   \n",
       "2021-06-30 21:30:00              97.02                            46.00   \n",
       "2021-06-30 21:45:00              97.02                            46.00   \n",
       "\n",
       "                     totalimbalancemwhmbadk2  rz_saldo_mwh_dk2  \\\n",
       "dt_start_utc                                                     \n",
       "2021-06-30 20:45:00                    220.0             220.0   \n",
       "2021-06-30 21:00:00                    220.0             220.0   \n",
       "2021-06-30 21:15:00                    220.0             220.0   \n",
       "2021-06-30 21:30:00                     97.0              97.0   \n",
       "2021-06-30 21:45:00                     97.0              97.0   \n",
       "\n",
       "                     generationplusimbalancepriceeurmwhmbadk1  \\\n",
       "dt_start_utc                                                    \n",
       "2021-06-30 20:45:00                                     98.97   \n",
       "2021-06-30 21:00:00                                     98.97   \n",
       "2021-06-30 21:15:00                                     98.97   \n",
       "2021-06-30 21:30:00                                     46.00   \n",
       "2021-06-30 21:45:00                                     46.00   \n",
       "\n",
       "                     generationimbalancepriceeurmwhmbadk1  \\\n",
       "dt_start_utc                                                \n",
       "2021-06-30 20:45:00                                268.93   \n",
       "2021-06-30 21:00:00                                268.93   \n",
       "2021-06-30 21:15:00                                268.93   \n",
       "2021-06-30 21:30:00                                 97.02   \n",
       "2021-06-30 21:45:00                                 97.02   \n",
       "\n",
       "                     priceforconsumptioneurmwhmbadk1  totalimbalancemwhmbadk1  \n",
       "dt_start_utc                                                                   \n",
       "2021-06-30 20:45:00                           268.93                    100.0  \n",
       "2021-06-30 21:00:00                           268.93                    100.0  \n",
       "2021-06-30 21:15:00                           268.93                    100.0  \n",
       "2021-06-30 21:30:00                            46.00                     39.0  \n",
       "2021-06-30 21:45:00                            46.00                     39.0  "
      ]
     },
     "metadata": {},
     "execution_count": 87
    }
   ],
   "metadata": {}
  },
  {
   "cell_type": "code",
   "execution_count": 88,
   "source": [
    "count_inf = np.isinf(df_merged_2).values.sum()\n",
    "count_nan = df_merged_2.isnull().sum().sum()\n",
    "print(\"The data frame contains \" + str(count_inf) + \" infinite values and \" + str(count_nan) + \" missing values.\")"
   ],
   "outputs": [
    {
     "output_type": "stream",
     "name": "stdout",
     "text": [
      "The data frame contains 0 infinite values and 136 missing values.\n"
     ]
    }
   ],
   "metadata": {}
  },
  {
   "cell_type": "markdown",
   "source": [
    "## Save Data Set"
   ],
   "metadata": {}
  },
  {
   "cell_type": "markdown",
   "source": [
    "For further work we save the merged data frame as a \"pickle\"."
   ],
   "metadata": {}
  },
  {
   "cell_type": "code",
   "execution_count": 89,
   "source": [
    "df_merged_2.to_pickle('../data/pickle/df_merged_2.pickle')"
   ],
   "outputs": [],
   "metadata": {}
  }
 ],
 "metadata": {
  "kernelspec": {
   "name": "python3",
   "display_name": "Python 3.8.5 64-bit ('.venv': venv)"
  },
  "language_info": {
   "codemirror_mode": {
    "name": "ipython",
    "version": 3
   },
   "file_extension": ".py",
   "mimetype": "text/x-python",
   "name": "python",
   "nbconvert_exporter": "python",
   "pygments_lexer": "ipython3",
   "version": "3.8.5"
  },
  "interpreter": {
   "hash": "c3b88ade08e7e5c458f75e647914a1f8383074144cd24084ca5ecc64490d7249"
  }
 },
 "nbformat": 4,
 "nbformat_minor": 5
}