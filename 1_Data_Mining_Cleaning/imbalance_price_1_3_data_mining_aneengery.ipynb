{
 "cells": [
  {
   "cell_type": "markdown",
   "source": [
    "## Data origin :: ane.energy"
   ],
   "metadata": {}
  },
  {
   "cell_type": "markdown",
   "source": [
    "The data is we use in this notebook is given from the enterprise \"ane.energy\" based in Germany."
   ],
   "metadata": {}
  },
  {
   "cell_type": "markdown",
   "source": [
    "## Imports"
   ],
   "metadata": {}
  },
  {
   "cell_type": "markdown",
   "source": [
    "### Modules, classes and functions"
   ],
   "metadata": {}
  },
  {
   "cell_type": "code",
   "execution_count": 5,
   "source": [
    "import datetime, time, os\n",
    "import matplotlib.pyplot as plt\n",
    "import numpy as np\n",
    "import pandas as pd\n",
    "import seaborn as sns\n",
    "import pandas as pd\n",
    "import glob\n",
    "import json\n",
    "\n",
    "from functools import reduce\n",
    "\n",
    "\n",
    "\n",
    "# Make numpy printouts easier to read.\n",
    "np.set_printoptions(precision=3, suppress=True)\n",
    "\n",
    "from datetime import datetime, timezone, timedelta\n",
    "\n",
    "resample_size = \"15MIN\"\n",
    "resample_factor = 15\n",
    "\n",
    "#windowfactor = 15\n",
    "\n",
    "import warnings"
   ],
   "outputs": [],
   "metadata": {}
  },
  {
   "cell_type": "markdown",
   "source": [
    "## Part 1: Data mining"
   ],
   "metadata": {}
  },
  {
   "cell_type": "markdown",
   "source": [
    "We import the data set, explore it briefly, drop duplicates and unused features and cast the data types."
   ],
   "metadata": {}
  },
  {
   "cell_type": "markdown",
   "source": [
    "## Functions"
   ],
   "metadata": {}
  },
  {
   "cell_type": "code",
   "execution_count": 6,
   "source": [
    "def import_csv(path):\n",
    "    '''\n",
    "    \n",
    "    '''\n",
    "    \n",
    "    df = pd.read_csv(path, parse_dates=['dt_start_utc'], index_col='dt_start_utc')\n",
    "    df.sort_index(inplace=True)\n",
    "    \n",
    "    return df "
   ],
   "outputs": [],
   "metadata": {}
  },
  {
   "cell_type": "code",
   "execution_count": 7,
   "source": [
    "def obj_2_datetime(df_list):\n",
    "    '''\n",
    "    The given list of multiple data frames transforms the \"dt_start_utc\" string-column to \n",
    "    a datetime column and set it to the index of each data frame \n",
    "    '''\n",
    "    for df in df_list:\n",
    "        df[\"dt_start_utc\"] = pd.to_datetime(df[\"dt_start_utc\"])\n",
    "        df.sort_index(inplace=True)\n",
    "    return df"
   ],
   "outputs": [],
   "metadata": {}
  },
  {
   "cell_type": "markdown",
   "source": [
    "## Import Data :: EPEX Day-Ahead Market"
   ],
   "metadata": {}
  },
  {
   "cell_type": "markdown",
   "source": [
    "EPEX SPOT operates organized short-term electricity markets for Central Western Europe, Great Britain, the Nordics and Poland. \n",
    " \n",
    "EPEX Day-Ahead market is operated through a blind auction which takes place once a day, every day of the year. The traded electricity is delivered on the next day. Apart from Switzerland and Great Britain, all markets are part of the Multi-Regional Coupling (MRC) which stretches across 19 markets from Portugal to Finland and from The Netherlands to Italy. All auction markets of EPEX SPOT run on the ETS trading system, a robust and reliable trading platform. "
   ],
   "metadata": {}
  },
  {
   "cell_type": "code",
   "execution_count": 8,
   "source": [
    "df_epex_da = import_csv(\"../data/ane_energy/epex_da_de.csv\") \n",
    "df_epex_da.shape"
   ],
   "outputs": [
    {
     "output_type": "execute_result",
     "data": {
      "text/plain": [
       "(144911, 4)"
      ]
     },
     "metadata": {},
     "execution_count": 8
    }
   ],
   "metadata": {}
  },
  {
   "cell_type": "code",
   "execution_count": 9,
   "source": [
    "df_epex_da.head()"
   ],
   "outputs": [
    {
     "output_type": "execute_result",
     "data": {
      "text/html": [
       "<div>\n",
       "<style scoped>\n",
       "    .dataframe tbody tr th:only-of-type {\n",
       "        vertical-align: middle;\n",
       "    }\n",
       "\n",
       "    .dataframe tbody tr th {\n",
       "        vertical-align: top;\n",
       "    }\n",
       "\n",
       "    .dataframe thead th {\n",
       "        text-align: right;\n",
       "    }\n",
       "</style>\n",
       "<table border=\"1\" class=\"dataframe\">\n",
       "  <thead>\n",
       "    <tr style=\"text-align: right;\">\n",
       "      <th></th>\n",
       "      <th>Unnamed: 0</th>\n",
       "      <th>sechs_h_regelung</th>\n",
       "      <th>epex_da_de_eur_mwh</th>\n",
       "      <th>epex_da_de_mwh</th>\n",
       "    </tr>\n",
       "    <tr>\n",
       "      <th>dt_start_utc</th>\n",
       "      <th></th>\n",
       "      <th></th>\n",
       "      <th></th>\n",
       "      <th></th>\n",
       "    </tr>\n",
       "  </thead>\n",
       "  <tbody>\n",
       "    <tr>\n",
       "      <th>2004-12-31 23:00:00</th>\n",
       "      <td>0</td>\n",
       "      <td>0</td>\n",
       "      <td>23.89</td>\n",
       "      <td>NaN</td>\n",
       "    </tr>\n",
       "    <tr>\n",
       "      <th>2005-01-01 00:00:00</th>\n",
       "      <td>1</td>\n",
       "      <td>0</td>\n",
       "      <td>20.05</td>\n",
       "      <td>NaN</td>\n",
       "    </tr>\n",
       "    <tr>\n",
       "      <th>2005-01-01 01:00:00</th>\n",
       "      <td>2</td>\n",
       "      <td>0</td>\n",
       "      <td>15.00</td>\n",
       "      <td>NaN</td>\n",
       "    </tr>\n",
       "    <tr>\n",
       "      <th>2005-01-01 02:00:00</th>\n",
       "      <td>3</td>\n",
       "      <td>0</td>\n",
       "      <td>13.41</td>\n",
       "      <td>NaN</td>\n",
       "    </tr>\n",
       "    <tr>\n",
       "      <th>2005-01-01 03:00:00</th>\n",
       "      <td>4</td>\n",
       "      <td>0</td>\n",
       "      <td>13.73</td>\n",
       "      <td>NaN</td>\n",
       "    </tr>\n",
       "  </tbody>\n",
       "</table>\n",
       "</div>"
      ],
      "text/plain": [
       "                     Unnamed: 0  sechs_h_regelung  epex_da_de_eur_mwh  \\\n",
       "dt_start_utc                                                            \n",
       "2004-12-31 23:00:00           0                 0               23.89   \n",
       "2005-01-01 00:00:00           1                 0               20.05   \n",
       "2005-01-01 01:00:00           2                 0               15.00   \n",
       "2005-01-01 02:00:00           3                 0               13.41   \n",
       "2005-01-01 03:00:00           4                 0               13.73   \n",
       "\n",
       "                     epex_da_de_mwh  \n",
       "dt_start_utc                         \n",
       "2004-12-31 23:00:00             NaN  \n",
       "2005-01-01 00:00:00             NaN  \n",
       "2005-01-01 01:00:00             NaN  \n",
       "2005-01-01 02:00:00             NaN  \n",
       "2005-01-01 03:00:00             NaN  "
      ]
     },
     "metadata": {},
     "execution_count": 9
    }
   ],
   "metadata": {}
  },
  {
   "cell_type": "code",
   "execution_count": 17,
   "source": [
    "df_epex_da.tail()"
   ],
   "outputs": [
    {
     "output_type": "execute_result",
     "data": {
      "text/html": [
       "<div>\n",
       "<style scoped>\n",
       "    .dataframe tbody tr th:only-of-type {\n",
       "        vertical-align: middle;\n",
       "    }\n",
       "\n",
       "    .dataframe tbody tr th {\n",
       "        vertical-align: top;\n",
       "    }\n",
       "\n",
       "    .dataframe thead th {\n",
       "        text-align: right;\n",
       "    }\n",
       "</style>\n",
       "<table border=\"1\" class=\"dataframe\">\n",
       "  <thead>\n",
       "    <tr style=\"text-align: right;\">\n",
       "      <th></th>\n",
       "      <th>Unnamed: 0</th>\n",
       "      <th>sechs_h_regelung</th>\n",
       "      <th>epex_da_de_eur_mwh</th>\n",
       "      <th>epex_da_de_mwh</th>\n",
       "    </tr>\n",
       "    <tr>\n",
       "      <th>dt_start_utc</th>\n",
       "      <th></th>\n",
       "      <th></th>\n",
       "      <th></th>\n",
       "      <th></th>\n",
       "    </tr>\n",
       "  </thead>\n",
       "  <tbody>\n",
       "    <tr>\n",
       "      <th>2021-07-13 17:00:00</th>\n",
       "      <td>144906</td>\n",
       "      <td>0</td>\n",
       "      <td>105.00</td>\n",
       "      <td>NaN</td>\n",
       "    </tr>\n",
       "    <tr>\n",
       "      <th>2021-07-13 18:00:00</th>\n",
       "      <td>144907</td>\n",
       "      <td>0</td>\n",
       "      <td>100.29</td>\n",
       "      <td>NaN</td>\n",
       "    </tr>\n",
       "    <tr>\n",
       "      <th>2021-07-13 19:00:00</th>\n",
       "      <td>144908</td>\n",
       "      <td>0</td>\n",
       "      <td>98.52</td>\n",
       "      <td>NaN</td>\n",
       "    </tr>\n",
       "    <tr>\n",
       "      <th>2021-07-13 20:00:00</th>\n",
       "      <td>144909</td>\n",
       "      <td>0</td>\n",
       "      <td>95.03</td>\n",
       "      <td>NaN</td>\n",
       "    </tr>\n",
       "    <tr>\n",
       "      <th>2021-07-13 21:00:00</th>\n",
       "      <td>144910</td>\n",
       "      <td>0</td>\n",
       "      <td>86.10</td>\n",
       "      <td>NaN</td>\n",
       "    </tr>\n",
       "  </tbody>\n",
       "</table>\n",
       "</div>"
      ],
      "text/plain": [
       "                     Unnamed: 0  sechs_h_regelung  epex_da_de_eur_mwh  \\\n",
       "dt_start_utc                                                            \n",
       "2021-07-13 17:00:00      144906                 0              105.00   \n",
       "2021-07-13 18:00:00      144907                 0              100.29   \n",
       "2021-07-13 19:00:00      144908                 0               98.52   \n",
       "2021-07-13 20:00:00      144909                 0               95.03   \n",
       "2021-07-13 21:00:00      144910                 0               86.10   \n",
       "\n",
       "                     epex_da_de_mwh  \n",
       "dt_start_utc                         \n",
       "2021-07-13 17:00:00             NaN  \n",
       "2021-07-13 18:00:00             NaN  \n",
       "2021-07-13 19:00:00             NaN  \n",
       "2021-07-13 20:00:00             NaN  \n",
       "2021-07-13 21:00:00             NaN  "
      ]
     },
     "metadata": {},
     "execution_count": 17
    }
   ],
   "metadata": {}
  },
  {
   "cell_type": "code",
   "execution_count": 16,
   "source": [
    "print(df_epex_da[\"Unnamed: 0\"].nunique())"
   ],
   "outputs": [
    {
     "output_type": "stream",
     "name": "stdout",
     "text": [
      "144911\n"
     ]
    }
   ],
   "metadata": {}
  },
  {
   "cell_type": "code",
   "execution_count": 19,
   "source": [
    "print(df_epex_da[\"epex_da_de_mwh\"].unique())"
   ],
   "outputs": [
    {
     "output_type": "stream",
     "name": "stdout",
     "text": [
      "[nan]\n"
     ]
    }
   ],
   "metadata": {}
  },
  {
   "cell_type": "code",
   "execution_count": 27,
   "source": [
    "print((df_epex_da.sechs_h_regelung.sum()))"
   ],
   "outputs": [
    {
     "output_type": "stream",
     "name": "stdout",
     "text": [
      "738\n"
     ]
    }
   ],
   "metadata": {}
  },
  {
   "cell_type": "markdown",
   "source": [
    "The column \"Unnamed: 0\" has 144911 unique values. It stars with 0 and ends with 144910. \n",
    "All missing values are in the column \"epex_da_de_mwh\". Looking at the shape, head, tail and \n",
    "number of unqiues of the data frame and compare to the the column \"Unnamed:0\", we can see that \n",
    "this column just counting up the number of rows. It's reasonable to remove the whole column \n",
    "from this data frame. \"Sechs_h_regelung\" isn't just filled with \"0\", so we decide to keep it.\n",
    "We can conclude, that this column doesn't provide useful information. We drop this column \n",
    "as well as the column named \"epex_da_de_mwh\" with consist of only \"NaN\" values."
   ],
   "metadata": {}
  },
  {
   "cell_type": "code",
   "execution_count": 28,
   "source": [
    "df_epex_da.drop(['Unnamed: 0', 'epex_da_de_mwh'], axis=1, inplace=True);"
   ],
   "outputs": [
    {
     "output_type": "error",
     "ename": "KeyError",
     "evalue": "\"['Unnamed: 0' 'epex_da_de_mwh'] not found in axis\"",
     "traceback": [
      "\u001b[0;31m---------------------------------------------------------------------------\u001b[0m",
      "\u001b[0;31mKeyError\u001b[0m                                  Traceback (most recent call last)",
      "\u001b[0;32m/tmp/ipykernel_348/1779147238.py\u001b[0m in \u001b[0;36m<module>\u001b[0;34m\u001b[0m\n\u001b[0;32m----> 1\u001b[0;31m \u001b[0mdf_epex_da\u001b[0m\u001b[0;34m.\u001b[0m\u001b[0mdrop\u001b[0m\u001b[0;34m(\u001b[0m\u001b[0;34m[\u001b[0m\u001b[0;34m'Unnamed: 0'\u001b[0m\u001b[0;34m,\u001b[0m \u001b[0;34m'epex_da_de_mwh'\u001b[0m\u001b[0;34m]\u001b[0m\u001b[0;34m,\u001b[0m \u001b[0maxis\u001b[0m\u001b[0;34m=\u001b[0m\u001b[0;36m1\u001b[0m\u001b[0;34m,\u001b[0m \u001b[0minplace\u001b[0m\u001b[0;34m=\u001b[0m\u001b[0;32mTrue\u001b[0m\u001b[0;34m)\u001b[0m\u001b[0;34m;\u001b[0m\u001b[0;34m\u001b[0m\u001b[0;34m\u001b[0m\u001b[0m\n\u001b[0m",
      "\u001b[0;32m~/neuefische/Capstone_Energy/.venv/lib/python3.8/site-packages/pandas/util/_decorators.py\u001b[0m in \u001b[0;36mwrapper\u001b[0;34m(*args, **kwargs)\u001b[0m\n\u001b[1;32m    309\u001b[0m                     \u001b[0mstacklevel\u001b[0m\u001b[0;34m=\u001b[0m\u001b[0mstacklevel\u001b[0m\u001b[0;34m,\u001b[0m\u001b[0;34m\u001b[0m\u001b[0;34m\u001b[0m\u001b[0m\n\u001b[1;32m    310\u001b[0m                 )\n\u001b[0;32m--> 311\u001b[0;31m             \u001b[0;32mreturn\u001b[0m \u001b[0mfunc\u001b[0m\u001b[0;34m(\u001b[0m\u001b[0;34m*\u001b[0m\u001b[0margs\u001b[0m\u001b[0;34m,\u001b[0m \u001b[0;34m**\u001b[0m\u001b[0mkwargs\u001b[0m\u001b[0;34m)\u001b[0m\u001b[0;34m\u001b[0m\u001b[0;34m\u001b[0m\u001b[0m\n\u001b[0m\u001b[1;32m    312\u001b[0m \u001b[0;34m\u001b[0m\u001b[0m\n\u001b[1;32m    313\u001b[0m         \u001b[0;32mreturn\u001b[0m \u001b[0mwrapper\u001b[0m\u001b[0;34m\u001b[0m\u001b[0;34m\u001b[0m\u001b[0m\n",
      "\u001b[0;32m~/neuefische/Capstone_Energy/.venv/lib/python3.8/site-packages/pandas/core/frame.py\u001b[0m in \u001b[0;36mdrop\u001b[0;34m(self, labels, axis, index, columns, level, inplace, errors)\u001b[0m\n\u001b[1;32m   4899\u001b[0m                 \u001b[0mweight\u001b[0m  \u001b[0;36m1.0\u001b[0m     \u001b[0;36m0.8\u001b[0m\u001b[0;34m\u001b[0m\u001b[0;34m\u001b[0m\u001b[0m\n\u001b[1;32m   4900\u001b[0m         \"\"\"\n\u001b[0;32m-> 4901\u001b[0;31m         return super().drop(\n\u001b[0m\u001b[1;32m   4902\u001b[0m             \u001b[0mlabels\u001b[0m\u001b[0;34m=\u001b[0m\u001b[0mlabels\u001b[0m\u001b[0;34m,\u001b[0m\u001b[0;34m\u001b[0m\u001b[0;34m\u001b[0m\u001b[0m\n\u001b[1;32m   4903\u001b[0m             \u001b[0maxis\u001b[0m\u001b[0;34m=\u001b[0m\u001b[0maxis\u001b[0m\u001b[0;34m,\u001b[0m\u001b[0;34m\u001b[0m\u001b[0;34m\u001b[0m\u001b[0m\n",
      "\u001b[0;32m~/neuefische/Capstone_Energy/.venv/lib/python3.8/site-packages/pandas/core/generic.py\u001b[0m in \u001b[0;36mdrop\u001b[0;34m(self, labels, axis, index, columns, level, inplace, errors)\u001b[0m\n\u001b[1;32m   4148\u001b[0m         \u001b[0;32mfor\u001b[0m \u001b[0maxis\u001b[0m\u001b[0;34m,\u001b[0m \u001b[0mlabels\u001b[0m \u001b[0;32min\u001b[0m \u001b[0maxes\u001b[0m\u001b[0;34m.\u001b[0m\u001b[0mitems\u001b[0m\u001b[0;34m(\u001b[0m\u001b[0;34m)\u001b[0m\u001b[0;34m:\u001b[0m\u001b[0;34m\u001b[0m\u001b[0;34m\u001b[0m\u001b[0m\n\u001b[1;32m   4149\u001b[0m             \u001b[0;32mif\u001b[0m \u001b[0mlabels\u001b[0m \u001b[0;32mis\u001b[0m \u001b[0;32mnot\u001b[0m \u001b[0;32mNone\u001b[0m\u001b[0;34m:\u001b[0m\u001b[0;34m\u001b[0m\u001b[0;34m\u001b[0m\u001b[0m\n\u001b[0;32m-> 4150\u001b[0;31m                 \u001b[0mobj\u001b[0m \u001b[0;34m=\u001b[0m \u001b[0mobj\u001b[0m\u001b[0;34m.\u001b[0m\u001b[0m_drop_axis\u001b[0m\u001b[0;34m(\u001b[0m\u001b[0mlabels\u001b[0m\u001b[0;34m,\u001b[0m \u001b[0maxis\u001b[0m\u001b[0;34m,\u001b[0m \u001b[0mlevel\u001b[0m\u001b[0;34m=\u001b[0m\u001b[0mlevel\u001b[0m\u001b[0;34m,\u001b[0m \u001b[0merrors\u001b[0m\u001b[0;34m=\u001b[0m\u001b[0merrors\u001b[0m\u001b[0;34m)\u001b[0m\u001b[0;34m\u001b[0m\u001b[0;34m\u001b[0m\u001b[0m\n\u001b[0m\u001b[1;32m   4151\u001b[0m \u001b[0;34m\u001b[0m\u001b[0m\n\u001b[1;32m   4152\u001b[0m         \u001b[0;32mif\u001b[0m \u001b[0minplace\u001b[0m\u001b[0;34m:\u001b[0m\u001b[0;34m\u001b[0m\u001b[0;34m\u001b[0m\u001b[0m\n",
      "\u001b[0;32m~/neuefische/Capstone_Energy/.venv/lib/python3.8/site-packages/pandas/core/generic.py\u001b[0m in \u001b[0;36m_drop_axis\u001b[0;34m(self, labels, axis, level, errors)\u001b[0m\n\u001b[1;32m   4183\u001b[0m                 \u001b[0mnew_axis\u001b[0m \u001b[0;34m=\u001b[0m \u001b[0maxis\u001b[0m\u001b[0;34m.\u001b[0m\u001b[0mdrop\u001b[0m\u001b[0;34m(\u001b[0m\u001b[0mlabels\u001b[0m\u001b[0;34m,\u001b[0m \u001b[0mlevel\u001b[0m\u001b[0;34m=\u001b[0m\u001b[0mlevel\u001b[0m\u001b[0;34m,\u001b[0m \u001b[0merrors\u001b[0m\u001b[0;34m=\u001b[0m\u001b[0merrors\u001b[0m\u001b[0;34m)\u001b[0m\u001b[0;34m\u001b[0m\u001b[0;34m\u001b[0m\u001b[0m\n\u001b[1;32m   4184\u001b[0m             \u001b[0;32melse\u001b[0m\u001b[0;34m:\u001b[0m\u001b[0;34m\u001b[0m\u001b[0;34m\u001b[0m\u001b[0m\n\u001b[0;32m-> 4185\u001b[0;31m                 \u001b[0mnew_axis\u001b[0m \u001b[0;34m=\u001b[0m \u001b[0maxis\u001b[0m\u001b[0;34m.\u001b[0m\u001b[0mdrop\u001b[0m\u001b[0;34m(\u001b[0m\u001b[0mlabels\u001b[0m\u001b[0;34m,\u001b[0m \u001b[0merrors\u001b[0m\u001b[0;34m=\u001b[0m\u001b[0merrors\u001b[0m\u001b[0;34m)\u001b[0m\u001b[0;34m\u001b[0m\u001b[0;34m\u001b[0m\u001b[0m\n\u001b[0m\u001b[1;32m   4186\u001b[0m             \u001b[0mresult\u001b[0m \u001b[0;34m=\u001b[0m \u001b[0mself\u001b[0m\u001b[0;34m.\u001b[0m\u001b[0mreindex\u001b[0m\u001b[0;34m(\u001b[0m\u001b[0;34m**\u001b[0m\u001b[0;34m{\u001b[0m\u001b[0maxis_name\u001b[0m\u001b[0;34m:\u001b[0m \u001b[0mnew_axis\u001b[0m\u001b[0;34m}\u001b[0m\u001b[0;34m)\u001b[0m\u001b[0;34m\u001b[0m\u001b[0;34m\u001b[0m\u001b[0m\n\u001b[1;32m   4187\u001b[0m \u001b[0;34m\u001b[0m\u001b[0m\n",
      "\u001b[0;32m~/neuefische/Capstone_Energy/.venv/lib/python3.8/site-packages/pandas/core/indexes/base.py\u001b[0m in \u001b[0;36mdrop\u001b[0;34m(self, labels, errors)\u001b[0m\n\u001b[1;32m   6016\u001b[0m         \u001b[0;32mif\u001b[0m \u001b[0mmask\u001b[0m\u001b[0;34m.\u001b[0m\u001b[0many\u001b[0m\u001b[0;34m(\u001b[0m\u001b[0;34m)\u001b[0m\u001b[0;34m:\u001b[0m\u001b[0;34m\u001b[0m\u001b[0;34m\u001b[0m\u001b[0m\n\u001b[1;32m   6017\u001b[0m             \u001b[0;32mif\u001b[0m \u001b[0merrors\u001b[0m \u001b[0;34m!=\u001b[0m \u001b[0;34m\"ignore\"\u001b[0m\u001b[0;34m:\u001b[0m\u001b[0;34m\u001b[0m\u001b[0;34m\u001b[0m\u001b[0m\n\u001b[0;32m-> 6018\u001b[0;31m                 \u001b[0;32mraise\u001b[0m \u001b[0mKeyError\u001b[0m\u001b[0;34m(\u001b[0m\u001b[0;34mf\"{labels[mask]} not found in axis\"\u001b[0m\u001b[0;34m)\u001b[0m\u001b[0;34m\u001b[0m\u001b[0;34m\u001b[0m\u001b[0m\n\u001b[0m\u001b[1;32m   6019\u001b[0m             \u001b[0mindexer\u001b[0m \u001b[0;34m=\u001b[0m \u001b[0mindexer\u001b[0m\u001b[0;34m[\u001b[0m\u001b[0;34m~\u001b[0m\u001b[0mmask\u001b[0m\u001b[0;34m]\u001b[0m\u001b[0;34m\u001b[0m\u001b[0;34m\u001b[0m\u001b[0m\n\u001b[1;32m   6020\u001b[0m         \u001b[0;32mreturn\u001b[0m \u001b[0mself\u001b[0m\u001b[0;34m.\u001b[0m\u001b[0mdelete\u001b[0m\u001b[0;34m(\u001b[0m\u001b[0mindexer\u001b[0m\u001b[0;34m)\u001b[0m\u001b[0;34m\u001b[0m\u001b[0;34m\u001b[0m\u001b[0m\n",
      "\u001b[0;31mKeyError\u001b[0m: \"['Unnamed: 0' 'epex_da_de_mwh'] not found in axis\""
     ]
    }
   ],
   "metadata": {}
  },
  {
   "cell_type": "code",
   "execution_count": 22,
   "source": [
    "print(\"The Data Frame has\",df_epex_da.isnull().sum().sum(),\"missing values. Period:\", df_epex_da.index.min(), \"till\",df_epex_da.index.max())"
   ],
   "outputs": [
    {
     "output_type": "stream",
     "name": "stdout",
     "text": [
      "The Data Frame has 0 missing values. Period: 2004-12-31 23:00:00 till 2021-07-13 21:00:00\n"
     ]
    }
   ],
   "metadata": {}
  },
  {
   "cell_type": "markdown",
   "source": [
    "The periods of this data frame is one hour. We will resample this data frame by 15 minutes, so it will fit our others data frame.\n",
    "\n",
    "The EPEX Day Ahead bids for the auctions for the coming day must be placed by 12 noon. The results of the winning bids will be published at 12:40 p.m. each day.\n",
    "In this case, we can use a polynominal interpolation without causing data leakage."
   ],
   "metadata": {}
  },
  {
   "cell_type": "code",
   "execution_count": 30,
   "source": [
    "df_epex_da = df_epex_da.resample(resample_size).interpolate(method='polynomial', order=2)"
   ],
   "outputs": [],
   "metadata": {}
  },
  {
   "cell_type": "markdown",
   "source": [
    "We finally check, if any NaNs and missing values are in this data frame."
   ],
   "metadata": {}
  },
  {
   "cell_type": "code",
   "execution_count": 33,
   "source": [
    "count_inf = np.isinf(df_epex_da).values.sum()\n",
    "count_nan = df_epex_da.isnull().sum().sum()\n",
    "print(\"The data frame contains \" + str(count_inf) + \" infinite values and \" + str(count_nan) + \" missing values.\")"
   ],
   "outputs": [
    {
     "output_type": "stream",
     "name": "stdout",
     "text": [
      "The data frame contains 0 infinite values and 0 missing values.\n"
     ]
    }
   ],
   "metadata": {}
  },
  {
   "cell_type": "markdown",
   "source": [
    "## 1.2 Import ES Forcasts"
   ],
   "metadata": {}
  },
  {
   "cell_type": "code",
   "execution_count": 34,
   "source": [
    "def import_csv(path):\n",
    "    \n",
    "    df = pd.read_csv(path, parse_dates=['dt_start_utc'], index_col='dt_start_utc')\n",
    "    df.sort_index(inplace=True)\n",
    "    \n",
    "    return df"
   ],
   "outputs": [],
   "metadata": {}
  },
  {
   "cell_type": "code",
   "execution_count": 75,
   "source": [
    "def obj_2_datetime(df_list):\n",
    "    for df in df_list:\n",
    "        df[\"dt_start_utc\"] = pd.to_datetime(df[\"dt_start_utc\"])\n",
    "        df.sort_index(inplace=True)\n",
    "    return df"
   ],
   "outputs": [],
   "metadata": {}
  },
  {
   "cell_type": "markdown",
   "source": [
    "## Import:  Forcast Data"
   ],
   "metadata": {}
  },
  {
   "cell_type": "markdown",
   "source": [
    "This data is preprocessed by the cooperation team ([Matthias](https://github.com/matthias-schmidt) & [Boris](https://github.com/Antadurunnu))."
   ],
   "metadata": {}
  },
  {
   "cell_type": "code",
   "execution_count": 35,
   "source": [
    "df_es_fc_solar_ts = import_csv(\"../data/ane_energy/es_fc_solar_ts.csv\") \n",
    "df_es_fc_total_load_ts = import_csv(\"../data/ane_energy/es_fc_total_load_ts.csv\")\n",
    "df_es_fc_total_renewables_ts = import_csv(\"../data/ane_energy/es_fc_total_renewables_ts.csv\")\n",
    "df_es_fc_wind_offshore_ts = import_csv(\"../data/ane_energy/es_fc_wind_offshore_ts.csv\")\n",
    "df_es_fc_wind_onshore_ts = import_csv(\"../data/ane_energy/es_fc_wind_onshore_ts.csv\")"
   ],
   "outputs": [],
   "metadata": {}
  },
  {
   "cell_type": "code",
   "execution_count": 36,
   "source": [
    "df_es_fc_solar_ts.name = \"df_es_fc_solar_ts\"\n",
    "df_es_fc_total_load_ts.name = \"df_es_fc_total_load_ts\"\n",
    "df_es_fc_total_renewables_ts.name = \"df_es_fc_total_renewables_ts\"\n",
    "df_es_fc_wind_offshore_ts.name = \"df_es_fc_wind_offshore_ts\"\n",
    "df_es_fc_wind_onshore_ts.name = \"df_es_fc_wind_onshore_ts\""
   ],
   "outputs": [],
   "metadata": {}
  },
  {
   "cell_type": "markdown",
   "source": [
    "To streamline the data frame processing, we add the forcast data frames to a list."
   ],
   "metadata": {}
  },
  {
   "cell_type": "code",
   "execution_count": 39,
   "source": [
    "df_list_es = [df_es_fc_solar_ts, \n",
    "                df_es_fc_total_load_ts, \n",
    "                df_es_fc_total_renewables_ts,\n",
    "                df_es_fc_wind_offshore_ts,\n",
    "                df_es_fc_wind_onshore_ts\n",
    "          ]"
   ],
   "outputs": [],
   "metadata": {}
  },
  {
   "cell_type": "markdown",
   "source": [
    "We will print, the total period and check the sum of NaNs in each data frame"
   ],
   "metadata": {}
  },
  {
   "cell_type": "code",
   "execution_count": 45,
   "source": [
    "for df in df_list_es:\n",
    "    print(df.head)\n",
    "    print(\"The Data Frame\",df.name,\"has\",df.isnull().sum().sum(),\"missing values. Period:\", df.index.min(), \"till\",df.index.max())"
   ],
   "outputs": [
    {
     "output_type": "stream",
     "name": "stdout",
     "text": [
      "<bound method NDFrame.head of                      50Hertz_power_mw  DE_power_mw  DK_power_mw  DK1_power_mw  \\\n",
      "dt_start_utc                                                                    \n",
      "2016-12-31 23:00:00               0.0          0.0          0.0           0.0   \n",
      "2016-12-31 23:15:00               0.0          0.0          0.0           0.0   \n",
      "2016-12-31 23:30:00               0.0          0.0          0.0           0.0   \n",
      "2016-12-31 23:45:00               0.0          0.0          0.0           0.0   \n",
      "2017-01-01 00:00:00               0.0          0.0          0.0           0.0   \n",
      "...                               ...          ...          ...           ...   \n",
      "2021-07-13 20:45:00               0.0          0.0          0.0           0.0   \n",
      "2021-07-13 21:00:00               0.0          0.0          0.0           0.0   \n",
      "2021-07-13 21:15:00               0.0          0.0          0.0           0.0   \n",
      "2021-07-13 21:30:00               0.0          0.0          0.0           0.0   \n",
      "2021-07-13 21:45:00               0.0          0.0          0.0           0.0   \n",
      "\n",
      "                     TTG_power_mw  \n",
      "dt_start_utc                       \n",
      "2016-12-31 23:00:00           0.0  \n",
      "2016-12-31 23:15:00           0.0  \n",
      "2016-12-31 23:30:00           0.0  \n",
      "2016-12-31 23:45:00           0.0  \n",
      "2017-01-01 00:00:00           0.0  \n",
      "...                           ...  \n",
      "2021-07-13 20:45:00           0.0  \n",
      "2021-07-13 21:00:00           0.0  \n",
      "2021-07-13 21:15:00           0.0  \n",
      "2021-07-13 21:30:00           0.0  \n",
      "2021-07-13 21:45:00           0.0  \n",
      "\n",
      "[158876 rows x 5 columns]>\n",
      "The Data Frame df_es_fc_solar_ts has 0 missing values. Period: 2016-12-31 23:00:00 till 2021-07-13 21:45:00\n",
      "<bound method NDFrame.head of                      50Hertz_power_mw  DE_power_mw  DK_power_mw  DK1_power_mw  \\\n",
      "dt_start_utc                                                                    \n",
      "2016-12-31 23:00:00            6291.0      40241.0       2942.0        1572.0   \n",
      "2016-12-31 23:15:00            6134.0      39805.0       2942.0        1572.0   \n",
      "2016-12-31 23:30:00            5976.0      39023.0       2942.0        1572.0   \n",
      "2016-12-31 23:45:00            5871.0      38682.0       2942.0        1572.0   \n",
      "2017-01-01 00:00:00            5810.0      38162.0       2735.0        1549.0   \n",
      "...                               ...          ...          ...           ...   \n",
      "2021-07-14 20:45:00            9503.0      51357.0       3549.0        2307.0   \n",
      "2021-07-14 21:00:00            9323.0      50517.0       3345.0        2194.0   \n",
      "2021-07-14 21:15:00            9225.0      49871.0       3345.0        2194.0   \n",
      "2021-07-14 21:30:00            9139.0      49008.0       3345.0        2194.0   \n",
      "2021-07-14 21:45:00            9027.0      48430.0       3345.0        2194.0   \n",
      "\n",
      "                     TTG_power_mw  \n",
      "dt_start_utc                       \n",
      "2016-12-31 23:00:00       11971.0  \n",
      "2016-12-31 23:15:00       12180.0  \n",
      "2016-12-31 23:30:00       12019.0  \n",
      "2016-12-31 23:45:00       11884.0  \n",
      "2017-01-01 00:00:00       11717.0  \n",
      "...                           ...  \n",
      "2021-07-14 20:45:00       15018.0  \n",
      "2021-07-14 21:00:00       14986.0  \n",
      "2021-07-14 21:15:00       14836.0  \n",
      "2021-07-14 21:30:00       14505.0  \n",
      "2021-07-14 21:45:00       14324.0  \n",
      "\n",
      "[158972 rows x 5 columns]>\n",
      "The Data Frame df_es_fc_total_load_ts has 0 missing values. Period: 2016-12-31 23:00:00 till 2021-07-14 21:45:00\n",
      "<bound method NDFrame.head of                      50Hertz_power_mw  DE_power_mw  DK_power_mw  DK1_power_mw  \\\n",
      "dt_start_utc                                                                    \n",
      "2016-12-31 23:00:00               0.0          0.0          0.0           0.0   \n",
      "2016-12-31 23:15:00             331.0       3338.0          0.0           0.0   \n",
      "2016-12-31 23:30:00            4859.0      12873.0          0.0           0.0   \n",
      "2016-12-31 23:45:00            4833.0      12830.0          0.0           0.0   \n",
      "2017-01-01 00:00:00               0.0          0.0          0.0           0.0   \n",
      "...                               ...          ...          ...           ...   \n",
      "2021-07-13 20:45:00            3637.0       8334.0          0.0           0.0   \n",
      "2021-07-13 21:00:00             330.0        747.0          0.0           0.0   \n",
      "2021-07-13 21:15:00               0.0          0.0          0.0           0.0   \n",
      "2021-07-13 21:30:00               0.0          0.0          0.0           0.0   \n",
      "2021-07-13 21:45:00               0.0          0.0          0.0           0.0   \n",
      "\n",
      "                     TTG_power_mw  \n",
      "dt_start_utc                       \n",
      "2016-12-31 23:00:00           0.0  \n",
      "2016-12-31 23:15:00        3007.0  \n",
      "2016-12-31 23:30:00        6595.0  \n",
      "2016-12-31 23:45:00        6572.0  \n",
      "2017-01-01 00:00:00           0.0  \n",
      "...                           ...  \n",
      "2021-07-13 20:45:00        2620.0  \n",
      "2021-07-13 21:00:00         417.0  \n",
      "2021-07-13 21:15:00           0.0  \n",
      "2021-07-13 21:30:00           0.0  \n",
      "2021-07-13 21:45:00           0.0  \n",
      "\n",
      "[158876 rows x 5 columns]>\n",
      "The Data Frame df_es_fc_total_renewables_ts has 0 missing values. Period: 2016-12-31 23:00:00 till 2021-07-13 21:45:00\n",
      "<bound method NDFrame.head of                      50Hertz_power_mw  DE_power_mw  DK_power_mw  DK1_power_mw  \\\n",
      "dt_start_utc                                                                    \n",
      "2016-12-31 23:00:00             331.0       3340.0       1004.0         652.0   \n",
      "2016-12-31 23:15:00             331.0       3338.0       1004.0         652.0   \n",
      "2016-12-31 23:30:00             331.0       3339.0       1004.0         652.0   \n",
      "2016-12-31 23:45:00             331.0       3339.0       1004.0         652.0   \n",
      "2017-01-01 00:00:00             331.0       3370.0       1094.0         748.0   \n",
      "...                               ...          ...          ...           ...   \n",
      "2021-07-13 20:45:00             323.0        743.0        226.0         127.0   \n",
      "2021-07-13 21:00:00             330.0        747.0        214.0         120.0   \n",
      "2021-07-13 21:15:00             337.0        746.0        214.0         120.0   \n",
      "2021-07-13 21:30:00             343.0        746.0        214.0         120.0   \n",
      "2021-07-13 21:45:00             350.0        744.0        214.0         120.0   \n",
      "\n",
      "                     TTG_power_mw  \n",
      "dt_start_utc                       \n",
      "2016-12-31 23:00:00        3009.0  \n",
      "2016-12-31 23:15:00        3007.0  \n",
      "2016-12-31 23:30:00        3008.0  \n",
      "2016-12-31 23:45:00        3008.0  \n",
      "2017-01-01 00:00:00        3039.0  \n",
      "...                           ...  \n",
      "2021-07-13 20:45:00         420.0  \n",
      "2021-07-13 21:00:00         417.0  \n",
      "2021-07-13 21:15:00         409.0  \n",
      "2021-07-13 21:30:00         403.0  \n",
      "2021-07-13 21:45:00         394.0  \n",
      "\n",
      "[158876 rows x 5 columns]>\n",
      "The Data Frame df_es_fc_wind_offshore_ts has 0 missing values. Period: 2016-12-31 23:00:00 till 2021-07-13 21:45:00\n",
      "<bound method NDFrame.head of                      50Hertz_power_mw  DE_power_mw  DK_power_mw  DK1_power_mw  \\\n",
      "dt_start_utc                                                                    \n",
      "2016-12-31 23:00:00            4922.0      12966.0       2282.0        1857.0   \n",
      "2016-12-31 23:15:00            4890.0      12916.0       2282.0        1857.0   \n",
      "2016-12-31 23:30:00            4859.0      12873.0       2282.0        1857.0   \n",
      "2016-12-31 23:45:00            4833.0      12830.0       2282.0        1857.0   \n",
      "2017-01-01 00:00:00            4808.0      12315.0       2152.0        1774.0   \n",
      "...                               ...          ...          ...           ...   \n",
      "2021-07-13 20:45:00            3637.0       8334.0        274.0         193.0   \n",
      "2021-07-13 21:00:00            3677.0       8426.0        297.0         208.0   \n",
      "2021-07-13 21:15:00            3580.0       8309.0        297.0         208.0   \n",
      "2021-07-13 21:30:00            3485.0       8192.0        297.0         208.0   \n",
      "2021-07-13 21:45:00            3371.0       8061.0        297.0         208.0   \n",
      "\n",
      "                     TTG_power_mw  \n",
      "dt_start_utc                       \n",
      "2016-12-31 23:00:00        6636.0  \n",
      "2016-12-31 23:15:00        6614.0  \n",
      "2016-12-31 23:30:00        6595.0  \n",
      "2016-12-31 23:45:00        6572.0  \n",
      "2017-01-01 00:00:00        6078.0  \n",
      "...                           ...  \n",
      "2021-07-13 20:45:00        2620.0  \n",
      "2021-07-13 21:00:00        2666.0  \n",
      "2021-07-13 21:15:00        2678.0  \n",
      "2021-07-13 21:30:00        2688.0  \n",
      "2021-07-13 21:45:00        2699.0  \n",
      "\n",
      "[158876 rows x 5 columns]>\n",
      "The Data Frame df_es_fc_wind_onshore_ts has 0 missing values. Period: 2016-12-31 23:00:00 till 2021-07-13 21:45:00\n"
     ]
    }
   ],
   "metadata": {}
  },
  {
   "cell_type": "markdown",
   "source": [
    "We can see that all data frames are starting from 2016-12-31 23:00:00 to 2021-07-13 21:45:00 and they haven't any NaN's values.\n",
    "We merge them to a single \"forcast\" dataframe"
   ],
   "metadata": {}
  },
  {
   "cell_type": "code",
   "execution_count": 48,
   "source": [
    "df_merged_es = reduce(lambda  left,right: pd.merge(left, right, on=['dt_start_utc'],\n",
    "                                            how='inner'), df_list_es)"
   ],
   "outputs": [
    {
     "output_type": "stream",
     "name": "stderr",
     "text": [
      "/tmp/ipykernel_348/3649181356.py:1: FutureWarning: Passing 'suffixes' which cause duplicate columns {'50Hertz_power_mw_x', 'DK_power_mw_x', 'DE_power_mw_x', 'TTG_power_mw_x', 'DK1_power_mw_x'} in the result is deprecated and will raise a MergeError in a future version.\n",
      "  df_merged_es = reduce(lambda  left,right: pd.merge(left, right, on=['dt_start_utc'],\n"
     ]
    }
   ],
   "metadata": {}
  },
  {
   "cell_type": "code",
   "execution_count": 49,
   "source": [
    "df_merged_es.tail()"
   ],
   "outputs": [
    {
     "output_type": "execute_result",
     "data": {
      "text/html": [
       "<div>\n",
       "<style scoped>\n",
       "    .dataframe tbody tr th:only-of-type {\n",
       "        vertical-align: middle;\n",
       "    }\n",
       "\n",
       "    .dataframe tbody tr th {\n",
       "        vertical-align: top;\n",
       "    }\n",
       "\n",
       "    .dataframe thead th {\n",
       "        text-align: right;\n",
       "    }\n",
       "</style>\n",
       "<table border=\"1\" class=\"dataframe\">\n",
       "  <thead>\n",
       "    <tr style=\"text-align: right;\">\n",
       "      <th></th>\n",
       "      <th>50Hertz_power_mw_x</th>\n",
       "      <th>DE_power_mw_x</th>\n",
       "      <th>DK_power_mw_x</th>\n",
       "      <th>DK1_power_mw_x</th>\n",
       "      <th>TTG_power_mw_x</th>\n",
       "      <th>50Hertz_power_mw_y</th>\n",
       "      <th>DE_power_mw_y</th>\n",
       "      <th>DK_power_mw_y</th>\n",
       "      <th>DK1_power_mw_y</th>\n",
       "      <th>TTG_power_mw_y</th>\n",
       "      <th>...</th>\n",
       "      <th>50Hertz_power_mw_y</th>\n",
       "      <th>DE_power_mw_y</th>\n",
       "      <th>DK_power_mw_y</th>\n",
       "      <th>DK1_power_mw_y</th>\n",
       "      <th>TTG_power_mw_y</th>\n",
       "      <th>50Hertz_power_mw</th>\n",
       "      <th>DE_power_mw</th>\n",
       "      <th>DK_power_mw</th>\n",
       "      <th>DK1_power_mw</th>\n",
       "      <th>TTG_power_mw</th>\n",
       "    </tr>\n",
       "    <tr>\n",
       "      <th>dt_start_utc</th>\n",
       "      <th></th>\n",
       "      <th></th>\n",
       "      <th></th>\n",
       "      <th></th>\n",
       "      <th></th>\n",
       "      <th></th>\n",
       "      <th></th>\n",
       "      <th></th>\n",
       "      <th></th>\n",
       "      <th></th>\n",
       "      <th></th>\n",
       "      <th></th>\n",
       "      <th></th>\n",
       "      <th></th>\n",
       "      <th></th>\n",
       "      <th></th>\n",
       "      <th></th>\n",
       "      <th></th>\n",
       "      <th></th>\n",
       "      <th></th>\n",
       "      <th></th>\n",
       "    </tr>\n",
       "  </thead>\n",
       "  <tbody>\n",
       "    <tr>\n",
       "      <th>2021-07-13 20:45:00</th>\n",
       "      <td>0.0</td>\n",
       "      <td>0.0</td>\n",
       "      <td>0.0</td>\n",
       "      <td>0.0</td>\n",
       "      <td>0.0</td>\n",
       "      <td>9651.0</td>\n",
       "      <td>51324.0</td>\n",
       "      <td>3505.0</td>\n",
       "      <td>2268.0</td>\n",
       "      <td>14931.0</td>\n",
       "      <td>...</td>\n",
       "      <td>323.0</td>\n",
       "      <td>743.0</td>\n",
       "      <td>226.0</td>\n",
       "      <td>127.0</td>\n",
       "      <td>420.0</td>\n",
       "      <td>3637.0</td>\n",
       "      <td>8334.0</td>\n",
       "      <td>274.0</td>\n",
       "      <td>193.0</td>\n",
       "      <td>2620.0</td>\n",
       "    </tr>\n",
       "    <tr>\n",
       "      <th>2021-07-13 21:00:00</th>\n",
       "      <td>0.0</td>\n",
       "      <td>0.0</td>\n",
       "      <td>0.0</td>\n",
       "      <td>0.0</td>\n",
       "      <td>0.0</td>\n",
       "      <td>9421.0</td>\n",
       "      <td>49935.0</td>\n",
       "      <td>3289.0</td>\n",
       "      <td>2144.0</td>\n",
       "      <td>14327.0</td>\n",
       "      <td>...</td>\n",
       "      <td>330.0</td>\n",
       "      <td>747.0</td>\n",
       "      <td>214.0</td>\n",
       "      <td>120.0</td>\n",
       "      <td>417.0</td>\n",
       "      <td>3677.0</td>\n",
       "      <td>8426.0</td>\n",
       "      <td>297.0</td>\n",
       "      <td>208.0</td>\n",
       "      <td>2666.0</td>\n",
       "    </tr>\n",
       "    <tr>\n",
       "      <th>2021-07-13 21:15:00</th>\n",
       "      <td>0.0</td>\n",
       "      <td>0.0</td>\n",
       "      <td>0.0</td>\n",
       "      <td>0.0</td>\n",
       "      <td>0.0</td>\n",
       "      <td>9244.0</td>\n",
       "      <td>49336.0</td>\n",
       "      <td>3289.0</td>\n",
       "      <td>2144.0</td>\n",
       "      <td>14301.0</td>\n",
       "      <td>...</td>\n",
       "      <td>337.0</td>\n",
       "      <td>746.0</td>\n",
       "      <td>214.0</td>\n",
       "      <td>120.0</td>\n",
       "      <td>409.0</td>\n",
       "      <td>3580.0</td>\n",
       "      <td>8309.0</td>\n",
       "      <td>297.0</td>\n",
       "      <td>208.0</td>\n",
       "      <td>2678.0</td>\n",
       "    </tr>\n",
       "    <tr>\n",
       "      <th>2021-07-13 21:30:00</th>\n",
       "      <td>0.0</td>\n",
       "      <td>0.0</td>\n",
       "      <td>0.0</td>\n",
       "      <td>0.0</td>\n",
       "      <td>0.0</td>\n",
       "      <td>9065.0</td>\n",
       "      <td>48488.0</td>\n",
       "      <td>3289.0</td>\n",
       "      <td>2144.0</td>\n",
       "      <td>14043.0</td>\n",
       "      <td>...</td>\n",
       "      <td>343.0</td>\n",
       "      <td>746.0</td>\n",
       "      <td>214.0</td>\n",
       "      <td>120.0</td>\n",
       "      <td>403.0</td>\n",
       "      <td>3485.0</td>\n",
       "      <td>8192.0</td>\n",
       "      <td>297.0</td>\n",
       "      <td>208.0</td>\n",
       "      <td>2688.0</td>\n",
       "    </tr>\n",
       "    <tr>\n",
       "      <th>2021-07-13 21:45:00</th>\n",
       "      <td>0.0</td>\n",
       "      <td>0.0</td>\n",
       "      <td>0.0</td>\n",
       "      <td>0.0</td>\n",
       "      <td>0.0</td>\n",
       "      <td>8914.0</td>\n",
       "      <td>47817.0</td>\n",
       "      <td>3289.0</td>\n",
       "      <td>2144.0</td>\n",
       "      <td>13865.0</td>\n",
       "      <td>...</td>\n",
       "      <td>350.0</td>\n",
       "      <td>744.0</td>\n",
       "      <td>214.0</td>\n",
       "      <td>120.0</td>\n",
       "      <td>394.0</td>\n",
       "      <td>3371.0</td>\n",
       "      <td>8061.0</td>\n",
       "      <td>297.0</td>\n",
       "      <td>208.0</td>\n",
       "      <td>2699.0</td>\n",
       "    </tr>\n",
       "  </tbody>\n",
       "</table>\n",
       "<p>5 rows × 25 columns</p>\n",
       "</div>"
      ],
      "text/plain": [
       "                     50Hertz_power_mw_x  DE_power_mw_x  DK_power_mw_x  \\\n",
       "dt_start_utc                                                            \n",
       "2021-07-13 20:45:00                 0.0            0.0            0.0   \n",
       "2021-07-13 21:00:00                 0.0            0.0            0.0   \n",
       "2021-07-13 21:15:00                 0.0            0.0            0.0   \n",
       "2021-07-13 21:30:00                 0.0            0.0            0.0   \n",
       "2021-07-13 21:45:00                 0.0            0.0            0.0   \n",
       "\n",
       "                     DK1_power_mw_x  TTG_power_mw_x  50Hertz_power_mw_y  \\\n",
       "dt_start_utc                                                              \n",
       "2021-07-13 20:45:00             0.0             0.0              9651.0   \n",
       "2021-07-13 21:00:00             0.0             0.0              9421.0   \n",
       "2021-07-13 21:15:00             0.0             0.0              9244.0   \n",
       "2021-07-13 21:30:00             0.0             0.0              9065.0   \n",
       "2021-07-13 21:45:00             0.0             0.0              8914.0   \n",
       "\n",
       "                     DE_power_mw_y  DK_power_mw_y  DK1_power_mw_y  \\\n",
       "dt_start_utc                                                        \n",
       "2021-07-13 20:45:00        51324.0         3505.0          2268.0   \n",
       "2021-07-13 21:00:00        49935.0         3289.0          2144.0   \n",
       "2021-07-13 21:15:00        49336.0         3289.0          2144.0   \n",
       "2021-07-13 21:30:00        48488.0         3289.0          2144.0   \n",
       "2021-07-13 21:45:00        47817.0         3289.0          2144.0   \n",
       "\n",
       "                     TTG_power_mw_y  ...  50Hertz_power_mw_y  DE_power_mw_y  \\\n",
       "dt_start_utc                         ...                                      \n",
       "2021-07-13 20:45:00         14931.0  ...               323.0          743.0   \n",
       "2021-07-13 21:00:00         14327.0  ...               330.0          747.0   \n",
       "2021-07-13 21:15:00         14301.0  ...               337.0          746.0   \n",
       "2021-07-13 21:30:00         14043.0  ...               343.0          746.0   \n",
       "2021-07-13 21:45:00         13865.0  ...               350.0          744.0   \n",
       "\n",
       "                     DK_power_mw_y  DK1_power_mw_y  TTG_power_mw_y  \\\n",
       "dt_start_utc                                                         \n",
       "2021-07-13 20:45:00          226.0           127.0           420.0   \n",
       "2021-07-13 21:00:00          214.0           120.0           417.0   \n",
       "2021-07-13 21:15:00          214.0           120.0           409.0   \n",
       "2021-07-13 21:30:00          214.0           120.0           403.0   \n",
       "2021-07-13 21:45:00          214.0           120.0           394.0   \n",
       "\n",
       "                     50Hertz_power_mw  DE_power_mw  DK_power_mw  DK1_power_mw  \\\n",
       "dt_start_utc                                                                    \n",
       "2021-07-13 20:45:00            3637.0       8334.0        274.0         193.0   \n",
       "2021-07-13 21:00:00            3677.0       8426.0        297.0         208.0   \n",
       "2021-07-13 21:15:00            3580.0       8309.0        297.0         208.0   \n",
       "2021-07-13 21:30:00            3485.0       8192.0        297.0         208.0   \n",
       "2021-07-13 21:45:00            3371.0       8061.0        297.0         208.0   \n",
       "\n",
       "                     TTG_power_mw  \n",
       "dt_start_utc                       \n",
       "2021-07-13 20:45:00        2620.0  \n",
       "2021-07-13 21:00:00        2666.0  \n",
       "2021-07-13 21:15:00        2678.0  \n",
       "2021-07-13 21:30:00        2688.0  \n",
       "2021-07-13 21:45:00        2699.0  \n",
       "\n",
       "[5 rows x 25 columns]"
      ]
     },
     "metadata": {},
     "execution_count": 49
    }
   ],
   "metadata": {}
  },
  {
   "cell_type": "markdown",
   "source": [
    "## Final ane.energy Merge "
   ],
   "metadata": {}
  },
  {
   "cell_type": "code",
   "execution_count": 50,
   "source": [
    "df_merged_3 = df_epex_da.merge(df_merged_es, left_index=True, right_index=True)"
   ],
   "outputs": [],
   "metadata": {}
  },
  {
   "cell_type": "code",
   "execution_count": 51,
   "source": [
    "count_inf = np.isinf(df_merged_3).values.sum()\n",
    "count_nan = df_merged_3.isnull().sum().sum()\n",
    "print(\"The data frame contains \" + str(count_inf) + \" infinite values and \" + str(count_nan) + \" missing values.\")"
   ],
   "outputs": [
    {
     "output_type": "stream",
     "name": "stdout",
     "text": [
      "The data frame contains 0 infinite values and 0 missing values.\n"
     ]
    }
   ],
   "metadata": {}
  },
  {
   "cell_type": "code",
   "execution_count": 52,
   "source": [
    "df_merged_3.head()"
   ],
   "outputs": [
    {
     "output_type": "execute_result",
     "data": {
      "text/html": [
       "<div>\n",
       "<style scoped>\n",
       "    .dataframe tbody tr th:only-of-type {\n",
       "        vertical-align: middle;\n",
       "    }\n",
       "\n",
       "    .dataframe tbody tr th {\n",
       "        vertical-align: top;\n",
       "    }\n",
       "\n",
       "    .dataframe thead th {\n",
       "        text-align: right;\n",
       "    }\n",
       "</style>\n",
       "<table border=\"1\" class=\"dataframe\">\n",
       "  <thead>\n",
       "    <tr style=\"text-align: right;\">\n",
       "      <th></th>\n",
       "      <th>sechs_h_regelung</th>\n",
       "      <th>epex_da_de_eur_mwh</th>\n",
       "      <th>50Hertz_power_mw_x</th>\n",
       "      <th>DE_power_mw_x</th>\n",
       "      <th>DK_power_mw_x</th>\n",
       "      <th>DK1_power_mw_x</th>\n",
       "      <th>TTG_power_mw_x</th>\n",
       "      <th>50Hertz_power_mw_y</th>\n",
       "      <th>DE_power_mw_y</th>\n",
       "      <th>DK_power_mw_y</th>\n",
       "      <th>...</th>\n",
       "      <th>50Hertz_power_mw_y</th>\n",
       "      <th>DE_power_mw_y</th>\n",
       "      <th>DK_power_mw_y</th>\n",
       "      <th>DK1_power_mw_y</th>\n",
       "      <th>TTG_power_mw_y</th>\n",
       "      <th>50Hertz_power_mw</th>\n",
       "      <th>DE_power_mw</th>\n",
       "      <th>DK_power_mw</th>\n",
       "      <th>DK1_power_mw</th>\n",
       "      <th>TTG_power_mw</th>\n",
       "    </tr>\n",
       "    <tr>\n",
       "      <th>dt_start_utc</th>\n",
       "      <th></th>\n",
       "      <th></th>\n",
       "      <th></th>\n",
       "      <th></th>\n",
       "      <th></th>\n",
       "      <th></th>\n",
       "      <th></th>\n",
       "      <th></th>\n",
       "      <th></th>\n",
       "      <th></th>\n",
       "      <th></th>\n",
       "      <th></th>\n",
       "      <th></th>\n",
       "      <th></th>\n",
       "      <th></th>\n",
       "      <th></th>\n",
       "      <th></th>\n",
       "      <th></th>\n",
       "      <th></th>\n",
       "      <th></th>\n",
       "      <th></th>\n",
       "    </tr>\n",
       "  </thead>\n",
       "  <tbody>\n",
       "    <tr>\n",
       "      <th>2016-12-31 23:00:00</th>\n",
       "      <td>0.000000e+00</td>\n",
       "      <td>20.960000</td>\n",
       "      <td>0.0</td>\n",
       "      <td>0.0</td>\n",
       "      <td>0.0</td>\n",
       "      <td>0.0</td>\n",
       "      <td>0.0</td>\n",
       "      <td>6291.0</td>\n",
       "      <td>40241.0</td>\n",
       "      <td>2942.0</td>\n",
       "      <td>...</td>\n",
       "      <td>331.0</td>\n",
       "      <td>3340.0</td>\n",
       "      <td>1004.0</td>\n",
       "      <td>652.0</td>\n",
       "      <td>3009.0</td>\n",
       "      <td>4922.0</td>\n",
       "      <td>12966.0</td>\n",
       "      <td>2282.0</td>\n",
       "      <td>1857.0</td>\n",
       "      <td>6636.0</td>\n",
       "    </tr>\n",
       "    <tr>\n",
       "      <th>2016-12-31 23:15:00</th>\n",
       "      <td>2.943790e-88</td>\n",
       "      <td>20.463647</td>\n",
       "      <td>0.0</td>\n",
       "      <td>0.0</td>\n",
       "      <td>0.0</td>\n",
       "      <td>0.0</td>\n",
       "      <td>0.0</td>\n",
       "      <td>6134.0</td>\n",
       "      <td>39805.0</td>\n",
       "      <td>2942.0</td>\n",
       "      <td>...</td>\n",
       "      <td>331.0</td>\n",
       "      <td>3338.0</td>\n",
       "      <td>1004.0</td>\n",
       "      <td>652.0</td>\n",
       "      <td>3007.0</td>\n",
       "      <td>4890.0</td>\n",
       "      <td>12916.0</td>\n",
       "      <td>2282.0</td>\n",
       "      <td>1857.0</td>\n",
       "      <td>6614.0</td>\n",
       "    </tr>\n",
       "    <tr>\n",
       "      <th>2016-12-31 23:30:00</th>\n",
       "      <td>2.667555e-88</td>\n",
       "      <td>20.622226</td>\n",
       "      <td>0.0</td>\n",
       "      <td>0.0</td>\n",
       "      <td>0.0</td>\n",
       "      <td>0.0</td>\n",
       "      <td>0.0</td>\n",
       "      <td>5976.0</td>\n",
       "      <td>39023.0</td>\n",
       "      <td>2942.0</td>\n",
       "      <td>...</td>\n",
       "      <td>331.0</td>\n",
       "      <td>3339.0</td>\n",
       "      <td>1004.0</td>\n",
       "      <td>652.0</td>\n",
       "      <td>3008.0</td>\n",
       "      <td>4859.0</td>\n",
       "      <td>12873.0</td>\n",
       "      <td>2282.0</td>\n",
       "      <td>1857.0</td>\n",
       "      <td>6595.0</td>\n",
       "    </tr>\n",
       "    <tr>\n",
       "      <th>2016-12-31 23:45:00</th>\n",
       "      <td>1.057543e-88</td>\n",
       "      <td>20.934692</td>\n",
       "      <td>0.0</td>\n",
       "      <td>0.0</td>\n",
       "      <td>0.0</td>\n",
       "      <td>0.0</td>\n",
       "      <td>0.0</td>\n",
       "      <td>5871.0</td>\n",
       "      <td>38682.0</td>\n",
       "      <td>2942.0</td>\n",
       "      <td>...</td>\n",
       "      <td>331.0</td>\n",
       "      <td>3339.0</td>\n",
       "      <td>1004.0</td>\n",
       "      <td>652.0</td>\n",
       "      <td>3008.0</td>\n",
       "      <td>4833.0</td>\n",
       "      <td>12830.0</td>\n",
       "      <td>2282.0</td>\n",
       "      <td>1857.0</td>\n",
       "      <td>6572.0</td>\n",
       "    </tr>\n",
       "    <tr>\n",
       "      <th>2017-01-01 00:00:00</th>\n",
       "      <td>0.000000e+00</td>\n",
       "      <td>20.900000</td>\n",
       "      <td>0.0</td>\n",
       "      <td>0.0</td>\n",
       "      <td>0.0</td>\n",
       "      <td>0.0</td>\n",
       "      <td>0.0</td>\n",
       "      <td>5810.0</td>\n",
       "      <td>38162.0</td>\n",
       "      <td>2735.0</td>\n",
       "      <td>...</td>\n",
       "      <td>331.0</td>\n",
       "      <td>3370.0</td>\n",
       "      <td>1094.0</td>\n",
       "      <td>748.0</td>\n",
       "      <td>3039.0</td>\n",
       "      <td>4808.0</td>\n",
       "      <td>12315.0</td>\n",
       "      <td>2152.0</td>\n",
       "      <td>1774.0</td>\n",
       "      <td>6078.0</td>\n",
       "    </tr>\n",
       "  </tbody>\n",
       "</table>\n",
       "<p>5 rows × 27 columns</p>\n",
       "</div>"
      ],
      "text/plain": [
       "                     sechs_h_regelung  epex_da_de_eur_mwh  50Hertz_power_mw_x  \\\n",
       "dt_start_utc                                                                    \n",
       "2016-12-31 23:00:00      0.000000e+00           20.960000                 0.0   \n",
       "2016-12-31 23:15:00      2.943790e-88           20.463647                 0.0   \n",
       "2016-12-31 23:30:00      2.667555e-88           20.622226                 0.0   \n",
       "2016-12-31 23:45:00      1.057543e-88           20.934692                 0.0   \n",
       "2017-01-01 00:00:00      0.000000e+00           20.900000                 0.0   \n",
       "\n",
       "                     DE_power_mw_x  DK_power_mw_x  DK1_power_mw_x  \\\n",
       "dt_start_utc                                                        \n",
       "2016-12-31 23:00:00            0.0            0.0             0.0   \n",
       "2016-12-31 23:15:00            0.0            0.0             0.0   \n",
       "2016-12-31 23:30:00            0.0            0.0             0.0   \n",
       "2016-12-31 23:45:00            0.0            0.0             0.0   \n",
       "2017-01-01 00:00:00            0.0            0.0             0.0   \n",
       "\n",
       "                     TTG_power_mw_x  50Hertz_power_mw_y  DE_power_mw_y  \\\n",
       "dt_start_utc                                                             \n",
       "2016-12-31 23:00:00             0.0              6291.0        40241.0   \n",
       "2016-12-31 23:15:00             0.0              6134.0        39805.0   \n",
       "2016-12-31 23:30:00             0.0              5976.0        39023.0   \n",
       "2016-12-31 23:45:00             0.0              5871.0        38682.0   \n",
       "2017-01-01 00:00:00             0.0              5810.0        38162.0   \n",
       "\n",
       "                     DK_power_mw_y  ...  50Hertz_power_mw_y  DE_power_mw_y  \\\n",
       "dt_start_utc                        ...                                      \n",
       "2016-12-31 23:00:00         2942.0  ...               331.0         3340.0   \n",
       "2016-12-31 23:15:00         2942.0  ...               331.0         3338.0   \n",
       "2016-12-31 23:30:00         2942.0  ...               331.0         3339.0   \n",
       "2016-12-31 23:45:00         2942.0  ...               331.0         3339.0   \n",
       "2017-01-01 00:00:00         2735.0  ...               331.0         3370.0   \n",
       "\n",
       "                     DK_power_mw_y  DK1_power_mw_y  TTG_power_mw_y  \\\n",
       "dt_start_utc                                                         \n",
       "2016-12-31 23:00:00         1004.0           652.0          3009.0   \n",
       "2016-12-31 23:15:00         1004.0           652.0          3007.0   \n",
       "2016-12-31 23:30:00         1004.0           652.0          3008.0   \n",
       "2016-12-31 23:45:00         1004.0           652.0          3008.0   \n",
       "2017-01-01 00:00:00         1094.0           748.0          3039.0   \n",
       "\n",
       "                     50Hertz_power_mw  DE_power_mw  DK_power_mw  DK1_power_mw  \\\n",
       "dt_start_utc                                                                    \n",
       "2016-12-31 23:00:00            4922.0      12966.0       2282.0        1857.0   \n",
       "2016-12-31 23:15:00            4890.0      12916.0       2282.0        1857.0   \n",
       "2016-12-31 23:30:00            4859.0      12873.0       2282.0        1857.0   \n",
       "2016-12-31 23:45:00            4833.0      12830.0       2282.0        1857.0   \n",
       "2017-01-01 00:00:00            4808.0      12315.0       2152.0        1774.0   \n",
       "\n",
       "                     TTG_power_mw  \n",
       "dt_start_utc                       \n",
       "2016-12-31 23:00:00        6636.0  \n",
       "2016-12-31 23:15:00        6614.0  \n",
       "2016-12-31 23:30:00        6595.0  \n",
       "2016-12-31 23:45:00        6572.0  \n",
       "2017-01-01 00:00:00        6078.0  \n",
       "\n",
       "[5 rows x 27 columns]"
      ]
     },
     "metadata": {},
     "execution_count": 52
    }
   ],
   "metadata": {}
  },
  {
   "cell_type": "markdown",
   "source": [
    "## Save Data Set\n",
    "For further work we save the data frame as a \"pickle\"."
   ],
   "metadata": {}
  },
  {
   "cell_type": "code",
   "execution_count": 53,
   "source": [
    "df_merged_3.to_pickle('../data/pickle/df_merged_3.pickle')"
   ],
   "outputs": [],
   "metadata": {}
  }
 ],
 "metadata": {
  "kernelspec": {
   "name": "python3",
   "display_name": "Python 3.8.5 64-bit ('.venv': venv)"
  },
  "language_info": {
   "codemirror_mode": {
    "name": "ipython",
    "version": 3
   },
   "file_extension": ".py",
   "mimetype": "text/x-python",
   "name": "python",
   "nbconvert_exporter": "python",
   "pygments_lexer": "ipython3",
   "version": "3.8.5"
  },
  "interpreter": {
   "hash": "c3b88ade08e7e5c458f75e647914a1f8383074144cd24084ca5ecc64490d7249"
  }
 },
 "nbformat": 4,
 "nbformat_minor": 5
}