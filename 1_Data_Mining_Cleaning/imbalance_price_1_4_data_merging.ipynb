{
 "cells": [
  {
   "cell_type": "markdown",
   "source": [
    "# Final Data Frame Merging"
   ],
   "metadata": {}
  },
  {
   "cell_type": "code",
   "execution_count": 16,
   "source": [
    "import datetime, time, os\n",
    "import matplotlib.pyplot as plt\n",
    "import numpy as np\n",
    "import pandas as pd\n",
    "import glob\n",
    "import json\n",
    "\n",
    "from functools import reduce\n",
    "\n",
    "# Make numpy printouts easier to read.\n",
    "np.set_printoptions(precision=3, suppress=True)\n",
    "\n",
    "from datetime import datetime, timezone, timedelta\n",
    "\n",
    "resample_size = \"15MIN\"\n",
    "resample_factor = 15\n",
    "\n",
    "import warnings"
   ],
   "outputs": [],
   "metadata": {}
  },
  {
   "cell_type": "markdown",
   "source": [
    "We load all data frames as \"pickles\" generated from the previous notebooks. To simplify the further process, we reference the data frames to a list."
   ],
   "metadata": {}
  },
  {
   "cell_type": "code",
   "execution_count": 17,
   "source": [
    "df_merged_1 = pd.read_pickle('../data/pickle/df_merged_1.pickle')\n",
    "df_merged_2 = pd.read_pickle('../data/pickle/df_merged_2.pickle')\n",
    "df_merged_3 = pd.read_pickle('../data/pickle/df_merged_3.pickle')\n",
    "\n",
    "\n",
    "dfs = [df_merged_1, df_merged_2, df_merged_3]"
   ],
   "outputs": [],
   "metadata": {}
  },
  {
   "cell_type": "markdown",
   "source": [
    "All data frames will be merged to a single data frame"
   ],
   "metadata": {}
  },
  {
   "cell_type": "code",
   "execution_count": 18,
   "source": [
    "df_merged_4 = reduce(lambda  left,right: pd.merge(left, right, on=['dt_start_utc'],\n",
    "                                            how='inner'), dfs)"
   ],
   "outputs": [
    {
     "output_type": "stream",
     "name": "stderr",
     "text": [
      "/tmp/ipykernel_353/3814285556.py:1: FutureWarning: Passing 'suffixes' which cause duplicate columns {'DK1_power_mw_y', 'DK_power_mw_y', 'TTG_power_mw_y', 'DE_power_mw_y', '50Hertz_power_mw_y'} in the result is deprecated and will raise a MergeError in a future version.\n",
      "  df_merged_4 = reduce(lambda  left,right: pd.merge(left, right, on=['dt_start_utc'],\n"
     ]
    }
   ],
   "metadata": {}
  },
  {
   "cell_type": "code",
   "execution_count": 19,
   "source": [
    "count_inf = np.isinf(df_merged_4).values.sum()\n",
    "count_nan = df_merged_4.isnull().sum().sum()\n",
    "print(\"The data frame contains \" + str(count_inf) + \" infinite values and \" + str(count_nan) + \" missing values.\")"
   ],
   "outputs": [
    {
     "output_type": "stream",
     "name": "stdout",
     "text": [
      "The data frame contains 0 infinite values and 192 missing values.\n"
     ]
    }
   ],
   "metadata": {}
  },
  {
   "cell_type": "code",
   "execution_count": 20,
   "source": [
    "df_merged_4.shape"
   ],
   "outputs": [
    {
     "output_type": "execute_result",
     "data": {
      "text/plain": [
       "(17368, 64)"
      ]
     },
     "metadata": {},
     "execution_count": 20
    }
   ],
   "metadata": {}
  },
  {
   "cell_type": "code",
   "execution_count": 21,
   "source": [
    "df_merged_4.head()"
   ],
   "outputs": [
    {
     "output_type": "execute_result",
     "data": {
      "text/html": [
       "<div>\n",
       "<style scoped>\n",
       "    .dataframe tbody tr th:only-of-type {\n",
       "        vertical-align: middle;\n",
       "    }\n",
       "\n",
       "    .dataframe tbody tr th {\n",
       "        vertical-align: top;\n",
       "    }\n",
       "\n",
       "    .dataframe thead th {\n",
       "        text-align: right;\n",
       "    }\n",
       "</style>\n",
       "<table border=\"1\" class=\"dataframe\">\n",
       "  <thead>\n",
       "    <tr style=\"text-align: right;\">\n",
       "      <th></th>\n",
       "      <th>50Hertz_power_mw_x</th>\n",
       "      <th>DE_power_mw_x</th>\n",
       "      <th>DK_power_mw_x</th>\n",
       "      <th>DK1_power_mw_x</th>\n",
       "      <th>TTG_power_mw_x</th>\n",
       "      <th>total_pred_cons</th>\n",
       "      <th>Biomasse[MWh]</th>\n",
       "      <th>Wasserkraft[MWh]</th>\n",
       "      <th>Wind Offshore[MWh]</th>\n",
       "      <th>Wind Onshore[MWh]</th>\n",
       "      <th>...</th>\n",
       "      <th>50Hertz_power_mw_y</th>\n",
       "      <th>DE_power_mw_y</th>\n",
       "      <th>DK_power_mw_y</th>\n",
       "      <th>DK1_power_mw_y</th>\n",
       "      <th>TTG_power_mw_y</th>\n",
       "      <th>50Hertz_power_mw_y</th>\n",
       "      <th>DE_power_mw_y</th>\n",
       "      <th>DK_power_mw_y</th>\n",
       "      <th>DK1_power_mw_y</th>\n",
       "      <th>TTG_power_mw_y</th>\n",
       "    </tr>\n",
       "    <tr>\n",
       "      <th>dt_start_utc</th>\n",
       "      <th></th>\n",
       "      <th></th>\n",
       "      <th></th>\n",
       "      <th></th>\n",
       "      <th></th>\n",
       "      <th></th>\n",
       "      <th></th>\n",
       "      <th></th>\n",
       "      <th></th>\n",
       "      <th></th>\n",
       "      <th></th>\n",
       "      <th></th>\n",
       "      <th></th>\n",
       "      <th></th>\n",
       "      <th></th>\n",
       "      <th></th>\n",
       "      <th></th>\n",
       "      <th></th>\n",
       "      <th></th>\n",
       "      <th></th>\n",
       "      <th></th>\n",
       "    </tr>\n",
       "  </thead>\n",
       "  <tbody>\n",
       "    <tr>\n",
       "      <th>2021-01-01 00:00:00</th>\n",
       "      <td>1392.0</td>\n",
       "      <td>3378.0</td>\n",
       "      <td>184.0</td>\n",
       "      <td>70.0</td>\n",
       "      <td>1248.0</td>\n",
       "      <td>6272.0</td>\n",
       "      <td>NaN</td>\n",
       "      <td>NaN</td>\n",
       "      <td>NaN</td>\n",
       "      <td>NaN</td>\n",
       "      <td>...</td>\n",
       "      <td>250.0</td>\n",
       "      <td>483.0</td>\n",
       "      <td>268.0</td>\n",
       "      <td>136.0</td>\n",
       "      <td>233.0</td>\n",
       "      <td>1616.0</td>\n",
       "      <td>3821.0</td>\n",
       "      <td>227.0</td>\n",
       "      <td>84.0</td>\n",
       "      <td>1437.0</td>\n",
       "    </tr>\n",
       "    <tr>\n",
       "      <th>2021-01-01 00:15:00</th>\n",
       "      <td>1342.0</td>\n",
       "      <td>3267.0</td>\n",
       "      <td>184.0</td>\n",
       "      <td>70.0</td>\n",
       "      <td>1198.0</td>\n",
       "      <td>6061.0</td>\n",
       "      <td>NaN</td>\n",
       "      <td>NaN</td>\n",
       "      <td>NaN</td>\n",
       "      <td>NaN</td>\n",
       "      <td>...</td>\n",
       "      <td>238.0</td>\n",
       "      <td>469.0</td>\n",
       "      <td>268.0</td>\n",
       "      <td>136.0</td>\n",
       "      <td>231.0</td>\n",
       "      <td>1552.0</td>\n",
       "      <td>3708.0</td>\n",
       "      <td>227.0</td>\n",
       "      <td>84.0</td>\n",
       "      <td>1391.0</td>\n",
       "    </tr>\n",
       "    <tr>\n",
       "      <th>2021-01-01 00:30:00</th>\n",
       "      <td>1299.0</td>\n",
       "      <td>3164.0</td>\n",
       "      <td>184.0</td>\n",
       "      <td>70.0</td>\n",
       "      <td>1148.0</td>\n",
       "      <td>5865.0</td>\n",
       "      <td>NaN</td>\n",
       "      <td>NaN</td>\n",
       "      <td>NaN</td>\n",
       "      <td>NaN</td>\n",
       "      <td>...</td>\n",
       "      <td>226.0</td>\n",
       "      <td>458.0</td>\n",
       "      <td>268.0</td>\n",
       "      <td>136.0</td>\n",
       "      <td>232.0</td>\n",
       "      <td>1495.0</td>\n",
       "      <td>3598.0</td>\n",
       "      <td>227.0</td>\n",
       "      <td>84.0</td>\n",
       "      <td>1344.0</td>\n",
       "    </tr>\n",
       "    <tr>\n",
       "      <th>2021-01-01 00:45:00</th>\n",
       "      <td>1258.0</td>\n",
       "      <td>3063.0</td>\n",
       "      <td>184.0</td>\n",
       "      <td>70.0</td>\n",
       "      <td>1099.0</td>\n",
       "      <td>5674.0</td>\n",
       "      <td>NaN</td>\n",
       "      <td>NaN</td>\n",
       "      <td>NaN</td>\n",
       "      <td>NaN</td>\n",
       "      <td>...</td>\n",
       "      <td>214.0</td>\n",
       "      <td>449.0</td>\n",
       "      <td>268.0</td>\n",
       "      <td>136.0</td>\n",
       "      <td>235.0</td>\n",
       "      <td>1442.0</td>\n",
       "      <td>3488.0</td>\n",
       "      <td>227.0</td>\n",
       "      <td>84.0</td>\n",
       "      <td>1297.0</td>\n",
       "    </tr>\n",
       "    <tr>\n",
       "      <th>2021-01-01 01:00:00</th>\n",
       "      <td>1219.0</td>\n",
       "      <td>2969.0</td>\n",
       "      <td>153.0</td>\n",
       "      <td>61.0</td>\n",
       "      <td>1054.0</td>\n",
       "      <td>5456.0</td>\n",
       "      <td>1.147</td>\n",
       "      <td>308.0</td>\n",
       "      <td>84.0</td>\n",
       "      <td>1.058</td>\n",
       "      <td>...</td>\n",
       "      <td>202.0</td>\n",
       "      <td>438.0</td>\n",
       "      <td>214.0</td>\n",
       "      <td>101.0</td>\n",
       "      <td>236.0</td>\n",
       "      <td>1392.0</td>\n",
       "      <td>3378.0</td>\n",
       "      <td>184.0</td>\n",
       "      <td>70.0</td>\n",
       "      <td>1248.0</td>\n",
       "    </tr>\n",
       "  </tbody>\n",
       "</table>\n",
       "<p>5 rows × 64 columns</p>\n",
       "</div>"
      ],
      "text/plain": [
       "                     50Hertz_power_mw_x  DE_power_mw_x  DK_power_mw_x  \\\n",
       "dt_start_utc                                                            \n",
       "2021-01-01 00:00:00              1392.0         3378.0          184.0   \n",
       "2021-01-01 00:15:00              1342.0         3267.0          184.0   \n",
       "2021-01-01 00:30:00              1299.0         3164.0          184.0   \n",
       "2021-01-01 00:45:00              1258.0         3063.0          184.0   \n",
       "2021-01-01 01:00:00              1219.0         2969.0          153.0   \n",
       "\n",
       "                     DK1_power_mw_x  TTG_power_mw_x  total_pred_cons  \\\n",
       "dt_start_utc                                                           \n",
       "2021-01-01 00:00:00            70.0          1248.0           6272.0   \n",
       "2021-01-01 00:15:00            70.0          1198.0           6061.0   \n",
       "2021-01-01 00:30:00            70.0          1148.0           5865.0   \n",
       "2021-01-01 00:45:00            70.0          1099.0           5674.0   \n",
       "2021-01-01 01:00:00            61.0          1054.0           5456.0   \n",
       "\n",
       "                     Biomasse[MWh]  Wasserkraft[MWh]  Wind Offshore[MWh]  \\\n",
       "dt_start_utc                                                               \n",
       "2021-01-01 00:00:00            NaN               NaN                 NaN   \n",
       "2021-01-01 00:15:00            NaN               NaN                 NaN   \n",
       "2021-01-01 00:30:00            NaN               NaN                 NaN   \n",
       "2021-01-01 00:45:00            NaN               NaN                 NaN   \n",
       "2021-01-01 01:00:00          1.147             308.0                84.0   \n",
       "\n",
       "                     Wind Onshore[MWh]  ...  50Hertz_power_mw_y  \\\n",
       "dt_start_utc                            ...                       \n",
       "2021-01-01 00:00:00                NaN  ...               250.0   \n",
       "2021-01-01 00:15:00                NaN  ...               238.0   \n",
       "2021-01-01 00:30:00                NaN  ...               226.0   \n",
       "2021-01-01 00:45:00                NaN  ...               214.0   \n",
       "2021-01-01 01:00:00              1.058  ...               202.0   \n",
       "\n",
       "                     DE_power_mw_y  DK_power_mw_y  DK1_power_mw_y  \\\n",
       "dt_start_utc                                                        \n",
       "2021-01-01 00:00:00          483.0          268.0           136.0   \n",
       "2021-01-01 00:15:00          469.0          268.0           136.0   \n",
       "2021-01-01 00:30:00          458.0          268.0           136.0   \n",
       "2021-01-01 00:45:00          449.0          268.0           136.0   \n",
       "2021-01-01 01:00:00          438.0          214.0           101.0   \n",
       "\n",
       "                     TTG_power_mw_y  50Hertz_power_mw_y  DE_power_mw_y  \\\n",
       "dt_start_utc                                                             \n",
       "2021-01-01 00:00:00           233.0              1616.0         3821.0   \n",
       "2021-01-01 00:15:00           231.0              1552.0         3708.0   \n",
       "2021-01-01 00:30:00           232.0              1495.0         3598.0   \n",
       "2021-01-01 00:45:00           235.0              1442.0         3488.0   \n",
       "2021-01-01 01:00:00           236.0              1392.0         3378.0   \n",
       "\n",
       "                     DK_power_mw_y  DK1_power_mw_y  TTG_power_mw_y  \n",
       "dt_start_utc                                                        \n",
       "2021-01-01 00:00:00          227.0            84.0          1437.0  \n",
       "2021-01-01 00:15:00          227.0            84.0          1391.0  \n",
       "2021-01-01 00:30:00          227.0            84.0          1344.0  \n",
       "2021-01-01 00:45:00          227.0            84.0          1297.0  \n",
       "2021-01-01 01:00:00          184.0            70.0          1248.0  \n",
       "\n",
       "[5 rows x 64 columns]"
      ]
     },
     "metadata": {},
     "execution_count": 21
    }
   ],
   "metadata": {}
  },
  {
   "cell_type": "markdown",
   "source": [
    "The \"NaNs\" values are created by shifting rows forward. We'll drop these rows from our data frame"
   ],
   "metadata": {}
  },
  {
   "cell_type": "code",
   "execution_count": 22,
   "source": [
    "df_merged_4.dropna(inplace=True)"
   ],
   "outputs": [],
   "metadata": {}
  },
  {
   "cell_type": "code",
   "execution_count": 23,
   "source": [
    "df_merged_4.shape"
   ],
   "outputs": [
    {
     "output_type": "execute_result",
     "data": {
      "text/plain": [
       "(17358, 64)"
      ]
     },
     "metadata": {},
     "execution_count": 23
    }
   ],
   "metadata": {}
  },
  {
   "cell_type": "code",
   "execution_count": 24,
   "source": [
    "count_inf = np.isinf(df_merged_4).values.sum()\n",
    "count_nan = df_merged_4.isnull().sum().sum()\n",
    "print(\"The data frame contains \" + str(count_inf) + \" infinite values and \" + str(count_nan) + \" missing values.\")"
   ],
   "outputs": [
    {
     "output_type": "stream",
     "name": "stdout",
     "text": [
      "The data frame contains 0 infinite values and 0 missing values.\n"
     ]
    }
   ],
   "metadata": {}
  },
  {
   "cell_type": "code",
   "execution_count": 26,
   "source": [
    "df_merged_4.to_pickle('../data/pickle/df_merged_4.pickle')"
   ],
   "outputs": [],
   "metadata": {}
  }
 ],
 "metadata": {
  "kernelspec": {
   "name": "python3",
   "display_name": "Python 3.8.5 64-bit ('.venv': venv)"
  },
  "language_info": {
   "codemirror_mode": {
    "name": "ipython",
    "version": 3
   },
   "file_extension": ".py",
   "mimetype": "text/x-python",
   "name": "python",
   "nbconvert_exporter": "python",
   "pygments_lexer": "ipython3",
   "version": "3.8.5"
  },
  "interpreter": {
   "hash": "c3b88ade08e7e5c458f75e647914a1f8383074144cd24084ca5ecc64490d7249"
  }
 },
 "nbformat": 4,
 "nbformat_minor": 5
}